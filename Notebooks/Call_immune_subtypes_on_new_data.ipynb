{
 "cells": [
  {
   "cell_type": "markdown",
   "metadata": {},
   "source": [
    "## How to call immune subtypes on new data ##"
   ]
  },
  {
   "cell_type": "markdown",
   "metadata": {},
   "source": [
    "Let's suppose you have some:\n",
    "  a.) RPKM (or FPKM or something equivlent) gene expression data \n",
    "  b.) Has hg19 gene symbols mapped to it.\n",
    "  c.) knowledge on how to batch correct / normalize it with regard to TCGA PanCancer data*\n",
    "  \n",
    "and you'd like to call some immune subtypes on those samples."
   ]
  },
  {
   "cell_type": "code",
   "execution_count": 40,
   "metadata": {},
   "outputs": [
    {
     "name": "stderr",
     "output_type": "stream",
     "text": [
      "Package 'mclust' version 5.4.2\n",
      "Type 'citation(\"mclust\")' for citing this R package in publications.\n",
      "\n",
      "Attaching package: ‘mclust’\n",
      "\n",
      "The following object is masked from ‘package:mgcv’:\n",
      "\n",
      "    mvn\n",
      "\n"
     ]
    }
   ],
   "source": [
    "library(ggplot2)\n",
    "library(clue)\n",
    "library(mclust)\n",
    "library(parallel)\n",
    "library(stringr)\n",
    "options(repr.plot.width=4, repr.plot.height=3)"
   ]
  },
  {
   "cell_type": "markdown",
   "metadata": {},
   "source": [
    "## Read in the data "
   ]
  },
  {
   "cell_type": "code",
   "execution_count": 2,
   "metadata": {},
   "outputs": [
    {
     "name": "stdout",
     "output_type": "stream",
     "text": [
      "[1] 2316 9129\n"
     ]
    }
   ],
   "source": [
    "#loading TCGA PanCancer EB++ expression data, subset to the pertinent genes.\n",
    "tcgaSubset <- read.table('../shiny-app/Immune-Subtype-Clustering/data/ebppSubset.tsv.bz2', header = T, sep = '\\t', stringsAsFactors = F)\n",
    "\n",
    "dim(tcgaSubset)"
   ]
  },
  {
   "cell_type": "code",
   "execution_count": 3,
   "metadata": {},
   "outputs": [
    {
     "data": {
      "text/html": [
       "<ol class=list-inline>\n",
       "\t<li>20531</li>\n",
       "\t<li>21</li>\n",
       "</ol>\n"
      ],
      "text/latex": [
       "\\begin{enumerate*}\n",
       "\\item 20531\n",
       "\\item 21\n",
       "\\end{enumerate*}\n"
      ],
      "text/markdown": [
       "1. 20531\n",
       "2. 21\n",
       "\n",
       "\n"
      ],
      "text/plain": [
       "[1] 20531    21"
      ]
     },
     "metadata": {},
     "output_type": "display_data"
    }
   ],
   "source": [
    "# bring in the new data #\n",
    "# found some RPKM RNA-seq data\n",
    "# \n",
    "newDat <- read.table('../ExtraData/ebpp_test1_1to20.tsv', sep='\\t', header=T, stringsAsFactors = F)\n",
    "\n",
    "dim(newDat)"
   ]
  },
  {
   "cell_type": "code",
   "execution_count": 4,
   "metadata": {},
   "outputs": [],
   "source": [
    "# these are the scores from the manuscript\n",
    "reportedScores <- read.table('../shiny-app/Immune-Subtype-Clustering//data//five_signature_mclust_ensemble_results.tsv.gz', sep='\\t', header=T, stringsAsFactors = F)\n",
    "\n",
    "# then make the rownames the aliquot barcodes to match up with TCGA calls\n",
    "rownames(reportedScores) <- reportedScores$AliquotBarcode"
   ]
  },
  {
   "cell_type": "code",
   "execution_count": 5,
   "metadata": {},
   "outputs": [],
   "source": [
    "# all the genes we need for the 5 signatures\n",
    "load('../shiny-app/Immune-Subtype-Clustering/data/comparative_immuneSigs_geneLists4.rda')\n",
    "\n",
    "# and we use the scoring code to produce scores #\n",
    "source('../shiny-app/Immune-Subtype-Clustering/src/ImmuneSigs68_function.R')"
   ]
  },
  {
   "cell_type": "code",
   "execution_count": 6,
   "metadata": {},
   "outputs": [],
   "source": [
    "# code for calling the clusters using pre-trained models\n",
    "source('../shiny-app/Immune-Subtype-Clustering/src/signature_mclust_ensemble.R')\n",
    "\n",
    "# the models trained on TCGA data #\n",
    "load('../shiny-app/Immune-Subtype-Clustering/data/wolf_set_slim1.rda')\n",
    "\n",
    "# Z-score the signatures before feeding to models.\n",
    "zscore.cols2<-function(x){\n",
    "    return((apply(x, 2, function(x) (x - median(na.omit(x)))/sd(na.omit(x)))))\n",
    "}    "
   ]
  },
  {
   "cell_type": "code",
   "execution_count": 7,
   "metadata": {},
   "outputs": [
    {
     "name": "stderr",
     "output_type": "stream",
     "text": [
      "Package 'mclust' version 5.4.2\n",
      "Type 'citation(\"mclust\")' for citing this R package in publications.\n"
     ]
    }
   ],
   "source": [
    "# load the clustering model trained on all pancan data.\n",
    "\n",
    "load(\"../shiny-app/Immune-Subtype-Clustering//data/wolf_set_slim1.rda\")"
   ]
  },
  {
   "cell_type": "markdown",
   "metadata": {},
   "source": [
    "## Data prep"
   ]
  },
  {
   "cell_type": "code",
   "execution_count": 8,
   "metadata": {},
   "outputs": [],
   "source": [
    "# tcga data is already upper quantile normalized\n",
    "tcgaSubset <- log2(tcgaSubset + 1)"
   ]
  },
  {
   "cell_type": "code",
   "execution_count": 9,
   "metadata": {},
   "outputs": [
    {
     "data": {
      "text/html": [
       "<ol class=list-inline>\n",
       "\t<li>20531</li>\n",
       "\t<li>20</li>\n",
       "</ol>\n"
      ],
      "text/latex": [
       "\\begin{enumerate*}\n",
       "\\item 20531\n",
       "\\item 20\n",
       "\\end{enumerate*}\n"
      ],
      "text/markdown": [
       "1. 20531\n",
       "2. 20\n",
       "\n",
       "\n"
      ],
      "text/plain": [
       "[1] 20531    20"
      ]
     },
     "metadata": {},
     "output_type": "display_data"
    }
   ],
   "source": [
    "# here we'll drop any duplicate genes, and make the rownames\n",
    "# be gene symbols\n",
    "rownames(newDat) <- newDat$GeneID\n",
    "didx <- !duplicated(as.character(rownames(newDat)))\n",
    "dat <- newDat[didx,-1]\n",
    "\n",
    "# TCGA data was upper quantile normalized (at the 75%) and multiplied by 1000\n",
    "data.quantileExpressed <- apply(dat, 2, function(x){quantile(x[x>0], 0.75)})\n",
    "datnorm <- as.data.frame(t( t(dat) / data.quantileExpressed ) ) * 1000\n",
    "\n",
    "# and logged.\n",
    "datlog2 <- log2(datnorm+1)\n",
    "\n",
    "dim(datlog2)"
   ]
  },
  {
   "cell_type": "code",
   "execution_count": 10,
   "metadata": {},
   "outputs": [
    {
     "data": {
      "image/png": "[encoded data removed]",
      "text/plain": [
       "plot without title"
      ]
     },
     "metadata": {},
     "output_type": "display_data"
    }
   ],
   "source": [
    "# look at the tcga distribution\n",
    "qplot(tcgaSubset[,1], geom='density')"
   ]
  },
  {
   "cell_type": "code",
   "execution_count": 11,
   "metadata": {},
   "outputs": [
    {
     "data": {
      "image/png": "[encoded data removed]",
      "text/plain": [
       "plot without title"
      ]
     },
     "metadata": {},
     "output_type": "display_data"
    }
   ],
   "source": [
    "# check distribution of the data\n",
    "\n",
    "qplot(datlog2[,2], geom='density')"
   ]
  },
  {
   "cell_type": "code",
   "execution_count": 12,
   "metadata": {},
   "outputs": [
    {
     "data": {
      "text/html": [
       "<table>\n",
       "<thead><tr><th></th><th scope=col>used</th><th scope=col>(Mb)</th><th scope=col>gc trigger</th><th scope=col>(Mb)</th><th scope=col>max used</th><th scope=col>(Mb)</th></tr></thead>\n",
       "<tbody>\n",
       "\t<tr><th scope=row>Ncells</th><td>  876301 </td><td> 46.8    </td><td>  3896413</td><td>208.1    </td><td>  8591118</td><td>458.9    </td></tr>\n",
       "\t<tr><th scope=row>Vcells</th><td>42623379 </td><td>325.2    </td><td>110942046</td><td>846.5    </td><td>110940795</td><td>846.5    </td></tr>\n",
       "</tbody>\n",
       "</table>\n"
      ],
      "text/latex": [
       "\\begin{tabular}{r|llllll}\n",
       "  & used & (Mb) & gc trigger & (Mb) & max used & (Mb)\\\\\n",
       "\\hline\n",
       "\tNcells &   876301  &  46.8     &   3896413 & 208.1     &   8591118 & 458.9    \\\\\n",
       "\tVcells & 42623379  & 325.2     & 110942046 & 846.5     & 110940795 & 846.5    \\\\\n",
       "\\end{tabular}\n"
      ],
      "text/markdown": [
       "\n",
       "| <!--/--> | used | (Mb) | gc trigger | (Mb) | max used | (Mb) |\n",
       "|---|---|---|---|---|---|---|\n",
       "| Ncells |   876301  |  46.8     |   3896413 | 208.1     |   8591118 | 458.9     |\n",
       "| Vcells | 42623379  | 325.2     | 110942046 | 846.5     | 110940795 | 846.5     |\n",
       "\n"
      ],
      "text/plain": [
       "       used     (Mb)  gc trigger (Mb)  max used  (Mb) \n",
       "Ncells   876301  46.8   3896413  208.1   8591118 458.9\n",
       "Vcells 42623379 325.2 110942046  846.5 110940795 846.5"
      ]
     },
     "metadata": {},
     "output_type": "display_data"
    }
   ],
   "source": [
    "# clean up\n",
    "gc()"
   ]
  },
  {
   "cell_type": "markdown",
   "metadata": {},
   "source": [
    "## Joining the data"
   ]
  },
  {
   "cell_type": "code",
   "execution_count": 13,
   "metadata": {},
   "outputs": [
    {
     "data": {
      "text/html": [
       "<ol class=list-inline>\n",
       "\t<li>2316</li>\n",
       "\t<li>9149</li>\n",
       "</ol>\n"
      ],
      "text/latex": [
       "\\begin{enumerate*}\n",
       "\\item 2316\n",
       "\\item 9149\n",
       "\\end{enumerate*}\n"
      ],
      "text/markdown": [
       "1. 2316\n",
       "2. 9149\n",
       "\n",
       "\n"
      ],
      "text/plain": [
       "[1] 2316 9149"
      ]
     },
     "metadata": {},
     "output_type": "display_data"
    }
   ],
   "source": [
    "### joining data sets ###\n",
    "sharedGenes  <- intersect(rownames(tcgaSubset), rownames(datlog2))\n",
    "\n",
    "# first median scale each data set\n",
    "newDatSub    <- datlog2[sharedGenes,]\n",
    "\n",
    "# getting things in the right order\n",
    "tcgaSubsetSub <- tcgaSubset[sharedGenes,]\n",
    "\n",
    "# then join the new data and tcga data at the genes\n",
    "joinDat <- cbind(newDatSub, tcgaSubsetSub)\n",
    "\n",
    "dim(joinDat)"
   ]
  },
  {
   "cell_type": "markdown",
   "metadata": {},
   "source": [
    "## Batch correcting the data"
   ]
  },
  {
   "cell_type": "code",
   "execution_count": 14,
   "metadata": {},
   "outputs": [
    {
     "name": "stderr",
     "output_type": "stream",
     "text": [
      "No id variables; using all as measure variables\n"
     ]
    }
   ],
   "source": [
    "# pre-batch corrected table, for plotting\n",
    "newdatSamples <- colnames(newDatSub)\n",
    "dat2idx <- 1:(ncol(newDatSub)-1)\n",
    "tcgaidx <- setdiff( (1: (ncol(joinDat)-1)), dat2idx)\n",
    "\n",
    "sampleIdx <- c(dat2idx, sample(tcgaidx, size=200, replace = F))\n",
    "preCombat <- joinDat[,sampleIdx]\n",
    "preCombatMelt <- reshape2::melt(preCombat)\n",
    "preCombatMelt$SampleSource <- ifelse(test = preCombatMelt$variable %in% newdatSamples, yes = \"New Data\", no=\"TCGA Data\")\n",
    "\n"
   ]
  },
  {
   "cell_type": "code",
   "execution_count": 15,
   "metadata": {},
   "outputs": [
    {
     "name": "stderr",
     "output_type": "stream",
     "text": [
      "Loading required package: mgcv\n",
      "Loading required package: nlme\n",
      "This is mgcv 1.8-27. For overview type 'help(\"mgcv-package\")'.\n",
      "\n",
      "Attaching package: ‘mgcv’\n",
      "\n",
      "The following object is masked from ‘package:mclust’:\n",
      "\n",
      "    mvn\n",
      "\n",
      "Loading required package: genefilter\n",
      "Loading required package: BiocParallel\n"
     ]
    }
   ],
   "source": [
    "\n",
    "# batch correction #\n",
    "\n",
    "library(sva)\n",
    "combatflag <- 0\n",
    "\n",
    "if (combatflag) {\n",
    "    # then batch correction between scores...\n",
    "    batch <- c(rep(1,ncol(newDatSub)), rep(2,ncol(tcgaSubsetSub)))\n",
    "    modcombat = model.matrix(~1, data=as.data.frame(t(joinDat)))\n",
    "    combat_edata = ComBat(dat=joinDat, batch=batch, mod=modcombat, \n",
    "                          par.prior=TRUE, prior.plots=FALSE, ref.batch = 2)\n",
    "} else {\n",
    "    combat_edata = joinDat    \n",
    "}\n"
   ]
  },
  {
   "cell_type": "code",
   "execution_count": 16,
   "metadata": {},
   "outputs": [
    {
     "name": "stderr",
     "output_type": "stream",
     "text": [
      "No id variables; using all as measure variables\n"
     ]
    }
   ],
   "source": [
    "# then look at the distribution of the data after batch correction\n",
    "postCombat <- combat_edata[,sampleIdx]\n",
    "postCombatMelt <- reshape2::melt(postCombat)\n",
    "postCombatMelt$SampleSource <- ifelse(test = postCombatMelt$variable %in% newdatSamples, yes = \"New Data\", no=\"TCGA Data\")\n"
   ]
  },
  {
   "cell_type": "code",
   "execution_count": 17,
   "metadata": {},
   "outputs": [
    {
     "name": "stderr",
     "output_type": "stream",
     "text": [
      "Warning message:\n",
      "“Removed 1066 rows containing non-finite values (stat_density).”"
     ]
    },
    {
     "data": {
      "image/png": "[encoded data removed]",
      "text/plain": [
       "plot without title"
      ]
     },
     "metadata": {},
     "output_type": "display_data"
    }
   ],
   "source": [
    "qplot(data=preCombatMelt, col=SampleSource, x=value, geom='density', main = 'Distribution of expression values pre-batch-correction')"
   ]
  },
  {
   "cell_type": "code",
   "execution_count": 18,
   "metadata": {},
   "outputs": [
    {
     "name": "stderr",
     "output_type": "stream",
     "text": [
      "Warning message:\n",
      "“Removed 1066 rows containing non-finite values (stat_density).”"
     ]
    },
    {
     "data": {
      "image/png": "[encoded data removed]",
      "text/plain": [
       "plot without title"
      ]
     },
     "metadata": {},
     "output_type": "display_data"
    }
   ],
   "source": [
    "qplot(data=postCombatMelt, col=SampleSource, x=value, geom='density', main = 'Distribution of expression values post-batch-correction')"
   ]
  },
  {
   "cell_type": "markdown",
   "metadata": {},
   "source": [
    "## Median center the joined data"
   ]
  },
  {
   "cell_type": "code",
   "execution_count": 19,
   "metadata": {},
   "outputs": [],
   "source": [
    "# getting the medians of each gene\n",
    "joinMeds <- apply(combat_edata, 1, median, na.rm=T)\n",
    "# here we median center each gene\n",
    "join_med_scaled <- sweep(combat_edata,1,joinMeds,'-')  \n"
   ]
  },
  {
   "cell_type": "code",
   "execution_count": 20,
   "metadata": {},
   "outputs": [
    {
     "data": {
      "text/html": [
       "<ol class=list-inline>\n",
       "\t<li>'combat_edata'</li>\n",
       "\t<li>'combatflag'</li>\n",
       "\t<li>'consensusEnsemble'</li>\n",
       "\t<li>'dat'</li>\n",
       "\t<li>'dat2idx'</li>\n",
       "\t<li>'data_genes_sigs12b'</li>\n",
       "\t<li>'data.quantileExpressed'</li>\n",
       "\t<li>'datlog2'</li>\n",
       "\t<li>'datnorm'</li>\n",
       "\t<li>'determineK'</li>\n",
       "\t<li>'didx'</li>\n",
       "\t<li>'ensemblePredict'</li>\n",
       "\t<li>'get.distances'</li>\n",
       "\t<li>'ImmuneSigs_function'</li>\n",
       "\t<li>'join_med_scaled'</li>\n",
       "\t<li>'joinDat'</li>\n",
       "\t<li>'joinMeds'</li>\n",
       "\t<li>'mcentr'</li>\n",
       "\t<li>'modelEnsemble'</li>\n",
       "\t<li>'mods2'</li>\n",
       "\t<li>'newDat'</li>\n",
       "\t<li>'newdatSamples'</li>\n",
       "\t<li>'newDatSub'</li>\n",
       "\t<li>'postCombat'</li>\n",
       "\t<li>'postCombatMelt'</li>\n",
       "\t<li>'preCombat'</li>\n",
       "\t<li>'preCombatMelt'</li>\n",
       "\t<li>'pred1'</li>\n",
       "\t<li>'predStrength'</li>\n",
       "\t<li>'reportedScores'</li>\n",
       "\t<li>'sample.scores'</li>\n",
       "\t<li>'sampleIdx'</li>\n",
       "\t<li>'sharedGenes'</li>\n",
       "\t<li>'sigs1_2_eg2'</li>\n",
       "\t<li>'sigs1_2_egIDs2'</li>\n",
       "\t<li>'sigs1_2_names2'</li>\n",
       "\t<li>'sigs1_2_type2'</li>\n",
       "\t<li>'sigs12_module_weights'</li>\n",
       "\t<li>'sigs12_module_weights_eg'</li>\n",
       "\t<li>'sigs12_weighted_means'</li>\n",
       "\t<li>'sigs2'</li>\n",
       "\t<li>'tcgaidx'</li>\n",
       "\t<li>'tcgaSubset'</li>\n",
       "\t<li>'tcgaSubsetSub'</li>\n",
       "\t<li>'zscore.cols2'</li>\n",
       "\t<li>'zscore.rows2'</li>\n",
       "</ol>\n"
      ],
      "text/latex": [
       "\\begin{enumerate*}\n",
       "\\item 'combat\\_edata'\n",
       "\\item 'combatflag'\n",
       "\\item 'consensusEnsemble'\n",
       "\\item 'dat'\n",
       "\\item 'dat2idx'\n",
       "\\item 'data\\_genes\\_sigs12b'\n",
       "\\item 'data.quantileExpressed'\n",
       "\\item 'datlog2'\n",
       "\\item 'datnorm'\n",
       "\\item 'determineK'\n",
       "\\item 'didx'\n",
       "\\item 'ensemblePredict'\n",
       "\\item 'get.distances'\n",
       "\\item 'ImmuneSigs\\_function'\n",
       "\\item 'join\\_med\\_scaled'\n",
       "\\item 'joinDat'\n",
       "\\item 'joinMeds'\n",
       "\\item 'mcentr'\n",
       "\\item 'modelEnsemble'\n",
       "\\item 'mods2'\n",
       "\\item 'newDat'\n",
       "\\item 'newdatSamples'\n",
       "\\item 'newDatSub'\n",
       "\\item 'postCombat'\n",
       "\\item 'postCombatMelt'\n",
       "\\item 'preCombat'\n",
       "\\item 'preCombatMelt'\n",
       "\\item 'pred1'\n",
       "\\item 'predStrength'\n",
       "\\item 'reportedScores'\n",
       "\\item 'sample.scores'\n",
       "\\item 'sampleIdx'\n",
       "\\item 'sharedGenes'\n",
       "\\item 'sigs1\\_2\\_eg2'\n",
       "\\item 'sigs1\\_2\\_egIDs2'\n",
       "\\item 'sigs1\\_2\\_names2'\n",
       "\\item 'sigs1\\_2\\_type2'\n",
       "\\item 'sigs12\\_module\\_weights'\n",
       "\\item 'sigs12\\_module\\_weights\\_eg'\n",
       "\\item 'sigs12\\_weighted\\_means'\n",
       "\\item 'sigs2'\n",
       "\\item 'tcgaidx'\n",
       "\\item 'tcgaSubset'\n",
       "\\item 'tcgaSubsetSub'\n",
       "\\item 'zscore.cols2'\n",
       "\\item 'zscore.rows2'\n",
       "\\end{enumerate*}\n"
      ],
      "text/markdown": [
       "1. 'combat_edata'\n",
       "2. 'combatflag'\n",
       "3. 'consensusEnsemble'\n",
       "4. 'dat'\n",
       "5. 'dat2idx'\n",
       "6. 'data_genes_sigs12b'\n",
       "7. 'data.quantileExpressed'\n",
       "8. 'datlog2'\n",
       "9. 'datnorm'\n",
       "10. 'determineK'\n",
       "11. 'didx'\n",
       "12. 'ensemblePredict'\n",
       "13. 'get.distances'\n",
       "14. 'ImmuneSigs_function'\n",
       "15. 'join_med_scaled'\n",
       "16. 'joinDat'\n",
       "17. 'joinMeds'\n",
       "18. 'mcentr'\n",
       "19. 'modelEnsemble'\n",
       "20. 'mods2'\n",
       "21. 'newDat'\n",
       "22. 'newdatSamples'\n",
       "23. 'newDatSub'\n",
       "24. 'postCombat'\n",
       "25. 'postCombatMelt'\n",
       "26. 'preCombat'\n",
       "27. 'preCombatMelt'\n",
       "28. 'pred1'\n",
       "29. 'predStrength'\n",
       "30. 'reportedScores'\n",
       "31. 'sample.scores'\n",
       "32. 'sampleIdx'\n",
       "33. 'sharedGenes'\n",
       "34. 'sigs1_2_eg2'\n",
       "35. 'sigs1_2_egIDs2'\n",
       "36. 'sigs1_2_names2'\n",
       "37. 'sigs1_2_type2'\n",
       "38. 'sigs12_module_weights'\n",
       "39. 'sigs12_module_weights_eg'\n",
       "40. 'sigs12_weighted_means'\n",
       "41. 'sigs2'\n",
       "42. 'tcgaidx'\n",
       "43. 'tcgaSubset'\n",
       "44. 'tcgaSubsetSub'\n",
       "45. 'zscore.cols2'\n",
       "46. 'zscore.rows2'\n",
       "\n",
       "\n"
      ],
      "text/plain": [
       " [1] \"combat_edata\"             \"combatflag\"              \n",
       " [3] \"consensusEnsemble\"        \"dat\"                     \n",
       " [5] \"dat2idx\"                  \"data_genes_sigs12b\"      \n",
       " [7] \"data.quantileExpressed\"   \"datlog2\"                 \n",
       " [9] \"datnorm\"                  \"determineK\"              \n",
       "[11] \"didx\"                     \"ensemblePredict\"         \n",
       "[13] \"get.distances\"            \"ImmuneSigs_function\"     \n",
       "[15] \"join_med_scaled\"          \"joinDat\"                 \n",
       "[17] \"joinMeds\"                 \"mcentr\"                  \n",
       "[19] \"modelEnsemble\"            \"mods2\"                   \n",
       "[21] \"newDat\"                   \"newdatSamples\"           \n",
       "[23] \"newDatSub\"                \"postCombat\"              \n",
       "[25] \"postCombatMelt\"           \"preCombat\"               \n",
       "[27] \"preCombatMelt\"            \"pred1\"                   \n",
       "[29] \"predStrength\"             \"reportedScores\"          \n",
       "[31] \"sample.scores\"            \"sampleIdx\"               \n",
       "[33] \"sharedGenes\"              \"sigs1_2_eg2\"             \n",
       "[35] \"sigs1_2_egIDs2\"           \"sigs1_2_names2\"          \n",
       "[37] \"sigs1_2_type2\"            \"sigs12_module_weights\"   \n",
       "[39] \"sigs12_module_weights_eg\" \"sigs12_weighted_means\"   \n",
       "[41] \"sigs2\"                    \"tcgaidx\"                 \n",
       "[43] \"tcgaSubset\"               \"tcgaSubsetSub\"           \n",
       "[45] \"zscore.cols2\"             \"zscore.rows2\"            "
      ]
     },
     "metadata": {},
     "output_type": "display_data"
    },
    {
     "data": {
      "text/html": [
       "<table>\n",
       "<thead><tr><th></th><th scope=col>used</th><th scope=col>(Mb)</th><th scope=col>gc trigger</th><th scope=col>(Mb)</th><th scope=col>max used</th><th scope=col>(Mb)</th></tr></thead>\n",
       "<tbody>\n",
       "\t<tr><th scope=row>Ncells</th><td> 3772499 </td><td>201.5    </td><td>  6024137</td><td> 321.8   </td><td>  8591118</td><td> 458.9   </td></tr>\n",
       "\t<tr><th scope=row>Vcells</th><td>89433009 </td><td>682.4    </td><td>230478866</td><td>1758.5   </td><td>210085170</td><td>1602.9   </td></tr>\n",
       "</tbody>\n",
       "</table>\n"
      ],
      "text/latex": [
       "\\begin{tabular}{r|llllll}\n",
       "  & used & (Mb) & gc trigger & (Mb) & max used & (Mb)\\\\\n",
       "\\hline\n",
       "\tNcells &  3772499  & 201.5     &   6024137 &  321.8    &   8591118 &  458.9   \\\\\n",
       "\tVcells & 89433009  & 682.4     & 230478866 & 1758.5    & 210085170 & 1602.9   \\\\\n",
       "\\end{tabular}\n"
      ],
      "text/markdown": [
       "\n",
       "| <!--/--> | used | (Mb) | gc trigger | (Mb) | max used | (Mb) |\n",
       "|---|---|---|---|---|---|---|\n",
       "| Ncells |  3772499  | 201.5     |   6024137 |  321.8    |   8591118 |  458.9    |\n",
       "| Vcells | 89433009  | 682.4     | 230478866 | 1758.5    | 210085170 | 1602.9    |\n",
       "\n"
      ],
      "text/plain": [
       "       used     (Mb)  gc trigger (Mb)   max used  (Mb)  \n",
       "Ncells  3772499 201.5   6024137   321.8   8591118  458.9\n",
       "Vcells 89433009 682.4 230478866  1758.5 210085170 1602.9"
      ]
     },
     "metadata": {},
     "output_type": "display_data"
    },
    {
     "data": {
      "text/plain": [
       "927 MB"
      ]
     },
     "metadata": {},
     "output_type": "display_data"
    }
   ],
   "source": [
    "##\n",
    "## Clean up time!\n",
    "##\n",
    "ls()\n",
    "rm(dat, dat2idx, data.quantileExpressed, datlog2, datnorm, didx, newDat, newdatSamples, postCombat, postCombatMelt, preCombat, preCombatMelt, sampleIdx, sharedGenes, tcgaidx, tcgaSubsetSub)\n",
    "gc()\n",
    "\n",
    "library(pryr)\n",
    "mem_used()"
   ]
  },
  {
   "cell_type": "markdown",
   "metadata": {},
   "source": [
    "## Compute the signature scores.\n"
   ]
  },
  {
   "cell_type": "code",
   "execution_count": 21,
   "metadata": {},
   "outputs": [
    {
     "name": "stdout",
     "output_type": "stream",
     "text": [
      "[1] \"DONE MEAN\"\n",
      "[1] \"DONE MEDIAN\"\n",
      "[1] \"DONE WEIGHTED MEAN\"\n",
      "[1] \"DONE MODULES\"\n",
      "[1] \"DONE CHANG CORE\"\n",
      "[1] \"DONE PCA\"\n",
      "[1] \"DONE DONE\"\n"
     ]
    }
   ],
   "source": [
    "\n",
    "scores <- ImmuneSigs_function(join_med_scaled, sigs1_2_eg2,sigs12_weighted_means,\n",
    "                                 sigs12_module_weights,sigs1_2_names2,sigs1_2_type2)\n"
   ]
  },
  {
   "cell_type": "code",
   "execution_count": 22,
   "metadata": {},
   "outputs": [
    {
     "data": {
      "image/png": "[encoded data removed]",
      "text/plain": [
       "plot without title"
      ]
     },
     "metadata": {},
     "output_type": "display_data"
    }
   ],
   "source": [
    "# and we subset the 5 scores used in clustering\n",
    "idx <- c(\"LIexpression_score\", \"CSF1_response\", \"TGFB_score_21050467\", \"Module3_IFN_score\", \"CHANG_CORE_SERUM_RESPONSE_UP\")\n",
    "scores <- t(scores[idx,])\n",
    "zscores <- zscore.cols2(scores)\n",
    "\n",
    "qplot(as.numeric(zscores[,1]), geom='density')"
   ]
  },
  {
   "cell_type": "markdown",
   "metadata": {},
   "source": [
    "## Classifying subtypes"
   ]
  },
  {
   "cell_type": "code",
   "execution_count": 23,
   "metadata": {},
   "outputs": [
    {
     "name": "stderr",
     "output_type": "stream",
     "text": [
      "Iteration: 0 *** value: 8073.98\n"
     ]
    }
   ],
   "source": [
    "\n",
    "  # make cluster calls using the models.\n",
    "calls <- consensusEnsemble(mods2, zscores, 4, 128)\n",
    "  "
   ]
  },
  {
   "cell_type": "code",
   "execution_count": 24,
   "metadata": {},
   "outputs": [],
   "source": [
    "# get the top scoring cluster for each sample\n",
    "maxcalls <- apply(calls$.Data, 1, function(a) which(a == max(a))[1])\n",
    "names(maxcalls) <- rownames(scores)\n",
    "  "
   ]
  },
  {
   "cell_type": "code",
   "execution_count": 25,
   "metadata": {},
   "outputs": [
    {
     "data": {
      "text/plain": [
       "        NewCalls\n",
       "Reported    1    2    3    4    5    6\n",
       "       1 2298   16   26   17   59    0\n",
       "       2   11    4   13 2557    7    0\n",
       "       3   13   44 2335    1    4    0\n",
       "       4    7 1098   23   12    8   11\n",
       "       5    0    9    0    0    0  376\n",
       "       6    2    4   45    3  126    0"
      ]
     },
     "metadata": {},
     "output_type": "display_data"
    }
   ],
   "source": [
    "# then we'll look at the new vs. old cluster calls for TCGA samples\n",
    "sharedIDs <- intersect(reportedScores$AliquotBarcode, rownames(scores))\n",
    "t1 <-table(Reported=as.numeric(reportedScores[sharedIDs, 'ClusterModel1']),\n",
    "             NewCalls=as.numeric(maxcalls[sharedIDs]))\n",
    "t1"
   ]
  },
  {
   "cell_type": "markdown",
   "metadata": {},
   "source": [
    "## Aligning the new calls"
   ]
  },
  {
   "cell_type": "code",
   "execution_count": 26,
   "metadata": {},
   "outputs": [
    {
     "name": "stdout",
     "output_type": "stream",
     "text": [
      "[1] 1 4 3 2 6 5\n"
     ]
    }
   ],
   "source": [
    "# then we can align the new calls to calls from the manuscript.\n",
    "reported <- 1:6\n",
    "optcalls <- 1:6\n",
    "\n",
    "for (i in reported) {\n",
    "    \n",
    "    # for subtype i, where did most of the samples end up?\n",
    "    j <- which(as.numeric(t1[i,]) == max(as.numeric(t1[i,])))\n",
    "    # rename maxcall j <- i\n",
    "    optcalls[i] <- j\n",
    "}\n",
    "  \n",
    "print(optcalls)\n",
    "  "
   ]
  },
  {
   "cell_type": "code",
   "execution_count": 27,
   "metadata": {},
   "outputs": [],
   "source": [
    "  \n",
    "# these are the re-mapped calls\n",
    "alignedCalls <- sapply(maxcalls, function(a) which(a == optcalls)[1])\n"
   ]
  },
  {
   "cell_type": "code",
   "execution_count": 28,
   "metadata": {},
   "outputs": [
    {
     "data": {
      "text/plain": [
       "        NewCalls\n",
       "Reported    1    2    3    4    5    6\n",
       "       1 2298   17   26   16    0   59\n",
       "       2   11 2557   13    4    0    7\n",
       "       3   13    1 2335   44    0    4\n",
       "       4    7   12   23 1098   11    8\n",
       "       5    0    0    0    9  376    0\n",
       "       6    2    3   45    4    0  126"
      ]
     },
     "metadata": {},
     "output_type": "display_data"
    }
   ],
   "source": [
    "# make sure it works on the re-called TCGA data\n",
    "t2 <-table(Reported=as.numeric(reportedScores[sharedIDs, 'ClusterModel1']),\n",
    "             NewCalls=as.numeric(alignedCalls[sharedIDs]))\n",
    "\n",
    "t2"
   ]
  },
  {
   "cell_type": "code",
   "execution_count": 29,
   "metadata": {},
   "outputs": [],
   "source": [
    "# assemble the results\n",
    "jdx <- match(table=rownames(scores), x=colnames(newDatSub))  # index to new data scores\n",
    "pcalls <- calls$.Data[jdx,]                            # get that table\n",
    "rownames(pcalls) <- colnames(newDatSub)                      # name it from the new data\n",
    "pcalls <- pcalls[,optcalls]\n",
    "  \n",
    "pcalls <- cbind(pcalls, data.frame(Call=alignedCalls[jdx]))  # bring in the aligned calls\n",
    "pcalls <- cbind(pcalls, zscores[jdx,])                       # and the scores\n",
    "    "
   ]
  },
  {
   "cell_type": "code",
   "execution_count": 30,
   "metadata": {},
   "outputs": [
    {
     "data": {
      "text/html": [
       "<table>\n",
       "<thead><tr><th></th><th scope=col>1</th><th scope=col>2</th><th scope=col>3</th><th scope=col>4</th><th scope=col>5</th><th scope=col>6</th><th scope=col>Call</th><th scope=col>LIexpression_score</th><th scope=col>CSF1_response</th><th scope=col>TGFB_score_21050467</th><th scope=col>Module3_IFN_score</th><th scope=col>CHANG_CORE_SERUM_RESPONSE_UP</th></tr></thead>\n",
       "<tbody>\n",
       "\t<tr><th scope=row>XY1</th><td>0.0000000  </td><td>0.0000000  </td><td>0.0234375  </td><td>0.7578125  </td><td>0.1171875  </td><td>0.1015625  </td><td>4          </td><td>-1.3070430 </td><td>-0.7972310 </td><td>-2.1110701 </td><td>-1.3574503 </td><td>-0.40072087</td></tr>\n",
       "\t<tr><th scope=row>XY2</th><td>0.0078125  </td><td>0.0000000  </td><td>0.9375000  </td><td>0.0000000  </td><td>0.0078125  </td><td>0.0468750  </td><td>3          </td><td>-0.8287012 </td><td>-0.9581110 </td><td>-0.8125681 </td><td>-1.1205515 </td><td>-1.27189094</td></tr>\n",
       "\t<tr><th scope=row>XY3</th><td>0.0078125  </td><td>0.0000000  </td><td>0.5390625  </td><td>0.3359375  </td><td>0.0156250  </td><td>0.1015625  </td><td>3          </td><td>-1.8441228 </td><td>-1.7511525 </td><td>-1.2926841 </td><td>-1.0272892 </td><td>-0.57171440</td></tr>\n",
       "\t<tr><th scope=row>XY4</th><td>0.0156250  </td><td>0.0078125  </td><td>0.0000000  </td><td>0.7656250  </td><td>0.0468750  </td><td>0.1640625  </td><td>4          </td><td>-1.4597400 </td><td>-1.4366545 </td><td>-1.5583687 </td><td>-0.9422146 </td><td>-0.06191644</td></tr>\n",
       "\t<tr><th scope=row>XY5</th><td>0.0000000  </td><td>0.0000000  </td><td>0.0625000  </td><td>0.7109375  </td><td>0.1093750  </td><td>0.1171875  </td><td>4          </td><td>-0.7388794 </td><td>-0.2186962 </td><td>-2.3626254 </td><td>-0.6561893 </td><td>-1.82942821</td></tr>\n",
       "\t<tr><th scope=row>XY6</th><td>0.0078125  </td><td>0.0156250  </td><td>0.0000000  </td><td>0.8046875  </td><td>0.0000000  </td><td>0.1718750  </td><td>4          </td><td>-1.8412376 </td><td>-1.7937000 </td><td>-1.5572605 </td><td>-0.1607917 </td><td> 0.29395842</td></tr>\n",
       "</tbody>\n",
       "</table>\n"
      ],
      "text/latex": [
       "\\begin{tabular}{r|llllllllllll}\n",
       "  & 1 & 2 & 3 & 4 & 5 & 6 & Call & LIexpression\\_score & CSF1\\_response & TGFB\\_score\\_21050467 & Module3\\_IFN\\_score & CHANG\\_CORE\\_SERUM\\_RESPONSE\\_UP\\\\\n",
       "\\hline\n",
       "\tXY1 & 0.0000000   & 0.0000000   & 0.0234375   & 0.7578125   & 0.1171875   & 0.1015625   & 4           & -1.3070430  & -0.7972310  & -2.1110701  & -1.3574503  & -0.40072087\\\\\n",
       "\tXY2 & 0.0078125   & 0.0000000   & 0.9375000   & 0.0000000   & 0.0078125   & 0.0468750   & 3           & -0.8287012  & -0.9581110  & -0.8125681  & -1.1205515  & -1.27189094\\\\\n",
       "\tXY3 & 0.0078125   & 0.0000000   & 0.5390625   & 0.3359375   & 0.0156250   & 0.1015625   & 3           & -1.8441228  & -1.7511525  & -1.2926841  & -1.0272892  & -0.57171440\\\\\n",
       "\tXY4 & 0.0156250   & 0.0078125   & 0.0000000   & 0.7656250   & 0.0468750   & 0.1640625   & 4           & -1.4597400  & -1.4366545  & -1.5583687  & -0.9422146  & -0.06191644\\\\\n",
       "\tXY5 & 0.0000000   & 0.0000000   & 0.0625000   & 0.7109375   & 0.1093750   & 0.1171875   & 4           & -0.7388794  & -0.2186962  & -2.3626254  & -0.6561893  & -1.82942821\\\\\n",
       "\tXY6 & 0.0078125   & 0.0156250   & 0.0000000   & 0.8046875   & 0.0000000   & 0.1718750   & 4           & -1.8412376  & -1.7937000  & -1.5572605  & -0.1607917  &  0.29395842\\\\\n",
       "\\end{tabular}\n"
      ],
      "text/markdown": [
       "\n",
       "| <!--/--> | 1 | 2 | 3 | 4 | 5 | 6 | Call | LIexpression_score | CSF1_response | TGFB_score_21050467 | Module3_IFN_score | CHANG_CORE_SERUM_RESPONSE_UP |\n",
       "|---|---|---|---|---|---|---|---|---|---|---|---|---|\n",
       "| XY1 | 0.0000000   | 0.0000000   | 0.0234375   | 0.7578125   | 0.1171875   | 0.1015625   | 4           | -1.3070430  | -0.7972310  | -2.1110701  | -1.3574503  | -0.40072087 |\n",
       "| XY2 | 0.0078125   | 0.0000000   | 0.9375000   | 0.0000000   | 0.0078125   | 0.0468750   | 3           | -0.8287012  | -0.9581110  | -0.8125681  | -1.1205515  | -1.27189094 |\n",
       "| XY3 | 0.0078125   | 0.0000000   | 0.5390625   | 0.3359375   | 0.0156250   | 0.1015625   | 3           | -1.8441228  | -1.7511525  | -1.2926841  | -1.0272892  | -0.57171440 |\n",
       "| XY4 | 0.0156250   | 0.0078125   | 0.0000000   | 0.7656250   | 0.0468750   | 0.1640625   | 4           | -1.4597400  | -1.4366545  | -1.5583687  | -0.9422146  | -0.06191644 |\n",
       "| XY5 | 0.0000000   | 0.0000000   | 0.0625000   | 0.7109375   | 0.1093750   | 0.1171875   | 4           | -0.7388794  | -0.2186962  | -2.3626254  | -0.6561893  | -1.82942821 |\n",
       "| XY6 | 0.0078125   | 0.0156250   | 0.0000000   | 0.8046875   | 0.0000000   | 0.1718750   | 4           | -1.8412376  | -1.7937000  | -1.5572605  | -0.1607917  |  0.29395842 |\n",
       "\n"
      ],
      "text/plain": [
       "    1         2         3         4         5         6         Call\n",
       "XY1 0.0000000 0.0000000 0.0234375 0.7578125 0.1171875 0.1015625 4   \n",
       "XY2 0.0078125 0.0000000 0.9375000 0.0000000 0.0078125 0.0468750 3   \n",
       "XY3 0.0078125 0.0000000 0.5390625 0.3359375 0.0156250 0.1015625 3   \n",
       "XY4 0.0156250 0.0078125 0.0000000 0.7656250 0.0468750 0.1640625 4   \n",
       "XY5 0.0000000 0.0000000 0.0625000 0.7109375 0.1093750 0.1171875 4   \n",
       "XY6 0.0078125 0.0156250 0.0000000 0.8046875 0.0000000 0.1718750 4   \n",
       "    LIexpression_score CSF1_response TGFB_score_21050467 Module3_IFN_score\n",
       "XY1 -1.3070430         -0.7972310    -2.1110701          -1.3574503       \n",
       "XY2 -0.8287012         -0.9581110    -0.8125681          -1.1205515       \n",
       "XY3 -1.8441228         -1.7511525    -1.2926841          -1.0272892       \n",
       "XY4 -1.4597400         -1.4366545    -1.5583687          -0.9422146       \n",
       "XY5 -0.7388794         -0.2186962    -2.3626254          -0.6561893       \n",
       "XY6 -1.8412376         -1.7937000    -1.5572605          -0.1607917       \n",
       "    CHANG_CORE_SERUM_RESPONSE_UP\n",
       "XY1 -0.40072087                 \n",
       "XY2 -1.27189094                 \n",
       "XY3 -0.57171440                 \n",
       "XY4 -0.06191644                 \n",
       "XY5 -1.82942821                 \n",
       "XY6  0.29395842                 "
      ]
     },
     "metadata": {},
     "output_type": "display_data"
    }
   ],
   "source": [
    "head(pcalls)"
   ]
  },
  {
   "cell_type": "markdown",
   "metadata": {},
   "source": [
    "## Final results"
   ]
  },
  {
   "cell_type": "code",
   "execution_count": 31,
   "metadata": {},
   "outputs": [],
   "source": [
    "finalResults <- list(AlignedCalls=alignedCalls[jdx], Table=t2, ProbCalls=pcalls)"
   ]
  },
  {
   "cell_type": "code",
   "execution_count": 38,
   "metadata": {},
   "outputs": [],
   "source": [
    "# In the finalResults,\n",
    "# $AlignedCalls are the immune subtypes - aligned with the TCGA manuscript\n",
    "# $Table is the TCGA reported immune subtypes (on TCGA samples) compared to what we just computed\n",
    "# $ProbCalls shows the probability of being in each subtype and signature scores, Call is the aligned call"
   ]
  },
  {
   "cell_type": "code",
   "execution_count": 33,
   "metadata": {},
   "outputs": [],
   "source": [
    "# That's it!"
   ]
  },
  {
   "cell_type": "code",
   "execution_count": 42,
   "metadata": {},
   "outputs": [],
   "source": [
    "load('../ExtraData//colnames_1to20_ebpp.rda')\n",
    "rownames(reportedScores) <- str_replace_all(reportedScores$AliquotBarcode, pattern = '\\\\.', replacement = '-')\n"
   ]
  },
  {
   "cell_type": "code",
   "execution_count": 45,
   "metadata": {},
   "outputs": [],
   "source": [
    "# cx is the vector of hidden TCGA barcodes\n",
    "manuscriptCalls <- reportedScores[cx, 'ClusterModel1']\n",
    "\n",
    "newCalls <- finalResults$AlignedCalls"
   ]
  },
  {
   "cell_type": "code",
   "execution_count": 50,
   "metadata": {},
   "outputs": [
    {
     "data": {
      "text/plain": [
       "          NEW_Calls\n",
       "Manuscript  2  3  4  6\n",
       "         2  1  0  0  0\n",
       "         3  0  4  0  0\n",
       "         4  0  2 12  0\n",
       "         6  0  0  0  1"
      ]
     },
     "metadata": {},
     "output_type": "display_data"
    }
   ],
   "source": [
    "table(Manuscript=manuscriptCalls, NEW_Calls=newCalls)"
   ]
  },
  {
   "cell_type": "code",
   "execution_count": null,
   "metadata": {},
   "outputs": [],
   "source": [
    "## So a couple of samples may be classified differently.\n",
    "## There's naturally a little error involved, and that's expected."
   ]
  }
 ],
 "metadata": {
  "kernelspec": {
   "display_name": "R",
   "language": "R",
   "name": "ir"
  },
  "language_info": {
   "codemirror_mode": "r",
   "file_extension": ".r",
   "mimetype": "text/x-r-source",
   "name": "R",
   "pygments_lexer": "r",
   "version": "3.5.2"
  }
 },
 "nbformat": 4,
 "nbformat_minor": 2
}
