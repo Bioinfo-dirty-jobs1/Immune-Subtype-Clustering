{
 "cells": [
  {
   "cell_type": "markdown",
   "metadata": {},
   "source": [
    "## How to call immune subtypes on new data ##"
   ]
  },
  {
   "cell_type": "markdown",
   "metadata": {},
   "source": [
    "Let's suppose you have some:\n",
    "  a.) RPKM (or FPKM or something equivlent) gene expression data \n",
    "  b.) Has hg19 gene symbols mapped to it.\n",
    "  c.) knowledge on how to batch correct / normalize it with regard to TCGA PanCancer data*\n",
    "  \n",
    "and you'd like to call some immune subtypes on those samples."
   ]
  },
  {
   "cell_type": "code",
   "execution_count": 1,
   "metadata": {},
   "outputs": [],
   "source": [
    "\n",
    "library(ggplot2)\n",
    "options(repr.plot.width=4, repr.plot.height=3)"
   ]
  },
  {
   "cell_type": "code",
   "execution_count": 2,
   "metadata": {},
   "outputs": [
    {
     "data": {
      "text/html": [
       "<ol class=list-inline>\n",
       "\t<li>2316</li>\n",
       "\t<li>9129</li>\n",
       "</ol>\n"
      ],
      "text/latex": [
       "\\begin{enumerate*}\n",
       "\\item 2316\n",
       "\\item 9129\n",
       "\\end{enumerate*}\n"
      ],
      "text/markdown": [
       "1. 2316\n",
       "2. 9129\n",
       "\n",
       "\n"
      ],
      "text/plain": [
       "[1] 2316 9129"
      ]
     },
     "metadata": {},
     "output_type": "display_data"
    },
    {
     "data": {
      "text/html": [
       "<table>\n",
       "<thead><tr><th></th><th scope=col>TCGA.OR.A5J1.01A.11R.A29S.07</th><th scope=col>TCGA.OR.A5J2.01A.11R.A29S.07</th><th scope=col>TCGA.OR.A5J3.01A.11R.A29S.07</th><th scope=col>TCGA.OR.A5J5.01A.11R.A29S.07</th><th scope=col>TCGA.OR.A5J6.01A.31R.A29S.07</th></tr></thead>\n",
       "<tbody>\n",
       "\t<tr><th scope=row>A1CF</th><td>  0.0000 </td><td>   0.000 </td><td>   0.5925</td><td>  1.5492 </td><td>   0.000 </td></tr>\n",
       "\t<tr><th scope=row>ABCA1</th><td>319.4040 </td><td>1071.800 </td><td> 896.4600</td><td>310.6120 </td><td> 800.283 </td></tr>\n",
       "\t<tr><th scope=row>ABCA8</th><td>  4.3228 </td><td> 121.997 </td><td>1368.6900</td><td>982.1840 </td><td>5000.650 </td></tr>\n",
       "\t<tr><th scope=row>ABCB11</th><td>  0.4803 </td><td>   0.000 </td><td>   1.7775</td><td>  0.0000 </td><td>   0.000 </td></tr>\n",
       "</tbody>\n",
       "</table>\n"
      ],
      "text/latex": [
       "\\begin{tabular}{r|lllll}\n",
       "  & TCGA.OR.A5J1.01A.11R.A29S.07 & TCGA.OR.A5J2.01A.11R.A29S.07 & TCGA.OR.A5J3.01A.11R.A29S.07 & TCGA.OR.A5J5.01A.11R.A29S.07 & TCGA.OR.A5J6.01A.31R.A29S.07\\\\\n",
       "\\hline\n",
       "\tA1CF &   0.0000  &    0.000  &    0.5925 &   1.5492  &    0.000 \\\\\n",
       "\tABCA1 & 319.4040  & 1071.800  &  896.4600 & 310.6120  &  800.283 \\\\\n",
       "\tABCA8 &   4.3228  &  121.997  & 1368.6900 & 982.1840  & 5000.650 \\\\\n",
       "\tABCB11 &   0.4803  &    0.000  &    1.7775 &   0.0000  &    0.000 \\\\\n",
       "\\end{tabular}\n"
      ],
      "text/markdown": [
       "\n",
       "| <!--/--> | TCGA.OR.A5J1.01A.11R.A29S.07 | TCGA.OR.A5J2.01A.11R.A29S.07 | TCGA.OR.A5J3.01A.11R.A29S.07 | TCGA.OR.A5J5.01A.11R.A29S.07 | TCGA.OR.A5J6.01A.31R.A29S.07 |\n",
       "|---|---|---|---|---|---|\n",
       "| A1CF |   0.0000  |    0.000  |    0.5925 |   1.5492  |    0.000  |\n",
       "| ABCA1 | 319.4040  | 1071.800  |  896.4600 | 310.6120  |  800.283  |\n",
       "| ABCA8 |   4.3228  |  121.997  | 1368.6900 | 982.1840  | 5000.650  |\n",
       "| ABCB11 |   0.4803  |    0.000  |    1.7775 |   0.0000  |    0.000  |\n",
       "\n"
      ],
      "text/plain": [
       "       TCGA.OR.A5J1.01A.11R.A29S.07 TCGA.OR.A5J2.01A.11R.A29S.07\n",
       "A1CF     0.0000                        0.000                    \n",
       "ABCA1  319.4040                     1071.800                    \n",
       "ABCA8    4.3228                      121.997                    \n",
       "ABCB11   0.4803                        0.000                    \n",
       "       TCGA.OR.A5J3.01A.11R.A29S.07 TCGA.OR.A5J5.01A.11R.A29S.07\n",
       "A1CF      0.5925                      1.5492                    \n",
       "ABCA1   896.4600                    310.6120                    \n",
       "ABCA8  1368.6900                    982.1840                    \n",
       "ABCB11    1.7775                      0.0000                    \n",
       "       TCGA.OR.A5J6.01A.31R.A29S.07\n",
       "A1CF      0.000                    \n",
       "ABCA1   800.283                    \n",
       "ABCA8  5000.650                    \n",
       "ABCB11    0.000                    "
      ]
     },
     "metadata": {},
     "output_type": "display_data"
    }
   ],
   "source": [
    "#loading TCGA PanCancer EB++ expression data, subset to the pertinent genes.\n",
    "\n",
    "tcgaSubset <- read.table('../shiny-app/Immune-Subtype-Clustering/data/ebppSubset.tsv.bz2', header = T, sep = '\\t', stringsAsFactors = F)\n",
    "dim(tcgaSubset)\n",
    "tcgaSubset[1:4,1:5]"
   ]
  },
  {
   "cell_type": "code",
   "execution_count": 3,
   "metadata": {},
   "outputs": [
    {
     "data": {
      "text/html": [
       "<table>\n",
       "<thead><tr><th scope=col>AliquotBarcode</th><th scope=col>SampleBarcode</th><th scope=col>ClusterModel1</th><th scope=col>ClusterModel2</th><th scope=col>LIexpression_score</th><th scope=col>CSF1_response</th><th scope=col>TGFB_score_21050467</th><th scope=col>Module3_IFN_score</th><th scope=col>CHANG_CORE_SERUM_RESPONSE_UP</th></tr></thead>\n",
       "<tbody>\n",
       "\t<tr><td>TCGA.02.0047.01A.01R.1849.01</td><td>TCGA-02-0047-01A            </td><td>4                           </td><td>4                           </td><td>-1.3536972                  </td><td>0.8995777                   </td><td> 0.09838865                 </td><td>-0.43775189                 </td><td>-0.5989618                  </td></tr>\n",
       "\t<tr><td>TCGA.02.0055.01A.01R.1849.01</td><td>TCGA-02-0055-01A            </td><td>4                           </td><td>4                           </td><td>-0.5016848                  </td><td>1.4674281                   </td><td> 1.41870736                 </td><td> 0.03473346                 </td><td> 0.6990816                  </td></tr>\n",
       "\t<tr><td>TCGA.02.2483.01A.01R.1849.01</td><td>TCGA-02-2483-01A            </td><td>4                           </td><td>4                           </td><td>-0.9197809                  </td><td>0.4884155                   </td><td>-0.50393689                 </td><td>-0.68551726                 </td><td> 1.0855086                  </td></tr>\n",
       "\t<tr><td>TCGA.02.2485.01A.01R.1849.01</td><td>TCGA-02-2485-01A            </td><td>4                           </td><td>4                           </td><td>-0.7810493                  </td><td>0.1039455                   </td><td>-0.65700848                 </td><td> 1.49949319                 </td><td> 0.4496605                  </td></tr>\n",
       "\t<tr><td>TCGA.02.2486.01A.01R.1849.01</td><td>TCGA-02-2486-01A            </td><td>4                           </td><td>4                           </td><td>-0.0361280                  </td><td>1.8245642                   </td><td>-0.27930992                 </td><td> 2.53785832                 </td><td> 0.1475449                  </td></tr>\n",
       "\t<tr><td>TCGA.04.1348.01A.01R.1565.13</td><td>TCGA-04-1348-01A            </td><td>2                           </td><td>2                           </td><td> 0.6439911                  </td><td>0.7957605                   </td><td>-0.63769666                 </td><td> 0.90119552                 </td><td> 1.8003985                  </td></tr>\n",
       "</tbody>\n",
       "</table>\n"
      ],
      "text/latex": [
       "\\begin{tabular}{r|lllllllll}\n",
       " AliquotBarcode & SampleBarcode & ClusterModel1 & ClusterModel2 & LIexpression\\_score & CSF1\\_response & TGFB\\_score\\_21050467 & Module3\\_IFN\\_score & CHANG\\_CORE\\_SERUM\\_RESPONSE\\_UP\\\\\n",
       "\\hline\n",
       "\t TCGA.02.0047.01A.01R.1849.01 & TCGA-02-0047-01A             & 4                            & 4                            & -1.3536972                   & 0.8995777                    &  0.09838865                  & -0.43775189                  & -0.5989618                  \\\\\n",
       "\t TCGA.02.0055.01A.01R.1849.01 & TCGA-02-0055-01A             & 4                            & 4                            & -0.5016848                   & 1.4674281                    &  1.41870736                  &  0.03473346                  &  0.6990816                  \\\\\n",
       "\t TCGA.02.2483.01A.01R.1849.01 & TCGA-02-2483-01A             & 4                            & 4                            & -0.9197809                   & 0.4884155                    & -0.50393689                  & -0.68551726                  &  1.0855086                  \\\\\n",
       "\t TCGA.02.2485.01A.01R.1849.01 & TCGA-02-2485-01A             & 4                            & 4                            & -0.7810493                   & 0.1039455                    & -0.65700848                  &  1.49949319                  &  0.4496605                  \\\\\n",
       "\t TCGA.02.2486.01A.01R.1849.01 & TCGA-02-2486-01A             & 4                            & 4                            & -0.0361280                   & 1.8245642                    & -0.27930992                  &  2.53785832                  &  0.1475449                  \\\\\n",
       "\t TCGA.04.1348.01A.01R.1565.13 & TCGA-04-1348-01A             & 2                            & 2                            &  0.6439911                   & 0.7957605                    & -0.63769666                  &  0.90119552                  &  1.8003985                  \\\\\n",
       "\\end{tabular}\n"
      ],
      "text/markdown": [
       "\n",
       "| AliquotBarcode | SampleBarcode | ClusterModel1 | ClusterModel2 | LIexpression_score | CSF1_response | TGFB_score_21050467 | Module3_IFN_score | CHANG_CORE_SERUM_RESPONSE_UP |\n",
       "|---|---|---|---|---|---|---|---|---|\n",
       "| TCGA.02.0047.01A.01R.1849.01 | TCGA-02-0047-01A             | 4                            | 4                            | -1.3536972                   | 0.8995777                    |  0.09838865                  | -0.43775189                  | -0.5989618                   |\n",
       "| TCGA.02.0055.01A.01R.1849.01 | TCGA-02-0055-01A             | 4                            | 4                            | -0.5016848                   | 1.4674281                    |  1.41870736                  |  0.03473346                  |  0.6990816                   |\n",
       "| TCGA.02.2483.01A.01R.1849.01 | TCGA-02-2483-01A             | 4                            | 4                            | -0.9197809                   | 0.4884155                    | -0.50393689                  | -0.68551726                  |  1.0855086                   |\n",
       "| TCGA.02.2485.01A.01R.1849.01 | TCGA-02-2485-01A             | 4                            | 4                            | -0.7810493                   | 0.1039455                    | -0.65700848                  |  1.49949319                  |  0.4496605                   |\n",
       "| TCGA.02.2486.01A.01R.1849.01 | TCGA-02-2486-01A             | 4                            | 4                            | -0.0361280                   | 1.8245642                    | -0.27930992                  |  2.53785832                  |  0.1475449                   |\n",
       "| TCGA.04.1348.01A.01R.1565.13 | TCGA-04-1348-01A             | 2                            | 2                            |  0.6439911                   | 0.7957605                    | -0.63769666                  |  0.90119552                  |  1.8003985                   |\n",
       "\n"
      ],
      "text/plain": [
       "  AliquotBarcode               SampleBarcode    ClusterModel1 ClusterModel2\n",
       "1 TCGA.02.0047.01A.01R.1849.01 TCGA-02-0047-01A 4             4            \n",
       "2 TCGA.02.0055.01A.01R.1849.01 TCGA-02-0055-01A 4             4            \n",
       "3 TCGA.02.2483.01A.01R.1849.01 TCGA-02-2483-01A 4             4            \n",
       "4 TCGA.02.2485.01A.01R.1849.01 TCGA-02-2485-01A 4             4            \n",
       "5 TCGA.02.2486.01A.01R.1849.01 TCGA-02-2486-01A 4             4            \n",
       "6 TCGA.04.1348.01A.01R.1565.13 TCGA-04-1348-01A 2             2            \n",
       "  LIexpression_score CSF1_response TGFB_score_21050467 Module3_IFN_score\n",
       "1 -1.3536972         0.8995777      0.09838865         -0.43775189      \n",
       "2 -0.5016848         1.4674281      1.41870736          0.03473346      \n",
       "3 -0.9197809         0.4884155     -0.50393689         -0.68551726      \n",
       "4 -0.7810493         0.1039455     -0.65700848          1.49949319      \n",
       "5 -0.0361280         1.8245642     -0.27930992          2.53785832      \n",
       "6  0.6439911         0.7957605     -0.63769666          0.90119552      \n",
       "  CHANG_CORE_SERUM_RESPONSE_UP\n",
       "1 -0.5989618                  \n",
       "2  0.6990816                  \n",
       "3  1.0855086                  \n",
       "4  0.4496605                  \n",
       "5  0.1475449                  \n",
       "6  1.8003985                  "
      ]
     },
     "metadata": {},
     "output_type": "display_data"
    }
   ],
   "source": [
    "# need to subset before transforms\n",
    "reportedScores <- read.table('../shiny-app/Immune-Subtype-Clustering//data//five_signature_mclust_ensemble_results.tsv.gz', sep='\\t', header=T, stringsAsFactors = F)\n",
    "head(reportedScores)\n",
    "rownames(reportedScores) <- reportedScores$AliquotBarcode"
   ]
  },
  {
   "cell_type": "code",
   "execution_count": 4,
   "metadata": {},
   "outputs": [],
   "source": [
    "tcgaSubset <- log2(tcgaSubset + 1)"
   ]
  },
  {
   "cell_type": "code",
   "execution_count": 5,
   "metadata": {},
   "outputs": [
    {
     "data": {
      "image/png": "[encoded data removed]",
      "text/plain": [
       "plot without title"
      ]
     },
     "metadata": {},
     "output_type": "display_data"
    }
   ],
   "source": [
    "qplot(tcgaSubset[,1], geom='density')"
   ]
  },
  {
   "cell_type": "code",
   "execution_count": 6,
   "metadata": {},
   "outputs": [
    {
     "data": {
      "text/html": [
       "<ol class=list-inline>\n",
       "\t<li>20130</li>\n",
       "\t<li>6</li>\n",
       "</ol>\n"
      ],
      "text/latex": [
       "\\begin{enumerate*}\n",
       "\\item 20130\n",
       "\\item 6\n",
       "\\end{enumerate*}\n"
      ],
      "text/markdown": [
       "1. 20130\n",
       "2. 6\n",
       "\n",
       "\n"
      ],
      "text/plain": [
       "[1] 20130     6"
      ]
     },
     "metadata": {},
     "output_type": "display_data"
    },
    {
     "data": {
      "text/html": [
       "<table>\n",
       "<thead><tr><th></th><th scope=col>rpkm.exp_005_shNTC_rep1</th><th scope=col>rpkm.exp_005_shNTC_rep2</th><th scope=col>rpkm.exp_005_shNTC_rep3</th><th scope=col>rpkm.exp_005_shTRPS1_seq1</th><th scope=col>rpkm.exp_005_shTRPS1_seq2</th></tr></thead>\n",
       "<tbody>\n",
       "\t<tr><th scope=row>TSPAN6</th><td> 4.866946  </td><td> 5.59851858</td><td> 6.0323073 </td><td> 8.81300835</td><td> 7.31116077</td></tr>\n",
       "\t<tr><th scope=row>DPM1</th><td>14.703788  </td><td>14.54414233</td><td>15.2178512 </td><td>13.48725417</td><td>14.18521178</td></tr>\n",
       "\t<tr><th scope=row>SCYL3</th><td> 2.613824  </td><td> 2.62848323</td><td> 2.6941885 </td><td> 2.33930243</td><td> 2.61831372</td></tr>\n",
       "\t<tr><th scope=row>C1orf112</th><td> 2.130704  </td><td> 1.95809753</td><td> 1.9696715 </td><td> 1.48692841</td><td> 1.51562986</td></tr>\n",
       "\t<tr><th scope=row>FGR</th><td> 0.000000  </td><td> 0.02082027</td><td> 0.0149617 </td><td> 0.01707083</td><td> 0.01057218</td></tr>\n",
       "</tbody>\n",
       "</table>\n"
      ],
      "text/latex": [
       "\\begin{tabular}{r|lllll}\n",
       "  & rpkm.exp\\_005\\_shNTC\\_rep1 & rpkm.exp\\_005\\_shNTC\\_rep2 & rpkm.exp\\_005\\_shNTC\\_rep3 & rpkm.exp\\_005\\_shTRPS1\\_seq1 & rpkm.exp\\_005\\_shTRPS1\\_seq2\\\\\n",
       "\\hline\n",
       "\tTSPAN6 &  4.866946   &  5.59851858 &  6.0323073  &  8.81300835 &  7.31116077\\\\\n",
       "\tDPM1 & 14.703788   & 14.54414233 & 15.2178512  & 13.48725417 & 14.18521178\\\\\n",
       "\tSCYL3 &  2.613824   &  2.62848323 &  2.6941885  &  2.33930243 &  2.61831372\\\\\n",
       "\tC1orf112 &  2.130704   &  1.95809753 &  1.9696715  &  1.48692841 &  1.51562986\\\\\n",
       "\tFGR &  0.000000   &  0.02082027 &  0.0149617  &  0.01707083 &  0.01057218\\\\\n",
       "\\end{tabular}\n"
      ],
      "text/markdown": [
       "\n",
       "| <!--/--> | rpkm.exp_005_shNTC_rep1 | rpkm.exp_005_shNTC_rep2 | rpkm.exp_005_shNTC_rep3 | rpkm.exp_005_shTRPS1_seq1 | rpkm.exp_005_shTRPS1_seq2 |\n",
       "|---|---|---|---|---|---|\n",
       "| TSPAN6 |  4.866946   |  5.59851858 |  6.0323073  |  8.81300835 |  7.31116077 |\n",
       "| DPM1 | 14.703788   | 14.54414233 | 15.2178512  | 13.48725417 | 14.18521178 |\n",
       "| SCYL3 |  2.613824   |  2.62848323 |  2.6941885  |  2.33930243 |  2.61831372 |\n",
       "| C1orf112 |  2.130704   |  1.95809753 |  1.9696715  |  1.48692841 |  1.51562986 |\n",
       "| FGR |  0.000000   |  0.02082027 |  0.0149617  |  0.01707083 |  0.01057218 |\n",
       "\n"
      ],
      "text/plain": [
       "         rpkm.exp_005_shNTC_rep1 rpkm.exp_005_shNTC_rep2\n",
       "TSPAN6    4.866946                5.59851858            \n",
       "DPM1     14.703788               14.54414233            \n",
       "SCYL3     2.613824                2.62848323            \n",
       "C1orf112  2.130704                1.95809753            \n",
       "FGR       0.000000                0.02082027            \n",
       "         rpkm.exp_005_shNTC_rep3 rpkm.exp_005_shTRPS1_seq1\n",
       "TSPAN6    6.0323073               8.81300835              \n",
       "DPM1     15.2178512              13.48725417              \n",
       "SCYL3     2.6941885               2.33930243              \n",
       "C1orf112  1.9696715               1.48692841              \n",
       "FGR       0.0149617               0.01707083              \n",
       "         rpkm.exp_005_shTRPS1_seq2\n",
       "TSPAN6    7.31116077              \n",
       "DPM1     14.18521178              \n",
       "SCYL3     2.61831372              \n",
       "C1orf112  1.51562986              \n",
       "FGR       0.01057218              "
      ]
     },
     "metadata": {},
     "output_type": "display_data"
    }
   ],
   "source": [
    "# bring in the new data #\n",
    "# found some RPKM RNA-seq data\n",
    "# \n",
    "load('../ExtraData/newDat.rda')\n",
    "dim(newDat)\n",
    "newDat[1:5,1:5]"
   ]
  },
  {
   "cell_type": "code",
   "execution_count": 7,
   "metadata": {},
   "outputs": [
    {
     "data": {
      "text/html": [
       "<ol class=list-inline>\n",
       "\t<li>20130</li>\n",
       "\t<li>6</li>\n",
       "</ol>\n"
      ],
      "text/latex": [
       "\\begin{enumerate*}\n",
       "\\item 20130\n",
       "\\item 6\n",
       "\\end{enumerate*}\n"
      ],
      "text/markdown": [
       "1. 20130\n",
       "2. 6\n",
       "\n",
       "\n"
      ],
      "text/plain": [
       "[1] 20130     6"
      ]
     },
     "metadata": {},
     "output_type": "display_data"
    },
    {
     "data": {
      "text/html": [
       "<table>\n",
       "<thead><tr><th></th><th scope=col>rpkm.exp_005_shNTC_rep1</th><th scope=col>rpkm.exp_005_shNTC_rep2</th><th scope=col>rpkm.exp_005_shNTC_rep3</th><th scope=col>rpkm.exp_005_shTRPS1_seq1</th><th scope=col>rpkm.exp_005_shTRPS1_seq2</th></tr></thead>\n",
       "<tbody>\n",
       "\t<tr><th scope=row>TSPAN6</th><td> 4.866946  </td><td> 5.59851858</td><td> 6.0323073 </td><td> 8.81300835</td><td> 7.31116077</td></tr>\n",
       "\t<tr><th scope=row>DPM1</th><td>14.703788  </td><td>14.54414233</td><td>15.2178512 </td><td>13.48725417</td><td>14.18521178</td></tr>\n",
       "\t<tr><th scope=row>SCYL3</th><td> 2.613824  </td><td> 2.62848323</td><td> 2.6941885 </td><td> 2.33930243</td><td> 2.61831372</td></tr>\n",
       "\t<tr><th scope=row>C1orf112</th><td> 2.130704  </td><td> 1.95809753</td><td> 1.9696715 </td><td> 1.48692841</td><td> 1.51562986</td></tr>\n",
       "\t<tr><th scope=row>FGR</th><td> 0.000000  </td><td> 0.02082027</td><td> 0.0149617 </td><td> 0.01707083</td><td> 0.01057218</td></tr>\n",
       "</tbody>\n",
       "</table>\n"
      ],
      "text/latex": [
       "\\begin{tabular}{r|lllll}\n",
       "  & rpkm.exp\\_005\\_shNTC\\_rep1 & rpkm.exp\\_005\\_shNTC\\_rep2 & rpkm.exp\\_005\\_shNTC\\_rep3 & rpkm.exp\\_005\\_shTRPS1\\_seq1 & rpkm.exp\\_005\\_shTRPS1\\_seq2\\\\\n",
       "\\hline\n",
       "\tTSPAN6 &  4.866946   &  5.59851858 &  6.0323073  &  8.81300835 &  7.31116077\\\\\n",
       "\tDPM1 & 14.703788   & 14.54414233 & 15.2178512  & 13.48725417 & 14.18521178\\\\\n",
       "\tSCYL3 &  2.613824   &  2.62848323 &  2.6941885  &  2.33930243 &  2.61831372\\\\\n",
       "\tC1orf112 &  2.130704   &  1.95809753 &  1.9696715  &  1.48692841 &  1.51562986\\\\\n",
       "\tFGR &  0.000000   &  0.02082027 &  0.0149617  &  0.01707083 &  0.01057218\\\\\n",
       "\\end{tabular}\n"
      ],
      "text/markdown": [
       "\n",
       "| <!--/--> | rpkm.exp_005_shNTC_rep1 | rpkm.exp_005_shNTC_rep2 | rpkm.exp_005_shNTC_rep3 | rpkm.exp_005_shTRPS1_seq1 | rpkm.exp_005_shTRPS1_seq2 |\n",
       "|---|---|---|---|---|---|\n",
       "| TSPAN6 |  4.866946   |  5.59851858 |  6.0323073  |  8.81300835 |  7.31116077 |\n",
       "| DPM1 | 14.703788   | 14.54414233 | 15.2178512  | 13.48725417 | 14.18521178 |\n",
       "| SCYL3 |  2.613824   |  2.62848323 |  2.6941885  |  2.33930243 |  2.61831372 |\n",
       "| C1orf112 |  2.130704   |  1.95809753 |  1.9696715  |  1.48692841 |  1.51562986 |\n",
       "| FGR |  0.000000   |  0.02082027 |  0.0149617  |  0.01707083 |  0.01057218 |\n",
       "\n"
      ],
      "text/plain": [
       "         rpkm.exp_005_shNTC_rep1 rpkm.exp_005_shNTC_rep2\n",
       "TSPAN6    4.866946                5.59851858            \n",
       "DPM1     14.703788               14.54414233            \n",
       "SCYL3     2.613824                2.62848323            \n",
       "C1orf112  2.130704                1.95809753            \n",
       "FGR       0.000000                0.02082027            \n",
       "         rpkm.exp_005_shNTC_rep3 rpkm.exp_005_shTRPS1_seq1\n",
       "TSPAN6    6.0323073               8.81300835              \n",
       "DPM1     15.2178512              13.48725417              \n",
       "SCYL3     2.6941885               2.33930243              \n",
       "C1orf112  1.9696715               1.48692841              \n",
       "FGR       0.0149617               0.01707083              \n",
       "         rpkm.exp_005_shTRPS1_seq2\n",
       "TSPAN6    7.31116077              \n",
       "DPM1     14.18521178              \n",
       "SCYL3     2.61831372              \n",
       "C1orf112  1.51562986              \n",
       "FGR       0.01057218              "
      ]
     },
     "metadata": {},
     "output_type": "display_data"
    }
   ],
   "source": [
    "didx <- !duplicated(as.character(rownames(newDat)))\n",
    "dat <- newDat[didx,]\n",
    "dim(dat)\n",
    "dat[1:5,1:5]"
   ]
  },
  {
   "cell_type": "code",
   "execution_count": 8,
   "metadata": {},
   "outputs": [
    {
     "data": {
      "image/png": "[encoded data removed]",
      "text/plain": [
       "plot without title"
      ]
     },
     "metadata": {},
     "output_type": "display_data"
    }
   ],
   "source": [
    "datlog2 <- log2(dat+1)\n",
    "qplot(datlog2[,2], geom='density')"
   ]
  },
  {
   "cell_type": "code",
   "execution_count": 9,
   "metadata": {},
   "outputs": [
    {
     "data": {
      "text/html": [
       "<ol class=list-inline>\n",
       "\t<li>'dat'</li>\n",
       "\t<li>'datlog2'</li>\n",
       "\t<li>'didx'</li>\n",
       "\t<li>'newDat'</li>\n",
       "\t<li>'reportedScores'</li>\n",
       "\t<li>'tcgaSubset'</li>\n",
       "</ol>\n"
      ],
      "text/latex": [
       "\\begin{enumerate*}\n",
       "\\item 'dat'\n",
       "\\item 'datlog2'\n",
       "\\item 'didx'\n",
       "\\item 'newDat'\n",
       "\\item 'reportedScores'\n",
       "\\item 'tcgaSubset'\n",
       "\\end{enumerate*}\n"
      ],
      "text/markdown": [
       "1. 'dat'\n",
       "2. 'datlog2'\n",
       "3. 'didx'\n",
       "4. 'newDat'\n",
       "5. 'reportedScores'\n",
       "6. 'tcgaSubset'\n",
       "\n",
       "\n"
      ],
      "text/plain": [
       "[1] \"dat\"            \"datlog2\"        \"didx\"           \"newDat\"        \n",
       "[5] \"reportedScores\" \"tcgaSubset\"    "
      ]
     },
     "metadata": {},
     "output_type": "display_data"
    }
   ],
   "source": [
    "ls()"
   ]
  },
  {
   "cell_type": "code",
   "execution_count": 10,
   "metadata": {},
   "outputs": [
    {
     "data": {
      "text/html": [
       "<table>\n",
       "<thead><tr><th></th><th scope=col>rpkm.exp_005_shNTC_rep1</th><th scope=col>rpkm.exp_005_shNTC_rep2</th><th scope=col>rpkm.exp_005_shNTC_rep3</th><th scope=col>rpkm.exp_005_shTRPS1_seq1</th><th scope=col>rpkm.exp_005_shTRPS1_seq2</th></tr></thead>\n",
       "<tbody>\n",
       "\t<tr><th scope=row>TSPAN6</th><td>2.552610  </td><td>2.72214216</td><td>2.81399811</td><td>3.29469549</td><td>3.05504998</td></tr>\n",
       "\t<tr><th scope=row>DPM1</th><td>3.973041  </td><td>3.95829911</td><td>4.01951077</td><td>3.85671228</td><td>3.92459512</td></tr>\n",
       "\t<tr><th scope=row>SCYL3</th><td>1.853526  </td><td>1.85936660</td><td>1.88525748</td><td>1.73954676</td><td>1.85531750</td></tr>\n",
       "\t<tr><th scope=row>C1orf112</th><td>1.646487  </td><td>1.56466962</td><td>1.57030337</td><td>1.31436498</td><td>1.33091967</td></tr>\n",
       "\t<tr><th scope=row>FGR</th><td>0.000000  </td><td>0.02972888</td><td>0.02142528</td><td>0.02442015</td><td>0.01517237</td></tr>\n",
       "</tbody>\n",
       "</table>\n"
      ],
      "text/latex": [
       "\\begin{tabular}{r|lllll}\n",
       "  & rpkm.exp\\_005\\_shNTC\\_rep1 & rpkm.exp\\_005\\_shNTC\\_rep2 & rpkm.exp\\_005\\_shNTC\\_rep3 & rpkm.exp\\_005\\_shTRPS1\\_seq1 & rpkm.exp\\_005\\_shTRPS1\\_seq2\\\\\n",
       "\\hline\n",
       "\tTSPAN6 & 2.552610   & 2.72214216 & 2.81399811 & 3.29469549 & 3.05504998\\\\\n",
       "\tDPM1 & 3.973041   & 3.95829911 & 4.01951077 & 3.85671228 & 3.92459512\\\\\n",
       "\tSCYL3 & 1.853526   & 1.85936660 & 1.88525748 & 1.73954676 & 1.85531750\\\\\n",
       "\tC1orf112 & 1.646487   & 1.56466962 & 1.57030337 & 1.31436498 & 1.33091967\\\\\n",
       "\tFGR & 0.000000   & 0.02972888 & 0.02142528 & 0.02442015 & 0.01517237\\\\\n",
       "\\end{tabular}\n"
      ],
      "text/markdown": [
       "\n",
       "| <!--/--> | rpkm.exp_005_shNTC_rep1 | rpkm.exp_005_shNTC_rep2 | rpkm.exp_005_shNTC_rep3 | rpkm.exp_005_shTRPS1_seq1 | rpkm.exp_005_shTRPS1_seq2 |\n",
       "|---|---|---|---|---|---|\n",
       "| TSPAN6 | 2.552610   | 2.72214216 | 2.81399811 | 3.29469549 | 3.05504998 |\n",
       "| DPM1 | 3.973041   | 3.95829911 | 4.01951077 | 3.85671228 | 3.92459512 |\n",
       "| SCYL3 | 1.853526   | 1.85936660 | 1.88525748 | 1.73954676 | 1.85531750 |\n",
       "| C1orf112 | 1.646487   | 1.56466962 | 1.57030337 | 1.31436498 | 1.33091967 |\n",
       "| FGR | 0.000000   | 0.02972888 | 0.02142528 | 0.02442015 | 0.01517237 |\n",
       "\n"
      ],
      "text/plain": [
       "         rpkm.exp_005_shNTC_rep1 rpkm.exp_005_shNTC_rep2\n",
       "TSPAN6   2.552610                2.72214216             \n",
       "DPM1     3.973041                3.95829911             \n",
       "SCYL3    1.853526                1.85936660             \n",
       "C1orf112 1.646487                1.56466962             \n",
       "FGR      0.000000                0.02972888             \n",
       "         rpkm.exp_005_shNTC_rep3 rpkm.exp_005_shTRPS1_seq1\n",
       "TSPAN6   2.81399811              3.29469549               \n",
       "DPM1     4.01951077              3.85671228               \n",
       "SCYL3    1.88525748              1.73954676               \n",
       "C1orf112 1.57030337              1.31436498               \n",
       "FGR      0.02142528              0.02442015               \n",
       "         rpkm.exp_005_shTRPS1_seq2\n",
       "TSPAN6   3.05504998               \n",
       "DPM1     3.92459512               \n",
       "SCYL3    1.85531750               \n",
       "C1orf112 1.33091967               \n",
       "FGR      0.01517237               "
      ]
     },
     "metadata": {},
     "output_type": "display_data"
    }
   ],
   "source": [
    "datlog2[1:5,1:5]\n"
   ]
  },
  {
   "cell_type": "code",
   "execution_count": 11,
   "metadata": {},
   "outputs": [
    {
     "data": {
      "text/html": [
       "<table>\n",
       "<thead><tr><th></th><th scope=col>used</th><th scope=col>(Mb)</th><th scope=col>gc trigger</th><th scope=col>(Mb)</th><th scope=col>max used</th><th scope=col>(Mb)</th></tr></thead>\n",
       "<tbody>\n",
       "\t<tr><th scope=row>Ncells</th><td>  799392</td><td> 42.7   </td><td> 4875548</td><td>260.4   </td><td> 8639914</td><td>461.5   </td></tr>\n",
       "\t<tr><th scope=row>Vcells</th><td>27237452</td><td>207.9   </td><td>92245244</td><td>703.8   </td><td>92243078</td><td>703.8   </td></tr>\n",
       "</tbody>\n",
       "</table>\n"
      ],
      "text/latex": [
       "\\begin{tabular}{r|llllll}\n",
       "  & used & (Mb) & gc trigger & (Mb) & max used & (Mb)\\\\\n",
       "\\hline\n",
       "\tNcells &   799392 &  42.7    &  4875548 & 260.4    &  8639914 & 461.5   \\\\\n",
       "\tVcells & 27237452 & 207.9    & 92245244 & 703.8    & 92243078 & 703.8   \\\\\n",
       "\\end{tabular}\n"
      ],
      "text/markdown": [
       "\n",
       "| <!--/--> | used | (Mb) | gc trigger | (Mb) | max used | (Mb) |\n",
       "|---|---|---|---|---|---|---|\n",
       "| Ncells |   799392 |  42.7    |  4875548 | 260.4    |  8639914 | 461.5    |\n",
       "| Vcells | 27237452 | 207.9    | 92245244 | 703.8    | 92243078 | 703.8    |\n",
       "\n"
      ],
      "text/plain": [
       "       used     (Mb)  gc trigger (Mb)  max used (Mb) \n",
       "Ncells   799392  42.7  4875548   260.4  8639914 461.5\n",
       "Vcells 27237452 207.9 92245244   703.8 92243078 703.8"
      ]
     },
     "metadata": {},
     "output_type": "display_data"
    }
   ],
   "source": [
    "# clean up\n",
    "gc()"
   ]
  },
  {
   "cell_type": "code",
   "execution_count": 12,
   "metadata": {},
   "outputs": [],
   "source": [
    "### joining data sets ###\n",
    "sharedGenes  <- intersect(rownames(tcgaSubset), rownames(dat))\n",
    "\n",
    "# first median scale each data set\n",
    "newDatSub    <- datlog2[sharedGenes,]\n",
    "newDatSubMeds<- apply(newDatSub, 1, median, na.rm=T)  \n",
    "newDatSub    <- sweep(newDatSub,1,newDatSubMeds,'-')\n"
   ]
  },
  {
   "cell_type": "code",
   "execution_count": 13,
   "metadata": {},
   "outputs": [
    {
     "data": {
      "text/html": [
       "<ol class=list-inline>\n",
       "\t<li>'dat'</li>\n",
       "\t<li>'datlog2'</li>\n",
       "\t<li>'didx'</li>\n",
       "\t<li>'newDat'</li>\n",
       "\t<li>'newDatSub'</li>\n",
       "\t<li>'newDatSubMeds'</li>\n",
       "\t<li>'reportedScores'</li>\n",
       "\t<li>'sharedGenes'</li>\n",
       "\t<li>'tcgaSubset'</li>\n",
       "</ol>\n"
      ],
      "text/latex": [
       "\\begin{enumerate*}\n",
       "\\item 'dat'\n",
       "\\item 'datlog2'\n",
       "\\item 'didx'\n",
       "\\item 'newDat'\n",
       "\\item 'newDatSub'\n",
       "\\item 'newDatSubMeds'\n",
       "\\item 'reportedScores'\n",
       "\\item 'sharedGenes'\n",
       "\\item 'tcgaSubset'\n",
       "\\end{enumerate*}\n"
      ],
      "text/markdown": [
       "1. 'dat'\n",
       "2. 'datlog2'\n",
       "3. 'didx'\n",
       "4. 'newDat'\n",
       "5. 'newDatSub'\n",
       "6. 'newDatSubMeds'\n",
       "7. 'reportedScores'\n",
       "8. 'sharedGenes'\n",
       "9. 'tcgaSubset'\n",
       "\n",
       "\n"
      ],
      "text/plain": [
       "[1] \"dat\"            \"datlog2\"        \"didx\"           \"newDat\"        \n",
       "[5] \"newDatSub\"      \"newDatSubMeds\"  \"reportedScores\" \"sharedGenes\"   \n",
       "[9] \"tcgaSubset\"    "
      ]
     },
     "metadata": {},
     "output_type": "display_data"
    },
    {
     "data": {
      "text/html": [
       "<table>\n",
       "<thead><tr><th></th><th scope=col>used</th><th scope=col>(Mb)</th><th scope=col>gc trigger</th><th scope=col>(Mb)</th><th scope=col>max used</th><th scope=col>(Mb)</th></tr></thead>\n",
       "<tbody>\n",
       "\t<tr><th scope=row>Ncells</th><td>  801665</td><td> 42.9   </td><td> 3900438</td><td>208.4   </td><td> 8639914</td><td>461.5   </td></tr>\n",
       "\t<tr><th scope=row>Vcells</th><td>27262997</td><td>208.1   </td><td>92245244</td><td>703.8   </td><td>92243078</td><td>703.8   </td></tr>\n",
       "</tbody>\n",
       "</table>\n"
      ],
      "text/latex": [
       "\\begin{tabular}{r|llllll}\n",
       "  & used & (Mb) & gc trigger & (Mb) & max used & (Mb)\\\\\n",
       "\\hline\n",
       "\tNcells &   801665 &  42.9    &  3900438 & 208.4    &  8639914 & 461.5   \\\\\n",
       "\tVcells & 27262997 & 208.1    & 92245244 & 703.8    & 92243078 & 703.8   \\\\\n",
       "\\end{tabular}\n"
      ],
      "text/markdown": [
       "\n",
       "| <!--/--> | used | (Mb) | gc trigger | (Mb) | max used | (Mb) |\n",
       "|---|---|---|---|---|---|---|\n",
       "| Ncells |   801665 |  42.9    |  3900438 | 208.4    |  8639914 | 461.5    |\n",
       "| Vcells | 27262997 | 208.1    | 92245244 | 703.8    | 92243078 | 703.8    |\n",
       "\n"
      ],
      "text/plain": [
       "       used     (Mb)  gc trigger (Mb)  max used (Mb) \n",
       "Ncells   801665  42.9  3900438   208.4  8639914 461.5\n",
       "Vcells 27262997 208.1 92245244   703.8 92243078 703.8"
      ]
     },
     "metadata": {},
     "output_type": "display_data"
    }
   ],
   "source": [
    "ls()\n",
    "gc()"
   ]
  },
  {
   "cell_type": "code",
   "execution_count": 14,
   "metadata": {},
   "outputs": [
    {
     "data": {
      "text/html": [
       "<ol class=list-inline>\n",
       "\t<li>20130</li>\n",
       "\t<li>6</li>\n",
       "</ol>\n"
      ],
      "text/latex": [
       "\\begin{enumerate*}\n",
       "\\item 20130\n",
       "\\item 6\n",
       "\\end{enumerate*}\n"
      ],
      "text/markdown": [
       "1. 20130\n",
       "2. 6\n",
       "\n",
       "\n"
      ],
      "text/plain": [
       "[1] 20130     6"
      ]
     },
     "metadata": {},
     "output_type": "display_data"
    },
    {
     "data": {
      "text/html": [
       "<ol class=list-inline>\n",
       "\t<li>2227</li>\n",
       "\t<li>6</li>\n",
       "</ol>\n"
      ],
      "text/latex": [
       "\\begin{enumerate*}\n",
       "\\item 2227\n",
       "\\item 6\n",
       "\\end{enumerate*}\n"
      ],
      "text/markdown": [
       "1. 2227\n",
       "2. 6\n",
       "\n",
       "\n"
      ],
      "text/plain": [
       "[1] 2227    6"
      ]
     },
     "metadata": {},
     "output_type": "display_data"
    },
    {
     "data": {
      "text/html": [
       "2227"
      ],
      "text/latex": [
       "2227"
      ],
      "text/markdown": [
       "2227"
      ],
      "text/plain": [
       "[1] 2227"
      ]
     },
     "metadata": {},
     "output_type": "display_data"
    }
   ],
   "source": [
    "dim(dat)\n",
    "dim(newDatSub)\n",
    "length(sharedGenes)"
   ]
  },
  {
   "cell_type": "code",
   "execution_count": 15,
   "metadata": {},
   "outputs": [
    {
     "data": {
      "text/html": [
       "<ol class=list-inline>\n",
       "\t<li>2316</li>\n",
       "\t<li>9129</li>\n",
       "</ol>\n"
      ],
      "text/latex": [
       "\\begin{enumerate*}\n",
       "\\item 2316\n",
       "\\item 9129\n",
       "\\end{enumerate*}\n"
      ],
      "text/markdown": [
       "1. 2316\n",
       "2. 9129\n",
       "\n",
       "\n"
      ],
      "text/plain": [
       "[1] 2316 9129"
      ]
     },
     "metadata": {},
     "output_type": "display_data"
    }
   ],
   "source": [
    "dim(tcgaSubset)"
   ]
  },
  {
   "cell_type": "code",
   "execution_count": 16,
   "metadata": {},
   "outputs": [
    {
     "data": {
      "text/html": [
       "<table>\n",
       "<thead><tr><th></th><th scope=col>used</th><th scope=col>(Mb)</th><th scope=col>gc trigger</th><th scope=col>(Mb)</th><th scope=col>max used</th><th scope=col>(Mb)</th></tr></thead>\n",
       "<tbody>\n",
       "\t<tr><th scope=row>Ncells</th><td>  801790</td><td> 42.9   </td><td> 3120350</td><td>166.7   </td><td> 8639914</td><td>461.5   </td></tr>\n",
       "\t<tr><th scope=row>Vcells</th><td>26450808</td><td>201.9   </td><td>92245244</td><td>703.8   </td><td>92243078</td><td>703.8   </td></tr>\n",
       "</tbody>\n",
       "</table>\n"
      ],
      "text/latex": [
       "\\begin{tabular}{r|llllll}\n",
       "  & used & (Mb) & gc trigger & (Mb) & max used & (Mb)\\\\\n",
       "\\hline\n",
       "\tNcells &   801790 &  42.9    &  3120350 & 166.7    &  8639914 & 461.5   \\\\\n",
       "\tVcells & 26450808 & 201.9    & 92245244 & 703.8    & 92243078 & 703.8   \\\\\n",
       "\\end{tabular}\n"
      ],
      "text/markdown": [
       "\n",
       "| <!--/--> | used | (Mb) | gc trigger | (Mb) | max used | (Mb) |\n",
       "|---|---|---|---|---|---|---|\n",
       "| Ncells |   801790 |  42.9    |  3120350 | 166.7    |  8639914 | 461.5    |\n",
       "| Vcells | 26450808 | 201.9    | 92245244 | 703.8    | 92243078 | 703.8    |\n",
       "\n"
      ],
      "text/plain": [
       "       used     (Mb)  gc trigger (Mb)  max used (Mb) \n",
       "Ncells   801790  42.9  3120350   166.7  8639914 461.5\n",
       "Vcells 26450808 201.9 92245244   703.8 92243078 703.8"
      ]
     },
     "metadata": {},
     "output_type": "display_data"
    }
   ],
   "source": [
    "tcgaSubsetSub <- tcgaSubset[sharedGenes,]\n",
    "\n",
    "rm(tcgaSubset)\n",
    "gc()"
   ]
  },
  {
   "cell_type": "code",
   "execution_count": 17,
   "metadata": {},
   "outputs": [
    {
     "data": {
      "text/html": [
       "<dl class=dl-horizontal>\n",
       "\t<dt>A1CF</dt>\n",
       "\t\t<dd>0</dd>\n",
       "\t<dt>ABCA1</dt>\n",
       "\t\t<dd>9.87196682417991</dd>\n",
       "\t<dt>ABCA8</dt>\n",
       "\t\t<dd>5.83220588677518</dd>\n",
       "\t<dt>ABCB11</dt>\n",
       "\t\t<dd>0.503654035145554</dd>\n",
       "\t<dt>ABCB1</dt>\n",
       "\t\t<dd>6.54818690586652</dd>\n",
       "\t<dt>ABCC3</dt>\n",
       "\t\t<dd>9.56442389993157</dd>\n",
       "</dl>\n"
      ],
      "text/latex": [
       "\\begin{description*}\n",
       "\\item[A1CF] 0\n",
       "\\item[ABCA1] 9.87196682417991\n",
       "\\item[ABCA8] 5.83220588677518\n",
       "\\item[ABCB11] 0.503654035145554\n",
       "\\item[ABCB1] 6.54818690586652\n",
       "\\item[ABCC3] 9.56442389993157\n",
       "\\end{description*}\n"
      ],
      "text/markdown": [
       "A1CF\n",
       ":   0ABCA1\n",
       ":   9.87196682417991ABCA8\n",
       ":   5.83220588677518ABCB11\n",
       ":   0.503654035145554ABCB1\n",
       ":   6.54818690586652ABCC3\n",
       ":   9.56442389993157\n",
       "\n"
      ],
      "text/plain": [
       "    A1CF    ABCA1    ABCA8   ABCB11    ABCB1    ABCC3 \n",
       "0.000000 9.871967 5.832206 0.503654 6.548187 9.564424 "
      ]
     },
     "metadata": {},
     "output_type": "display_data"
    }
   ],
   "source": [
    "tcgaSubsetSubMeds <- apply(tcgaSubsetSub, 1, median, na.rm=T)\n",
    "head(tcgaSubsetSubMeds)"
   ]
  },
  {
   "cell_type": "code",
   "execution_count": 18,
   "metadata": {},
   "outputs": [],
   "source": [
    "tcgaSubsetSub <- sweep(tcgaSubsetSub,1,tcgaSubsetSubMeds,'-')  "
   ]
  },
  {
   "cell_type": "code",
   "execution_count": 19,
   "metadata": {},
   "outputs": [
    {
     "data": {
      "text/html": [
       "<table>\n",
       "<thead><tr><th></th><th scope=col>used</th><th scope=col>(Mb)</th><th scope=col>gc trigger</th><th scope=col>(Mb)</th><th scope=col>max used</th><th scope=col>(Mb)</th></tr></thead>\n",
       "<tbody>\n",
       "\t<tr><th scope=row>Ncells</th><td>  802437 </td><td> 42.9    </td><td>  2496280</td><td>133.4    </td><td>  8639914</td><td> 461.5   </td></tr>\n",
       "\t<tr><th scope=row>Vcells</th><td>26453932 </td><td>201.9    </td><td>108074776</td><td>824.6    </td><td>135093263</td><td>1030.7   </td></tr>\n",
       "</tbody>\n",
       "</table>\n"
      ],
      "text/latex": [
       "\\begin{tabular}{r|llllll}\n",
       "  & used & (Mb) & gc trigger & (Mb) & max used & (Mb)\\\\\n",
       "\\hline\n",
       "\tNcells &   802437  &  42.9     &   2496280 & 133.4     &   8639914 &  461.5   \\\\\n",
       "\tVcells & 26453932  & 201.9     & 108074776 & 824.6     & 135093263 & 1030.7   \\\\\n",
       "\\end{tabular}\n"
      ],
      "text/markdown": [
       "\n",
       "| <!--/--> | used | (Mb) | gc trigger | (Mb) | max used | (Mb) |\n",
       "|---|---|---|---|---|---|---|\n",
       "| Ncells |   802437  |  42.9     |   2496280 | 133.4     |   8639914 |  461.5    |\n",
       "| Vcells | 26453932  | 201.9     | 108074776 | 824.6     | 135093263 | 1030.7    |\n",
       "\n"
      ],
      "text/plain": [
       "       used     (Mb)  gc trigger (Mb)  max used  (Mb)  \n",
       "Ncells   802437  42.9   2496280  133.4   8639914  461.5\n",
       "Vcells 26453932 201.9 108074776  824.6 135093263 1030.7"
      ]
     },
     "metadata": {},
     "output_type": "display_data"
    },
    {
     "data": {
      "text/html": [
       "<ol class=list-inline>\n",
       "\t<li>'dat'</li>\n",
       "\t<li>'datlog2'</li>\n",
       "\t<li>'didx'</li>\n",
       "\t<li>'newDat'</li>\n",
       "\t<li>'newDatSub'</li>\n",
       "\t<li>'newDatSubMeds'</li>\n",
       "\t<li>'reportedScores'</li>\n",
       "\t<li>'sharedGenes'</li>\n",
       "\t<li>'tcgaSubsetSub'</li>\n",
       "\t<li>'tcgaSubsetSubMeds'</li>\n",
       "</ol>\n"
      ],
      "text/latex": [
       "\\begin{enumerate*}\n",
       "\\item 'dat'\n",
       "\\item 'datlog2'\n",
       "\\item 'didx'\n",
       "\\item 'newDat'\n",
       "\\item 'newDatSub'\n",
       "\\item 'newDatSubMeds'\n",
       "\\item 'reportedScores'\n",
       "\\item 'sharedGenes'\n",
       "\\item 'tcgaSubsetSub'\n",
       "\\item 'tcgaSubsetSubMeds'\n",
       "\\end{enumerate*}\n"
      ],
      "text/markdown": [
       "1. 'dat'\n",
       "2. 'datlog2'\n",
       "3. 'didx'\n",
       "4. 'newDat'\n",
       "5. 'newDatSub'\n",
       "6. 'newDatSubMeds'\n",
       "7. 'reportedScores'\n",
       "8. 'sharedGenes'\n",
       "9. 'tcgaSubsetSub'\n",
       "10. 'tcgaSubsetSubMeds'\n",
       "\n",
       "\n"
      ],
      "text/plain": [
       " [1] \"dat\"               \"datlog2\"           \"didx\"             \n",
       " [4] \"newDat\"            \"newDatSub\"         \"newDatSubMeds\"    \n",
       " [7] \"reportedScores\"    \"sharedGenes\"       \"tcgaSubsetSub\"    \n",
       "[10] \"tcgaSubsetSubMeds\""
      ]
     },
     "metadata": {},
     "output_type": "display_data"
    },
    {
     "data": {
      "text/html": [
       "<table>\n",
       "<thead><tr><th></th><th scope=col>used</th><th scope=col>(Mb)</th><th scope=col>gc trigger</th><th scope=col>(Mb)</th><th scope=col>max used</th><th scope=col>(Mb)</th></tr></thead>\n",
       "<tbody>\n",
       "\t<tr><th scope=row>Ncells</th><td>  784527 </td><td> 41.9    </td><td> 2496280 </td><td>133.4    </td><td>  8639914</td><td> 461.5   </td></tr>\n",
       "\t<tr><th scope=row>Vcells</th><td>26020941 </td><td>198.6    </td><td>86459820 </td><td>659.7    </td><td>135093263</td><td>1030.7   </td></tr>\n",
       "</tbody>\n",
       "</table>\n"
      ],
      "text/latex": [
       "\\begin{tabular}{r|llllll}\n",
       "  & used & (Mb) & gc trigger & (Mb) & max used & (Mb)\\\\\n",
       "\\hline\n",
       "\tNcells &   784527  &  41.9     &  2496280  & 133.4     &   8639914 &  461.5   \\\\\n",
       "\tVcells & 26020941  & 198.6     & 86459820  & 659.7     & 135093263 & 1030.7   \\\\\n",
       "\\end{tabular}\n"
      ],
      "text/markdown": [
       "\n",
       "| <!--/--> | used | (Mb) | gc trigger | (Mb) | max used | (Mb) |\n",
       "|---|---|---|---|---|---|---|\n",
       "| Ncells |   784527  |  41.9     |  2496280  | 133.4     |   8639914 |  461.5    |\n",
       "| Vcells | 26020941  | 198.6     | 86459820  | 659.7     | 135093263 | 1030.7    |\n",
       "\n"
      ],
      "text/plain": [
       "       used     (Mb)  gc trigger (Mb)  max used  (Mb)  \n",
       "Ncells   784527  41.9  2496280   133.4   8639914  461.5\n",
       "Vcells 26020941 198.6 86459820   659.7 135093263 1030.7"
      ]
     },
     "metadata": {},
     "output_type": "display_data"
    }
   ],
   "source": [
    "gc()\n",
    "ls()\n",
    "rm(dat, datlog2, didx, newDat)\n",
    "gc()"
   ]
  },
  {
   "cell_type": "code",
   "execution_count": 20,
   "metadata": {},
   "outputs": [
    {
     "data": {
      "text/plain": [
       "253 MB"
      ]
     },
     "metadata": {},
     "output_type": "display_data"
    }
   ],
   "source": [
    "library(pryr)\n",
    "mem_used()"
   ]
  },
  {
   "cell_type": "code",
   "execution_count": 21,
   "metadata": {},
   "outputs": [
    {
     "data": {
      "text/html": [
       "<ol class=list-inline>\n",
       "\t<li>2227</li>\n",
       "\t<li>9135</li>\n",
       "</ol>\n"
      ],
      "text/latex": [
       "\\begin{enumerate*}\n",
       "\\item 2227\n",
       "\\item 9135\n",
       "\\end{enumerate*}\n"
      ],
      "text/markdown": [
       "1. 2227\n",
       "2. 9135\n",
       "\n",
       "\n"
      ],
      "text/plain": [
       "[1] 2227 9135"
      ]
     },
     "metadata": {},
     "output_type": "display_data"
    }
   ],
   "source": [
    "\n",
    "  # then join them at the genes\n",
    "joinDat      <- cbind(newDatSub, tcgaSubsetSub)\n",
    "\n",
    "dim(joinDat)"
   ]
  },
  {
   "cell_type": "code",
   "execution_count": 22,
   "metadata": {},
   "outputs": [
    {
     "name": "stderr",
     "output_type": "stream",
     "text": [
      "Loading required package: mgcv\n",
      "Loading required package: nlme\n",
      "This is mgcv 1.8-26. For overview type 'help(\"mgcv-package\")'.\n",
      "Loading required package: genefilter\n",
      "Loading required package: BiocParallel\n"
     ]
    },
    {
     "name": "stdout",
     "output_type": "stream",
     "text": [
      "Using batch = 2 as a reference batch (this batch won't change)\n"
     ]
    },
    {
     "name": "stderr",
     "output_type": "stream",
     "text": [
      "Found2batches\n",
      "Adjusting for0covariate(s) or covariate level(s)\n",
      "Found39158Missing Data Values \n"
     ]
    },
    {
     "name": "stdout",
     "output_type": "stream",
     "text": [
      "Standardizing Data across genes\n"
     ]
    },
    {
     "name": "stderr",
     "output_type": "stream",
     "text": [
      "Fitting L/S model and finding priors\n",
      "Finding parametric adjustments\n",
      "Adjusting the Data\n",
      "\n"
     ]
    },
    {
     "data": {
      "text/html": [
       "<ol class=list-inline>\n",
       "\t<li>2227</li>\n",
       "\t<li>9135</li>\n",
       "</ol>\n"
      ],
      "text/latex": [
       "\\begin{enumerate*}\n",
       "\\item 2227\n",
       "\\item 9135\n",
       "\\end{enumerate*}\n"
      ],
      "text/markdown": [
       "1. 2227\n",
       "2. 9135\n",
       "\n",
       "\n"
      ],
      "text/plain": [
       "[1] 2227 9135"
      ]
     },
     "metadata": {},
     "output_type": "display_data"
    }
   ],
   "source": [
    "library(sva)\n",
    "\n",
    "combatflag <- 1\n",
    "if (combatflag) {\n",
    "    # then batch correction between scores...\n",
    "    batch <- c(rep(1,ncol(newDatSub)), rep(2,ncol(tcgaSubsetSub)))\n",
    "    modcombat = model.matrix(~1, data=as.data.frame(t(joinDat)))\n",
    "    combat_edata = ComBat(dat=joinDat, batch=batch, mod=modcombat, \n",
    "                          par.prior=TRUE, prior.plots=FALSE, ref.batch = 2)\n",
    "} else {\n",
    "    combat_edata = joinDat    \n",
    "}\n",
    "\n",
    "dim(combat_edata)"
   ]
  },
  {
   "cell_type": "code",
   "execution_count": 23,
   "metadata": {},
   "outputs": [],
   "source": [
    "# then let's get all the genes we need for the 5 signatures\n",
    "load('../shiny-app/Immune-Subtype-Clustering/data/comparative_immuneSigs_geneLists4.rda')\n",
    "\n",
    "# and we use the scoring code to produce scores #\n",
    "source('../shiny-app/Immune-Subtype-Clustering/src/ImmuneSigs68_function.R')"
   ]
  },
  {
   "cell_type": "code",
   "execution_count": 25,
   "metadata": {},
   "outputs": [
    {
     "name": "stdout",
     "output_type": "stream",
     "text": [
      "[1] \"DONE MEAN\"\n",
      "[1] \"DONE MEDIAN\"\n",
      "[1] \"DONE WEIGHTED MEAN\"\n",
      "[1] \"DONE MODULES\"\n",
      "[1] \"DONE CHANG CORE\"\n",
      "[1] \"DONE PCA\"\n",
      "[1] \"DONE DONE\"\n",
      "[1]    5 9135\n"
     ]
    },
    {
     "data": {
      "text/html": [
       "<table>\n",
       "<thead><tr><th></th><th scope=col>rpkm.exp_005_shNTC_rep1</th><th scope=col>rpkm.exp_005_shNTC_rep2</th><th scope=col>rpkm.exp_005_shNTC_rep3</th><th scope=col>rpkm.exp_005_shTRPS1_seq1</th><th scope=col>rpkm.exp_005_shTRPS1_seq2</th></tr></thead>\n",
       "<tbody>\n",
       "\t<tr><th scope=row>LIexpression_score</th><td> 0.0167</td><td>-0.0266</td><td>-0.3010</td><td> 0.1541</td><td> 0.0936</td></tr>\n",
       "\t<tr><th scope=row>CSF1_response</th><td>-0.0321</td><td>-0.0147</td><td>-0.1208</td><td> 0.1383</td><td>-0.0224</td></tr>\n",
       "\t<tr><th scope=row>TGFB_score_21050467</th><td> 0.0056</td><td>-0.0477</td><td>-0.1365</td><td> 0.0836</td><td> 0.0426</td></tr>\n",
       "\t<tr><th scope=row>Module3_IFN_score</th><td> 1.6188</td><td> 0.6714</td><td> 0.7665</td><td>-0.1996</td><td>-1.3660</td></tr>\n",
       "\t<tr><th scope=row>CHANG_CORE_SERUM_RESPONSE_UP</th><td> 0.4469</td><td> 0.5782</td><td> 0.6755</td><td>-0.6897</td><td>-0.3448</td></tr>\n",
       "</tbody>\n",
       "</table>\n"
      ],
      "text/latex": [
       "\\begin{tabular}{r|lllll}\n",
       "  & rpkm.exp\\_005\\_shNTC\\_rep1 & rpkm.exp\\_005\\_shNTC\\_rep2 & rpkm.exp\\_005\\_shNTC\\_rep3 & rpkm.exp\\_005\\_shTRPS1\\_seq1 & rpkm.exp\\_005\\_shTRPS1\\_seq2\\\\\n",
       "\\hline\n",
       "\tLIexpression\\_score &  0.0167 & -0.0266 & -0.3010 &  0.1541 &  0.0936\\\\\n",
       "\tCSF1\\_response & -0.0321 & -0.0147 & -0.1208 &  0.1383 & -0.0224\\\\\n",
       "\tTGFB\\_score\\_21050467 &  0.0056 & -0.0477 & -0.1365 &  0.0836 &  0.0426\\\\\n",
       "\tModule3\\_IFN\\_score &  1.6188 &  0.6714 &  0.7665 & -0.1996 & -1.3660\\\\\n",
       "\tCHANG\\_CORE\\_SERUM\\_RESPONSE\\_UP &  0.4469 &  0.5782 &  0.6755 & -0.6897 & -0.3448\\\\\n",
       "\\end{tabular}\n"
      ],
      "text/markdown": [
       "\n",
       "| <!--/--> | rpkm.exp_005_shNTC_rep1 | rpkm.exp_005_shNTC_rep2 | rpkm.exp_005_shNTC_rep3 | rpkm.exp_005_shTRPS1_seq1 | rpkm.exp_005_shTRPS1_seq2 |\n",
       "|---|---|---|---|---|---|\n",
       "| LIexpression_score |  0.0167 | -0.0266 | -0.3010 |  0.1541 |  0.0936 |\n",
       "| CSF1_response | -0.0321 | -0.0147 | -0.1208 |  0.1383 | -0.0224 |\n",
       "| TGFB_score_21050467 |  0.0056 | -0.0477 | -0.1365 |  0.0836 |  0.0426 |\n",
       "| Module3_IFN_score |  1.6188 |  0.6714 |  0.7665 | -0.1996 | -1.3660 |\n",
       "| CHANG_CORE_SERUM_RESPONSE_UP |  0.4469 |  0.5782 |  0.6755 | -0.6897 | -0.3448 |\n",
       "\n"
      ],
      "text/plain": [
       "                             rpkm.exp_005_shNTC_rep1 rpkm.exp_005_shNTC_rep2\n",
       "LIexpression_score            0.0167                 -0.0266                \n",
       "CSF1_response                -0.0321                 -0.0147                \n",
       "TGFB_score_21050467           0.0056                 -0.0477                \n",
       "Module3_IFN_score             1.6188                  0.6714                \n",
       "CHANG_CORE_SERUM_RESPONSE_UP  0.4469                  0.5782                \n",
       "                             rpkm.exp_005_shNTC_rep3 rpkm.exp_005_shTRPS1_seq1\n",
       "LIexpression_score           -0.3010                  0.1541                  \n",
       "CSF1_response                -0.1208                  0.1383                  \n",
       "TGFB_score_21050467          -0.1365                  0.0836                  \n",
       "Module3_IFN_score             0.7665                 -0.1996                  \n",
       "CHANG_CORE_SERUM_RESPONSE_UP  0.6755                 -0.6897                  \n",
       "                             rpkm.exp_005_shTRPS1_seq2\n",
       "LIexpression_score            0.0936                  \n",
       "CSF1_response                -0.0224                  \n",
       "TGFB_score_21050467           0.0426                  \n",
       "Module3_IFN_score            -1.3660                  \n",
       "CHANG_CORE_SERUM_RESPONSE_UP -0.3448                  "
      ]
     },
     "metadata": {},
     "output_type": "display_data"
    }
   ],
   "source": [
    "\n",
    "### compute scores.\n",
    "scores <- ImmuneSigs_function(combat_edata, sigs1_2_eg2,sigs12_weighted_means,\n",
    "                                 sigs12_module_weights,sigs1_2_names2,sigs1_2_type2)\n",
    "\n",
    "print(dim(scores))\n",
    "scores[1:5,1:5]"
   ]
  },
  {
   "cell_type": "code",
   "execution_count": 26,
   "metadata": {},
   "outputs": [
    {
     "data": {
      "image/png": "[encoded data removed]",
      "text/plain": [
       "plot without title"
      ]
     },
     "metadata": {},
     "output_type": "display_data"
    }
   ],
   "source": [
    "\n",
    "\n",
    "source('../shiny-app/Immune-Subtype-Clustering/src/signature_mclust_ensemble.R')\n",
    "\n",
    "# and load the models trained on TCGA data #\n",
    "load('../shiny-app/Immune-Subtype-Clustering/data/wolf_set_slim1.rda')\n",
    "\n",
    "zscore.cols2<-function(x){\n",
    "    return((apply(x, 2, function(x) (x - median(na.omit(x)))/sd(na.omit(x)))))\n",
    "}\n",
    "\n",
    "                  \n",
    "# and we subset the 5 scores used in clustering\n",
    "idx <- c(\"LIexpression_score\", \"CSF1_response\", \"TGFB_score_21050467\", \"Module3_IFN_score\", \"CHANG_CORE_SERUM_RESPONSE_UP\")\n",
    "scores <- t(scores[idx,])\n",
    "zscores <- zscore.cols2(scores)\n",
    "\n",
    "qplot(as.numeric(zscores[,1]), geom='density')"
   ]
  },
  {
   "cell_type": "code",
   "execution_count": 27,
   "metadata": {},
   "outputs": [
    {
     "data": {
      "text/html": [
       "<table>\n",
       "<thead><tr><th></th><th scope=col>used</th><th scope=col>(Mb)</th><th scope=col>gc trigger</th><th scope=col>(Mb)</th><th scope=col>max used</th><th scope=col>(Mb)</th></tr></thead>\n",
       "<tbody>\n",
       "\t<tr><th scope=row>Ncells</th><td> 3743095 </td><td>200.0    </td><td>  6771768</td><td> 361.7   </td><td>  8639914</td><td> 461.5   </td></tr>\n",
       "\t<tr><th scope=row>Vcells</th><td>45126107 </td><td>344.3    </td><td>238840754</td><td>1822.3   </td><td>298549269</td><td>2277.8   </td></tr>\n",
       "</tbody>\n",
       "</table>\n"
      ],
      "text/latex": [
       "\\begin{tabular}{r|llllll}\n",
       "  & used & (Mb) & gc trigger & (Mb) & max used & (Mb)\\\\\n",
       "\\hline\n",
       "\tNcells &  3743095  & 200.0     &   6771768 &  361.7    &   8639914 &  461.5   \\\\\n",
       "\tVcells & 45126107  & 344.3     & 238840754 & 1822.3    & 298549269 & 2277.8   \\\\\n",
       "\\end{tabular}\n"
      ],
      "text/markdown": [
       "\n",
       "| <!--/--> | used | (Mb) | gc trigger | (Mb) | max used | (Mb) |\n",
       "|---|---|---|---|---|---|---|\n",
       "| Ncells |  3743095  | 200.0     |   6771768 |  361.7    |   8639914 |  461.5    |\n",
       "| Vcells | 45126107  | 344.3     | 238840754 | 1822.3    | 298549269 | 2277.8    |\n",
       "\n"
      ],
      "text/plain": [
       "       used     (Mb)  gc trigger (Mb)   max used  (Mb)  \n",
       "Ncells  3743095 200.0   6771768   361.7   8639914  461.5\n",
       "Vcells 45126107 344.3 238840754  1822.3 298549269 2277.8"
      ]
     },
     "metadata": {},
     "output_type": "display_data"
    },
    {
     "data": {
      "text/html": [
       "<table>\n",
       "<thead><tr><th></th><th scope=col>LIexpression_score</th><th scope=col>CSF1_response</th><th scope=col>TGFB_score_21050467</th><th scope=col>Module3_IFN_score</th><th scope=col>CHANG_CORE_SERUM_RESPONSE_UP</th></tr></thead>\n",
       "<tbody>\n",
       "\t<tr><th scope=row>rpkm.exp_005_shNTC_rep1</th><td> 0.019968752</td><td> 0.01400853 </td><td> 0.03212885 </td><td> 1.3510661  </td><td> 1.262946   </td></tr>\n",
       "\t<tr><th scope=row>rpkm.exp_005_shNTC_rep2</th><td>-0.004806233</td><td> 0.03015081 </td><td>-0.04364406 </td><td> 0.6125477  </td><td> 1.641887   </td></tr>\n",
       "\t<tr><th scope=row>rpkm.exp_005_shNTC_rep3</th><td>-0.161809833</td><td>-0.06827999 </td><td>-0.16988486 </td><td> 0.6866802  </td><td> 1.922702   </td></tr>\n",
       "\t<tr><th scope=row>rpkm.exp_005_shTRPS1_seq1</th><td> 0.098584987</td><td> 0.17209154 </td><td> 0.14301604 </td><td>-0.0664152  </td><td>-2.017365   </td></tr>\n",
       "\t<tr><th scope=row>rpkm.exp_005_shTRPS1_seq2</th><td> 0.063968668</td><td> 0.02300739 </td><td> 0.08472919 </td><td>-0.9756487  </td><td>-1.021959   </td></tr>\n",
       "</tbody>\n",
       "</table>\n"
      ],
      "text/latex": [
       "\\begin{tabular}{r|lllll}\n",
       "  & LIexpression\\_score & CSF1\\_response & TGFB\\_score\\_21050467 & Module3\\_IFN\\_score & CHANG\\_CORE\\_SERUM\\_RESPONSE\\_UP\\\\\n",
       "\\hline\n",
       "\trpkm.exp\\_005\\_shNTC\\_rep1 &  0.019968752 &  0.01400853  &  0.03212885  &  1.3510661   &  1.262946   \\\\\n",
       "\trpkm.exp\\_005\\_shNTC\\_rep2 & -0.004806233 &  0.03015081  & -0.04364406  &  0.6125477   &  1.641887   \\\\\n",
       "\trpkm.exp\\_005\\_shNTC\\_rep3 & -0.161809833 & -0.06827999  & -0.16988486  &  0.6866802   &  1.922702   \\\\\n",
       "\trpkm.exp\\_005\\_shTRPS1\\_seq1 &  0.098584987 &  0.17209154  &  0.14301604  & -0.0664152   & -2.017365   \\\\\n",
       "\trpkm.exp\\_005\\_shTRPS1\\_seq2 &  0.063968668 &  0.02300739  &  0.08472919  & -0.9756487   & -1.021959   \\\\\n",
       "\\end{tabular}\n"
      ],
      "text/markdown": [
       "\n",
       "| <!--/--> | LIexpression_score | CSF1_response | TGFB_score_21050467 | Module3_IFN_score | CHANG_CORE_SERUM_RESPONSE_UP |\n",
       "|---|---|---|---|---|---|\n",
       "| rpkm.exp_005_shNTC_rep1 |  0.019968752 |  0.01400853  |  0.03212885  |  1.3510661   |  1.262946    |\n",
       "| rpkm.exp_005_shNTC_rep2 | -0.004806233 |  0.03015081  | -0.04364406  |  0.6125477   |  1.641887    |\n",
       "| rpkm.exp_005_shNTC_rep3 | -0.161809833 | -0.06827999  | -0.16988486  |  0.6866802   |  1.922702    |\n",
       "| rpkm.exp_005_shTRPS1_seq1 |  0.098584987 |  0.17209154  |  0.14301604  | -0.0664152   | -2.017365    |\n",
       "| rpkm.exp_005_shTRPS1_seq2 |  0.063968668 |  0.02300739  |  0.08472919  | -0.9756487   | -1.021959    |\n",
       "\n"
      ],
      "text/plain": [
       "                          LIexpression_score CSF1_response TGFB_score_21050467\n",
       "rpkm.exp_005_shNTC_rep1    0.019968752        0.01400853    0.03212885        \n",
       "rpkm.exp_005_shNTC_rep2   -0.004806233        0.03015081   -0.04364406        \n",
       "rpkm.exp_005_shNTC_rep3   -0.161809833       -0.06827999   -0.16988486        \n",
       "rpkm.exp_005_shTRPS1_seq1  0.098584987        0.17209154    0.14301604        \n",
       "rpkm.exp_005_shTRPS1_seq2  0.063968668        0.02300739    0.08472919        \n",
       "                          Module3_IFN_score CHANG_CORE_SERUM_RESPONSE_UP\n",
       "rpkm.exp_005_shNTC_rep1    1.3510661         1.262946                   \n",
       "rpkm.exp_005_shNTC_rep2    0.6125477         1.641887                   \n",
       "rpkm.exp_005_shNTC_rep3    0.6866802         1.922702                   \n",
       "rpkm.exp_005_shTRPS1_seq1 -0.0664152        -2.017365                   \n",
       "rpkm.exp_005_shTRPS1_seq2 -0.9756487        -1.021959                   "
      ]
     },
     "metadata": {},
     "output_type": "display_data"
    },
    {
     "data": {
      "text/html": [
       "<ol class=list-inline>\n",
       "\t<li>9135</li>\n",
       "\t<li>5</li>\n",
       "</ol>\n"
      ],
      "text/latex": [
       "\\begin{enumerate*}\n",
       "\\item 9135\n",
       "\\item 5\n",
       "\\end{enumerate*}\n"
      ],
      "text/markdown": [
       "1. 9135\n",
       "2. 5\n",
       "\n",
       "\n"
      ],
      "text/plain": [
       "[1] 9135    5"
      ]
     },
     "metadata": {},
     "output_type": "display_data"
    }
   ],
   "source": [
    "gc()\n",
    "zscores[1:5,1:5]\n",
    "dim(zscores)\n"
   ]
  },
  {
   "cell_type": "code",
   "execution_count": 29,
   "metadata": {},
   "outputs": [
    {
     "name": "stderr",
     "output_type": "stream",
     "text": [
      "Loading required package: mclust\n",
      "Package 'mclust' version 5.4.2\n",
      "Type 'citation(\"mclust\")' for citing this R package in publications.\n",
      "\n",
      "Attaching package: ‘mclust’\n",
      "\n",
      "The following object is masked from ‘package:mgcv’:\n",
      "\n",
      "    mvn\n",
      "\n",
      "Iteration: 0 *** value: 8051.69\n"
     ]
    }
   ],
   "source": [
    "\n",
    "  # load the clustering model trained on all pancan data.\n",
    "library(clue)\n",
    "library(mclust)\n",
    "library(parallel)\n",
    "load(\"../shiny-app/Immune-Subtype-Clustering//data/wolf_set_slim1.rda\")\n",
    "\n",
    "  # make cluster calls using the models.\n",
    "calls <- consensusEnsemble(mods2, zscores, 4, 256)\n",
    "  "
   ]
  },
  {
   "cell_type": "code",
   "execution_count": 30,
   "metadata": {},
   "outputs": [],
   "source": [
    "  \n",
    "  # get the top scoring cluster for each sample\n",
    "maxcalls <- apply(calls$.Data, 1, function(a) which(a == max(a))[1])\n",
    "names(maxcalls) <- rownames(scores)\n",
    "  "
   ]
  },
  {
   "cell_type": "code",
   "execution_count": 31,
   "metadata": {},
   "outputs": [
    {
     "data": {
      "text/plain": [
       "        NewCalls\n",
       "Reported    1    2    3    4    5    6\n",
       "       1   66    0 2268   25   22   35\n",
       "       2 2558    0    3   12    8   11\n",
       "       3    2    1   16   46    6 2326\n",
       "       4   16    9   30 1045    1   58\n",
       "       5    0  368    0   14    0    3\n",
       "       6    8    0    9    6  120   37"
      ]
     },
     "metadata": {},
     "output_type": "display_data"
    }
   ],
   "source": [
    "  # then we'll look at the new vs. old cluster calls for TCGA samples\n",
    "sharedIDs <- intersect(reportedScores$AliquotBarcode, rownames(scores))\n",
    "t1 <-table(Reported=as.numeric(reportedScores[sharedIDs, 'ClusterModel1']),\n",
    "             NewCalls=as.numeric(maxcalls[sharedIDs]))\n",
    "t1"
   ]
  },
  {
   "cell_type": "code",
   "execution_count": 32,
   "metadata": {},
   "outputs": [
    {
     "name": "stdout",
     "output_type": "stream",
     "text": [
      "[1] 3 1 6 4 2 5\n"
     ]
    }
   ],
   "source": [
    "  # then we can align the new calls to old calls.\n",
    "reported <- 1:6\n",
    "optcalls <- 1:6\n",
    "\n",
    "for (i in reported) {\n",
    "    \n",
    "    # for subtype i, where did most of the samples end up?\n",
    "    j <- which(as.numeric(t1[i,]) == max(as.numeric(t1[i,])))\n",
    "    # rename maxcall j <- i\n",
    "    optcalls[i] <- j\n",
    "}\n",
    "  \n",
    "print(optcalls)\n",
    "  "
   ]
  },
  {
   "cell_type": "code",
   "execution_count": 33,
   "metadata": {},
   "outputs": [],
   "source": [
    "  \n",
    "# these are the re-mapped calls\n",
    "alignedCalls <- sapply(maxcalls, function(a) which(a == optcalls)[1])\n"
   ]
  },
  {
   "cell_type": "code",
   "execution_count": 34,
   "metadata": {},
   "outputs": [
    {
     "data": {
      "text/plain": [
       "        NewCalls\n",
       "Reported    1    2    3    4    5    6\n",
       "       1 2268   66   35   25    0   22\n",
       "       2    3 2558   11   12    0    8\n",
       "       3   16    2 2326   46    1    6\n",
       "       4   30   16   58 1045    9    1\n",
       "       5    0    0    3   14  368    0\n",
       "       6    9    8   37    6    0  120"
      ]
     },
     "metadata": {},
     "output_type": "display_data"
    }
   ],
   "source": [
    "# make sure it works\n",
    "t2 <-table(Reported=as.numeric(reportedScores[sharedIDs, 'ClusterModel1']),\n",
    "             NewCalls=as.numeric(alignedCalls[sharedIDs]))\n",
    "\n",
    "t2"
   ]
  },
  {
   "cell_type": "code",
   "execution_count": 38,
   "metadata": {},
   "outputs": [
    {
     "data": {
      "text/html": [
       "<ol class=list-inline>\n",
       "\t<li>'alignedCalls'</li>\n",
       "\t<li>'batch'</li>\n",
       "\t<li>'calls'</li>\n",
       "\t<li>'combat_edata'</li>\n",
       "\t<li>'combatflag'</li>\n",
       "\t<li>'consensusEnsemble'</li>\n",
       "\t<li>'data_genes_sigs12b'</li>\n",
       "\t<li>'determineK'</li>\n",
       "\t<li>'ensemblePredict'</li>\n",
       "\t<li>'get.distances'</li>\n",
       "\t<li>'i'</li>\n",
       "\t<li>'idx'</li>\n",
       "\t<li>'ImmuneSigs_function'</li>\n",
       "\t<li>'j'</li>\n",
       "\t<li>'jdx'</li>\n",
       "\t<li>'joinDat'</li>\n",
       "\t<li>'maxcalls'</li>\n",
       "\t<li>'mcentr'</li>\n",
       "\t<li>'modcombat'</li>\n",
       "\t<li>'modelEnsemble'</li>\n",
       "\t<li>'mods2'</li>\n",
       "\t<li>'newDatSub'</li>\n",
       "\t<li>'newDatSubMeds'</li>\n",
       "\t<li>'optcalls'</li>\n",
       "\t<li>'pcalls'</li>\n",
       "\t<li>'pred1'</li>\n",
       "\t<li>'predStrength'</li>\n",
       "\t<li>'reported'</li>\n",
       "\t<li>'reportedScores'</li>\n",
       "\t<li>'sample.scores'</li>\n",
       "\t<li>'scores'</li>\n",
       "\t<li>'sharedGenes'</li>\n",
       "\t<li>'sharedIDs'</li>\n",
       "\t<li>'sigs1_2_eg2'</li>\n",
       "\t<li>'sigs1_2_egIDs2'</li>\n",
       "\t<li>'sigs1_2_names2'</li>\n",
       "\t<li>'sigs1_2_type2'</li>\n",
       "\t<li>'sigs12_module_weights'</li>\n",
       "\t<li>'sigs12_module_weights_eg'</li>\n",
       "\t<li>'sigs12_weighted_means'</li>\n",
       "\t<li>'sigs2'</li>\n",
       "\t<li>'t1'</li>\n",
       "\t<li>'t2'</li>\n",
       "\t<li>'tcgaSubsetSub'</li>\n",
       "\t<li>'tcgaSubsetSubMeds'</li>\n",
       "\t<li>'zscore.cols2'</li>\n",
       "\t<li>'zscore.rows2'</li>\n",
       "\t<li>'zscores'</li>\n",
       "</ol>\n"
      ],
      "text/latex": [
       "\\begin{enumerate*}\n",
       "\\item 'alignedCalls'\n",
       "\\item 'batch'\n",
       "\\item 'calls'\n",
       "\\item 'combat\\_edata'\n",
       "\\item 'combatflag'\n",
       "\\item 'consensusEnsemble'\n",
       "\\item 'data\\_genes\\_sigs12b'\n",
       "\\item 'determineK'\n",
       "\\item 'ensemblePredict'\n",
       "\\item 'get.distances'\n",
       "\\item 'i'\n",
       "\\item 'idx'\n",
       "\\item 'ImmuneSigs\\_function'\n",
       "\\item 'j'\n",
       "\\item 'jdx'\n",
       "\\item 'joinDat'\n",
       "\\item 'maxcalls'\n",
       "\\item 'mcentr'\n",
       "\\item 'modcombat'\n",
       "\\item 'modelEnsemble'\n",
       "\\item 'mods2'\n",
       "\\item 'newDatSub'\n",
       "\\item 'newDatSubMeds'\n",
       "\\item 'optcalls'\n",
       "\\item 'pcalls'\n",
       "\\item 'pred1'\n",
       "\\item 'predStrength'\n",
       "\\item 'reported'\n",
       "\\item 'reportedScores'\n",
       "\\item 'sample.scores'\n",
       "\\item 'scores'\n",
       "\\item 'sharedGenes'\n",
       "\\item 'sharedIDs'\n",
       "\\item 'sigs1\\_2\\_eg2'\n",
       "\\item 'sigs1\\_2\\_egIDs2'\n",
       "\\item 'sigs1\\_2\\_names2'\n",
       "\\item 'sigs1\\_2\\_type2'\n",
       "\\item 'sigs12\\_module\\_weights'\n",
       "\\item 'sigs12\\_module\\_weights\\_eg'\n",
       "\\item 'sigs12\\_weighted\\_means'\n",
       "\\item 'sigs2'\n",
       "\\item 't1'\n",
       "\\item 't2'\n",
       "\\item 'tcgaSubsetSub'\n",
       "\\item 'tcgaSubsetSubMeds'\n",
       "\\item 'zscore.cols2'\n",
       "\\item 'zscore.rows2'\n",
       "\\item 'zscores'\n",
       "\\end{enumerate*}\n"
      ],
      "text/markdown": [
       "1. 'alignedCalls'\n",
       "2. 'batch'\n",
       "3. 'calls'\n",
       "4. 'combat_edata'\n",
       "5. 'combatflag'\n",
       "6. 'consensusEnsemble'\n",
       "7. 'data_genes_sigs12b'\n",
       "8. 'determineK'\n",
       "9. 'ensemblePredict'\n",
       "10. 'get.distances'\n",
       "11. 'i'\n",
       "12. 'idx'\n",
       "13. 'ImmuneSigs_function'\n",
       "14. 'j'\n",
       "15. 'jdx'\n",
       "16. 'joinDat'\n",
       "17. 'maxcalls'\n",
       "18. 'mcentr'\n",
       "19. 'modcombat'\n",
       "20. 'modelEnsemble'\n",
       "21. 'mods2'\n",
       "22. 'newDatSub'\n",
       "23. 'newDatSubMeds'\n",
       "24. 'optcalls'\n",
       "25. 'pcalls'\n",
       "26. 'pred1'\n",
       "27. 'predStrength'\n",
       "28. 'reported'\n",
       "29. 'reportedScores'\n",
       "30. 'sample.scores'\n",
       "31. 'scores'\n",
       "32. 'sharedGenes'\n",
       "33. 'sharedIDs'\n",
       "34. 'sigs1_2_eg2'\n",
       "35. 'sigs1_2_egIDs2'\n",
       "36. 'sigs1_2_names2'\n",
       "37. 'sigs1_2_type2'\n",
       "38. 'sigs12_module_weights'\n",
       "39. 'sigs12_module_weights_eg'\n",
       "40. 'sigs12_weighted_means'\n",
       "41. 'sigs2'\n",
       "42. 't1'\n",
       "43. 't2'\n",
       "44. 'tcgaSubsetSub'\n",
       "45. 'tcgaSubsetSubMeds'\n",
       "46. 'zscore.cols2'\n",
       "47. 'zscore.rows2'\n",
       "48. 'zscores'\n",
       "\n",
       "\n"
      ],
      "text/plain": [
       " [1] \"alignedCalls\"             \"batch\"                   \n",
       " [3] \"calls\"                    \"combat_edata\"            \n",
       " [5] \"combatflag\"               \"consensusEnsemble\"       \n",
       " [7] \"data_genes_sigs12b\"       \"determineK\"              \n",
       " [9] \"ensemblePredict\"          \"get.distances\"           \n",
       "[11] \"i\"                        \"idx\"                     \n",
       "[13] \"ImmuneSigs_function\"      \"j\"                       \n",
       "[15] \"jdx\"                      \"joinDat\"                 \n",
       "[17] \"maxcalls\"                 \"mcentr\"                  \n",
       "[19] \"modcombat\"                \"modelEnsemble\"           \n",
       "[21] \"mods2\"                    \"newDatSub\"               \n",
       "[23] \"newDatSubMeds\"            \"optcalls\"                \n",
       "[25] \"pcalls\"                   \"pred1\"                   \n",
       "[27] \"predStrength\"             \"reported\"                \n",
       "[29] \"reportedScores\"           \"sample.scores\"           \n",
       "[31] \"scores\"                   \"sharedGenes\"             \n",
       "[33] \"sharedIDs\"                \"sigs1_2_eg2\"             \n",
       "[35] \"sigs1_2_egIDs2\"           \"sigs1_2_names2\"          \n",
       "[37] \"sigs1_2_type2\"            \"sigs12_module_weights\"   \n",
       "[39] \"sigs12_module_weights_eg\" \"sigs12_weighted_means\"   \n",
       "[41] \"sigs2\"                    \"t1\"                      \n",
       "[43] \"t2\"                       \"tcgaSubsetSub\"           \n",
       "[45] \"tcgaSubsetSubMeds\"        \"zscore.cols2\"            \n",
       "[47] \"zscore.rows2\"             \"zscores\"                 "
      ]
     },
     "metadata": {},
     "output_type": "display_data"
    },
    {
     "data": {
      "text/html": [
       "<ol class=list-inline>\n",
       "\t<li>'rpkm.exp_005_shNTC_rep1'</li>\n",
       "\t<li>'rpkm.exp_005_shNTC_rep2'</li>\n",
       "\t<li>'rpkm.exp_005_shNTC_rep3'</li>\n",
       "\t<li>'rpkm.exp_005_shTRPS1_seq1'</li>\n",
       "\t<li>'rpkm.exp_005_shTRPS1_seq2'</li>\n",
       "\t<li>'rpkm.exp_005_shTRPS1_seq3'</li>\n",
       "</ol>\n"
      ],
      "text/latex": [
       "\\begin{enumerate*}\n",
       "\\item 'rpkm.exp\\_005\\_shNTC\\_rep1'\n",
       "\\item 'rpkm.exp\\_005\\_shNTC\\_rep2'\n",
       "\\item 'rpkm.exp\\_005\\_shNTC\\_rep3'\n",
       "\\item 'rpkm.exp\\_005\\_shTRPS1\\_seq1'\n",
       "\\item 'rpkm.exp\\_005\\_shTRPS1\\_seq2'\n",
       "\\item 'rpkm.exp\\_005\\_shTRPS1\\_seq3'\n",
       "\\end{enumerate*}\n"
      ],
      "text/markdown": [
       "1. 'rpkm.exp_005_shNTC_rep1'\n",
       "2. 'rpkm.exp_005_shNTC_rep2'\n",
       "3. 'rpkm.exp_005_shNTC_rep3'\n",
       "4. 'rpkm.exp_005_shTRPS1_seq1'\n",
       "5. 'rpkm.exp_005_shTRPS1_seq2'\n",
       "6. 'rpkm.exp_005_shTRPS1_seq3'\n",
       "\n",
       "\n"
      ],
      "text/plain": [
       "[1] \"rpkm.exp_005_shNTC_rep1\"   \"rpkm.exp_005_shNTC_rep2\"  \n",
       "[3] \"rpkm.exp_005_shNTC_rep3\"   \"rpkm.exp_005_shTRPS1_seq1\"\n",
       "[5] \"rpkm.exp_005_shTRPS1_seq2\" \"rpkm.exp_005_shTRPS1_seq3\""
      ]
     },
     "metadata": {},
     "output_type": "display_data"
    }
   ],
   "source": [
    "ls()\n",
    "colnames(newDatSub)"
   ]
  },
  {
   "cell_type": "code",
   "execution_count": 39,
   "metadata": {},
   "outputs": [],
   "source": [
    "# assemble the results\n",
    "jdx <- match(table=rownames(scores), x=colnames(newDatSub))  # index to new data scores\n",
    "pcalls <- calls$.Data[jdx,]                            # get that table\n",
    "rownames(pcalls) <- colnames(newDatSub)                      # name it from the new data\n",
    "pcalls <- pcalls[,optcalls]\n",
    "  \n",
    "pcalls <- cbind(pcalls, data.frame(Call=alignedCalls[jdx]))  # bring in the aligned calls\n",
    "pcalls <- cbind(pcalls, zscores[jdx,])                       # and the scores\n",
    "    "
   ]
  },
  {
   "cell_type": "code",
   "execution_count": 40,
   "metadata": {},
   "outputs": [
    {
     "data": {
      "text/html": [
       "<table>\n",
       "<thead><tr><th></th><th scope=col>1</th><th scope=col>2</th><th scope=col>3</th><th scope=col>4</th><th scope=col>5</th><th scope=col>6</th><th scope=col>Call</th><th scope=col>LIexpression_score</th><th scope=col>CSF1_response</th><th scope=col>TGFB_score_21050467</th><th scope=col>Module3_IFN_score</th><th scope=col>CHANG_CORE_SERUM_RESPONSE_UP</th></tr></thead>\n",
       "<tbody>\n",
       "\t<tr><th scope=row>rpkm.exp_005_shNTC_rep1</th><td>0.02734375  </td><td>0.93750000  </td><td>0.0000000   </td><td>0.00000000  </td><td>0.00000000  </td><td>0.03515625  </td><td>2           </td><td> 0.019968752</td><td> 0.01400853 </td><td> 0.03212885 </td><td> 1.3510661  </td><td> 1.262946   </td></tr>\n",
       "\t<tr><th scope=row>rpkm.exp_005_shNTC_rep2</th><td>0.06250000  </td><td>0.89843750  </td><td>0.0000000   </td><td>0.00000000  </td><td>0.00000000  </td><td>0.03906250  </td><td>2           </td><td>-0.004806233</td><td> 0.03015081 </td><td>-0.04364406 </td><td> 0.6125477  </td><td> 1.641887   </td></tr>\n",
       "\t<tr><th scope=row>rpkm.exp_005_shNTC_rep3</th><td>0.03515625  </td><td>0.91015625  </td><td>0.0000000   </td><td>0.00390625  </td><td>0.00000000  </td><td>0.05078125  </td><td>2           </td><td>-0.161809833</td><td>-0.06827999 </td><td>-0.16988486 </td><td> 0.6866802  </td><td> 1.922702   </td></tr>\n",
       "\t<tr><th scope=row>rpkm.exp_005_shTRPS1_seq1</th><td>0.03125000  </td><td>0.00000000  </td><td>0.8984375   </td><td>0.00781250  </td><td>0.00000000  </td><td>0.06250000  </td><td>3           </td><td> 0.098584987</td><td> 0.17209154 </td><td> 0.14301604 </td><td>-0.0664152  </td><td>-2.017365   </td></tr>\n",
       "\t<tr><th scope=row>rpkm.exp_005_shTRPS1_seq2</th><td>0.00000000  </td><td>0.00000000  </td><td>0.9687500   </td><td>0.00000000  </td><td>0.00390625  </td><td>0.02734375  </td><td>3           </td><td> 0.063968668</td><td> 0.02300739 </td><td> 0.08472919 </td><td>-0.9756487  </td><td>-1.021959   </td></tr>\n",
       "\t<tr><th scope=row>rpkm.exp_005_shTRPS1_seq3</th><td>0.06250000  </td><td>0.00390625  </td><td>0.2851562   </td><td>0.44140625  </td><td>0.00390625  </td><td>0.20312500  </td><td>4           </td><td> 0.029695652</td><td> 0.05018950 </td><td> 0.20485697 </td><td>-1.3985389  </td><td>-1.827173   </td></tr>\n",
       "</tbody>\n",
       "</table>\n"
      ],
      "text/latex": [
       "\\begin{tabular}{r|llllllllllll}\n",
       "  & 1 & 2 & 3 & 4 & 5 & 6 & Call & LIexpression\\_score & CSF1\\_response & TGFB\\_score\\_21050467 & Module3\\_IFN\\_score & CHANG\\_CORE\\_SERUM\\_RESPONSE\\_UP\\\\\n",
       "\\hline\n",
       "\trpkm.exp\\_005\\_shNTC\\_rep1 & 0.02734375   & 0.93750000   & 0.0000000    & 0.00000000   & 0.00000000   & 0.03515625   & 2            &  0.019968752 &  0.01400853  &  0.03212885  &  1.3510661   &  1.262946   \\\\\n",
       "\trpkm.exp\\_005\\_shNTC\\_rep2 & 0.06250000   & 0.89843750   & 0.0000000    & 0.00000000   & 0.00000000   & 0.03906250   & 2            & -0.004806233 &  0.03015081  & -0.04364406  &  0.6125477   &  1.641887   \\\\\n",
       "\trpkm.exp\\_005\\_shNTC\\_rep3 & 0.03515625   & 0.91015625   & 0.0000000    & 0.00390625   & 0.00000000   & 0.05078125   & 2            & -0.161809833 & -0.06827999  & -0.16988486  &  0.6866802   &  1.922702   \\\\\n",
       "\trpkm.exp\\_005\\_shTRPS1\\_seq1 & 0.03125000   & 0.00000000   & 0.8984375    & 0.00781250   & 0.00000000   & 0.06250000   & 3            &  0.098584987 &  0.17209154  &  0.14301604  & -0.0664152   & -2.017365   \\\\\n",
       "\trpkm.exp\\_005\\_shTRPS1\\_seq2 & 0.00000000   & 0.00000000   & 0.9687500    & 0.00000000   & 0.00390625   & 0.02734375   & 3            &  0.063968668 &  0.02300739  &  0.08472919  & -0.9756487   & -1.021959   \\\\\n",
       "\trpkm.exp\\_005\\_shTRPS1\\_seq3 & 0.06250000   & 0.00390625   & 0.2851562    & 0.44140625   & 0.00390625   & 0.20312500   & 4            &  0.029695652 &  0.05018950  &  0.20485697  & -1.3985389   & -1.827173   \\\\\n",
       "\\end{tabular}\n"
      ],
      "text/markdown": [
       "\n",
       "| <!--/--> | 1 | 2 | 3 | 4 | 5 | 6 | Call | LIexpression_score | CSF1_response | TGFB_score_21050467 | Module3_IFN_score | CHANG_CORE_SERUM_RESPONSE_UP |\n",
       "|---|---|---|---|---|---|---|---|---|---|---|---|---|\n",
       "| rpkm.exp_005_shNTC_rep1 | 0.02734375   | 0.93750000   | 0.0000000    | 0.00000000   | 0.00000000   | 0.03515625   | 2            |  0.019968752 |  0.01400853  |  0.03212885  |  1.3510661   |  1.262946    |\n",
       "| rpkm.exp_005_shNTC_rep2 | 0.06250000   | 0.89843750   | 0.0000000    | 0.00000000   | 0.00000000   | 0.03906250   | 2            | -0.004806233 |  0.03015081  | -0.04364406  |  0.6125477   |  1.641887    |\n",
       "| rpkm.exp_005_shNTC_rep3 | 0.03515625   | 0.91015625   | 0.0000000    | 0.00390625   | 0.00000000   | 0.05078125   | 2            | -0.161809833 | -0.06827999  | -0.16988486  |  0.6866802   |  1.922702    |\n",
       "| rpkm.exp_005_shTRPS1_seq1 | 0.03125000   | 0.00000000   | 0.8984375    | 0.00781250   | 0.00000000   | 0.06250000   | 3            |  0.098584987 |  0.17209154  |  0.14301604  | -0.0664152   | -2.017365    |\n",
       "| rpkm.exp_005_shTRPS1_seq2 | 0.00000000   | 0.00000000   | 0.9687500    | 0.00000000   | 0.00390625   | 0.02734375   | 3            |  0.063968668 |  0.02300739  |  0.08472919  | -0.9756487   | -1.021959    |\n",
       "| rpkm.exp_005_shTRPS1_seq3 | 0.06250000   | 0.00390625   | 0.2851562    | 0.44140625   | 0.00390625   | 0.20312500   | 4            |  0.029695652 |  0.05018950  |  0.20485697  | -1.3985389   | -1.827173    |\n",
       "\n"
      ],
      "text/plain": [
       "                          1          2          3         4          5         \n",
       "rpkm.exp_005_shNTC_rep1   0.02734375 0.93750000 0.0000000 0.00000000 0.00000000\n",
       "rpkm.exp_005_shNTC_rep2   0.06250000 0.89843750 0.0000000 0.00000000 0.00000000\n",
       "rpkm.exp_005_shNTC_rep3   0.03515625 0.91015625 0.0000000 0.00390625 0.00000000\n",
       "rpkm.exp_005_shTRPS1_seq1 0.03125000 0.00000000 0.8984375 0.00781250 0.00000000\n",
       "rpkm.exp_005_shTRPS1_seq2 0.00000000 0.00000000 0.9687500 0.00000000 0.00390625\n",
       "rpkm.exp_005_shTRPS1_seq3 0.06250000 0.00390625 0.2851562 0.44140625 0.00390625\n",
       "                          6          Call LIexpression_score CSF1_response\n",
       "rpkm.exp_005_shNTC_rep1   0.03515625 2     0.019968752        0.01400853  \n",
       "rpkm.exp_005_shNTC_rep2   0.03906250 2    -0.004806233        0.03015081  \n",
       "rpkm.exp_005_shNTC_rep3   0.05078125 2    -0.161809833       -0.06827999  \n",
       "rpkm.exp_005_shTRPS1_seq1 0.06250000 3     0.098584987        0.17209154  \n",
       "rpkm.exp_005_shTRPS1_seq2 0.02734375 3     0.063968668        0.02300739  \n",
       "rpkm.exp_005_shTRPS1_seq3 0.20312500 4     0.029695652        0.05018950  \n",
       "                          TGFB_score_21050467 Module3_IFN_score\n",
       "rpkm.exp_005_shNTC_rep1    0.03212885          1.3510661       \n",
       "rpkm.exp_005_shNTC_rep2   -0.04364406          0.6125477       \n",
       "rpkm.exp_005_shNTC_rep3   -0.16988486          0.6866802       \n",
       "rpkm.exp_005_shTRPS1_seq1  0.14301604         -0.0664152       \n",
       "rpkm.exp_005_shTRPS1_seq2  0.08472919         -0.9756487       \n",
       "rpkm.exp_005_shTRPS1_seq3  0.20485697         -1.3985389       \n",
       "                          CHANG_CORE_SERUM_RESPONSE_UP\n",
       "rpkm.exp_005_shNTC_rep1    1.262946                   \n",
       "rpkm.exp_005_shNTC_rep2    1.641887                   \n",
       "rpkm.exp_005_shNTC_rep3    1.922702                   \n",
       "rpkm.exp_005_shTRPS1_seq1 -2.017365                   \n",
       "rpkm.exp_005_shTRPS1_seq2 -1.021959                   \n",
       "rpkm.exp_005_shTRPS1_seq3 -1.827173                   "
      ]
     },
     "metadata": {},
     "output_type": "display_data"
    }
   ],
   "source": [
    "head(pcalls)"
   ]
  },
  {
   "cell_type": "code",
   "execution_count": null,
   "metadata": {},
   "outputs": [],
   "source": [
    "finalResults <- list(AlignedCalls=alignedCalls[jdx], Table=t2, ProbCalls=pcalls)"
   ]
  },
  {
   "cell_type": "code",
   "execution_count": null,
   "metadata": {},
   "outputs": [],
   "source": []
  },
  {
   "cell_type": "code",
   "execution_count": null,
   "metadata": {},
   "outputs": [],
   "source": []
  }
 ],
 "metadata": {
  "kernelspec": {
   "display_name": "R",
   "language": "R",
   "name": "ir"
  },
  "language_info": {
   "codemirror_mode": "r",
   "file_extension": ".r",
   "mimetype": "text/x-r-source",
   "name": "R",
   "pygments_lexer": "r",
   "version": "3.5.2"
  }
 },
 "nbformat": 4,
 "nbformat_minor": 2
}
