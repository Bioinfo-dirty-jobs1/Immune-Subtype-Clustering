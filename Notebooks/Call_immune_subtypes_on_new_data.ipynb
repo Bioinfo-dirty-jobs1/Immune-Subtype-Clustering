{
 "cells": [
  {
   "cell_type": "markdown",
   "metadata": {},
   "source": [
    "## How to call immune subtypes on new data ##"
   ]
  },
  {
   "cell_type": "markdown",
   "metadata": {},
   "source": [
    "Let's suppose you have some:\n",
    "  a.) RPKM (or FPKM or something equivlent) gene expression data \n",
    "  b.) Has hg19 gene symbols mapped to it.\n",
    "  c.) knowledge on how to batch correct / normalize it with regard to TCGA PanCancer data*\n",
    "  \n",
    "and you'd like to call some immune subtypes on those samples."
   ]
  },
  {
   "cell_type": "code",
   "execution_count": 2,
   "metadata": {},
   "outputs": [],
   "source": [
    "library(ggplot2)\n",
    "options(repr.plot.width=4, repr.plot.height=3)"
   ]
  },
  {
   "cell_type": "code",
   "execution_count": 3,
   "metadata": {},
   "outputs": [
    {
     "data": {
      "text/html": [
       "<ol class=list-inline>\n",
       "\t<li>2316</li>\n",
       "\t<li>9129</li>\n",
       "</ol>\n"
      ],
      "text/latex": [
       "\\begin{enumerate*}\n",
       "\\item 2316\n",
       "\\item 9129\n",
       "\\end{enumerate*}\n"
      ],
      "text/markdown": [
       "1. 2316\n",
       "2. 9129\n",
       "\n",
       "\n"
      ],
      "text/plain": [
       "[1] 2316 9129"
      ]
     },
     "metadata": {},
     "output_type": "display_data"
    },
    {
     "data": {
      "text/html": [
       "<table>\n",
       "<thead><tr><th></th><th scope=col>TCGA.OR.A5J1.01A.11R.A29S.07</th><th scope=col>TCGA.OR.A5J2.01A.11R.A29S.07</th><th scope=col>TCGA.OR.A5J3.01A.11R.A29S.07</th><th scope=col>TCGA.OR.A5J5.01A.11R.A29S.07</th><th scope=col>TCGA.OR.A5J6.01A.31R.A29S.07</th></tr></thead>\n",
       "<tbody>\n",
       "\t<tr><th scope=row>A1CF</th><td>  0.0000 </td><td>   0.000 </td><td>   0.5925</td><td>  1.5492 </td><td>   0.000 </td></tr>\n",
       "\t<tr><th scope=row>ABCA1</th><td>319.4040 </td><td>1071.800 </td><td> 896.4600</td><td>310.6120 </td><td> 800.283 </td></tr>\n",
       "\t<tr><th scope=row>ABCA8</th><td>  4.3228 </td><td> 121.997 </td><td>1368.6900</td><td>982.1840 </td><td>5000.650 </td></tr>\n",
       "\t<tr><th scope=row>ABCB11</th><td>  0.4803 </td><td>   0.000 </td><td>   1.7775</td><td>  0.0000 </td><td>   0.000 </td></tr>\n",
       "</tbody>\n",
       "</table>\n"
      ],
      "text/latex": [
       "\\begin{tabular}{r|lllll}\n",
       "  & TCGA.OR.A5J1.01A.11R.A29S.07 & TCGA.OR.A5J2.01A.11R.A29S.07 & TCGA.OR.A5J3.01A.11R.A29S.07 & TCGA.OR.A5J5.01A.11R.A29S.07 & TCGA.OR.A5J6.01A.31R.A29S.07\\\\\n",
       "\\hline\n",
       "\tA1CF &   0.0000  &    0.000  &    0.5925 &   1.5492  &    0.000 \\\\\n",
       "\tABCA1 & 319.4040  & 1071.800  &  896.4600 & 310.6120  &  800.283 \\\\\n",
       "\tABCA8 &   4.3228  &  121.997  & 1368.6900 & 982.1840  & 5000.650 \\\\\n",
       "\tABCB11 &   0.4803  &    0.000  &    1.7775 &   0.0000  &    0.000 \\\\\n",
       "\\end{tabular}\n"
      ],
      "text/markdown": [
       "\n",
       "| <!--/--> | TCGA.OR.A5J1.01A.11R.A29S.07 | TCGA.OR.A5J2.01A.11R.A29S.07 | TCGA.OR.A5J3.01A.11R.A29S.07 | TCGA.OR.A5J5.01A.11R.A29S.07 | TCGA.OR.A5J6.01A.31R.A29S.07 |\n",
       "|---|---|---|---|---|---|\n",
       "| A1CF |   0.0000  |    0.000  |    0.5925 |   1.5492  |    0.000  |\n",
       "| ABCA1 | 319.4040  | 1071.800  |  896.4600 | 310.6120  |  800.283  |\n",
       "| ABCA8 |   4.3228  |  121.997  | 1368.6900 | 982.1840  | 5000.650  |\n",
       "| ABCB11 |   0.4803  |    0.000  |    1.7775 |   0.0000  |    0.000  |\n",
       "\n"
      ],
      "text/plain": [
       "       TCGA.OR.A5J1.01A.11R.A29S.07 TCGA.OR.A5J2.01A.11R.A29S.07\n",
       "A1CF     0.0000                        0.000                    \n",
       "ABCA1  319.4040                     1071.800                    \n",
       "ABCA8    4.3228                      121.997                    \n",
       "ABCB11   0.4803                        0.000                    \n",
       "       TCGA.OR.A5J3.01A.11R.A29S.07 TCGA.OR.A5J5.01A.11R.A29S.07\n",
       "A1CF      0.5925                      1.5492                    \n",
       "ABCA1   896.4600                    310.6120                    \n",
       "ABCA8  1368.6900                    982.1840                    \n",
       "ABCB11    1.7775                      0.0000                    \n",
       "       TCGA.OR.A5J6.01A.31R.A29S.07\n",
       "A1CF      0.000                    \n",
       "ABCA1   800.283                    \n",
       "ABCA8  5000.650                    \n",
       "ABCB11    0.000                    "
      ]
     },
     "metadata": {},
     "output_type": "display_data"
    }
   ],
   "source": [
    "#loading TCGA PanCancer EB++ expression data, subset to the pertinent genes.\n",
    "\n",
    "tcgaSubset <- read.table('../shiny-app/Immune-Subtype-Clustering/data/ebppSubset.tsv.bz2', header = T, sep = '\\t', stringsAsFactors = F)\n",
    "dim(tcgaSubset)\n",
    "tcgaSubset[1:4,1:5]"
   ]
  },
  {
   "cell_type": "code",
   "execution_count": 4,
   "metadata": {},
   "outputs": [
    {
     "data": {
      "text/html": [
       "<table>\n",
       "<thead><tr><th scope=col>AliquotBarcode</th><th scope=col>SampleBarcode</th><th scope=col>ClusterModel1</th><th scope=col>ClusterModel2</th><th scope=col>LIexpression_score</th><th scope=col>CSF1_response</th><th scope=col>TGFB_score_21050467</th><th scope=col>Module3_IFN_score</th><th scope=col>CHANG_CORE_SERUM_RESPONSE_UP</th></tr></thead>\n",
       "<tbody>\n",
       "\t<tr><td>TCGA.02.0047.01A.01R.1849.01</td><td>TCGA-02-0047-01A            </td><td>4                           </td><td>4                           </td><td>-1.3536972                  </td><td>0.8995777                   </td><td> 0.09838865                 </td><td>-0.43775189                 </td><td>-0.5989618                  </td></tr>\n",
       "\t<tr><td>TCGA.02.0055.01A.01R.1849.01</td><td>TCGA-02-0055-01A            </td><td>4                           </td><td>4                           </td><td>-0.5016848                  </td><td>1.4674281                   </td><td> 1.41870736                 </td><td> 0.03473346                 </td><td> 0.6990816                  </td></tr>\n",
       "\t<tr><td>TCGA.02.2483.01A.01R.1849.01</td><td>TCGA-02-2483-01A            </td><td>4                           </td><td>4                           </td><td>-0.9197809                  </td><td>0.4884155                   </td><td>-0.50393689                 </td><td>-0.68551726                 </td><td> 1.0855086                  </td></tr>\n",
       "\t<tr><td>TCGA.02.2485.01A.01R.1849.01</td><td>TCGA-02-2485-01A            </td><td>4                           </td><td>4                           </td><td>-0.7810493                  </td><td>0.1039455                   </td><td>-0.65700848                 </td><td> 1.49949319                 </td><td> 0.4496605                  </td></tr>\n",
       "\t<tr><td>TCGA.02.2486.01A.01R.1849.01</td><td>TCGA-02-2486-01A            </td><td>4                           </td><td>4                           </td><td>-0.0361280                  </td><td>1.8245642                   </td><td>-0.27930992                 </td><td> 2.53785832                 </td><td> 0.1475449                  </td></tr>\n",
       "\t<tr><td>TCGA.04.1348.01A.01R.1565.13</td><td>TCGA-04-1348-01A            </td><td>2                           </td><td>2                           </td><td> 0.6439911                  </td><td>0.7957605                   </td><td>-0.63769666                 </td><td> 0.90119552                 </td><td> 1.8003985                  </td></tr>\n",
       "</tbody>\n",
       "</table>\n"
      ],
      "text/latex": [
       "\\begin{tabular}{r|lllllllll}\n",
       " AliquotBarcode & SampleBarcode & ClusterModel1 & ClusterModel2 & LIexpression\\_score & CSF1\\_response & TGFB\\_score\\_21050467 & Module3\\_IFN\\_score & CHANG\\_CORE\\_SERUM\\_RESPONSE\\_UP\\\\\n",
       "\\hline\n",
       "\t TCGA.02.0047.01A.01R.1849.01 & TCGA-02-0047-01A             & 4                            & 4                            & -1.3536972                   & 0.8995777                    &  0.09838865                  & -0.43775189                  & -0.5989618                  \\\\\n",
       "\t TCGA.02.0055.01A.01R.1849.01 & TCGA-02-0055-01A             & 4                            & 4                            & -0.5016848                   & 1.4674281                    &  1.41870736                  &  0.03473346                  &  0.6990816                  \\\\\n",
       "\t TCGA.02.2483.01A.01R.1849.01 & TCGA-02-2483-01A             & 4                            & 4                            & -0.9197809                   & 0.4884155                    & -0.50393689                  & -0.68551726                  &  1.0855086                  \\\\\n",
       "\t TCGA.02.2485.01A.01R.1849.01 & TCGA-02-2485-01A             & 4                            & 4                            & -0.7810493                   & 0.1039455                    & -0.65700848                  &  1.49949319                  &  0.4496605                  \\\\\n",
       "\t TCGA.02.2486.01A.01R.1849.01 & TCGA-02-2486-01A             & 4                            & 4                            & -0.0361280                   & 1.8245642                    & -0.27930992                  &  2.53785832                  &  0.1475449                  \\\\\n",
       "\t TCGA.04.1348.01A.01R.1565.13 & TCGA-04-1348-01A             & 2                            & 2                            &  0.6439911                   & 0.7957605                    & -0.63769666                  &  0.90119552                  &  1.8003985                  \\\\\n",
       "\\end{tabular}\n"
      ],
      "text/markdown": [
       "\n",
       "| AliquotBarcode | SampleBarcode | ClusterModel1 | ClusterModel2 | LIexpression_score | CSF1_response | TGFB_score_21050467 | Module3_IFN_score | CHANG_CORE_SERUM_RESPONSE_UP |\n",
       "|---|---|---|---|---|---|---|---|---|\n",
       "| TCGA.02.0047.01A.01R.1849.01 | TCGA-02-0047-01A             | 4                            | 4                            | -1.3536972                   | 0.8995777                    |  0.09838865                  | -0.43775189                  | -0.5989618                   |\n",
       "| TCGA.02.0055.01A.01R.1849.01 | TCGA-02-0055-01A             | 4                            | 4                            | -0.5016848                   | 1.4674281                    |  1.41870736                  |  0.03473346                  |  0.6990816                   |\n",
       "| TCGA.02.2483.01A.01R.1849.01 | TCGA-02-2483-01A             | 4                            | 4                            | -0.9197809                   | 0.4884155                    | -0.50393689                  | -0.68551726                  |  1.0855086                   |\n",
       "| TCGA.02.2485.01A.01R.1849.01 | TCGA-02-2485-01A             | 4                            | 4                            | -0.7810493                   | 0.1039455                    | -0.65700848                  |  1.49949319                  |  0.4496605                   |\n",
       "| TCGA.02.2486.01A.01R.1849.01 | TCGA-02-2486-01A             | 4                            | 4                            | -0.0361280                   | 1.8245642                    | -0.27930992                  |  2.53785832                  |  0.1475449                   |\n",
       "| TCGA.04.1348.01A.01R.1565.13 | TCGA-04-1348-01A             | 2                            | 2                            |  0.6439911                   | 0.7957605                    | -0.63769666                  |  0.90119552                  |  1.8003985                   |\n",
       "\n"
      ],
      "text/plain": [
       "  AliquotBarcode               SampleBarcode    ClusterModel1 ClusterModel2\n",
       "1 TCGA.02.0047.01A.01R.1849.01 TCGA-02-0047-01A 4             4            \n",
       "2 TCGA.02.0055.01A.01R.1849.01 TCGA-02-0055-01A 4             4            \n",
       "3 TCGA.02.2483.01A.01R.1849.01 TCGA-02-2483-01A 4             4            \n",
       "4 TCGA.02.2485.01A.01R.1849.01 TCGA-02-2485-01A 4             4            \n",
       "5 TCGA.02.2486.01A.01R.1849.01 TCGA-02-2486-01A 4             4            \n",
       "6 TCGA.04.1348.01A.01R.1565.13 TCGA-04-1348-01A 2             2            \n",
       "  LIexpression_score CSF1_response TGFB_score_21050467 Module3_IFN_score\n",
       "1 -1.3536972         0.8995777      0.09838865         -0.43775189      \n",
       "2 -0.5016848         1.4674281      1.41870736          0.03473346      \n",
       "3 -0.9197809         0.4884155     -0.50393689         -0.68551726      \n",
       "4 -0.7810493         0.1039455     -0.65700848          1.49949319      \n",
       "5 -0.0361280         1.8245642     -0.27930992          2.53785832      \n",
       "6  0.6439911         0.7957605     -0.63769666          0.90119552      \n",
       "  CHANG_CORE_SERUM_RESPONSE_UP\n",
       "1 -0.5989618                  \n",
       "2  0.6990816                  \n",
       "3  1.0855086                  \n",
       "4  0.4496605                  \n",
       "5  0.1475449                  \n",
       "6  1.8003985                  "
      ]
     },
     "metadata": {},
     "output_type": "display_data"
    }
   ],
   "source": [
    "# need to subset before transforms\n",
    "reportedScores <- read.table('../shiny-app/Immune-Subtype-Clustering//data//five_signature_mclust_ensemble_results.tsv.gz', sep='\\t', header=T, stringsAsFactors = F)\n",
    "head(reportedScores)\n",
    "rownames(reportedScores) <- reportedScores$AliquotBarcode"
   ]
  },
  {
   "cell_type": "code",
   "execution_count": 5,
   "metadata": {},
   "outputs": [],
   "source": [
    "tcgaSubset <- log2(tcgaSubset + 1)"
   ]
  },
  {
   "cell_type": "code",
   "execution_count": 6,
   "metadata": {},
   "outputs": [
    {
     "data": {
      "image/png": "[encoded data removed]",
      "text/plain": [
       "plot without title"
      ]
     },
     "metadata": {},
     "output_type": "display_data"
    }
   ],
   "source": [
    "qplot(tcgaSubset[,1], geom='density')"
   ]
  },
  {
   "cell_type": "code",
   "execution_count": 7,
   "metadata": {},
   "outputs": [
    {
     "data": {
      "text/html": [
       "<ol class=list-inline>\n",
       "\t<li>20130</li>\n",
       "\t<li>6</li>\n",
       "</ol>\n"
      ],
      "text/latex": [
       "\\begin{enumerate*}\n",
       "\\item 20130\n",
       "\\item 6\n",
       "\\end{enumerate*}\n"
      ],
      "text/markdown": [
       "1. 20130\n",
       "2. 6\n",
       "\n",
       "\n"
      ],
      "text/plain": [
       "[1] 20130     6"
      ]
     },
     "metadata": {},
     "output_type": "display_data"
    },
    {
     "data": {
      "text/html": [
       "<table>\n",
       "<thead><tr><th></th><th scope=col>rpkm.exp_005_shNTC_rep1</th><th scope=col>rpkm.exp_005_shNTC_rep2</th><th scope=col>rpkm.exp_005_shNTC_rep3</th><th scope=col>rpkm.exp_005_shTRPS1_seq1</th><th scope=col>rpkm.exp_005_shTRPS1_seq2</th></tr></thead>\n",
       "<tbody>\n",
       "\t<tr><th scope=row>TSPAN6</th><td> 4.866946  </td><td> 5.59851858</td><td> 6.0323073 </td><td> 8.81300835</td><td> 7.31116077</td></tr>\n",
       "\t<tr><th scope=row>DPM1</th><td>14.703788  </td><td>14.54414233</td><td>15.2178512 </td><td>13.48725417</td><td>14.18521178</td></tr>\n",
       "\t<tr><th scope=row>SCYL3</th><td> 2.613824  </td><td> 2.62848323</td><td> 2.6941885 </td><td> 2.33930243</td><td> 2.61831372</td></tr>\n",
       "\t<tr><th scope=row>C1orf112</th><td> 2.130704  </td><td> 1.95809753</td><td> 1.9696715 </td><td> 1.48692841</td><td> 1.51562986</td></tr>\n",
       "\t<tr><th scope=row>FGR</th><td> 0.000000  </td><td> 0.02082027</td><td> 0.0149617 </td><td> 0.01707083</td><td> 0.01057218</td></tr>\n",
       "</tbody>\n",
       "</table>\n"
      ],
      "text/latex": [
       "\\begin{tabular}{r|lllll}\n",
       "  & rpkm.exp\\_005\\_shNTC\\_rep1 & rpkm.exp\\_005\\_shNTC\\_rep2 & rpkm.exp\\_005\\_shNTC\\_rep3 & rpkm.exp\\_005\\_shTRPS1\\_seq1 & rpkm.exp\\_005\\_shTRPS1\\_seq2\\\\\n",
       "\\hline\n",
       "\tTSPAN6 &  4.866946   &  5.59851858 &  6.0323073  &  8.81300835 &  7.31116077\\\\\n",
       "\tDPM1 & 14.703788   & 14.54414233 & 15.2178512  & 13.48725417 & 14.18521178\\\\\n",
       "\tSCYL3 &  2.613824   &  2.62848323 &  2.6941885  &  2.33930243 &  2.61831372\\\\\n",
       "\tC1orf112 &  2.130704   &  1.95809753 &  1.9696715  &  1.48692841 &  1.51562986\\\\\n",
       "\tFGR &  0.000000   &  0.02082027 &  0.0149617  &  0.01707083 &  0.01057218\\\\\n",
       "\\end{tabular}\n"
      ],
      "text/markdown": [
       "\n",
       "| <!--/--> | rpkm.exp_005_shNTC_rep1 | rpkm.exp_005_shNTC_rep2 | rpkm.exp_005_shNTC_rep3 | rpkm.exp_005_shTRPS1_seq1 | rpkm.exp_005_shTRPS1_seq2 |\n",
       "|---|---|---|---|---|---|\n",
       "| TSPAN6 |  4.866946   |  5.59851858 |  6.0323073  |  8.81300835 |  7.31116077 |\n",
       "| DPM1 | 14.703788   | 14.54414233 | 15.2178512  | 13.48725417 | 14.18521178 |\n",
       "| SCYL3 |  2.613824   |  2.62848323 |  2.6941885  |  2.33930243 |  2.61831372 |\n",
       "| C1orf112 |  2.130704   |  1.95809753 |  1.9696715  |  1.48692841 |  1.51562986 |\n",
       "| FGR |  0.000000   |  0.02082027 |  0.0149617  |  0.01707083 |  0.01057218 |\n",
       "\n"
      ],
      "text/plain": [
       "         rpkm.exp_005_shNTC_rep1 rpkm.exp_005_shNTC_rep2\n",
       "TSPAN6    4.866946                5.59851858            \n",
       "DPM1     14.703788               14.54414233            \n",
       "SCYL3     2.613824                2.62848323            \n",
       "C1orf112  2.130704                1.95809753            \n",
       "FGR       0.000000                0.02082027            \n",
       "         rpkm.exp_005_shNTC_rep3 rpkm.exp_005_shTRPS1_seq1\n",
       "TSPAN6    6.0323073               8.81300835              \n",
       "DPM1     15.2178512              13.48725417              \n",
       "SCYL3     2.6941885               2.33930243              \n",
       "C1orf112  1.9696715               1.48692841              \n",
       "FGR       0.0149617               0.01707083              \n",
       "         rpkm.exp_005_shTRPS1_seq2\n",
       "TSPAN6    7.31116077              \n",
       "DPM1     14.18521178              \n",
       "SCYL3     2.61831372              \n",
       "C1orf112  1.51562986              \n",
       "FGR       0.01057218              "
      ]
     },
     "metadata": {},
     "output_type": "display_data"
    }
   ],
   "source": [
    "# bring in the new data #\n",
    "# found some RPKM RNA-seq data\n",
    "# \n",
    "load('../ExtraData/newDat.rda')\n",
    "dim(newDat)\n",
    "newDat[1:5,1:5]"
   ]
  },
  {
   "cell_type": "code",
   "execution_count": 8,
   "metadata": {},
   "outputs": [
    {
     "data": {
      "text/html": [
       "<ol class=list-inline>\n",
       "\t<li>20130</li>\n",
       "\t<li>6</li>\n",
       "</ol>\n"
      ],
      "text/latex": [
       "\\begin{enumerate*}\n",
       "\\item 20130\n",
       "\\item 6\n",
       "\\end{enumerate*}\n"
      ],
      "text/markdown": [
       "1. 20130\n",
       "2. 6\n",
       "\n",
       "\n"
      ],
      "text/plain": [
       "[1] 20130     6"
      ]
     },
     "metadata": {},
     "output_type": "display_data"
    },
    {
     "data": {
      "text/html": [
       "<table>\n",
       "<thead><tr><th></th><th scope=col>rpkm.exp_005_shNTC_rep1</th><th scope=col>rpkm.exp_005_shNTC_rep2</th><th scope=col>rpkm.exp_005_shNTC_rep3</th><th scope=col>rpkm.exp_005_shTRPS1_seq1</th><th scope=col>rpkm.exp_005_shTRPS1_seq2</th></tr></thead>\n",
       "<tbody>\n",
       "\t<tr><th scope=row>TSPAN6</th><td> 4.866946  </td><td> 5.59851858</td><td> 6.0323073 </td><td> 8.81300835</td><td> 7.31116077</td></tr>\n",
       "\t<tr><th scope=row>DPM1</th><td>14.703788  </td><td>14.54414233</td><td>15.2178512 </td><td>13.48725417</td><td>14.18521178</td></tr>\n",
       "\t<tr><th scope=row>SCYL3</th><td> 2.613824  </td><td> 2.62848323</td><td> 2.6941885 </td><td> 2.33930243</td><td> 2.61831372</td></tr>\n",
       "\t<tr><th scope=row>C1orf112</th><td> 2.130704  </td><td> 1.95809753</td><td> 1.9696715 </td><td> 1.48692841</td><td> 1.51562986</td></tr>\n",
       "\t<tr><th scope=row>FGR</th><td> 0.000000  </td><td> 0.02082027</td><td> 0.0149617 </td><td> 0.01707083</td><td> 0.01057218</td></tr>\n",
       "</tbody>\n",
       "</table>\n"
      ],
      "text/latex": [
       "\\begin{tabular}{r|lllll}\n",
       "  & rpkm.exp\\_005\\_shNTC\\_rep1 & rpkm.exp\\_005\\_shNTC\\_rep2 & rpkm.exp\\_005\\_shNTC\\_rep3 & rpkm.exp\\_005\\_shTRPS1\\_seq1 & rpkm.exp\\_005\\_shTRPS1\\_seq2\\\\\n",
       "\\hline\n",
       "\tTSPAN6 &  4.866946   &  5.59851858 &  6.0323073  &  8.81300835 &  7.31116077\\\\\n",
       "\tDPM1 & 14.703788   & 14.54414233 & 15.2178512  & 13.48725417 & 14.18521178\\\\\n",
       "\tSCYL3 &  2.613824   &  2.62848323 &  2.6941885  &  2.33930243 &  2.61831372\\\\\n",
       "\tC1orf112 &  2.130704   &  1.95809753 &  1.9696715  &  1.48692841 &  1.51562986\\\\\n",
       "\tFGR &  0.000000   &  0.02082027 &  0.0149617  &  0.01707083 &  0.01057218\\\\\n",
       "\\end{tabular}\n"
      ],
      "text/markdown": [
       "\n",
       "| <!--/--> | rpkm.exp_005_shNTC_rep1 | rpkm.exp_005_shNTC_rep2 | rpkm.exp_005_shNTC_rep3 | rpkm.exp_005_shTRPS1_seq1 | rpkm.exp_005_shTRPS1_seq2 |\n",
       "|---|---|---|---|---|---|\n",
       "| TSPAN6 |  4.866946   |  5.59851858 |  6.0323073  |  8.81300835 |  7.31116077 |\n",
       "| DPM1 | 14.703788   | 14.54414233 | 15.2178512  | 13.48725417 | 14.18521178 |\n",
       "| SCYL3 |  2.613824   |  2.62848323 |  2.6941885  |  2.33930243 |  2.61831372 |\n",
       "| C1orf112 |  2.130704   |  1.95809753 |  1.9696715  |  1.48692841 |  1.51562986 |\n",
       "| FGR |  0.000000   |  0.02082027 |  0.0149617  |  0.01707083 |  0.01057218 |\n",
       "\n"
      ],
      "text/plain": [
       "         rpkm.exp_005_shNTC_rep1 rpkm.exp_005_shNTC_rep2\n",
       "TSPAN6    4.866946                5.59851858            \n",
       "DPM1     14.703788               14.54414233            \n",
       "SCYL3     2.613824                2.62848323            \n",
       "C1orf112  2.130704                1.95809753            \n",
       "FGR       0.000000                0.02082027            \n",
       "         rpkm.exp_005_shNTC_rep3 rpkm.exp_005_shTRPS1_seq1\n",
       "TSPAN6    6.0323073               8.81300835              \n",
       "DPM1     15.2178512              13.48725417              \n",
       "SCYL3     2.6941885               2.33930243              \n",
       "C1orf112  1.9696715               1.48692841              \n",
       "FGR       0.0149617               0.01707083              \n",
       "         rpkm.exp_005_shTRPS1_seq2\n",
       "TSPAN6    7.31116077              \n",
       "DPM1     14.18521178              \n",
       "SCYL3     2.61831372              \n",
       "C1orf112  1.51562986              \n",
       "FGR       0.01057218              "
      ]
     },
     "metadata": {},
     "output_type": "display_data"
    }
   ],
   "source": [
    "# here we'll drop any duplicate genes, and make the rownames\n",
    "# be gene symbols\n",
    "\n",
    "didx <- !duplicated(as.character(rownames(newDat)))\n",
    "dat <- newDat[didx,]\n",
    "dim(dat)\n",
    "dat[1:5,1:5]"
   ]
  },
  {
   "cell_type": "code",
   "execution_count": 9,
   "metadata": {},
   "outputs": [],
   "source": [
    "# the TCGA data was upper quantile normalized (*1000)\n",
    "\n",
    "data.quantileExpressed <- apply(dat, 2, function(x){quantile(x[x>0], 0.75)})\n",
    "\n",
    "datnorm <- as.data.frame(t( t(dat) / data.quantileExpressed ) ) * 1000"
   ]
  },
  {
   "cell_type": "code",
   "execution_count": 10,
   "metadata": {},
   "outputs": [
    {
     "data": {
      "image/png": "[encoded data removed]",
      "text/plain": [
       "plot without title"
      ]
     },
     "metadata": {},
     "output_type": "display_data"
    }
   ],
   "source": [
    "# then we take the log2 of the normalized data\n",
    "# and similar to the TCGA data, we see a large \n",
    "# peak a little before 10\n",
    "\n",
    "datlog2 <- log2(datnorm+1)\n",
    "qplot(datlog2[,2], geom='density')"
   ]
  },
  {
   "cell_type": "code",
   "execution_count": null,
   "metadata": {},
   "outputs": [],
   "source": []
  },
  {
   "cell_type": "code",
   "execution_count": 12,
   "metadata": {},
   "outputs": [
    {
     "data": {
      "text/html": [
       "<table>\n",
       "<thead><tr><th></th><th scope=col>rpkm.exp_005_shNTC_rep1</th><th scope=col>rpkm.exp_005_shNTC_rep2</th><th scope=col>rpkm.exp_005_shNTC_rep3</th><th scope=col>rpkm.exp_005_shTRPS1_seq1</th><th scope=col>rpkm.exp_005_shTRPS1_seq2</th></tr></thead>\n",
       "<tbody>\n",
       "\t<tr><th scope=row>TSPAN6</th><td> 9.636225</td><td> 9.847643</td><td> 9.945704</td><td>10.617817</td><td>10.355048</td></tr>\n",
       "\t<tr><th scope=row>DPM1</th><td>11.230111</td><td>11.224001</td><td>11.279804</td><td>11.231389</td><td>11.310729</td></tr>\n",
       "\t<tr><th scope=row>SCYL3</th><td> 8.740932</td><td> 8.758597</td><td> 8.784657</td><td> 8.706800</td><td> 8.875558</td></tr>\n",
       "\t<tr><th scope=row>C1orf112</th><td> 8.446865</td><td> 8.334959</td><td> 8.333964</td><td> 8.055034</td><td> 8.089071</td></tr>\n",
       "\t<tr><th scope=row>FGR</th><td> 0.000000</td><td> 2.144950</td><td> 1.783875</td><td> 2.015010</td><td> 1.532297</td></tr>\n",
       "</tbody>\n",
       "</table>\n"
      ],
      "text/latex": [
       "\\begin{tabular}{r|lllll}\n",
       "  & rpkm.exp\\_005\\_shNTC\\_rep1 & rpkm.exp\\_005\\_shNTC\\_rep2 & rpkm.exp\\_005\\_shNTC\\_rep3 & rpkm.exp\\_005\\_shTRPS1\\_seq1 & rpkm.exp\\_005\\_shTRPS1\\_seq2\\\\\n",
       "\\hline\n",
       "\tTSPAN6 &  9.636225 &  9.847643 &  9.945704 & 10.617817 & 10.355048\\\\\n",
       "\tDPM1 & 11.230111 & 11.224001 & 11.279804 & 11.231389 & 11.310729\\\\\n",
       "\tSCYL3 &  8.740932 &  8.758597 &  8.784657 &  8.706800 &  8.875558\\\\\n",
       "\tC1orf112 &  8.446865 &  8.334959 &  8.333964 &  8.055034 &  8.089071\\\\\n",
       "\tFGR &  0.000000 &  2.144950 &  1.783875 &  2.015010 &  1.532297\\\\\n",
       "\\end{tabular}\n"
      ],
      "text/markdown": [
       "\n",
       "| <!--/--> | rpkm.exp_005_shNTC_rep1 | rpkm.exp_005_shNTC_rep2 | rpkm.exp_005_shNTC_rep3 | rpkm.exp_005_shTRPS1_seq1 | rpkm.exp_005_shTRPS1_seq2 |\n",
       "|---|---|---|---|---|---|\n",
       "| TSPAN6 |  9.636225 |  9.847643 |  9.945704 | 10.617817 | 10.355048 |\n",
       "| DPM1 | 11.230111 | 11.224001 | 11.279804 | 11.231389 | 11.310729 |\n",
       "| SCYL3 |  8.740932 |  8.758597 |  8.784657 |  8.706800 |  8.875558 |\n",
       "| C1orf112 |  8.446865 |  8.334959 |  8.333964 |  8.055034 |  8.089071 |\n",
       "| FGR |  0.000000 |  2.144950 |  1.783875 |  2.015010 |  1.532297 |\n",
       "\n"
      ],
      "text/plain": [
       "         rpkm.exp_005_shNTC_rep1 rpkm.exp_005_shNTC_rep2\n",
       "TSPAN6    9.636225                9.847643              \n",
       "DPM1     11.230111               11.224001              \n",
       "SCYL3     8.740932                8.758597              \n",
       "C1orf112  8.446865                8.334959              \n",
       "FGR       0.000000                2.144950              \n",
       "         rpkm.exp_005_shNTC_rep3 rpkm.exp_005_shTRPS1_seq1\n",
       "TSPAN6    9.945704               10.617817                \n",
       "DPM1     11.279804               11.231389                \n",
       "SCYL3     8.784657                8.706800                \n",
       "C1orf112  8.333964                8.055034                \n",
       "FGR       1.783875                2.015010                \n",
       "         rpkm.exp_005_shTRPS1_seq2\n",
       "TSPAN6   10.355048                \n",
       "DPM1     11.310729                \n",
       "SCYL3     8.875558                \n",
       "C1orf112  8.089071                \n",
       "FGR       1.532297                "
      ]
     },
     "metadata": {},
     "output_type": "display_data"
    }
   ],
   "source": [
    "datlog2[1:5,1:5]"
   ]
  },
  {
   "cell_type": "code",
   "execution_count": 13,
   "metadata": {},
   "outputs": [
    {
     "data": {
      "text/html": [
       "<table>\n",
       "<thead><tr><th></th><th scope=col>used</th><th scope=col>(Mb)</th><th scope=col>gc trigger</th><th scope=col>(Mb)</th><th scope=col>max used</th><th scope=col>(Mb)</th></tr></thead>\n",
       "<tbody>\n",
       "\t<tr><th scope=row>Ncells</th><td>  805632</td><td> 43.1   </td><td> 4921074</td><td>262.9   </td><td> 8595245</td><td>459.1   </td></tr>\n",
       "\t<tr><th scope=row>Vcells</th><td>27370258</td><td>208.9   </td><td>91845090</td><td>700.8   </td><td>91845052</td><td>700.8   </td></tr>\n",
       "</tbody>\n",
       "</table>\n"
      ],
      "text/latex": [
       "\\begin{tabular}{r|llllll}\n",
       "  & used & (Mb) & gc trigger & (Mb) & max used & (Mb)\\\\\n",
       "\\hline\n",
       "\tNcells &   805632 &  43.1    &  4921074 & 262.9    &  8595245 & 459.1   \\\\\n",
       "\tVcells & 27370258 & 208.9    & 91845090 & 700.8    & 91845052 & 700.8   \\\\\n",
       "\\end{tabular}\n"
      ],
      "text/markdown": [
       "\n",
       "| <!--/--> | used | (Mb) | gc trigger | (Mb) | max used | (Mb) |\n",
       "|---|---|---|---|---|---|---|\n",
       "| Ncells |   805632 |  43.1    |  4921074 | 262.9    |  8595245 | 459.1    |\n",
       "| Vcells | 27370258 | 208.9    | 91845090 | 700.8    | 91845052 | 700.8    |\n",
       "\n"
      ],
      "text/plain": [
       "       used     (Mb)  gc trigger (Mb)  max used (Mb) \n",
       "Ncells   805632  43.1  4921074   262.9  8595245 459.1\n",
       "Vcells 27370258 208.9 91845090   700.8 91845052 700.8"
      ]
     },
     "metadata": {},
     "output_type": "display_data"
    }
   ],
   "source": [
    "# clean up\n",
    "gc()"
   ]
  },
  {
   "cell_type": "code",
   "execution_count": 14,
   "metadata": {},
   "outputs": [],
   "source": [
    "### joining data sets ###\n",
    "sharedGenes  <- intersect(rownames(tcgaSubset), rownames(dat))\n",
    "\n",
    "# first median scale each data set\n",
    "newDatSub    <- datlog2[sharedGenes,]\n",
    "newDatSubMeds<- apply(newDatSub, 1, median, na.rm=T)  \n",
    "newDatSub    <- sweep(newDatSub,1,newDatSubMeds,'-')\n"
   ]
  },
  {
   "cell_type": "code",
   "execution_count": 59,
   "metadata": {},
   "outputs": [
    {
     "data": {
      "text/html": [
       "<table>\n",
       "<thead><tr><th></th><th scope=col>used</th><th scope=col>(Mb)</th><th scope=col>gc trigger</th><th scope=col>(Mb)</th><th scope=col>max used</th><th scope=col>(Mb)</th></tr></thead>\n",
       "<tbody>\n",
       "\t<tr><th scope=row>Ncells</th><td> 3833188 </td><td>204.8    </td><td>  6801121</td><td> 363.3   </td><td>  8595245</td><td> 459.1   </td></tr>\n",
       "\t<tr><th scope=row>Vcells</th><td>47789078 </td><td>364.7    </td><td>153034414</td><td>1167.6   </td><td>275934593</td><td>2105.3   </td></tr>\n",
       "</tbody>\n",
       "</table>\n"
      ],
      "text/latex": [
       "\\begin{tabular}{r|llllll}\n",
       "  & used & (Mb) & gc trigger & (Mb) & max used & (Mb)\\\\\n",
       "\\hline\n",
       "\tNcells &  3833188  & 204.8     &   6801121 &  363.3    &   8595245 &  459.1   \\\\\n",
       "\tVcells & 47789078  & 364.7     & 153034414 & 1167.6    & 275934593 & 2105.3   \\\\\n",
       "\\end{tabular}\n"
      ],
      "text/markdown": [
       "\n",
       "| <!--/--> | used | (Mb) | gc trigger | (Mb) | max used | (Mb) |\n",
       "|---|---|---|---|---|---|---|\n",
       "| Ncells |  3833188  | 204.8     |   6801121 |  363.3    |   8595245 |  459.1    |\n",
       "| Vcells | 47789078  | 364.7     | 153034414 | 1167.6    | 275934593 | 2105.3    |\n",
       "\n"
      ],
      "text/plain": [
       "       used     (Mb)  gc trigger (Mb)   max used  (Mb)  \n",
       "Ncells  3833188 204.8   6801121   363.3   8595245  459.1\n",
       "Vcells 47789078 364.7 153034414  1167.6 275934593 2105.3"
      ]
     },
     "metadata": {},
     "output_type": "display_data"
    }
   ],
   "source": [
    "gc()"
   ]
  },
  {
   "cell_type": "code",
   "execution_count": 16,
   "metadata": {},
   "outputs": [
    {
     "data": {
      "text/html": [
       "<ol class=list-inline>\n",
       "\t<li>20130</li>\n",
       "\t<li>6</li>\n",
       "</ol>\n"
      ],
      "text/latex": [
       "\\begin{enumerate*}\n",
       "\\item 20130\n",
       "\\item 6\n",
       "\\end{enumerate*}\n"
      ],
      "text/markdown": [
       "1. 20130\n",
       "2. 6\n",
       "\n",
       "\n"
      ],
      "text/plain": [
       "[1] 20130     6"
      ]
     },
     "metadata": {},
     "output_type": "display_data"
    },
    {
     "data": {
      "text/html": [
       "<ol class=list-inline>\n",
       "\t<li>2227</li>\n",
       "\t<li>6</li>\n",
       "</ol>\n"
      ],
      "text/latex": [
       "\\begin{enumerate*}\n",
       "\\item 2227\n",
       "\\item 6\n",
       "\\end{enumerate*}\n"
      ],
      "text/markdown": [
       "1. 2227\n",
       "2. 6\n",
       "\n",
       "\n"
      ],
      "text/plain": [
       "[1] 2227    6"
      ]
     },
     "metadata": {},
     "output_type": "display_data"
    },
    {
     "data": {
      "text/html": [
       "2227"
      ],
      "text/latex": [
       "2227"
      ],
      "text/markdown": [
       "2227"
      ],
      "text/plain": [
       "[1] 2227"
      ]
     },
     "metadata": {},
     "output_type": "display_data"
    }
   ],
   "source": [
    "dim(dat)\n",
    "dim(newDatSub)\n",
    "length(sharedGenes)"
   ]
  },
  {
   "cell_type": "code",
   "execution_count": 17,
   "metadata": {},
   "outputs": [
    {
     "data": {
      "text/html": [
       "<ol class=list-inline>\n",
       "\t<li>2316</li>\n",
       "\t<li>9129</li>\n",
       "</ol>\n"
      ],
      "text/latex": [
       "\\begin{enumerate*}\n",
       "\\item 2316\n",
       "\\item 9129\n",
       "\\end{enumerate*}\n"
      ],
      "text/markdown": [
       "1. 2316\n",
       "2. 9129\n",
       "\n",
       "\n"
      ],
      "text/plain": [
       "[1] 2316 9129"
      ]
     },
     "metadata": {},
     "output_type": "display_data"
    }
   ],
   "source": [
    "dim(tcgaSubset)"
   ]
  },
  {
   "cell_type": "code",
   "execution_count": 18,
   "metadata": {},
   "outputs": [
    {
     "data": {
      "text/html": [
       "<table>\n",
       "<thead><tr><th></th><th scope=col>used</th><th scope=col>(Mb)</th><th scope=col>gc trigger</th><th scope=col>(Mb)</th><th scope=col>max used</th><th scope=col>(Mb)</th></tr></thead>\n",
       "<tbody>\n",
       "\t<tr><th scope=row>Ncells</th><td>  806991</td><td> 43.1   </td><td> 3149487</td><td>168.3   </td><td> 8595245</td><td>459.1   </td></tr>\n",
       "\t<tr><th scope=row>Vcells</th><td>26581173</td><td>202.8   </td><td>91845090</td><td>700.8   </td><td>91845052</td><td>700.8   </td></tr>\n",
       "</tbody>\n",
       "</table>\n"
      ],
      "text/latex": [
       "\\begin{tabular}{r|llllll}\n",
       "  & used & (Mb) & gc trigger & (Mb) & max used & (Mb)\\\\\n",
       "\\hline\n",
       "\tNcells &   806991 &  43.1    &  3149487 & 168.3    &  8595245 & 459.1   \\\\\n",
       "\tVcells & 26581173 & 202.8    & 91845090 & 700.8    & 91845052 & 700.8   \\\\\n",
       "\\end{tabular}\n"
      ],
      "text/markdown": [
       "\n",
       "| <!--/--> | used | (Mb) | gc trigger | (Mb) | max used | (Mb) |\n",
       "|---|---|---|---|---|---|---|\n",
       "| Ncells |   806991 |  43.1    |  3149487 | 168.3    |  8595245 | 459.1    |\n",
       "| Vcells | 26581173 | 202.8    | 91845090 | 700.8    | 91845052 | 700.8    |\n",
       "\n"
      ],
      "text/plain": [
       "       used     (Mb)  gc trigger (Mb)  max used (Mb) \n",
       "Ncells   806991  43.1  3149487   168.3  8595245 459.1\n",
       "Vcells 26581173 202.8 91845090   700.8 91845052 700.8"
      ]
     },
     "metadata": {},
     "output_type": "display_data"
    }
   ],
   "source": [
    "tcgaSubsetSub <- tcgaSubset[sharedGenes,]\n",
    "rm(tcgaSubset)\n",
    "gc()"
   ]
  },
  {
   "cell_type": "code",
   "execution_count": 19,
   "metadata": {},
   "outputs": [
    {
     "data": {
      "text/html": [
       "<dl class=dl-horizontal>\n",
       "\t<dt>A1CF</dt>\n",
       "\t\t<dd>0</dd>\n",
       "\t<dt>ABCA1</dt>\n",
       "\t\t<dd>9.87196682417991</dd>\n",
       "\t<dt>ABCA8</dt>\n",
       "\t\t<dd>5.83220588677518</dd>\n",
       "\t<dt>ABCB11</dt>\n",
       "\t\t<dd>0.503654035145554</dd>\n",
       "\t<dt>ABCB1</dt>\n",
       "\t\t<dd>6.54818690586652</dd>\n",
       "\t<dt>ABCC3</dt>\n",
       "\t\t<dd>9.56442389993157</dd>\n",
       "</dl>\n"
      ],
      "text/latex": [
       "\\begin{description*}\n",
       "\\item[A1CF] 0\n",
       "\\item[ABCA1] 9.87196682417991\n",
       "\\item[ABCA8] 5.83220588677518\n",
       "\\item[ABCB11] 0.503654035145554\n",
       "\\item[ABCB1] 6.54818690586652\n",
       "\\item[ABCC3] 9.56442389993157\n",
       "\\end{description*}\n"
      ],
      "text/markdown": [
       "A1CF\n",
       ":   0ABCA1\n",
       ":   9.87196682417991ABCA8\n",
       ":   5.83220588677518ABCB11\n",
       ":   0.503654035145554ABCB1\n",
       ":   6.54818690586652ABCC3\n",
       ":   9.56442389993157\n",
       "\n"
      ],
      "text/plain": [
       "    A1CF    ABCA1    ABCA8   ABCB11    ABCB1    ABCC3 \n",
       "0.000000 9.871967 5.832206 0.503654 6.548187 9.564424 "
      ]
     },
     "metadata": {},
     "output_type": "display_data"
    }
   ],
   "source": [
    "# getting the medians of each gene\n",
    "tcgaSubsetSubMeds <- apply(tcgaSubsetSub, 1, median, na.rm=T)\n",
    "head(tcgaSubsetSubMeds)"
   ]
  },
  {
   "cell_type": "code",
   "execution_count": 20,
   "metadata": {},
   "outputs": [],
   "source": [
    "# here we median center each gene\n",
    "tcgaSubsetSub <- sweep(tcgaSubsetSub,1,tcgaSubsetSubMeds,'-')  "
   ]
  },
  {
   "cell_type": "code",
   "execution_count": 58,
   "metadata": {
    "collapsed": true
   },
   "outputs": [
    {
     "name": "stderr",
     "output_type": "stream",
     "text": [
      "Warning message in rm(dat, datlog2, didx, newDat):\n",
      "“object 'dat' not found”Warning message in rm(dat, datlog2, didx, newDat):\n",
      "“object 'datlog2' not found”Warning message in rm(dat, datlog2, didx, newDat):\n",
      "“object 'didx' not found”Warning message in rm(dat, datlog2, didx, newDat):\n",
      "“object 'newDat' not found”"
     ]
    },
    {
     "data": {
      "text/html": [
       "<table>\n",
       "<thead><tr><th></th><th scope=col>used</th><th scope=col>(Mb)</th><th scope=col>gc trigger</th><th scope=col>(Mb)</th><th scope=col>max used</th><th scope=col>(Mb)</th></tr></thead>\n",
       "<tbody>\n",
       "\t<tr><th scope=row>Ncells</th><td> 3833234 </td><td>204.8    </td><td>  6801121</td><td> 363.3   </td><td>  8595245</td><td> 459.1   </td></tr>\n",
       "\t<tr><th scope=row>Vcells</th><td>47789266 </td><td>364.7    </td><td>153034414</td><td>1167.6   </td><td>275934593</td><td>2105.3   </td></tr>\n",
       "</tbody>\n",
       "</table>\n"
      ],
      "text/latex": [
       "\\begin{tabular}{r|llllll}\n",
       "  & used & (Mb) & gc trigger & (Mb) & max used & (Mb)\\\\\n",
       "\\hline\n",
       "\tNcells &  3833234  & 204.8     &   6801121 &  363.3    &   8595245 &  459.1   \\\\\n",
       "\tVcells & 47789266  & 364.7     & 153034414 & 1167.6    & 275934593 & 2105.3   \\\\\n",
       "\\end{tabular}\n"
      ],
      "text/markdown": [
       "\n",
       "| <!--/--> | used | (Mb) | gc trigger | (Mb) | max used | (Mb) |\n",
       "|---|---|---|---|---|---|---|\n",
       "| Ncells |  3833234  | 204.8     |   6801121 |  363.3    |   8595245 |  459.1    |\n",
       "| Vcells | 47789266  | 364.7     | 153034414 | 1167.6    | 275934593 | 2105.3    |\n",
       "\n"
      ],
      "text/plain": [
       "       used     (Mb)  gc trigger (Mb)   max used  (Mb)  \n",
       "Ncells  3833234 204.8   6801121   363.3   8595245  459.1\n",
       "Vcells 47789266 364.7 153034414  1167.6 275934593 2105.3"
      ]
     },
     "metadata": {},
     "output_type": "display_data"
    }
   ],
   "source": [
    "rm(dat, datlog2, didx, newDat)\n",
    "gc()"
   ]
  },
  {
   "cell_type": "code",
   "execution_count": 22,
   "metadata": {},
   "outputs": [
    {
     "data": {
      "text/plain": [
       "256 MB"
      ]
     },
     "metadata": {},
     "output_type": "display_data"
    }
   ],
   "source": [
    "library(pryr)\n",
    "mem_used()"
   ]
  },
  {
   "cell_type": "code",
   "execution_count": 23,
   "metadata": {},
   "outputs": [
    {
     "data": {
      "text/html": [
       "<ol class=list-inline>\n",
       "\t<li>2227</li>\n",
       "\t<li>9135</li>\n",
       "</ol>\n"
      ],
      "text/latex": [
       "\\begin{enumerate*}\n",
       "\\item 2227\n",
       "\\item 9135\n",
       "\\end{enumerate*}\n"
      ],
      "text/markdown": [
       "1. 2227\n",
       "2. 9135\n",
       "\n",
       "\n"
      ],
      "text/plain": [
       "[1] 2227 9135"
      ]
     },
     "metadata": {},
     "output_type": "display_data"
    }
   ],
   "source": [
    "# then join the new data and tcga data at the genes\n",
    "joinDat <- cbind(newDatSub, tcgaSubsetSub)\n",
    "\n",
    "dim(joinDat)"
   ]
  },
  {
   "cell_type": "code",
   "execution_count": 46,
   "metadata": {},
   "outputs": [
    {
     "name": "stderr",
     "output_type": "stream",
     "text": [
      "No id variables; using all as measure variables\n"
     ]
    }
   ],
   "source": [
    "#let's look at the distribution of the data pre-batch-correction\n",
    "  newdatSamples <- colnames(newDatSub)\n",
    "  dat2idx <- 1:(ncol(newDatSub)-1)\n",
    "  tcgaidx <- setdiff( (1: (ncol(joinDat)-1)), dat2idx)\n",
    "\n",
    "  sampleIdx <- c(dat2idx, sample(tcgaidx, size=200, replace = F))\n",
    "  preCombat <- joinDat[,sampleIdx]\n",
    "  preCombatMelt <- reshape2::melt(preCombat)\n",
    "  preCombatMelt$SampleSource <- ifelse(test = preCombatMelt$variable %in% newdatSamples, yes = \"New Data\", no=\"TCGA Data\")\n"
   ]
  },
  {
   "cell_type": "code",
   "execution_count": 24,
   "metadata": {},
   "outputs": [
    {
     "name": "stderr",
     "output_type": "stream",
     "text": [
      "Loading required package: mgcv\n",
      "Loading required package: nlme\n",
      "This is mgcv 1.8-27. For overview type 'help(\"mgcv-package\")'.\n",
      "Loading required package: genefilter\n",
      "Loading required package: BiocParallel\n"
     ]
    },
    {
     "name": "stdout",
     "output_type": "stream",
     "text": [
      "Using batch = 2 as a reference batch (this batch won't change)\n"
     ]
    },
    {
     "name": "stderr",
     "output_type": "stream",
     "text": [
      "Found2batches\n",
      "Adjusting for0covariate(s) or covariate level(s)\n",
      "Found39158Missing Data Values \n"
     ]
    },
    {
     "name": "stdout",
     "output_type": "stream",
     "text": [
      "Standardizing Data across genes\n"
     ]
    },
    {
     "name": "stderr",
     "output_type": "stream",
     "text": [
      "Fitting L/S model and finding priors\n",
      "Finding parametric adjustments\n",
      "Adjusting the Data\n",
      "\n"
     ]
    },
    {
     "data": {
      "text/html": [
       "<ol class=list-inline>\n",
       "\t<li>2227</li>\n",
       "\t<li>9135</li>\n",
       "</ol>\n"
      ],
      "text/latex": [
       "\\begin{enumerate*}\n",
       "\\item 2227\n",
       "\\item 9135\n",
       "\\end{enumerate*}\n"
      ],
      "text/markdown": [
       "1. 2227\n",
       "2. 9135\n",
       "\n",
       "\n"
      ],
      "text/plain": [
       "[1] 2227 9135"
      ]
     },
     "metadata": {},
     "output_type": "display_data"
    }
   ],
   "source": [
    "library(sva)\n",
    "\n",
    "combatflag <- 1\n",
    "if (combatflag) {\n",
    "    # then batch correction between scores...\n",
    "    batch <- c(rep(1,ncol(newDatSub)), rep(2,ncol(tcgaSubsetSub)))\n",
    "    modcombat = model.matrix(~1, data=as.data.frame(t(joinDat)))\n",
    "    combat_edata = ComBat(dat=joinDat, batch=batch, mod=modcombat, \n",
    "                          par.prior=TRUE, prior.plots=FALSE, ref.batch = 2)\n",
    "} else {\n",
    "    combat_edata = joinDat    \n",
    "}\n",
    "\n",
    "dim(combat_edata)"
   ]
  },
  {
   "cell_type": "code",
   "execution_count": 47,
   "metadata": {},
   "outputs": [
    {
     "name": "stderr",
     "output_type": "stream",
     "text": [
      "No id variables; using all as measure variables\n"
     ]
    }
   ],
   "source": [
    "# then look at the distribution of the data after batch correction\n",
    "postCombat <- combat_edata[,sampleIdx]\n",
    "postCombatMelt <- reshape2::melt(postCombat)\n",
    "postCombatMelt$SampleSource <- ifelse(test = postCombatMelt$variable %in% newdatSamples, yes = \"New Data\", no=\"TCGA Data\")\n"
   ]
  },
  {
   "cell_type": "code",
   "execution_count": 50,
   "metadata": {},
   "outputs": [
    {
     "name": "stderr",
     "output_type": "stream",
     "text": [
      "Warning message:\n",
      "“Removed 1044 rows containing non-finite values (stat_density).”"
     ]
    },
    {
     "data": {
      "image/png": "[encoded data removed]",
      "text/plain": [
       "plot without title"
      ]
     },
     "metadata": {},
     "output_type": "display_data"
    }
   ],
   "source": [
    "qplot(data=preCombatMelt, col=SampleSource, x=value, geom='density', main = 'Distribution of expression values pre-batch-correction')"
   ]
  },
  {
   "cell_type": "code",
   "execution_count": 53,
   "metadata": {},
   "outputs": [
    {
     "name": "stderr",
     "output_type": "stream",
     "text": [
      "Warning message:\n",
      "“Removed 1044 rows containing non-finite values (stat_density).”"
     ]
    },
    {
     "data": {
      "image/png": "[encoded data removed]",
      "text/plain": [
       "plot without title"
      ]
     },
     "metadata": {},
     "output_type": "display_data"
    }
   ],
   "source": [
    "qplot(data=postCombatMelt, col=SampleSource, x=value, geom='density', main = 'Distribution of expression values post-batch-correction')"
   ]
  },
  {
   "cell_type": "code",
   "execution_count": 26,
   "metadata": {},
   "outputs": [],
   "source": [
    "# then let's get all the genes we need for the 5 signatures\n",
    "load('../shiny-app/Immune-Subtype-Clustering/data/comparative_immuneSigs_geneLists4.rda')\n",
    "\n",
    "# and we use the scoring code to produce scores #\n",
    "source('../shiny-app/Immune-Subtype-Clustering/src/ImmuneSigs68_function.R')"
   ]
  },
  {
   "cell_type": "code",
   "execution_count": 27,
   "metadata": {},
   "outputs": [
    {
     "name": "stdout",
     "output_type": "stream",
     "text": [
      "[1] \"DONE MEAN\"\n",
      "[1] \"DONE MEDIAN\"\n",
      "[1] \"DONE WEIGHTED MEAN\"\n",
      "[1] \"DONE MODULES\"\n",
      "[1] \"DONE CHANG CORE\"\n",
      "[1] \"DONE PCA\"\n",
      "[1] \"DONE DONE\"\n",
      "[1]    5 9135\n"
     ]
    },
    {
     "data": {
      "text/html": [
       "<table>\n",
       "<thead><tr><th></th><th scope=col>rpkm.exp_005_shNTC_rep1</th><th scope=col>rpkm.exp_005_shNTC_rep2</th><th scope=col>rpkm.exp_005_shNTC_rep3</th><th scope=col>rpkm.exp_005_shTRPS1_seq1</th><th scope=col>rpkm.exp_005_shTRPS1_seq2</th></tr></thead>\n",
       "<tbody>\n",
       "\t<tr><th scope=row>LIexpression_score</th><td>-0.3247</td><td> 0.0434</td><td>-1.1721</td><td> 0.2133</td><td> 0.2962</td></tr>\n",
       "\t<tr><th scope=row>CSF1_response</th><td>-0.1689</td><td>-0.1549</td><td>-0.4606</td><td> 0.6019</td><td> 0.0798</td></tr>\n",
       "\t<tr><th scope=row>TGFB_score_21050467</th><td>-0.2967</td><td>-0.2110</td><td>-0.3596</td><td> 0.3557</td><td> 0.2123</td></tr>\n",
       "\t<tr><th scope=row>Module3_IFN_score</th><td> 1.4617</td><td> 0.6730</td><td> 0.6536</td><td> 0.1667</td><td>-1.3993</td></tr>\n",
       "\t<tr><th scope=row>CHANG_CORE_SERUM_RESPONSE_UP</th><td> 0.2057</td><td> 0.2530</td><td> 0.3467</td><td>-0.3145</td><td>-0.0128</td></tr>\n",
       "</tbody>\n",
       "</table>\n"
      ],
      "text/latex": [
       "\\begin{tabular}{r|lllll}\n",
       "  & rpkm.exp\\_005\\_shNTC\\_rep1 & rpkm.exp\\_005\\_shNTC\\_rep2 & rpkm.exp\\_005\\_shNTC\\_rep3 & rpkm.exp\\_005\\_shTRPS1\\_seq1 & rpkm.exp\\_005\\_shTRPS1\\_seq2\\\\\n",
       "\\hline\n",
       "\tLIexpression\\_score & -0.3247 &  0.0434 & -1.1721 &  0.2133 &  0.2962\\\\\n",
       "\tCSF1\\_response & -0.1689 & -0.1549 & -0.4606 &  0.6019 &  0.0798\\\\\n",
       "\tTGFB\\_score\\_21050467 & -0.2967 & -0.2110 & -0.3596 &  0.3557 &  0.2123\\\\\n",
       "\tModule3\\_IFN\\_score &  1.4617 &  0.6730 &  0.6536 &  0.1667 & -1.3993\\\\\n",
       "\tCHANG\\_CORE\\_SERUM\\_RESPONSE\\_UP &  0.2057 &  0.2530 &  0.3467 & -0.3145 & -0.0128\\\\\n",
       "\\end{tabular}\n"
      ],
      "text/markdown": [
       "\n",
       "| <!--/--> | rpkm.exp_005_shNTC_rep1 | rpkm.exp_005_shNTC_rep2 | rpkm.exp_005_shNTC_rep3 | rpkm.exp_005_shTRPS1_seq1 | rpkm.exp_005_shTRPS1_seq2 |\n",
       "|---|---|---|---|---|---|\n",
       "| LIexpression_score | -0.3247 |  0.0434 | -1.1721 |  0.2133 |  0.2962 |\n",
       "| CSF1_response | -0.1689 | -0.1549 | -0.4606 |  0.6019 |  0.0798 |\n",
       "| TGFB_score_21050467 | -0.2967 | -0.2110 | -0.3596 |  0.3557 |  0.2123 |\n",
       "| Module3_IFN_score |  1.4617 |  0.6730 |  0.6536 |  0.1667 | -1.3993 |\n",
       "| CHANG_CORE_SERUM_RESPONSE_UP |  0.2057 |  0.2530 |  0.3467 | -0.3145 | -0.0128 |\n",
       "\n"
      ],
      "text/plain": [
       "                             rpkm.exp_005_shNTC_rep1 rpkm.exp_005_shNTC_rep2\n",
       "LIexpression_score           -0.3247                  0.0434                \n",
       "CSF1_response                -0.1689                 -0.1549                \n",
       "TGFB_score_21050467          -0.2967                 -0.2110                \n",
       "Module3_IFN_score             1.4617                  0.6730                \n",
       "CHANG_CORE_SERUM_RESPONSE_UP  0.2057                  0.2530                \n",
       "                             rpkm.exp_005_shNTC_rep3 rpkm.exp_005_shTRPS1_seq1\n",
       "LIexpression_score           -1.1721                  0.2133                  \n",
       "CSF1_response                -0.4606                  0.6019                  \n",
       "TGFB_score_21050467          -0.3596                  0.3557                  \n",
       "Module3_IFN_score             0.6536                  0.1667                  \n",
       "CHANG_CORE_SERUM_RESPONSE_UP  0.3467                 -0.3145                  \n",
       "                             rpkm.exp_005_shTRPS1_seq2\n",
       "LIexpression_score            0.2962                  \n",
       "CSF1_response                 0.0798                  \n",
       "TGFB_score_21050467           0.2123                  \n",
       "Module3_IFN_score            -1.3993                  \n",
       "CHANG_CORE_SERUM_RESPONSE_UP -0.0128                  "
      ]
     },
     "metadata": {},
     "output_type": "display_data"
    }
   ],
   "source": [
    "### compute the signature scores.\n",
    "\n",
    "scores <- ImmuneSigs_function(combat_edata, sigs1_2_eg2,sigs12_weighted_means,\n",
    "                                 sigs12_module_weights,sigs1_2_names2,sigs1_2_type2)\n",
    "\n",
    "print(dim(scores))\n",
    "scores[1:5,1:5]"
   ]
  },
  {
   "cell_type": "code",
   "execution_count": 28,
   "metadata": {},
   "outputs": [
    {
     "data": {
      "image/png": "[encoded data removed]",
      "text/plain": [
       "plot without title"
      ]
     },
     "metadata": {},
     "output_type": "display_data"
    }
   ],
   "source": [
    "# and then we z-score transforming the scores\n",
    "\n",
    "source('../shiny-app/Immune-Subtype-Clustering/src/signature_mclust_ensemble.R')\n",
    "\n",
    "# and load the models trained on TCGA data #\n",
    "load('../shiny-app/Immune-Subtype-Clustering/data/wolf_set_slim1.rda')\n",
    "\n",
    "zscore.cols2<-function(x){\n",
    "    return((apply(x, 2, function(x) (x - median(na.omit(x)))/sd(na.omit(x)))))\n",
    "}\n",
    "\n",
    "                  \n",
    "# and we subset the 5 scores used in clustering\n",
    "idx <- c(\"LIexpression_score\", \"CSF1_response\", \"TGFB_score_21050467\", \"Module3_IFN_score\", \"CHANG_CORE_SERUM_RESPONSE_UP\")\n",
    "scores <- t(scores[idx,])\n",
    "zscores <- zscore.cols2(scores)\n",
    "\n",
    "qplot(as.numeric(zscores[,1]), geom='density')"
   ]
  },
  {
   "cell_type": "code",
   "execution_count": 29,
   "metadata": {},
   "outputs": [
    {
     "data": {
      "text/html": [
       "<table>\n",
       "<thead><tr><th></th><th scope=col>used</th><th scope=col>(Mb)</th><th scope=col>gc trigger</th><th scope=col>(Mb)</th><th scope=col>max used</th><th scope=col>(Mb)</th></tr></thead>\n",
       "<tbody>\n",
       "\t<tr><th scope=row>Ncells</th><td> 3763760 </td><td>201.1    </td><td>  6801121</td><td> 363.3   </td><td>  8595245</td><td> 459.1   </td></tr>\n",
       "\t<tr><th scope=row>Vcells</th><td>45291495 </td><td>345.6    </td><td>239116273</td><td>1824.4   </td><td>275934593</td><td>2105.3   </td></tr>\n",
       "</tbody>\n",
       "</table>\n"
      ],
      "text/latex": [
       "\\begin{tabular}{r|llllll}\n",
       "  & used & (Mb) & gc trigger & (Mb) & max used & (Mb)\\\\\n",
       "\\hline\n",
       "\tNcells &  3763760  & 201.1     &   6801121 &  363.3    &   8595245 &  459.1   \\\\\n",
       "\tVcells & 45291495  & 345.6     & 239116273 & 1824.4    & 275934593 & 2105.3   \\\\\n",
       "\\end{tabular}\n"
      ],
      "text/markdown": [
       "\n",
       "| <!--/--> | used | (Mb) | gc trigger | (Mb) | max used | (Mb) |\n",
       "|---|---|---|---|---|---|---|\n",
       "| Ncells |  3763760  | 201.1     |   6801121 |  363.3    |   8595245 |  459.1    |\n",
       "| Vcells | 45291495  | 345.6     | 239116273 | 1824.4    | 275934593 | 2105.3    |\n",
       "\n"
      ],
      "text/plain": [
       "       used     (Mb)  gc trigger (Mb)   max used  (Mb)  \n",
       "Ncells  3763760 201.1   6801121   363.3   8595245  459.1\n",
       "Vcells 45291495 345.6 239116273  1824.4 275934593 2105.3"
      ]
     },
     "metadata": {},
     "output_type": "display_data"
    },
    {
     "data": {
      "text/html": [
       "<table>\n",
       "<thead><tr><th></th><th scope=col>LIexpression_score</th><th scope=col>CSF1_response</th><th scope=col>TGFB_score_21050467</th><th scope=col>Module3_IFN_score</th><th scope=col>CHANG_CORE_SERUM_RESPONSE_UP</th></tr></thead>\n",
       "<tbody>\n",
       "\t<tr><th scope=row>rpkm.exp_005_shNTC_rep1</th><td>-0.17536535</td><td>-0.11262150</td><td>-0.3964733 </td><td> 1.2271757 </td><td> 0.5672085 </td></tr>\n",
       "\t<tr><th scope=row>rpkm.exp_005_shNTC_rep2</th><td> 0.03524472</td><td>-0.09963384</td><td>-0.2746455 </td><td> 0.6123796 </td><td> 0.7038122 </td></tr>\n",
       "\t<tr><th scope=row>rpkm.exp_005_shNTC_rep3</th><td>-0.66020906</td><td>-0.38322850</td><td>-0.4858895 </td><td> 0.5972572 </td><td> 0.9744203 </td></tr>\n",
       "\t<tr><th scope=row>rpkm.exp_005_shTRPS1_seq1</th><td> 0.13245376</td><td> 0.60244151</td><td> 0.5309529 </td><td> 0.2177159 </td><td>-0.9351432 </td></tr>\n",
       "\t<tr><th scope=row>rpkm.exp_005_shTRPS1_seq2</th><td> 0.17988537</td><td> 0.11809486</td><td> 0.3271011 </td><td>-1.0029899 </td><td>-0.0638254 </td></tr>\n",
       "</tbody>\n",
       "</table>\n"
      ],
      "text/latex": [
       "\\begin{tabular}{r|lllll}\n",
       "  & LIexpression\\_score & CSF1\\_response & TGFB\\_score\\_21050467 & Module3\\_IFN\\_score & CHANG\\_CORE\\_SERUM\\_RESPONSE\\_UP\\\\\n",
       "\\hline\n",
       "\trpkm.exp\\_005\\_shNTC\\_rep1 & -0.17536535 & -0.11262150 & -0.3964733  &  1.2271757  &  0.5672085 \\\\\n",
       "\trpkm.exp\\_005\\_shNTC\\_rep2 &  0.03524472 & -0.09963384 & -0.2746455  &  0.6123796  &  0.7038122 \\\\\n",
       "\trpkm.exp\\_005\\_shNTC\\_rep3 & -0.66020906 & -0.38322850 & -0.4858895  &  0.5972572  &  0.9744203 \\\\\n",
       "\trpkm.exp\\_005\\_shTRPS1\\_seq1 &  0.13245376 &  0.60244151 &  0.5309529  &  0.2177159  & -0.9351432 \\\\\n",
       "\trpkm.exp\\_005\\_shTRPS1\\_seq2 &  0.17988537 &  0.11809486 &  0.3271011  & -1.0029899  & -0.0638254 \\\\\n",
       "\\end{tabular}\n"
      ],
      "text/markdown": [
       "\n",
       "| <!--/--> | LIexpression_score | CSF1_response | TGFB_score_21050467 | Module3_IFN_score | CHANG_CORE_SERUM_RESPONSE_UP |\n",
       "|---|---|---|---|---|---|\n",
       "| rpkm.exp_005_shNTC_rep1 | -0.17536535 | -0.11262150 | -0.3964733  |  1.2271757  |  0.5672085  |\n",
       "| rpkm.exp_005_shNTC_rep2 |  0.03524472 | -0.09963384 | -0.2746455  |  0.6123796  |  0.7038122  |\n",
       "| rpkm.exp_005_shNTC_rep3 | -0.66020906 | -0.38322850 | -0.4858895  |  0.5972572  |  0.9744203  |\n",
       "| rpkm.exp_005_shTRPS1_seq1 |  0.13245376 |  0.60244151 |  0.5309529  |  0.2177159  | -0.9351432  |\n",
       "| rpkm.exp_005_shTRPS1_seq2 |  0.17988537 |  0.11809486 |  0.3271011  | -1.0029899  | -0.0638254  |\n",
       "\n"
      ],
      "text/plain": [
       "                          LIexpression_score CSF1_response TGFB_score_21050467\n",
       "rpkm.exp_005_shNTC_rep1   -0.17536535        -0.11262150   -0.3964733         \n",
       "rpkm.exp_005_shNTC_rep2    0.03524472        -0.09963384   -0.2746455         \n",
       "rpkm.exp_005_shNTC_rep3   -0.66020906        -0.38322850   -0.4858895         \n",
       "rpkm.exp_005_shTRPS1_seq1  0.13245376         0.60244151    0.5309529         \n",
       "rpkm.exp_005_shTRPS1_seq2  0.17988537         0.11809486    0.3271011         \n",
       "                          Module3_IFN_score CHANG_CORE_SERUM_RESPONSE_UP\n",
       "rpkm.exp_005_shNTC_rep1    1.2271757         0.5672085                  \n",
       "rpkm.exp_005_shNTC_rep2    0.6123796         0.7038122                  \n",
       "rpkm.exp_005_shNTC_rep3    0.5972572         0.9744203                  \n",
       "rpkm.exp_005_shTRPS1_seq1  0.2177159        -0.9351432                  \n",
       "rpkm.exp_005_shTRPS1_seq2 -1.0029899        -0.0638254                  "
      ]
     },
     "metadata": {},
     "output_type": "display_data"
    },
    {
     "data": {
      "text/html": [
       "<ol class=list-inline>\n",
       "\t<li>9135</li>\n",
       "\t<li>5</li>\n",
       "</ol>\n"
      ],
      "text/latex": [
       "\\begin{enumerate*}\n",
       "\\item 9135\n",
       "\\item 5\n",
       "\\end{enumerate*}\n"
      ],
      "text/markdown": [
       "1. 9135\n",
       "2. 5\n",
       "\n",
       "\n"
      ],
      "text/plain": [
       "[1] 9135    5"
      ]
     },
     "metadata": {},
     "output_type": "display_data"
    }
   ],
   "source": [
    "gc()\n",
    "zscores[1:5,1:5]\n",
    "dim(zscores)\n"
   ]
  },
  {
   "cell_type": "code",
   "execution_count": 30,
   "metadata": {},
   "outputs": [
    {
     "name": "stderr",
     "output_type": "stream",
     "text": [
      "Package 'mclust' version 5.4.2\n",
      "Type 'citation(\"mclust\")' for citing this R package in publications.\n",
      "\n",
      "Attaching package: ‘mclust’\n",
      "\n",
      "The following object is masked from ‘package:mgcv’:\n",
      "\n",
      "    mvn\n",
      "\n",
      "Iteration: 0 *** value: 8057.69\n"
     ]
    }
   ],
   "source": [
    "\n",
    "  # load the clustering model trained on all pancan data.\n",
    "library(clue)\n",
    "library(mclust)\n",
    "library(parallel)\n",
    "load(\"../shiny-app/Immune-Subtype-Clustering//data/wolf_set_slim1.rda\")\n",
    "\n",
    "  # make cluster calls using the models.\n",
    "calls <- consensusEnsemble(mods2, zscores, 4, 256)\n",
    "  "
   ]
  },
  {
   "cell_type": "code",
   "execution_count": 31,
   "metadata": {},
   "outputs": [],
   "source": [
    "# get the top scoring cluster for each sample\n",
    "maxcalls <- apply(calls$.Data, 1, function(a) which(a == max(a))[1])\n",
    "names(maxcalls) <- rownames(scores)\n",
    "  "
   ]
  },
  {
   "cell_type": "code",
   "execution_count": 54,
   "metadata": {},
   "outputs": [
    {
     "data": {
      "text/plain": [
       "        NewCalls\n",
       "Reported    1    2    3    4    5    6\n",
       "       1   66 2268   24    0   24   34\n",
       "       2 2556    3    9    0   12   12\n",
       "       3    2   16    9    1   46 2323\n",
       "       4   16   31    1    9 1044   58\n",
       "       5    0    0    0  368   14    3\n",
       "       6    8    8  122    0    6   36"
      ]
     },
     "metadata": {},
     "output_type": "display_data"
    }
   ],
   "source": [
    "  # then we'll look at the new vs. old cluster calls for TCGA samples\n",
    "sharedIDs <- intersect(reportedScores$AliquotBarcode, rownames(scores))\n",
    "t1 <-table(Reported=as.numeric(reportedScores[sharedIDs, 'ClusterModel1']),\n",
    "             NewCalls=as.numeric(maxcalls[sharedIDs]))\n",
    "t1"
   ]
  },
  {
   "cell_type": "code",
   "execution_count": 33,
   "metadata": {},
   "outputs": [
    {
     "name": "stdout",
     "output_type": "stream",
     "text": [
      "[1] 2 1 6 5 4 3\n"
     ]
    }
   ],
   "source": [
    "# then we can align the new calls to old calls.\n",
    "reported <- 1:6\n",
    "optcalls <- 1:6\n",
    "\n",
    "for (i in reported) {\n",
    "    \n",
    "    # for subtype i, where did most of the samples end up?\n",
    "    j <- which(as.numeric(t1[i,]) == max(as.numeric(t1[i,])))\n",
    "    # rename maxcall j <- i\n",
    "    optcalls[i] <- j\n",
    "}\n",
    "  \n",
    "print(optcalls)\n",
    "  "
   ]
  },
  {
   "cell_type": "code",
   "execution_count": 34,
   "metadata": {},
   "outputs": [],
   "source": [
    "  \n",
    "# these are the re-mapped calls\n",
    "alignedCalls <- sapply(maxcalls, function(a) which(a == optcalls)[1])\n"
   ]
  },
  {
   "cell_type": "code",
   "execution_count": 35,
   "metadata": {},
   "outputs": [
    {
     "data": {
      "text/plain": [
       "        NewCalls\n",
       "Reported    1    2    3    4    5    6\n",
       "       1 2268   66   34   24    0   24\n",
       "       2    3 2556   12   12    0    9\n",
       "       3   16    2 2323   46    1    9\n",
       "       4   31   16   58 1044    9    1\n",
       "       5    0    0    3   14  368    0\n",
       "       6    8    8   36    6    0  122"
      ]
     },
     "metadata": {},
     "output_type": "display_data"
    }
   ],
   "source": [
    "# make sure it works on the re-called TCGA data\n",
    "t2 <-table(Reported=as.numeric(reportedScores[sharedIDs, 'ClusterModel1']),\n",
    "             NewCalls=as.numeric(alignedCalls[sharedIDs]))\n",
    "\n",
    "t2"
   ]
  },
  {
   "cell_type": "code",
   "execution_count": null,
   "metadata": {},
   "outputs": [],
   "source": []
  },
  {
   "cell_type": "code",
   "execution_count": 37,
   "metadata": {},
   "outputs": [],
   "source": [
    "# assemble the results\n",
    "jdx <- match(table=rownames(scores), x=colnames(newDatSub))  # index to new data scores\n",
    "pcalls <- calls$.Data[jdx,]                            # get that table\n",
    "rownames(pcalls) <- colnames(newDatSub)                      # name it from the new data\n",
    "pcalls <- pcalls[,optcalls]\n",
    "  \n",
    "pcalls <- cbind(pcalls, data.frame(Call=alignedCalls[jdx]))  # bring in the aligned calls\n",
    "pcalls <- cbind(pcalls, zscores[jdx,])                       # and the scores\n",
    "    "
   ]
  },
  {
   "cell_type": "code",
   "execution_count": 38,
   "metadata": {},
   "outputs": [
    {
     "data": {
      "text/html": [
       "<table>\n",
       "<thead><tr><th></th><th scope=col>1</th><th scope=col>2</th><th scope=col>3</th><th scope=col>4</th><th scope=col>5</th><th scope=col>6</th><th scope=col>Call</th><th scope=col>LIexpression_score</th><th scope=col>CSF1_response</th><th scope=col>TGFB_score_21050467</th><th scope=col>Module3_IFN_score</th><th scope=col>CHANG_CORE_SERUM_RESPONSE_UP</th></tr></thead>\n",
       "<tbody>\n",
       "\t<tr><th scope=row>rpkm.exp_005_shNTC_rep1</th><td>0.01953125 </td><td>0.85156250 </td><td>0.0000000  </td><td>0.00390625 </td><td>0.00000000 </td><td>0.12500000 </td><td>2          </td><td>-0.17536535</td><td>-0.11262150</td><td>-0.3964733 </td><td> 1.2271757 </td><td> 0.5672085 </td></tr>\n",
       "\t<tr><th scope=row>rpkm.exp_005_shNTC_rep2</th><td>0.08593750 </td><td>0.83203125 </td><td>0.0000000  </td><td>0.00000000 </td><td>0.00000000 </td><td>0.08203125 </td><td>2          </td><td> 0.03524472</td><td>-0.09963384</td><td>-0.2746455 </td><td> 0.6123796 </td><td> 0.7038122 </td></tr>\n",
       "\t<tr><th scope=row>rpkm.exp_005_shNTC_rep3</th><td>0.05078125 </td><td>0.78125000 </td><td>0.0000000  </td><td>0.01171875 </td><td>0.00000000 </td><td>0.15625000 </td><td>2          </td><td>-0.66020906</td><td>-0.38322850</td><td>-0.4858895 </td><td> 0.5972572 </td><td> 0.9744203 </td></tr>\n",
       "\t<tr><th scope=row>rpkm.exp_005_shTRPS1_seq1</th><td>0.00000000 </td><td>0.00000000 </td><td>0.7695312  </td><td>0.00000000 </td><td>0.00390625 </td><td>0.22656250 </td><td>3          </td><td> 0.13245376</td><td> 0.60244151</td><td> 0.5309529 </td><td> 0.2177159 </td><td>-0.9351432 </td></tr>\n",
       "\t<tr><th scope=row>rpkm.exp_005_shTRPS1_seq2</th><td>0.89453125 </td><td>0.01562500 </td><td>0.0312500  </td><td>0.00390625 </td><td>0.00000000 </td><td>0.05468750 </td><td>1          </td><td> 0.17988537</td><td> 0.11809486</td><td> 0.3271011 </td><td>-1.0029899 </td><td>-0.0638254 </td></tr>\n",
       "\t<tr><th scope=row>rpkm.exp_005_shTRPS1_seq3</th><td>0.13671875 </td><td>0.01953125 </td><td>0.2890625  </td><td>0.36718750 </td><td>0.00000000 </td><td>0.18750000 </td><td>4          </td><td> 0.18217399</td><td> 0.19091848</td><td> 0.4086987 </td><td>-1.6206701 </td><td>-1.2017081 </td></tr>\n",
       "</tbody>\n",
       "</table>\n"
      ],
      "text/latex": [
       "\\begin{tabular}{r|llllllllllll}\n",
       "  & 1 & 2 & 3 & 4 & 5 & 6 & Call & LIexpression\\_score & CSF1\\_response & TGFB\\_score\\_21050467 & Module3\\_IFN\\_score & CHANG\\_CORE\\_SERUM\\_RESPONSE\\_UP\\\\\n",
       "\\hline\n",
       "\trpkm.exp\\_005\\_shNTC\\_rep1 & 0.01953125  & 0.85156250  & 0.0000000   & 0.00390625  & 0.00000000  & 0.12500000  & 2           & -0.17536535 & -0.11262150 & -0.3964733  &  1.2271757  &  0.5672085 \\\\\n",
       "\trpkm.exp\\_005\\_shNTC\\_rep2 & 0.08593750  & 0.83203125  & 0.0000000   & 0.00000000  & 0.00000000  & 0.08203125  & 2           &  0.03524472 & -0.09963384 & -0.2746455  &  0.6123796  &  0.7038122 \\\\\n",
       "\trpkm.exp\\_005\\_shNTC\\_rep3 & 0.05078125  & 0.78125000  & 0.0000000   & 0.01171875  & 0.00000000  & 0.15625000  & 2           & -0.66020906 & -0.38322850 & -0.4858895  &  0.5972572  &  0.9744203 \\\\\n",
       "\trpkm.exp\\_005\\_shTRPS1\\_seq1 & 0.00000000  & 0.00000000  & 0.7695312   & 0.00000000  & 0.00390625  & 0.22656250  & 3           &  0.13245376 &  0.60244151 &  0.5309529  &  0.2177159  & -0.9351432 \\\\\n",
       "\trpkm.exp\\_005\\_shTRPS1\\_seq2 & 0.89453125  & 0.01562500  & 0.0312500   & 0.00390625  & 0.00000000  & 0.05468750  & 1           &  0.17988537 &  0.11809486 &  0.3271011  & -1.0029899  & -0.0638254 \\\\\n",
       "\trpkm.exp\\_005\\_shTRPS1\\_seq3 & 0.13671875  & 0.01953125  & 0.2890625   & 0.36718750  & 0.00000000  & 0.18750000  & 4           &  0.18217399 &  0.19091848 &  0.4086987  & -1.6206701  & -1.2017081 \\\\\n",
       "\\end{tabular}\n"
      ],
      "text/markdown": [
       "\n",
       "| <!--/--> | 1 | 2 | 3 | 4 | 5 | 6 | Call | LIexpression_score | CSF1_response | TGFB_score_21050467 | Module3_IFN_score | CHANG_CORE_SERUM_RESPONSE_UP |\n",
       "|---|---|---|---|---|---|---|---|---|---|---|---|---|\n",
       "| rpkm.exp_005_shNTC_rep1 | 0.01953125  | 0.85156250  | 0.0000000   | 0.00390625  | 0.00000000  | 0.12500000  | 2           | -0.17536535 | -0.11262150 | -0.3964733  |  1.2271757  |  0.5672085  |\n",
       "| rpkm.exp_005_shNTC_rep2 | 0.08593750  | 0.83203125  | 0.0000000   | 0.00000000  | 0.00000000  | 0.08203125  | 2           |  0.03524472 | -0.09963384 | -0.2746455  |  0.6123796  |  0.7038122  |\n",
       "| rpkm.exp_005_shNTC_rep3 | 0.05078125  | 0.78125000  | 0.0000000   | 0.01171875  | 0.00000000  | 0.15625000  | 2           | -0.66020906 | -0.38322850 | -0.4858895  |  0.5972572  |  0.9744203  |\n",
       "| rpkm.exp_005_shTRPS1_seq1 | 0.00000000  | 0.00000000  | 0.7695312   | 0.00000000  | 0.00390625  | 0.22656250  | 3           |  0.13245376 |  0.60244151 |  0.5309529  |  0.2177159  | -0.9351432  |\n",
       "| rpkm.exp_005_shTRPS1_seq2 | 0.89453125  | 0.01562500  | 0.0312500   | 0.00390625  | 0.00000000  | 0.05468750  | 1           |  0.17988537 |  0.11809486 |  0.3271011  | -1.0029899  | -0.0638254  |\n",
       "| rpkm.exp_005_shTRPS1_seq3 | 0.13671875  | 0.01953125  | 0.2890625   | 0.36718750  | 0.00000000  | 0.18750000  | 4           |  0.18217399 |  0.19091848 |  0.4086987  | -1.6206701  | -1.2017081  |\n",
       "\n"
      ],
      "text/plain": [
       "                          1          2          3         4          5         \n",
       "rpkm.exp_005_shNTC_rep1   0.01953125 0.85156250 0.0000000 0.00390625 0.00000000\n",
       "rpkm.exp_005_shNTC_rep2   0.08593750 0.83203125 0.0000000 0.00000000 0.00000000\n",
       "rpkm.exp_005_shNTC_rep3   0.05078125 0.78125000 0.0000000 0.01171875 0.00000000\n",
       "rpkm.exp_005_shTRPS1_seq1 0.00000000 0.00000000 0.7695312 0.00000000 0.00390625\n",
       "rpkm.exp_005_shTRPS1_seq2 0.89453125 0.01562500 0.0312500 0.00390625 0.00000000\n",
       "rpkm.exp_005_shTRPS1_seq3 0.13671875 0.01953125 0.2890625 0.36718750 0.00000000\n",
       "                          6          Call LIexpression_score CSF1_response\n",
       "rpkm.exp_005_shNTC_rep1   0.12500000 2    -0.17536535        -0.11262150  \n",
       "rpkm.exp_005_shNTC_rep2   0.08203125 2     0.03524472        -0.09963384  \n",
       "rpkm.exp_005_shNTC_rep3   0.15625000 2    -0.66020906        -0.38322850  \n",
       "rpkm.exp_005_shTRPS1_seq1 0.22656250 3     0.13245376         0.60244151  \n",
       "rpkm.exp_005_shTRPS1_seq2 0.05468750 1     0.17988537         0.11809486  \n",
       "rpkm.exp_005_shTRPS1_seq3 0.18750000 4     0.18217399         0.19091848  \n",
       "                          TGFB_score_21050467 Module3_IFN_score\n",
       "rpkm.exp_005_shNTC_rep1   -0.3964733           1.2271757       \n",
       "rpkm.exp_005_shNTC_rep2   -0.2746455           0.6123796       \n",
       "rpkm.exp_005_shNTC_rep3   -0.4858895           0.5972572       \n",
       "rpkm.exp_005_shTRPS1_seq1  0.5309529           0.2177159       \n",
       "rpkm.exp_005_shTRPS1_seq2  0.3271011          -1.0029899       \n",
       "rpkm.exp_005_shTRPS1_seq3  0.4086987          -1.6206701       \n",
       "                          CHANG_CORE_SERUM_RESPONSE_UP\n",
       "rpkm.exp_005_shNTC_rep1    0.5672085                  \n",
       "rpkm.exp_005_shNTC_rep2    0.7038122                  \n",
       "rpkm.exp_005_shNTC_rep3    0.9744203                  \n",
       "rpkm.exp_005_shTRPS1_seq1 -0.9351432                  \n",
       "rpkm.exp_005_shTRPS1_seq2 -0.0638254                  \n",
       "rpkm.exp_005_shTRPS1_seq3 -1.2017081                  "
      ]
     },
     "metadata": {},
     "output_type": "display_data"
    }
   ],
   "source": [
    "head(pcalls)"
   ]
  },
  {
   "cell_type": "code",
   "execution_count": 39,
   "metadata": {},
   "outputs": [],
   "source": [
    "finalResults <- list(AlignedCalls=alignedCalls[jdx], Table=t2, ProbCalls=pcalls)"
   ]
  },
  {
   "cell_type": "code",
   "execution_count": 42,
   "metadata": {},
   "outputs": [
    {
     "data": {
      "text/plain": [
       "$AlignedCalls\n",
       "  rpkm.exp_005_shNTC_rep1   rpkm.exp_005_shNTC_rep2   rpkm.exp_005_shNTC_rep3 \n",
       "                        2                         2                         2 \n",
       "rpkm.exp_005_shTRPS1_seq1 rpkm.exp_005_shTRPS1_seq2 rpkm.exp_005_shTRPS1_seq3 \n",
       "                        3                         1                         4 \n",
       "\n",
       "$Table\n",
       "        NewCalls\n",
       "Reported    1    2    3    4    5    6\n",
       "       1 2268   66   34   24    0   24\n",
       "       2    3 2556   12   12    0    9\n",
       "       3   16    2 2323   46    1    9\n",
       "       4   31   16   58 1044    9    1\n",
       "       5    0    0    3   14  368    0\n",
       "       6    8    8   36    6    0  122\n",
       "\n",
       "$ProbCalls\n",
       "                                   1          2         3          4          5\n",
       "rpkm.exp_005_shNTC_rep1   0.01953125 0.85156250 0.0000000 0.00390625 0.00000000\n",
       "rpkm.exp_005_shNTC_rep2   0.08593750 0.83203125 0.0000000 0.00000000 0.00000000\n",
       "rpkm.exp_005_shNTC_rep3   0.05078125 0.78125000 0.0000000 0.01171875 0.00000000\n",
       "rpkm.exp_005_shTRPS1_seq1 0.00000000 0.00000000 0.7695312 0.00000000 0.00390625\n",
       "rpkm.exp_005_shTRPS1_seq2 0.89453125 0.01562500 0.0312500 0.00390625 0.00000000\n",
       "rpkm.exp_005_shTRPS1_seq3 0.13671875 0.01953125 0.2890625 0.36718750 0.00000000\n",
       "                                   6 Call LIexpression_score CSF1_response\n",
       "rpkm.exp_005_shNTC_rep1   0.12500000    2        -0.17536535   -0.11262150\n",
       "rpkm.exp_005_shNTC_rep2   0.08203125    2         0.03524472   -0.09963384\n",
       "rpkm.exp_005_shNTC_rep3   0.15625000    2        -0.66020906   -0.38322850\n",
       "rpkm.exp_005_shTRPS1_seq1 0.22656250    3         0.13245376    0.60244151\n",
       "rpkm.exp_005_shTRPS1_seq2 0.05468750    1         0.17988537    0.11809486\n",
       "rpkm.exp_005_shTRPS1_seq3 0.18750000    4         0.18217399    0.19091848\n",
       "                          TGFB_score_21050467 Module3_IFN_score\n",
       "rpkm.exp_005_shNTC_rep1            -0.3964733         1.2271757\n",
       "rpkm.exp_005_shNTC_rep2            -0.2746455         0.6123796\n",
       "rpkm.exp_005_shNTC_rep3            -0.4858895         0.5972572\n",
       "rpkm.exp_005_shTRPS1_seq1           0.5309529         0.2177159\n",
       "rpkm.exp_005_shTRPS1_seq2           0.3271011        -1.0029899\n",
       "rpkm.exp_005_shTRPS1_seq3           0.4086987        -1.6206701\n",
       "                          CHANG_CORE_SERUM_RESPONSE_UP\n",
       "rpkm.exp_005_shNTC_rep1                      0.5672085\n",
       "rpkm.exp_005_shNTC_rep2                      0.7038122\n",
       "rpkm.exp_005_shNTC_rep3                      0.9744203\n",
       "rpkm.exp_005_shTRPS1_seq1                   -0.9351432\n",
       "rpkm.exp_005_shTRPS1_seq2                   -0.0638254\n",
       "rpkm.exp_005_shTRPS1_seq3                   -1.2017081\n"
      ]
     },
     "metadata": {},
     "output_type": "display_data"
    }
   ],
   "source": [
    "# In the finalResults,\n",
    "# $AlignedCalls are the immune subtypes - aligned with the TCGA manuscript\n",
    "# $Table is the TCGA reported immune subtypes (on TCGA samples) compared to what we just computed\n",
    "# $ProbCalls shows the probability of being in each subtype and signature scores, Call is the aligned call\n",
    "\n",
    "\n",
    "head(finalResults)"
   ]
  },
  {
   "cell_type": "code",
   "execution_count": null,
   "metadata": {},
   "outputs": [],
   "source": []
  },
  {
   "cell_type": "code",
   "execution_count": null,
   "metadata": {},
   "outputs": [],
   "source": []
  }
 ],
 "metadata": {
  "kernelspec": {
   "display_name": "R",
   "language": "R",
   "name": "ir"
  },
  "language_info": {
   "codemirror_mode": "r",
   "file_extension": ".r",
   "mimetype": "text/x-r-source",
   "name": "R",
   "pygments_lexer": "r",
   "version": "3.5.2"
  }
 },
 "nbformat": 4,
 "nbformat_minor": 2
}
