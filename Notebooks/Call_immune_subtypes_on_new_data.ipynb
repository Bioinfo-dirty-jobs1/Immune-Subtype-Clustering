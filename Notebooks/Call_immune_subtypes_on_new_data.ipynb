{
 "cells": [
  {
   "cell_type": "markdown",
   "metadata": {},
   "source": [
    "## How to call immune subtypes on new data ##"
   ]
  },
  {
   "cell_type": "markdown",
   "metadata": {},
   "source": [
    "Let's suppose you have some:\n",
    "  a.) RPKM (or FPKM or something equivlent) gene expression data \n",
    "  b.) Has hg19 gene symbols mapped to it.\n",
    "  c.) knowledge on how to batch correct / normalize it with regard to TCGA PanCancer data*\n",
    "  \n",
    "and you'd like to call some immune subtypes on those samples."
   ]
  },
  {
   "cell_type": "code",
   "execution_count": 38,
   "metadata": {},
   "outputs": [],
   "source": [
    "\n",
    "library(ggplot2)\n",
    "options(repr.plot.width=4, repr.plot.height=3)"
   ]
  },
  {
   "cell_type": "code",
   "execution_count": 39,
   "metadata": {},
   "outputs": [
    {
     "data": {
      "text/html": [
       "<ol class=list-inline>\n",
       "\t<li>2316</li>\n",
       "\t<li>11069</li>\n",
       "</ol>\n"
      ],
      "text/latex": [
       "\\begin{enumerate*}\n",
       "\\item 2316\n",
       "\\item 11069\n",
       "\\end{enumerate*}\n"
      ],
      "text/markdown": [
       "1. 2316\n",
       "2. 11069\n",
       "\n",
       "\n"
      ],
      "text/plain": [
       "[1]  2316 11069"
      ]
     },
     "metadata": {},
     "output_type": "display_data"
    },
    {
     "data": {
      "text/html": [
       "<table>\n",
       "<thead><tr><th></th><th scope=col>TCGA-OR-A5J1-01A-11R-A29S-07</th><th scope=col>TCGA-OR-A5J2-01A-11R-A29S-07</th><th scope=col>TCGA-OR-A5J3-01A-11R-A29S-07</th><th scope=col>TCGA-OR-A5J5-01A-11R-A29S-07</th><th scope=col>TCGA-OR-A5J6-01A-31R-A29S-07</th></tr></thead>\n",
       "<tbody>\n",
       "\t<tr><th scope=row>A1CF</th><td>  0.0000 </td><td>   0.000 </td><td>   0.5925</td><td>  1.5492 </td><td>   0.000 </td></tr>\n",
       "\t<tr><th scope=row>ABCA1</th><td>319.4040 </td><td>1071.800 </td><td> 896.4600</td><td>310.6120 </td><td> 800.283 </td></tr>\n",
       "\t<tr><th scope=row>ABCA8</th><td>  4.3228 </td><td> 121.997 </td><td>1368.6900</td><td>982.1840 </td><td>5000.650 </td></tr>\n",
       "\t<tr><th scope=row>ABCB11</th><td>  0.4803 </td><td>   0.000 </td><td>   1.7775</td><td>  0.0000 </td><td>   0.000 </td></tr>\n",
       "</tbody>\n",
       "</table>\n"
      ],
      "text/latex": [
       "\\begin{tabular}{r|lllll}\n",
       "  & TCGA-OR-A5J1-01A-11R-A29S-07 & TCGA-OR-A5J2-01A-11R-A29S-07 & TCGA-OR-A5J3-01A-11R-A29S-07 & TCGA-OR-A5J5-01A-11R-A29S-07 & TCGA-OR-A5J6-01A-31R-A29S-07\\\\\n",
       "\\hline\n",
       "\tA1CF &   0.0000  &    0.000  &    0.5925 &   1.5492  &    0.000 \\\\\n",
       "\tABCA1 & 319.4040  & 1071.800  &  896.4600 & 310.6120  &  800.283 \\\\\n",
       "\tABCA8 &   4.3228  &  121.997  & 1368.6900 & 982.1840  & 5000.650 \\\\\n",
       "\tABCB11 &   0.4803  &    0.000  &    1.7775 &   0.0000  &    0.000 \\\\\n",
       "\\end{tabular}\n"
      ],
      "text/markdown": [
       "\n",
       "| <!--/--> | TCGA-OR-A5J1-01A-11R-A29S-07 | TCGA-OR-A5J2-01A-11R-A29S-07 | TCGA-OR-A5J3-01A-11R-A29S-07 | TCGA-OR-A5J5-01A-11R-A29S-07 | TCGA-OR-A5J6-01A-31R-A29S-07 |\n",
       "|---|---|---|---|---|---|\n",
       "| A1CF |   0.0000  |    0.000  |    0.5925 |   1.5492  |    0.000  |\n",
       "| ABCA1 | 319.4040  | 1071.800  |  896.4600 | 310.6120  |  800.283  |\n",
       "| ABCA8 |   4.3228  |  121.997  | 1368.6900 | 982.1840  | 5000.650  |\n",
       "| ABCB11 |   0.4803  |    0.000  |    1.7775 |   0.0000  |    0.000  |\n",
       "\n"
      ],
      "text/plain": [
       "       TCGA-OR-A5J1-01A-11R-A29S-07 TCGA-OR-A5J2-01A-11R-A29S-07\n",
       "A1CF     0.0000                        0.000                    \n",
       "ABCA1  319.4040                     1071.800                    \n",
       "ABCA8    4.3228                      121.997                    \n",
       "ABCB11   0.4803                        0.000                    \n",
       "       TCGA-OR-A5J3-01A-11R-A29S-07 TCGA-OR-A5J5-01A-11R-A29S-07\n",
       "A1CF      0.5925                      1.5492                    \n",
       "ABCA1   896.4600                    310.6120                    \n",
       "ABCA8  1368.6900                    982.1840                    \n",
       "ABCB11    1.7775                      0.0000                    \n",
       "       TCGA-OR-A5J6-01A-31R-A29S-07\n",
       "A1CF      0.000                    \n",
       "ABCA1   800.283                    \n",
       "ABCA8  5000.650                    \n",
       "ABCB11    0.000                    "
      ]
     },
     "metadata": {},
     "output_type": "display_data"
    }
   ],
   "source": [
    "#loading TCGA PanCancer EB++ expression data, subset to the pertinent genes.\n",
    "\n",
    "load('../shiny-app/Immune-Subtype-Clustering/data/ebpp_subset.rda')\n",
    "dim(datSubset)\n",
    "datSubset[1:4,1:5]"
   ]
  },
  {
   "cell_type": "code",
   "execution_count": 40,
   "metadata": {},
   "outputs": [
    {
     "data": {
      "text/html": [
       "<table>\n",
       "<thead><tr><th scope=col>AliquotBarcode</th><th scope=col>SampleBarcode</th><th scope=col>ClusterModel1</th><th scope=col>ClusterModel2</th><th scope=col>LIexpression_score</th><th scope=col>CSF1_response</th><th scope=col>TGFB_score_21050467</th><th scope=col>Module3_IFN_score</th><th scope=col>CHANG_CORE_SERUM_RESPONSE_UP</th></tr></thead>\n",
       "<tbody>\n",
       "\t<tr><td>TCGA.02.0047.01A.01R.1849.01</td><td>TCGA-02-0047-01A            </td><td>4                           </td><td>4                           </td><td>-1.3536972                  </td><td>0.8995777                   </td><td> 0.09838865                 </td><td>-0.43775189                 </td><td>-0.5989618                  </td></tr>\n",
       "\t<tr><td>TCGA.02.0055.01A.01R.1849.01</td><td>TCGA-02-0055-01A            </td><td>4                           </td><td>4                           </td><td>-0.5016848                  </td><td>1.4674281                   </td><td> 1.41870736                 </td><td> 0.03473346                 </td><td> 0.6990816                  </td></tr>\n",
       "\t<tr><td>TCGA.02.2483.01A.01R.1849.01</td><td>TCGA-02-2483-01A            </td><td>4                           </td><td>4                           </td><td>-0.9197809                  </td><td>0.4884155                   </td><td>-0.50393689                 </td><td>-0.68551726                 </td><td> 1.0855086                  </td></tr>\n",
       "\t<tr><td>TCGA.02.2485.01A.01R.1849.01</td><td>TCGA-02-2485-01A            </td><td>4                           </td><td>4                           </td><td>-0.7810493                  </td><td>0.1039455                   </td><td>-0.65700848                 </td><td> 1.49949319                 </td><td> 0.4496605                  </td></tr>\n",
       "\t<tr><td>TCGA.02.2486.01A.01R.1849.01</td><td>TCGA-02-2486-01A            </td><td>4                           </td><td>4                           </td><td>-0.0361280                  </td><td>1.8245642                   </td><td>-0.27930992                 </td><td> 2.53785832                 </td><td> 0.1475449                  </td></tr>\n",
       "\t<tr><td>TCGA.04.1348.01A.01R.1565.13</td><td>TCGA-04-1348-01A            </td><td>2                           </td><td>2                           </td><td> 0.6439911                  </td><td>0.7957605                   </td><td>-0.63769666                 </td><td> 0.90119552                 </td><td> 1.8003985                  </td></tr>\n",
       "</tbody>\n",
       "</table>\n"
      ],
      "text/latex": [
       "\\begin{tabular}{r|lllllllll}\n",
       " AliquotBarcode & SampleBarcode & ClusterModel1 & ClusterModel2 & LIexpression\\_score & CSF1\\_response & TGFB\\_score\\_21050467 & Module3\\_IFN\\_score & CHANG\\_CORE\\_SERUM\\_RESPONSE\\_UP\\\\\n",
       "\\hline\n",
       "\t TCGA.02.0047.01A.01R.1849.01 & TCGA-02-0047-01A             & 4                            & 4                            & -1.3536972                   & 0.8995777                    &  0.09838865                  & -0.43775189                  & -0.5989618                  \\\\\n",
       "\t TCGA.02.0055.01A.01R.1849.01 & TCGA-02-0055-01A             & 4                            & 4                            & -0.5016848                   & 1.4674281                    &  1.41870736                  &  0.03473346                  &  0.6990816                  \\\\\n",
       "\t TCGA.02.2483.01A.01R.1849.01 & TCGA-02-2483-01A             & 4                            & 4                            & -0.9197809                   & 0.4884155                    & -0.50393689                  & -0.68551726                  &  1.0855086                  \\\\\n",
       "\t TCGA.02.2485.01A.01R.1849.01 & TCGA-02-2485-01A             & 4                            & 4                            & -0.7810493                   & 0.1039455                    & -0.65700848                  &  1.49949319                  &  0.4496605                  \\\\\n",
       "\t TCGA.02.2486.01A.01R.1849.01 & TCGA-02-2486-01A             & 4                            & 4                            & -0.0361280                   & 1.8245642                    & -0.27930992                  &  2.53785832                  &  0.1475449                  \\\\\n",
       "\t TCGA.04.1348.01A.01R.1565.13 & TCGA-04-1348-01A             & 2                            & 2                            &  0.6439911                   & 0.7957605                    & -0.63769666                  &  0.90119552                  &  1.8003985                  \\\\\n",
       "\\end{tabular}\n"
      ],
      "text/markdown": [
       "\n",
       "| AliquotBarcode | SampleBarcode | ClusterModel1 | ClusterModel2 | LIexpression_score | CSF1_response | TGFB_score_21050467 | Module3_IFN_score | CHANG_CORE_SERUM_RESPONSE_UP |\n",
       "|---|---|---|---|---|---|---|---|---|\n",
       "| TCGA.02.0047.01A.01R.1849.01 | TCGA-02-0047-01A             | 4                            | 4                            | -1.3536972                   | 0.8995777                    |  0.09838865                  | -0.43775189                  | -0.5989618                   |\n",
       "| TCGA.02.0055.01A.01R.1849.01 | TCGA-02-0055-01A             | 4                            | 4                            | -0.5016848                   | 1.4674281                    |  1.41870736                  |  0.03473346                  |  0.6990816                   |\n",
       "| TCGA.02.2483.01A.01R.1849.01 | TCGA-02-2483-01A             | 4                            | 4                            | -0.9197809                   | 0.4884155                    | -0.50393689                  | -0.68551726                  |  1.0855086                   |\n",
       "| TCGA.02.2485.01A.01R.1849.01 | TCGA-02-2485-01A             | 4                            | 4                            | -0.7810493                   | 0.1039455                    | -0.65700848                  |  1.49949319                  |  0.4496605                   |\n",
       "| TCGA.02.2486.01A.01R.1849.01 | TCGA-02-2486-01A             | 4                            | 4                            | -0.0361280                   | 1.8245642                    | -0.27930992                  |  2.53785832                  |  0.1475449                   |\n",
       "| TCGA.04.1348.01A.01R.1565.13 | TCGA-04-1348-01A             | 2                            | 2                            |  0.6439911                   | 0.7957605                    | -0.63769666                  |  0.90119552                  |  1.8003985                   |\n",
       "\n"
      ],
      "text/plain": [
       "  AliquotBarcode               SampleBarcode    ClusterModel1 ClusterModel2\n",
       "1 TCGA.02.0047.01A.01R.1849.01 TCGA-02-0047-01A 4             4            \n",
       "2 TCGA.02.0055.01A.01R.1849.01 TCGA-02-0055-01A 4             4            \n",
       "3 TCGA.02.2483.01A.01R.1849.01 TCGA-02-2483-01A 4             4            \n",
       "4 TCGA.02.2485.01A.01R.1849.01 TCGA-02-2485-01A 4             4            \n",
       "5 TCGA.02.2486.01A.01R.1849.01 TCGA-02-2486-01A 4             4            \n",
       "6 TCGA.04.1348.01A.01R.1565.13 TCGA-04-1348-01A 2             2            \n",
       "  LIexpression_score CSF1_response TGFB_score_21050467 Module3_IFN_score\n",
       "1 -1.3536972         0.8995777      0.09838865         -0.43775189      \n",
       "2 -0.5016848         1.4674281      1.41870736          0.03473346      \n",
       "3 -0.9197809         0.4884155     -0.50393689         -0.68551726      \n",
       "4 -0.7810493         0.1039455     -0.65700848          1.49949319      \n",
       "5 -0.0361280         1.8245642     -0.27930992          2.53785832      \n",
       "6  0.6439911         0.7957605     -0.63769666          0.90119552      \n",
       "  CHANG_CORE_SERUM_RESPONSE_UP\n",
       "1 -0.5989618                  \n",
       "2  0.6990816                  \n",
       "3  1.0855086                  \n",
       "4  0.4496605                  \n",
       "5  0.1475449                  \n",
       "6  1.8003985                  "
      ]
     },
     "metadata": {},
     "output_type": "display_data"
    }
   ],
   "source": [
    "# need to subset before transforms\n",
    "reportedScores <- read.table('../shiny-app/Immune-Subtype-Clustering//data//five_signature_mclust_ensemble_results.tsv.gz', sep='\\t', header=T, stringsAsFactors = F)\n",
    "head(reportedScores)"
   ]
  },
  {
   "cell_type": "code",
   "execution_count": 41,
   "metadata": {},
   "outputs": [],
   "source": [
    "# fix the TCGA barcodes # \n",
    "library(stringr)\n",
    "x <- str_replace_all(reportedScores$AliquotBarcode, pattern='\\\\.', replacement='-')\n",
    "reportedScores$AliquotBarcodeDashes <- x\n",
    "rownames(reportedScores) <- reportedScores$AliquotBarcodeDashes\n"
   ]
  },
  {
   "cell_type": "code",
   "execution_count": 42,
   "metadata": {},
   "outputs": [
    {
     "data": {
      "image/png": "[encoded data removed]",
      "text/plain": [
       "plot without title"
      ]
     },
     "metadata": {},
     "output_type": "display_data"
    }
   ],
   "source": [
    "# subset the data before normalizing them\n",
    "datSubset <- datSubset[,colnames(datSubset) %in% x]\n",
    "\n",
    "qplot(log2(datSubset[,1]+1), geom='density')"
   ]
  },
  {
   "cell_type": "code",
   "execution_count": 43,
   "metadata": {},
   "outputs": [
    {
     "data": {
      "text/html": [
       "<ol class=list-inline>\n",
       "\t<li>20130</li>\n",
       "\t<li>6</li>\n",
       "</ol>\n"
      ],
      "text/latex": [
       "\\begin{enumerate*}\n",
       "\\item 20130\n",
       "\\item 6\n",
       "\\end{enumerate*}\n"
      ],
      "text/markdown": [
       "1. 20130\n",
       "2. 6\n",
       "\n",
       "\n"
      ],
      "text/plain": [
       "[1] 20130     6"
      ]
     },
     "metadata": {},
     "output_type": "display_data"
    },
    {
     "data": {
      "image/png": "[encoded data removed]",
      "text/plain": [
       "plot without title"
      ]
     },
     "metadata": {},
     "output_type": "display_data"
    }
   ],
   "source": [
    "# bring in the new data #\n",
    "# found some RPKM RNA-seq data\n",
    "# \n",
    "load('../ExtraData/newDat.rda')\n",
    "\n",
    "dim(newDat)\n",
    "\n",
    "qplot(log2(newDat[,2]+1), geom='density')"
   ]
  },
  {
   "cell_type": "code",
   "execution_count": 44,
   "metadata": {},
   "outputs": [],
   "source": [
    "# then let's get all the genes we need for the 5 signatures\n",
    "load('../shiny-app/Immune-Subtype-Clustering/data/comparative_immuneSigs_geneLists4.rda')"
   ]
  },
  {
   "cell_type": "code",
   "execution_count": 45,
   "metadata": {},
   "outputs": [
    {
     "data": {
      "text/html": [
       "<ol class=list-inline>\n",
       "\t<li>'CCL5'</li>\n",
       "\t<li>'CD19'</li>\n",
       "\t<li>'CD37'</li>\n",
       "\t<li>'CD3D'</li>\n",
       "\t<li>'CD3E'</li>\n",
       "\t<li>'CD3G'</li>\n",
       "</ol>\n"
      ],
      "text/latex": [
       "\\begin{enumerate*}\n",
       "\\item 'CCL5'\n",
       "\\item 'CD19'\n",
       "\\item 'CD37'\n",
       "\\item 'CD3D'\n",
       "\\item 'CD3E'\n",
       "\\item 'CD3G'\n",
       "\\end{enumerate*}\n"
      ],
      "text/markdown": [
       "1. 'CCL5'\n",
       "2. 'CD19'\n",
       "3. 'CD37'\n",
       "4. 'CD3D'\n",
       "5. 'CD3E'\n",
       "6. 'CD3G'\n",
       "\n",
       "\n"
      ],
      "text/plain": [
       "[1] \"CCL5\" \"CD19\" \"CD37\" \"CD3D\" \"CD3E\" \"CD3G\""
      ]
     },
     "metadata": {},
     "output_type": "display_data"
    },
    {
     "data": {
      "text/html": [
       "446"
      ],
      "text/latex": [
       "446"
      ],
      "text/markdown": [
       "446"
      ],
      "text/plain": [
       "[1] 446"
      ]
     },
     "metadata": {},
     "output_type": "display_data"
    },
    {
     "data": {
      "text/html": [
       "2227"
      ],
      "text/latex": [
       "2227"
      ],
      "text/markdown": [
       "2227"
      ],
      "text/plain": [
       "[1] 2227"
      ]
     },
     "metadata": {},
     "output_type": "display_data"
    },
    {
     "data": {
      "text/html": [
       "417"
      ],
      "text/latex": [
       "417"
      ],
      "text/markdown": [
       "417"
      ],
      "text/plain": [
       "[1] 417"
      ]
     },
     "metadata": {},
     "output_type": "display_data"
    }
   ],
   "source": [
    "\n",
    "# just to check the gene content of each data set #\n",
    "\n",
    "sigNames <- c('LIexpression_score','CSF1_response','TGFB_score_21050467','Module3_IFN_score','CHANG_CORE_SERUM_RESPONSE_UP')\n",
    "genesWeNeed <- c()\n",
    "\n",
    "for (si in sigs1_2_eg2) {\n",
    "    if (si$src %in% sigNames) {\n",
    "        genesWeNeed <- c(genesWeNeed, si$probes)\n",
    "    }\n",
    "}\n",
    "\n",
    "head(genesWeNeed)\n",
    "length(genesWeNeed)\n",
    "\n",
    "sharedGenes <- intersect(rownames(datSubset), rownames(newDat))\n",
    "length(sharedGenes)\n",
    "\n",
    "sharedGenes <- intersect(genesWeNeed, rownames(newDat))\n",
    "length(sharedGenes)\n",
    "\n",
    "# missing some genes. #"
   ]
  },
  {
   "cell_type": "markdown",
   "metadata": {},
   "source": [
    "### Now, we join the new data with TCGA data ... there should be some aspect of batch correction and/or normalization."
   ]
  },
  {
   "cell_type": "code",
   "execution_count": 46,
   "metadata": {},
   "outputs": [
    {
     "data": {
      "text/html": [
       "<ol class=list-inline>\n",
       "\t<li>2227</li>\n",
       "\t<li>9135</li>\n",
       "</ol>\n"
      ],
      "text/latex": [
       "\\begin{enumerate*}\n",
       "\\item 2227\n",
       "\\item 9135\n",
       "\\end{enumerate*}\n"
      ],
      "text/markdown": [
       "1. 2227\n",
       "2. 9135\n",
       "\n",
       "\n"
      ],
      "text/plain": [
       "[1] 2227 9135"
      ]
     },
     "metadata": {},
     "output_type": "display_data"
    }
   ],
   "source": [
    "\n",
    "# join the data sources\n",
    "\n",
    "sharedGenes <- intersect(rownames(datSubset), rownames(newDat))\n",
    "\n",
    "datSubset2 <- cbind(datSubset[sharedGenes,], newDat[sharedGenes,])\n",
    "\n",
    "dim(datSubset2)"
   ]
  },
  {
   "cell_type": "code",
   "execution_count": 47,
   "metadata": {},
   "outputs": [
    {
     "data": {
      "text/html": [
       "<ol class=list-inline>\n",
       "\t<li>2227</li>\n",
       "\t<li>9135</li>\n",
       "</ol>\n"
      ],
      "text/latex": [
       "\\begin{enumerate*}\n",
       "\\item 2227\n",
       "\\item 9135\n",
       "\\end{enumerate*}\n"
      ],
      "text/markdown": [
       "1. 2227\n",
       "2. 9135\n",
       "\n",
       "\n"
      ],
      "text/plain": [
       "[1] 2227 9135"
      ]
     },
     "metadata": {},
     "output_type": "display_data"
    },
    {
     "data": {
      "text/html": [
       "<ol class=list-inline>\n",
       "\t<li>2227</li>\n",
       "\t<li>9135</li>\n",
       "</ol>\n"
      ],
      "text/latex": [
       "\\begin{enumerate*}\n",
       "\\item 2227\n",
       "\\item 9135\n",
       "\\end{enumerate*}\n"
      ],
      "text/markdown": [
       "1. 2227\n",
       "2. 9135\n",
       "\n",
       "\n"
      ],
      "text/plain": [
       "[1] 2227 9135"
      ]
     },
     "metadata": {},
     "output_type": "display_data"
    }
   ],
   "source": [
    "\n",
    "# apply the transforms #\n",
    "# first the log2\n",
    "datSubsetTransformed <- apply(datSubset2, 2, function(a) log2(a+1))\n",
    "\n",
    "dim(datSubsetTransformed)\n",
    "                              \n",
    "# then the median scale\n",
    "datSubsetTransformed <- t(apply(datSubsetTransformed, 1, function(a) a - median(a, na.rm=T)))\n",
    "                              \n",
    "dim(datSubsetTransformed)\n",
    "\n",
    "                            "
   ]
  },
  {
   "cell_type": "code",
   "execution_count": 48,
   "metadata": {},
   "outputs": [
    {
     "data": {
      "image/png": "[encoded data removed]",
      "text/plain": [
       "plot without title"
      ]
     },
     "metadata": {},
     "output_type": "display_data"
    },
    {
     "data": {
      "image/png": "[encoded data removed]",
      "text/plain": [
       "plot without title"
      ]
     },
     "metadata": {},
     "output_type": "display_data"
    }
   ],
   "source": [
    "library(ggplot2)\n",
    "options(repr.plot.width=4, repr.plot.height=3)\n",
    "\n",
    "qplot(datSubsetTransformed[,1], geom='density', xlab='TCGA sample')\n",
    "qplot(datSubsetTransformed[,9133], geom='density', xlab='new data')\n",
    "\n"
   ]
  },
  {
   "cell_type": "code",
   "execution_count": null,
   "metadata": {},
   "outputs": [],
   "source": []
  },
  {
   "cell_type": "code",
   "execution_count": 49,
   "metadata": {},
   "outputs": [
    {
     "name": "stdout",
     "output_type": "stream",
     "text": [
      "[1] \"DONE MEAN\"\n",
      "[1] \"DONE MEDIAN\"\n",
      "[1] \"DONE WEIGHTED MEAN\"\n",
      "[1] \"DONE MODULES\"\n",
      "GP11_Immune_IFN \n",
      "[1] \"DONE ZHANG\"\n",
      "[1] \"DONE KEGG\"\n",
      "[1] \"DONE CD8 RATIO\"\n",
      "[1] \"DONE TAMsurr\"\n",
      "[1] \"DONE CHANG CORE\"\n",
      "CSR_Activated_15701700 \n",
      "[1] \"DONE CSR\"\n",
      "B_cell_PCA_16704732 \n",
      "CD8_PCA_16704732 \n",
      "GRANS_PCA_16704732 \n",
      "LYMPHS_PCA_16704732 \n",
      "T_cell_PCA_16704732 \n",
      "TGFB_PCA_17349583 \n",
      "Rotterdam_ERneg_PCA_15721472 \n",
      "HER2_Immune_PCA_18006808 \n",
      "[1] \"DONE PCA\"\n",
      "[1] \"DONE DONE\"\n"
     ]
    }
   ],
   "source": [
    "\n",
    "# and we use the scoring code to produce scores #\n",
    "\n",
    "source('../Scripts/ImmuneSigs68_function.R')\n",
    "scores <- ImmuneSigs_function(datSubsetTransformed, \n",
    "                              sigs1_2_eg2,\n",
    "                              sigs12_weighted_means,\n",
    "                              sigs12_module_weights,\n",
    "                              sigs1_2_names2,\n",
    "                              sigs1_2_type2)\n"
   ]
  },
  {
   "cell_type": "code",
   "execution_count": 50,
   "metadata": {},
   "outputs": [
    {
     "data": {
      "text/html": [
       "<table>\n",
       "<thead><tr><th></th><th scope=col>TCGA-OR-A5J1-01A-11R-A29S-07</th><th scope=col>TCGA-OR-A5J2-01A-11R-A29S-07</th><th scope=col>TCGA-OR-A5J3-01A-11R-A29S-07</th><th scope=col>rpkm.exp_005_shTRPS1_seq2</th><th scope=col>rpkm.exp_005_shTRPS1_seq3</th></tr></thead>\n",
       "<tbody>\n",
       "\t<tr><th scope=row>ICS5_score</th><td>-3.0239 </td><td>-2.1914 </td><td>-1.4008 </td><td> -4.8444</td><td> -4.9020</td></tr>\n",
       "\t<tr><th scope=row>LIexpression_score</th><td>-2.0096 </td><td>-1.6626 </td><td>-3.0884 </td><td> -6.1574</td><td> -6.1652</td></tr>\n",
       "\t<tr><th scope=row>Chemokine12_score</th><td>-4.0751 </td><td>-2.2761 </td><td>-4.5604 </td><td> -6.9282</td><td> -6.9418</td></tr>\n",
       "\t<tr><th scope=row>NHI_5gene_score</th><td>-3.5295 </td><td>-3.4377 </td><td>-3.1605 </td><td> -7.8366</td><td> -7.7367</td></tr>\n",
       "\t<tr><th scope=row>CD68</th><td>-2.0480 </td><td>-1.5651 </td><td>-1.9824 </td><td>-10.2040</td><td>-10.0477</td></tr>\n",
       "</tbody>\n",
       "</table>\n"
      ],
      "text/latex": [
       "\\begin{tabular}{r|lllll}\n",
       "  & TCGA-OR-A5J1-01A-11R-A29S-07 & TCGA-OR-A5J2-01A-11R-A29S-07 & TCGA-OR-A5J3-01A-11R-A29S-07 & rpkm.exp\\_005\\_shTRPS1\\_seq2 & rpkm.exp\\_005\\_shTRPS1\\_seq3\\\\\n",
       "\\hline\n",
       "\tICS5\\_score & -3.0239  & -2.1914  & -1.4008  &  -4.8444 &  -4.9020\\\\\n",
       "\tLIexpression\\_score & -2.0096  & -1.6626  & -3.0884  &  -6.1574 &  -6.1652\\\\\n",
       "\tChemokine12\\_score & -4.0751  & -2.2761  & -4.5604  &  -6.9282 &  -6.9418\\\\\n",
       "\tNHI\\_5gene\\_score & -3.5295  & -3.4377  & -3.1605  &  -7.8366 &  -7.7367\\\\\n",
       "\tCD68 & -2.0480  & -1.5651  & -1.9824  & -10.2040 & -10.0477\\\\\n",
       "\\end{tabular}\n"
      ],
      "text/markdown": [
       "\n",
       "| <!--/--> | TCGA-OR-A5J1-01A-11R-A29S-07 | TCGA-OR-A5J2-01A-11R-A29S-07 | TCGA-OR-A5J3-01A-11R-A29S-07 | rpkm.exp_005_shTRPS1_seq2 | rpkm.exp_005_shTRPS1_seq3 |\n",
       "|---|---|---|---|---|---|\n",
       "| ICS5_score | -3.0239  | -2.1914  | -1.4008  |  -4.8444 |  -4.9020 |\n",
       "| LIexpression_score | -2.0096  | -1.6626  | -3.0884  |  -6.1574 |  -6.1652 |\n",
       "| Chemokine12_score | -4.0751  | -2.2761  | -4.5604  |  -6.9282 |  -6.9418 |\n",
       "| NHI_5gene_score | -3.5295  | -3.4377  | -3.1605  |  -7.8366 |  -7.7367 |\n",
       "| CD68 | -2.0480  | -1.5651  | -1.9824  | -10.2040 | -10.0477 |\n",
       "\n"
      ],
      "text/plain": [
       "                   TCGA-OR-A5J1-01A-11R-A29S-07 TCGA-OR-A5J2-01A-11R-A29S-07\n",
       "ICS5_score         -3.0239                      -2.1914                     \n",
       "LIexpression_score -2.0096                      -1.6626                     \n",
       "Chemokine12_score  -4.0751                      -2.2761                     \n",
       "NHI_5gene_score    -3.5295                      -3.4377                     \n",
       "CD68               -2.0480                      -1.5651                     \n",
       "                   TCGA-OR-A5J3-01A-11R-A29S-07 rpkm.exp_005_shTRPS1_seq2\n",
       "ICS5_score         -1.4008                       -4.8444                 \n",
       "LIexpression_score -3.0884                       -6.1574                 \n",
       "Chemokine12_score  -4.5604                       -6.9282                 \n",
       "NHI_5gene_score    -3.1605                       -7.8366                 \n",
       "CD68               -1.9824                      -10.2040                 \n",
       "                   rpkm.exp_005_shTRPS1_seq3\n",
       "ICS5_score          -4.9020                 \n",
       "LIexpression_score  -6.1652                 \n",
       "Chemokine12_score   -6.9418                 \n",
       "NHI_5gene_score     -7.7367                 \n",
       "CD68               -10.0477                 "
      ]
     },
     "metadata": {},
     "output_type": "display_data"
    }
   ],
   "source": [
    "scores[1:5,c(1,2,3,9134,9135)]"
   ]
  },
  {
   "cell_type": "code",
   "execution_count": 52,
   "metadata": {},
   "outputs": [
    {
     "name": "stderr",
     "output_type": "stream",
     "text": [
      "Loading required package: clue\n",
      "Iteration: 0 *** value: 8039.57\n"
     ]
    }
   ],
   "source": [
    "# in the scripts we did batch correction\n",
    "\n",
    "source('../Scripts/signature_mclust_ensemble.R')\n",
    "\n",
    "# and load the models trained on TCGA data #\n",
    "load('../shiny-app/Immune-Subtype-Clustering/data/wolf_set_slim1.rda')\n",
    "\n",
    "zscore.cols2<-function(x){\n",
    "    return((apply(x, 2, function(x) (x - median(na.omit(x)))/sd(na.omit(x)))))\n",
    "}\n",
    "\n",
    "                  \n",
    "# and we subset the 5 scores used in clustering\n",
    "idx <- c(\"LIexpression_score\", \"CSF1_response\", \"TGFB_score_21050467\", \"Module3_IFN_score\", \"CHANG_CORE_SERUM_RESPONSE_UP\")\n",
    "scores <- t(scores[idx,])\n",
    "zscores <- zscore.cols2(scores)\n",
    "\n",
    "calls <- consensusEnsemble(mods2, zscores)\n"
   ]
  },
  {
   "cell_type": "code",
   "execution_count": 53,
   "metadata": {},
   "outputs": [],
   "source": [
    "# Then we can take the cluster with top probability #\n",
    "\n",
    "maxcalls <- apply(calls$.Data, 1, function(a) which(a == max(a))[1])\n",
    "names(maxcalls) <- rownames(scores)\n"
   ]
  },
  {
   "cell_type": "markdown",
   "metadata": {},
   "source": [
    "### At this point, the maxcalls, the cluster labels on each sample, are essentially random. \n",
    "We need to take the additional step of aligning them with the reported clusters."
   ]
  },
  {
   "cell_type": "code",
   "execution_count": 54,
   "metadata": {
    "scrolled": true
   },
   "outputs": [
    {
     "data": {
      "text/plain": [
       "        NewCalls\n",
       "Reported    1    2    3    4    5    6\n",
       "       1   26    0   26 2289   48   27\n",
       "       2   12    0    8    6 2561    5\n",
       "       3   16    1    5   23    3 2349\n",
       "       4 1058    3    3   28   16   51\n",
       "       5   11  365    0    0    0    9\n",
       "       6    7    0  135    5    8   25"
      ]
     },
     "metadata": {},
     "output_type": "display_data"
    },
    {
     "data": {
      "text/html": [
       "<ol class=list-inline>\n",
       "\t<li>26</li>\n",
       "\t<li>0</li>\n",
       "\t<li>26</li>\n",
       "\t<li>2289</li>\n",
       "\t<li>48</li>\n",
       "\t<li>27</li>\n",
       "</ol>\n"
      ],
      "text/latex": [
       "\\begin{enumerate*}\n",
       "\\item 26\n",
       "\\item 0\n",
       "\\item 26\n",
       "\\item 2289\n",
       "\\item 48\n",
       "\\item 27\n",
       "\\end{enumerate*}\n"
      ],
      "text/markdown": [
       "1. 26\n",
       "2. 0\n",
       "3. 26\n",
       "4. 2289\n",
       "5. 48\n",
       "6. 27\n",
       "\n",
       "\n"
      ],
      "text/plain": [
       "[1]   26    0   26 2289   48   27"
      ]
     },
     "metadata": {},
     "output_type": "display_data"
    }
   ],
   "source": [
    "# get the overlap between reported clusters and new called clusters\n",
    "\n",
    "sharedIDs <- intersect(reportedScores$AliquotBarcodeDashes, rownames(scores))\n",
    "\n",
    "t1 <-table(Reported=as.numeric(reportedScores[sharedIDs, 'ClusterModel1']),\n",
    "           NewCalls=as.numeric(maxcalls[sharedIDs]))\n",
    "\n",
    "\n",
    "t1\n",
    "as.numeric(t1[1,])"
   ]
  },
  {
   "cell_type": "markdown",
   "metadata": {},
   "source": [
    "We need to make column swaps until the diagonal is maximized."
   ]
  },
  {
   "cell_type": "code",
   "execution_count": 55,
   "metadata": {},
   "outputs": [
    {
     "name": "stdout",
     "output_type": "stream",
     "text": [
      "[1] \"aligned cluster labels\"\n"
     ]
    },
    {
     "data": {
      "text/html": [
       "<ol class=list-inline>\n",
       "\t<li>4</li>\n",
       "\t<li>5</li>\n",
       "\t<li>6</li>\n",
       "\t<li>1</li>\n",
       "\t<li>2</li>\n",
       "\t<li>3</li>\n",
       "</ol>\n"
      ],
      "text/latex": [
       "\\begin{enumerate*}\n",
       "\\item 4\n",
       "\\item 5\n",
       "\\item 6\n",
       "\\item 1\n",
       "\\item 2\n",
       "\\item 3\n",
       "\\end{enumerate*}\n"
      ],
      "text/markdown": [
       "1. 4\n",
       "2. 5\n",
       "3. 6\n",
       "4. 1\n",
       "5. 2\n",
       "6. 3\n",
       "\n",
       "\n"
      ],
      "text/plain": [
       "[1] 4 5 6 1 2 3"
      ]
     },
     "metadata": {},
     "output_type": "display_data"
    },
    {
     "name": "stdout",
     "output_type": "stream",
     "text": [
      "[1] \"reordered table\"\n"
     ]
    },
    {
     "data": {
      "text/plain": [
       "        NewCalls\n",
       "Reported    4    5    6    1    2    3\n",
       "       1 2289   48   27   26    0   26\n",
       "       2    6 2561    5   12    0    8\n",
       "       3   23    3 2349   16    1    5\n",
       "       4   28   16   51 1058    3    3\n",
       "       5    0    0    9   11  365    0\n",
       "       6    5    8   25    7    0  135"
      ]
     },
     "metadata": {},
     "output_type": "display_data"
    }
   ],
   "source": [
    "# we'll use a greedy method for now.\n",
    "# this should work OK, because the largest \n",
    "# clusters were the first few anyway\n",
    "\n",
    "reported <- 1:6\n",
    "optcalls <- 1:6\n",
    "\n",
    "for (i in reported) {\n",
    "    \n",
    "    # for subtype i, where did most of the samples end up?\n",
    "    j <- which(as.numeric(t1[i,]) == max(as.numeric(t1[i,])))\n",
    "    # rename maxcall j <- i\n",
    "    optcalls[i] <- j\n",
    "}\n",
    "\n",
    "print(\"aligned cluster labels\")\n",
    "optcalls\n",
    "\n",
    "print('reordered table')\n",
    "t1[,optcalls]\n",
    "\n"
   ]
  },
  {
   "cell_type": "markdown",
   "metadata": {},
   "source": [
    "### Now we can apply the new cluster labels to all samples, including the new-data-samples."
   ]
  },
  {
   "cell_type": "code",
   "execution_count": 56,
   "metadata": {},
   "outputs": [
    {
     "data": {
      "text/html": [
       "<table>\n",
       "<thead><tr><th></th><th scope=col></th><th scope=col></th><th scope=col></th><th scope=col></th><th scope=col></th><th scope=col></th><th scope=col>MaxCalls</th><th scope=col>AlignedCalls</th></tr></thead>\n",
       "<tbody>\n",
       "\t<tr><th scope=row>TCGA-OR-A5J1-01A-11R-A29S-07</th><td>0.7500000 </td><td>0.06640625</td><td>0.15234375</td><td>0.00781250</td><td>0.00390625</td><td>0.01953125</td><td>1         </td><td>4         </td></tr>\n",
       "\t<tr><th scope=row>TCGA-OR-A5J2-01A-11R-A29S-07</th><td>0.0000000 </td><td>0.01562500</td><td>0.01953125</td><td>0.00390625</td><td>0.00000000</td><td>0.96093750</td><td>6         </td><td>3         </td></tr>\n",
       "\t<tr><th scope=row>TCGA-OR-A5J3-01A-11R-A29S-07</th><td>0.3476562 </td><td>0.02734375</td><td>0.16406250</td><td>0.01953125</td><td>0.00000000</td><td>0.44140625</td><td>6         </td><td>3         </td></tr>\n",
       "\t<tr><th scope=row>TCGA-OR-A5J5-01A-11R-A29S-07</th><td>0.7578125 </td><td>0.03125000</td><td>0.17968750</td><td>0.01953125</td><td>0.00781250</td><td>0.00390625</td><td>1         </td><td>4         </td></tr>\n",
       "\t<tr><th scope=row>TCGA-OR-A5J6-01A-31R-A29S-07</th><td>0.6328125 </td><td>0.10937500</td><td>0.06250000</td><td>0.00390625</td><td>0.00000000</td><td>0.19140625</td><td>1         </td><td>4         </td></tr>\n",
       "\t<tr><th scope=row>TCGA-OR-A5J7-01A-11R-A29S-07</th><td>0.7890625 </td><td>0.00000000</td><td>0.18750000</td><td>0.01171875</td><td>0.01171875</td><td>0.00000000</td><td>1         </td><td>4         </td></tr>\n",
       "</tbody>\n",
       "</table>\n"
      ],
      "text/latex": [
       "\\begin{tabular}{r|llllllll}\n",
       "  &  &  &  &  &  &  & MaxCalls & AlignedCalls\\\\\n",
       "\\hline\n",
       "\tTCGA-OR-A5J1-01A-11R-A29S-07 & 0.7500000  & 0.06640625 & 0.15234375 & 0.00781250 & 0.00390625 & 0.01953125 & 1          & 4         \\\\\n",
       "\tTCGA-OR-A5J2-01A-11R-A29S-07 & 0.0000000  & 0.01562500 & 0.01953125 & 0.00390625 & 0.00000000 & 0.96093750 & 6          & 3         \\\\\n",
       "\tTCGA-OR-A5J3-01A-11R-A29S-07 & 0.3476562  & 0.02734375 & 0.16406250 & 0.01953125 & 0.00000000 & 0.44140625 & 6          & 3         \\\\\n",
       "\tTCGA-OR-A5J5-01A-11R-A29S-07 & 0.7578125  & 0.03125000 & 0.17968750 & 0.01953125 & 0.00781250 & 0.00390625 & 1          & 4         \\\\\n",
       "\tTCGA-OR-A5J6-01A-31R-A29S-07 & 0.6328125  & 0.10937500 & 0.06250000 & 0.00390625 & 0.00000000 & 0.19140625 & 1          & 4         \\\\\n",
       "\tTCGA-OR-A5J7-01A-11R-A29S-07 & 0.7890625  & 0.00000000 & 0.18750000 & 0.01171875 & 0.01171875 & 0.00000000 & 1          & 4         \\\\\n",
       "\\end{tabular}\n"
      ],
      "text/markdown": [
       "\n",
       "| <!--/--> |  |  |  |  |  |  | MaxCalls | AlignedCalls |\n",
       "|---|---|---|---|---|---|---|---|---|\n",
       "| TCGA-OR-A5J1-01A-11R-A29S-07 | 0.7500000  | 0.06640625 | 0.15234375 | 0.00781250 | 0.00390625 | 0.01953125 | 1          | 4          |\n",
       "| TCGA-OR-A5J2-01A-11R-A29S-07 | 0.0000000  | 0.01562500 | 0.01953125 | 0.00390625 | 0.00000000 | 0.96093750 | 6          | 3          |\n",
       "| TCGA-OR-A5J3-01A-11R-A29S-07 | 0.3476562  | 0.02734375 | 0.16406250 | 0.01953125 | 0.00000000 | 0.44140625 | 6          | 3          |\n",
       "| TCGA-OR-A5J5-01A-11R-A29S-07 | 0.7578125  | 0.03125000 | 0.17968750 | 0.01953125 | 0.00781250 | 0.00390625 | 1          | 4          |\n",
       "| TCGA-OR-A5J6-01A-31R-A29S-07 | 0.6328125  | 0.10937500 | 0.06250000 | 0.00390625 | 0.00000000 | 0.19140625 | 1          | 4          |\n",
       "| TCGA-OR-A5J7-01A-11R-A29S-07 | 0.7890625  | 0.00000000 | 0.18750000 | 0.01171875 | 0.01171875 | 0.00000000 | 1          | 4          |\n",
       "\n"
      ],
      "text/plain": [
       "                                                                       \n",
       "TCGA-OR-A5J1-01A-11R-A29S-07 0.7500000 0.06640625 0.15234375 0.00781250\n",
       "TCGA-OR-A5J2-01A-11R-A29S-07 0.0000000 0.01562500 0.01953125 0.00390625\n",
       "TCGA-OR-A5J3-01A-11R-A29S-07 0.3476562 0.02734375 0.16406250 0.01953125\n",
       "TCGA-OR-A5J5-01A-11R-A29S-07 0.7578125 0.03125000 0.17968750 0.01953125\n",
       "TCGA-OR-A5J6-01A-31R-A29S-07 0.6328125 0.10937500 0.06250000 0.00390625\n",
       "TCGA-OR-A5J7-01A-11R-A29S-07 0.7890625 0.00000000 0.18750000 0.01171875\n",
       "                                                   MaxCalls AlignedCalls\n",
       "TCGA-OR-A5J1-01A-11R-A29S-07 0.00390625 0.01953125 1        4           \n",
       "TCGA-OR-A5J2-01A-11R-A29S-07 0.00000000 0.96093750 6        3           \n",
       "TCGA-OR-A5J3-01A-11R-A29S-07 0.00000000 0.44140625 6        3           \n",
       "TCGA-OR-A5J5-01A-11R-A29S-07 0.00781250 0.00390625 1        4           \n",
       "TCGA-OR-A5J6-01A-31R-A29S-07 0.00000000 0.19140625 1        4           \n",
       "TCGA-OR-A5J7-01A-11R-A29S-07 0.01171875 0.00000000 1        4           "
      ]
     },
     "metadata": {},
     "output_type": "display_data"
    }
   ],
   "source": [
    "\n",
    "results <- cbind(calls$.Data, MaxCalls=maxcalls, AlignedCalls=optcalls[maxcalls])\n",
    "\n",
    "head(results)"
   ]
  },
  {
   "cell_type": "markdown",
   "metadata": {},
   "source": [
    "*Where* did those new samples end up?  The expression profiles looked strange. They were probably not the best choice.\n"
   ]
  },
  {
   "cell_type": "code",
   "execution_count": 57,
   "metadata": {},
   "outputs": [
    {
     "data": {
      "text/html": [
       "<table>\n",
       "<thead><tr><th></th><th scope=col></th><th scope=col></th><th scope=col></th><th scope=col></th><th scope=col></th><th scope=col></th><th scope=col>MaxCalls</th><th scope=col>AlignedCalls</th></tr></thead>\n",
       "<tbody>\n",
       "\t<tr><th scope=row>rpkm.exp_005_shNTC_rep1</th><td>0.8007812 </td><td>0.0078125 </td><td>0.1562500 </td><td>0.0234375 </td><td>0.01171875</td><td>0         </td><td>1         </td><td>4         </td></tr>\n",
       "\t<tr><th scope=row>rpkm.exp_005_shNTC_rep2</th><td>0.8007812 </td><td>0.0078125 </td><td>0.1562500 </td><td>0.0234375 </td><td>0.01171875</td><td>0         </td><td>1         </td><td>4         </td></tr>\n",
       "\t<tr><th scope=row>rpkm.exp_005_shNTC_rep3</th><td>0.8007812 </td><td>0.0078125 </td><td>0.1562500 </td><td>0.0234375 </td><td>0.01171875</td><td>0         </td><td>1         </td><td>4         </td></tr>\n",
       "\t<tr><th scope=row>rpkm.exp_005_shTRPS1_seq1</th><td>0.7968750 </td><td>0.0078125 </td><td>0.1601562 </td><td>0.0234375 </td><td>0.01171875</td><td>0         </td><td>1         </td><td>4         </td></tr>\n",
       "\t<tr><th scope=row>rpkm.exp_005_shTRPS1_seq2</th><td>0.7968750 </td><td>0.0078125 </td><td>0.1601562 </td><td>0.0234375 </td><td>0.01171875</td><td>0         </td><td>1         </td><td>4         </td></tr>\n",
       "\t<tr><th scope=row>rpkm.exp_005_shTRPS1_seq3</th><td>0.7968750 </td><td>0.0078125 </td><td>0.1601562 </td><td>0.0234375 </td><td>0.01171875</td><td>0         </td><td>1         </td><td>4         </td></tr>\n",
       "</tbody>\n",
       "</table>\n"
      ],
      "text/latex": [
       "\\begin{tabular}{r|llllllll}\n",
       "  &  &  &  &  &  &  & MaxCalls & AlignedCalls\\\\\n",
       "\\hline\n",
       "\trpkm.exp\\_005\\_shNTC\\_rep1 & 0.8007812  & 0.0078125  & 0.1562500  & 0.0234375  & 0.01171875 & 0          & 1          & 4         \\\\\n",
       "\trpkm.exp\\_005\\_shNTC\\_rep2 & 0.8007812  & 0.0078125  & 0.1562500  & 0.0234375  & 0.01171875 & 0          & 1          & 4         \\\\\n",
       "\trpkm.exp\\_005\\_shNTC\\_rep3 & 0.8007812  & 0.0078125  & 0.1562500  & 0.0234375  & 0.01171875 & 0          & 1          & 4         \\\\\n",
       "\trpkm.exp\\_005\\_shTRPS1\\_seq1 & 0.7968750  & 0.0078125  & 0.1601562  & 0.0234375  & 0.01171875 & 0          & 1          & 4         \\\\\n",
       "\trpkm.exp\\_005\\_shTRPS1\\_seq2 & 0.7968750  & 0.0078125  & 0.1601562  & 0.0234375  & 0.01171875 & 0          & 1          & 4         \\\\\n",
       "\trpkm.exp\\_005\\_shTRPS1\\_seq3 & 0.7968750  & 0.0078125  & 0.1601562  & 0.0234375  & 0.01171875 & 0          & 1          & 4         \\\\\n",
       "\\end{tabular}\n"
      ],
      "text/markdown": [
       "\n",
       "| <!--/--> |  |  |  |  |  |  | MaxCalls | AlignedCalls |\n",
       "|---|---|---|---|---|---|---|---|---|\n",
       "| rpkm.exp_005_shNTC_rep1 | 0.8007812  | 0.0078125  | 0.1562500  | 0.0234375  | 0.01171875 | 0          | 1          | 4          |\n",
       "| rpkm.exp_005_shNTC_rep2 | 0.8007812  | 0.0078125  | 0.1562500  | 0.0234375  | 0.01171875 | 0          | 1          | 4          |\n",
       "| rpkm.exp_005_shNTC_rep3 | 0.8007812  | 0.0078125  | 0.1562500  | 0.0234375  | 0.01171875 | 0          | 1          | 4          |\n",
       "| rpkm.exp_005_shTRPS1_seq1 | 0.7968750  | 0.0078125  | 0.1601562  | 0.0234375  | 0.01171875 | 0          | 1          | 4          |\n",
       "| rpkm.exp_005_shTRPS1_seq2 | 0.7968750  | 0.0078125  | 0.1601562  | 0.0234375  | 0.01171875 | 0          | 1          | 4          |\n",
       "| rpkm.exp_005_shTRPS1_seq3 | 0.7968750  | 0.0078125  | 0.1601562  | 0.0234375  | 0.01171875 | 0          | 1          | 4          |\n",
       "\n"
      ],
      "text/plain": [
       "                                                                              \n",
       "rpkm.exp_005_shNTC_rep1   0.8007812 0.0078125 0.1562500 0.0234375 0.01171875 0\n",
       "rpkm.exp_005_shNTC_rep2   0.8007812 0.0078125 0.1562500 0.0234375 0.01171875 0\n",
       "rpkm.exp_005_shNTC_rep3   0.8007812 0.0078125 0.1562500 0.0234375 0.01171875 0\n",
       "rpkm.exp_005_shTRPS1_seq1 0.7968750 0.0078125 0.1601562 0.0234375 0.01171875 0\n",
       "rpkm.exp_005_shTRPS1_seq2 0.7968750 0.0078125 0.1601562 0.0234375 0.01171875 0\n",
       "rpkm.exp_005_shTRPS1_seq3 0.7968750 0.0078125 0.1601562 0.0234375 0.01171875 0\n",
       "                          MaxCalls AlignedCalls\n",
       "rpkm.exp_005_shNTC_rep1   1        4           \n",
       "rpkm.exp_005_shNTC_rep2   1        4           \n",
       "rpkm.exp_005_shNTC_rep3   1        4           \n",
       "rpkm.exp_005_shTRPS1_seq1 1        4           \n",
       "rpkm.exp_005_shTRPS1_seq2 1        4           \n",
       "rpkm.exp_005_shTRPS1_seq3 1        4           "
      ]
     },
     "metadata": {},
     "output_type": "display_data"
    }
   ],
   "source": [
    "results[9130:9135,]"
   ]
  },
  {
   "cell_type": "code",
   "execution_count": null,
   "metadata": {},
   "outputs": [],
   "source": []
  }
 ],
 "metadata": {
  "kernelspec": {
   "display_name": "R",
   "language": "R",
   "name": "ir"
  },
  "language_info": {
   "codemirror_mode": "r",
   "file_extension": ".r",
   "mimetype": "text/x-r-source",
   "name": "R",
   "pygments_lexer": "r",
   "version": "3.5.2"
  }
 },
 "nbformat": 4,
 "nbformat_minor": 2
}
