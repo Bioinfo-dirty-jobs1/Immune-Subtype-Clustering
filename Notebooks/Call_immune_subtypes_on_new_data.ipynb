{
 "cells": [
  {
   "cell_type": "markdown",
   "metadata": {},
   "source": [
    "## How to call immune subtypes on new data ##"
   ]
  },
  {
   "cell_type": "markdown",
   "metadata": {},
   "source": [
    "Let's suppose you have some:\n",
    "  a.) RPKM (or FPKM or something equivlent) gene expression data \n",
    "  b.) Has hg19 gene symbols mapped to it.\n",
    "  c.) knowledge on how to batch correct / normalize it with regard to TCGA PanCancer data*\n",
    "  \n",
    "and you'd like to call some immune subtypes on those samples."
   ]
  },
  {
   "cell_type": "code",
   "execution_count": 1,
   "metadata": {},
   "outputs": [],
   "source": [
    "\n",
    "library(ggplot2)\n",
    "options(repr.plot.width=4, repr.plot.height=3)"
   ]
  },
  {
   "cell_type": "code",
   "execution_count": 19,
   "metadata": {},
   "outputs": [
    {
     "data": {
      "text/html": [
       "<ol class=list-inline>\n",
       "\t<li>2316</li>\n",
       "\t<li>9129</li>\n",
       "</ol>\n"
      ],
      "text/latex": [
       "\\begin{enumerate*}\n",
       "\\item 2316\n",
       "\\item 9129\n",
       "\\end{enumerate*}\n"
      ],
      "text/markdown": [
       "1. 2316\n",
       "2. 9129\n",
       "\n",
       "\n"
      ],
      "text/plain": [
       "[1] 2316 9129"
      ]
     },
     "metadata": {},
     "output_type": "display_data"
    },
    {
     "data": {
      "text/html": [
       "<table>\n",
       "<thead><tr><th></th><th scope=col>TCGA.OR.A5J1.01A.11R.A29S.07</th><th scope=col>TCGA.OR.A5J2.01A.11R.A29S.07</th><th scope=col>TCGA.OR.A5J3.01A.11R.A29S.07</th><th scope=col>TCGA.OR.A5J5.01A.11R.A29S.07</th><th scope=col>TCGA.OR.A5J6.01A.31R.A29S.07</th></tr></thead>\n",
       "<tbody>\n",
       "\t<tr><th scope=row>A1CF</th><td>  0.0000 </td><td>   0.000 </td><td>   0.5925</td><td>  1.5492 </td><td>   0.000 </td></tr>\n",
       "\t<tr><th scope=row>ABCA1</th><td>319.4040 </td><td>1071.800 </td><td> 896.4600</td><td>310.6120 </td><td> 800.283 </td></tr>\n",
       "\t<tr><th scope=row>ABCA8</th><td>  4.3228 </td><td> 121.997 </td><td>1368.6900</td><td>982.1840 </td><td>5000.650 </td></tr>\n",
       "\t<tr><th scope=row>ABCB11</th><td>  0.4803 </td><td>   0.000 </td><td>   1.7775</td><td>  0.0000 </td><td>   0.000 </td></tr>\n",
       "</tbody>\n",
       "</table>\n"
      ],
      "text/latex": [
       "\\begin{tabular}{r|lllll}\n",
       "  & TCGA.OR.A5J1.01A.11R.A29S.07 & TCGA.OR.A5J2.01A.11R.A29S.07 & TCGA.OR.A5J3.01A.11R.A29S.07 & TCGA.OR.A5J5.01A.11R.A29S.07 & TCGA.OR.A5J6.01A.31R.A29S.07\\\\\n",
       "\\hline\n",
       "\tA1CF &   0.0000  &    0.000  &    0.5925 &   1.5492  &    0.000 \\\\\n",
       "\tABCA1 & 319.4040  & 1071.800  &  896.4600 & 310.6120  &  800.283 \\\\\n",
       "\tABCA8 &   4.3228  &  121.997  & 1368.6900 & 982.1840  & 5000.650 \\\\\n",
       "\tABCB11 &   0.4803  &    0.000  &    1.7775 &   0.0000  &    0.000 \\\\\n",
       "\\end{tabular}\n"
      ],
      "text/markdown": [
       "\n",
       "| <!--/--> | TCGA.OR.A5J1.01A.11R.A29S.07 | TCGA.OR.A5J2.01A.11R.A29S.07 | TCGA.OR.A5J3.01A.11R.A29S.07 | TCGA.OR.A5J5.01A.11R.A29S.07 | TCGA.OR.A5J6.01A.31R.A29S.07 |\n",
       "|---|---|---|---|---|---|\n",
       "| A1CF |   0.0000  |    0.000  |    0.5925 |   1.5492  |    0.000  |\n",
       "| ABCA1 | 319.4040  | 1071.800  |  896.4600 | 310.6120  |  800.283  |\n",
       "| ABCA8 |   4.3228  |  121.997  | 1368.6900 | 982.1840  | 5000.650  |\n",
       "| ABCB11 |   0.4803  |    0.000  |    1.7775 |   0.0000  |    0.000  |\n",
       "\n"
      ],
      "text/plain": [
       "       TCGA.OR.A5J1.01A.11R.A29S.07 TCGA.OR.A5J2.01A.11R.A29S.07\n",
       "A1CF     0.0000                        0.000                    \n",
       "ABCA1  319.4040                     1071.800                    \n",
       "ABCA8    4.3228                      121.997                    \n",
       "ABCB11   0.4803                        0.000                    \n",
       "       TCGA.OR.A5J3.01A.11R.A29S.07 TCGA.OR.A5J5.01A.11R.A29S.07\n",
       "A1CF      0.5925                      1.5492                    \n",
       "ABCA1   896.4600                    310.6120                    \n",
       "ABCA8  1368.6900                    982.1840                    \n",
       "ABCB11    1.7775                      0.0000                    \n",
       "       TCGA.OR.A5J6.01A.31R.A29S.07\n",
       "A1CF      0.000                    \n",
       "ABCA1   800.283                    \n",
       "ABCA8  5000.650                    \n",
       "ABCB11    0.000                    "
      ]
     },
     "metadata": {},
     "output_type": "display_data"
    }
   ],
   "source": [
    "#loading TCGA PanCancer EB++ expression data, subset to the pertinent genes.\n",
    "\n",
    "tcgaSubset <- read.table('../shiny-app/Immune-Subtype-Clustering/data/ebppSubset.tsv.bz2', header = T, sep = '\\t', stringsAsFactors = F)\n",
    "dim(tcgaSubset)\n",
    "tcgaSubset[1:4,1:5]"
   ]
  },
  {
   "cell_type": "code",
   "execution_count": 3,
   "metadata": {},
   "outputs": [
    {
     "data": {
      "text/html": [
       "<table>\n",
       "<thead><tr><th scope=col>AliquotBarcode</th><th scope=col>SampleBarcode</th><th scope=col>ClusterModel1</th><th scope=col>ClusterModel2</th><th scope=col>LIexpression_score</th><th scope=col>CSF1_response</th><th scope=col>TGFB_score_21050467</th><th scope=col>Module3_IFN_score</th><th scope=col>CHANG_CORE_SERUM_RESPONSE_UP</th></tr></thead>\n",
       "<tbody>\n",
       "\t<tr><td>TCGA.02.0047.01A.01R.1849.01</td><td>TCGA-02-0047-01A            </td><td>4                           </td><td>4                           </td><td>-1.3536972                  </td><td>0.8995777                   </td><td> 0.09838865                 </td><td>-0.43775189                 </td><td>-0.5989618                  </td></tr>\n",
       "\t<tr><td>TCGA.02.0055.01A.01R.1849.01</td><td>TCGA-02-0055-01A            </td><td>4                           </td><td>4                           </td><td>-0.5016848                  </td><td>1.4674281                   </td><td> 1.41870736                 </td><td> 0.03473346                 </td><td> 0.6990816                  </td></tr>\n",
       "\t<tr><td>TCGA.02.2483.01A.01R.1849.01</td><td>TCGA-02-2483-01A            </td><td>4                           </td><td>4                           </td><td>-0.9197809                  </td><td>0.4884155                   </td><td>-0.50393689                 </td><td>-0.68551726                 </td><td> 1.0855086                  </td></tr>\n",
       "\t<tr><td>TCGA.02.2485.01A.01R.1849.01</td><td>TCGA-02-2485-01A            </td><td>4                           </td><td>4                           </td><td>-0.7810493                  </td><td>0.1039455                   </td><td>-0.65700848                 </td><td> 1.49949319                 </td><td> 0.4496605                  </td></tr>\n",
       "\t<tr><td>TCGA.02.2486.01A.01R.1849.01</td><td>TCGA-02-2486-01A            </td><td>4                           </td><td>4                           </td><td>-0.0361280                  </td><td>1.8245642                   </td><td>-0.27930992                 </td><td> 2.53785832                 </td><td> 0.1475449                  </td></tr>\n",
       "\t<tr><td>TCGA.04.1348.01A.01R.1565.13</td><td>TCGA-04-1348-01A            </td><td>2                           </td><td>2                           </td><td> 0.6439911                  </td><td>0.7957605                   </td><td>-0.63769666                 </td><td> 0.90119552                 </td><td> 1.8003985                  </td></tr>\n",
       "</tbody>\n",
       "</table>\n"
      ],
      "text/latex": [
       "\\begin{tabular}{r|lllllllll}\n",
       " AliquotBarcode & SampleBarcode & ClusterModel1 & ClusterModel2 & LIexpression\\_score & CSF1\\_response & TGFB\\_score\\_21050467 & Module3\\_IFN\\_score & CHANG\\_CORE\\_SERUM\\_RESPONSE\\_UP\\\\\n",
       "\\hline\n",
       "\t TCGA.02.0047.01A.01R.1849.01 & TCGA-02-0047-01A             & 4                            & 4                            & -1.3536972                   & 0.8995777                    &  0.09838865                  & -0.43775189                  & -0.5989618                  \\\\\n",
       "\t TCGA.02.0055.01A.01R.1849.01 & TCGA-02-0055-01A             & 4                            & 4                            & -0.5016848                   & 1.4674281                    &  1.41870736                  &  0.03473346                  &  0.6990816                  \\\\\n",
       "\t TCGA.02.2483.01A.01R.1849.01 & TCGA-02-2483-01A             & 4                            & 4                            & -0.9197809                   & 0.4884155                    & -0.50393689                  & -0.68551726                  &  1.0855086                  \\\\\n",
       "\t TCGA.02.2485.01A.01R.1849.01 & TCGA-02-2485-01A             & 4                            & 4                            & -0.7810493                   & 0.1039455                    & -0.65700848                  &  1.49949319                  &  0.4496605                  \\\\\n",
       "\t TCGA.02.2486.01A.01R.1849.01 & TCGA-02-2486-01A             & 4                            & 4                            & -0.0361280                   & 1.8245642                    & -0.27930992                  &  2.53785832                  &  0.1475449                  \\\\\n",
       "\t TCGA.04.1348.01A.01R.1565.13 & TCGA-04-1348-01A             & 2                            & 2                            &  0.6439911                   & 0.7957605                    & -0.63769666                  &  0.90119552                  &  1.8003985                  \\\\\n",
       "\\end{tabular}\n"
      ],
      "text/markdown": [
       "\n",
       "| AliquotBarcode | SampleBarcode | ClusterModel1 | ClusterModel2 | LIexpression_score | CSF1_response | TGFB_score_21050467 | Module3_IFN_score | CHANG_CORE_SERUM_RESPONSE_UP |\n",
       "|---|---|---|---|---|---|---|---|---|\n",
       "| TCGA.02.0047.01A.01R.1849.01 | TCGA-02-0047-01A             | 4                            | 4                            | -1.3536972                   | 0.8995777                    |  0.09838865                  | -0.43775189                  | -0.5989618                   |\n",
       "| TCGA.02.0055.01A.01R.1849.01 | TCGA-02-0055-01A             | 4                            | 4                            | -0.5016848                   | 1.4674281                    |  1.41870736                  |  0.03473346                  |  0.6990816                   |\n",
       "| TCGA.02.2483.01A.01R.1849.01 | TCGA-02-2483-01A             | 4                            | 4                            | -0.9197809                   | 0.4884155                    | -0.50393689                  | -0.68551726                  |  1.0855086                   |\n",
       "| TCGA.02.2485.01A.01R.1849.01 | TCGA-02-2485-01A             | 4                            | 4                            | -0.7810493                   | 0.1039455                    | -0.65700848                  |  1.49949319                  |  0.4496605                   |\n",
       "| TCGA.02.2486.01A.01R.1849.01 | TCGA-02-2486-01A             | 4                            | 4                            | -0.0361280                   | 1.8245642                    | -0.27930992                  |  2.53785832                  |  0.1475449                   |\n",
       "| TCGA.04.1348.01A.01R.1565.13 | TCGA-04-1348-01A             | 2                            | 2                            |  0.6439911                   | 0.7957605                    | -0.63769666                  |  0.90119552                  |  1.8003985                   |\n",
       "\n"
      ],
      "text/plain": [
       "  AliquotBarcode               SampleBarcode    ClusterModel1 ClusterModel2\n",
       "1 TCGA.02.0047.01A.01R.1849.01 TCGA-02-0047-01A 4             4            \n",
       "2 TCGA.02.0055.01A.01R.1849.01 TCGA-02-0055-01A 4             4            \n",
       "3 TCGA.02.2483.01A.01R.1849.01 TCGA-02-2483-01A 4             4            \n",
       "4 TCGA.02.2485.01A.01R.1849.01 TCGA-02-2485-01A 4             4            \n",
       "5 TCGA.02.2486.01A.01R.1849.01 TCGA-02-2486-01A 4             4            \n",
       "6 TCGA.04.1348.01A.01R.1565.13 TCGA-04-1348-01A 2             2            \n",
       "  LIexpression_score CSF1_response TGFB_score_21050467 Module3_IFN_score\n",
       "1 -1.3536972         0.8995777      0.09838865         -0.43775189      \n",
       "2 -0.5016848         1.4674281      1.41870736          0.03473346      \n",
       "3 -0.9197809         0.4884155     -0.50393689         -0.68551726      \n",
       "4 -0.7810493         0.1039455     -0.65700848          1.49949319      \n",
       "5 -0.0361280         1.8245642     -0.27930992          2.53785832      \n",
       "6  0.6439911         0.7957605     -0.63769666          0.90119552      \n",
       "  CHANG_CORE_SERUM_RESPONSE_UP\n",
       "1 -0.5989618                  \n",
       "2  0.6990816                  \n",
       "3  1.0855086                  \n",
       "4  0.4496605                  \n",
       "5  0.1475449                  \n",
       "6  1.8003985                  "
      ]
     },
     "metadata": {},
     "output_type": "display_data"
    }
   ],
   "source": [
    "# need to subset before transforms\n",
    "reportedScores <- read.table('../shiny-app/Immune-Subtype-Clustering//data//five_signature_mclust_ensemble_results.tsv.gz', sep='\\t', header=T, stringsAsFactors = F)\n",
    "head(reportedScores)\n",
    "rownames(reportedScores) <- reportedScores$AliquotBarcode"
   ]
  },
  {
   "cell_type": "code",
   "execution_count": 4,
   "metadata": {},
   "outputs": [],
   "source": [
    "tcgaSubset <- log2(tcgaSubset + 1)"
   ]
  },
  {
   "cell_type": "code",
   "execution_count": 5,
   "metadata": {},
   "outputs": [
    {
     "data": {
      "image/png": "[encoded data removed]",
      "text/plain": [
       "plot without title"
      ]
     },
     "metadata": {},
     "output_type": "display_data"
    }
   ],
   "source": [
    "qplot(tcgaSubset[,1], geom='density')"
   ]
  },
  {
   "cell_type": "code",
   "execution_count": 42,
   "metadata": {},
   "outputs": [
    {
     "data": {
      "text/html": [
       "<ol class=list-inline>\n",
       "\t<li>20130</li>\n",
       "\t<li>6</li>\n",
       "</ol>\n"
      ],
      "text/latex": [
       "\\begin{enumerate*}\n",
       "\\item 20130\n",
       "\\item 6\n",
       "\\end{enumerate*}\n"
      ],
      "text/markdown": [
       "1. 20130\n",
       "2. 6\n",
       "\n",
       "\n"
      ],
      "text/plain": [
       "[1] 20130     6"
      ]
     },
     "metadata": {},
     "output_type": "display_data"
    },
    {
     "data": {
      "text/html": [
       "<table>\n",
       "<thead><tr><th></th><th scope=col>rpkm.exp_005_shNTC_rep1</th><th scope=col>rpkm.exp_005_shNTC_rep2</th><th scope=col>rpkm.exp_005_shNTC_rep3</th><th scope=col>rpkm.exp_005_shTRPS1_seq1</th><th scope=col>rpkm.exp_005_shTRPS1_seq2</th></tr></thead>\n",
       "<tbody>\n",
       "\t<tr><th scope=row>TSPAN6</th><td> 4.866946  </td><td> 5.59851858</td><td> 6.0323073 </td><td> 8.81300835</td><td> 7.31116077</td></tr>\n",
       "\t<tr><th scope=row>DPM1</th><td>14.703788  </td><td>14.54414233</td><td>15.2178512 </td><td>13.48725417</td><td>14.18521178</td></tr>\n",
       "\t<tr><th scope=row>SCYL3</th><td> 2.613824  </td><td> 2.62848323</td><td> 2.6941885 </td><td> 2.33930243</td><td> 2.61831372</td></tr>\n",
       "\t<tr><th scope=row>C1orf112</th><td> 2.130704  </td><td> 1.95809753</td><td> 1.9696715 </td><td> 1.48692841</td><td> 1.51562986</td></tr>\n",
       "\t<tr><th scope=row>FGR</th><td> 0.000000  </td><td> 0.02082027</td><td> 0.0149617 </td><td> 0.01707083</td><td> 0.01057218</td></tr>\n",
       "</tbody>\n",
       "</table>\n"
      ],
      "text/latex": [
       "\\begin{tabular}{r|lllll}\n",
       "  & rpkm.exp\\_005\\_shNTC\\_rep1 & rpkm.exp\\_005\\_shNTC\\_rep2 & rpkm.exp\\_005\\_shNTC\\_rep3 & rpkm.exp\\_005\\_shTRPS1\\_seq1 & rpkm.exp\\_005\\_shTRPS1\\_seq2\\\\\n",
       "\\hline\n",
       "\tTSPAN6 &  4.866946   &  5.59851858 &  6.0323073  &  8.81300835 &  7.31116077\\\\\n",
       "\tDPM1 & 14.703788   & 14.54414233 & 15.2178512  & 13.48725417 & 14.18521178\\\\\n",
       "\tSCYL3 &  2.613824   &  2.62848323 &  2.6941885  &  2.33930243 &  2.61831372\\\\\n",
       "\tC1orf112 &  2.130704   &  1.95809753 &  1.9696715  &  1.48692841 &  1.51562986\\\\\n",
       "\tFGR &  0.000000   &  0.02082027 &  0.0149617  &  0.01707083 &  0.01057218\\\\\n",
       "\\end{tabular}\n"
      ],
      "text/markdown": [
       "\n",
       "| <!--/--> | rpkm.exp_005_shNTC_rep1 | rpkm.exp_005_shNTC_rep2 | rpkm.exp_005_shNTC_rep3 | rpkm.exp_005_shTRPS1_seq1 | rpkm.exp_005_shTRPS1_seq2 |\n",
       "|---|---|---|---|---|---|\n",
       "| TSPAN6 |  4.866946   |  5.59851858 |  6.0323073  |  8.81300835 |  7.31116077 |\n",
       "| DPM1 | 14.703788   | 14.54414233 | 15.2178512  | 13.48725417 | 14.18521178 |\n",
       "| SCYL3 |  2.613824   |  2.62848323 |  2.6941885  |  2.33930243 |  2.61831372 |\n",
       "| C1orf112 |  2.130704   |  1.95809753 |  1.9696715  |  1.48692841 |  1.51562986 |\n",
       "| FGR |  0.000000   |  0.02082027 |  0.0149617  |  0.01707083 |  0.01057218 |\n",
       "\n"
      ],
      "text/plain": [
       "         rpkm.exp_005_shNTC_rep1 rpkm.exp_005_shNTC_rep2\n",
       "TSPAN6    4.866946                5.59851858            \n",
       "DPM1     14.703788               14.54414233            \n",
       "SCYL3     2.613824                2.62848323            \n",
       "C1orf112  2.130704                1.95809753            \n",
       "FGR       0.000000                0.02082027            \n",
       "         rpkm.exp_005_shNTC_rep3 rpkm.exp_005_shTRPS1_seq1\n",
       "TSPAN6    6.0323073               8.81300835              \n",
       "DPM1     15.2178512              13.48725417              \n",
       "SCYL3     2.6941885               2.33930243              \n",
       "C1orf112  1.9696715               1.48692841              \n",
       "FGR       0.0149617               0.01707083              \n",
       "         rpkm.exp_005_shTRPS1_seq2\n",
       "TSPAN6    7.31116077              \n",
       "DPM1     14.18521178              \n",
       "SCYL3     2.61831372              \n",
       "C1orf112  1.51562986              \n",
       "FGR       0.01057218              "
      ]
     },
     "metadata": {},
     "output_type": "display_data"
    }
   ],
   "source": [
    "# bring in the new data #\n",
    "# found some RPKM RNA-seq data\n",
    "# \n",
    "load('../ExtraData/newDat.rda')\n",
    "dim(newDat)\n",
    "newDat[1:5,1:5]"
   ]
  },
  {
   "cell_type": "code",
   "execution_count": 44,
   "metadata": {},
   "outputs": [
    {
     "data": {
      "text/html": [
       "<ol class=list-inline>\n",
       "\t<li>20130</li>\n",
       "\t<li>6</li>\n",
       "</ol>\n"
      ],
      "text/latex": [
       "\\begin{enumerate*}\n",
       "\\item 20130\n",
       "\\item 6\n",
       "\\end{enumerate*}\n"
      ],
      "text/markdown": [
       "1. 20130\n",
       "2. 6\n",
       "\n",
       "\n"
      ],
      "text/plain": [
       "[1] 20130     6"
      ]
     },
     "metadata": {},
     "output_type": "display_data"
    },
    {
     "data": {
      "text/html": [
       "<table>\n",
       "<thead><tr><th></th><th scope=col>rpkm.exp_005_shNTC_rep1</th><th scope=col>rpkm.exp_005_shNTC_rep2</th><th scope=col>rpkm.exp_005_shNTC_rep3</th><th scope=col>rpkm.exp_005_shTRPS1_seq1</th><th scope=col>rpkm.exp_005_shTRPS1_seq2</th></tr></thead>\n",
       "<tbody>\n",
       "\t<tr><th scope=row>TSPAN6</th><td> 4.866946  </td><td> 5.59851858</td><td> 6.0323073 </td><td> 8.81300835</td><td> 7.31116077</td></tr>\n",
       "\t<tr><th scope=row>DPM1</th><td>14.703788  </td><td>14.54414233</td><td>15.2178512 </td><td>13.48725417</td><td>14.18521178</td></tr>\n",
       "\t<tr><th scope=row>SCYL3</th><td> 2.613824  </td><td> 2.62848323</td><td> 2.6941885 </td><td> 2.33930243</td><td> 2.61831372</td></tr>\n",
       "\t<tr><th scope=row>C1orf112</th><td> 2.130704  </td><td> 1.95809753</td><td> 1.9696715 </td><td> 1.48692841</td><td> 1.51562986</td></tr>\n",
       "\t<tr><th scope=row>FGR</th><td> 0.000000  </td><td> 0.02082027</td><td> 0.0149617 </td><td> 0.01707083</td><td> 0.01057218</td></tr>\n",
       "</tbody>\n",
       "</table>\n"
      ],
      "text/latex": [
       "\\begin{tabular}{r|lllll}\n",
       "  & rpkm.exp\\_005\\_shNTC\\_rep1 & rpkm.exp\\_005\\_shNTC\\_rep2 & rpkm.exp\\_005\\_shNTC\\_rep3 & rpkm.exp\\_005\\_shTRPS1\\_seq1 & rpkm.exp\\_005\\_shTRPS1\\_seq2\\\\\n",
       "\\hline\n",
       "\tTSPAN6 &  4.866946   &  5.59851858 &  6.0323073  &  8.81300835 &  7.31116077\\\\\n",
       "\tDPM1 & 14.703788   & 14.54414233 & 15.2178512  & 13.48725417 & 14.18521178\\\\\n",
       "\tSCYL3 &  2.613824   &  2.62848323 &  2.6941885  &  2.33930243 &  2.61831372\\\\\n",
       "\tC1orf112 &  2.130704   &  1.95809753 &  1.9696715  &  1.48692841 &  1.51562986\\\\\n",
       "\tFGR &  0.000000   &  0.02082027 &  0.0149617  &  0.01707083 &  0.01057218\\\\\n",
       "\\end{tabular}\n"
      ],
      "text/markdown": [
       "\n",
       "| <!--/--> | rpkm.exp_005_shNTC_rep1 | rpkm.exp_005_shNTC_rep2 | rpkm.exp_005_shNTC_rep3 | rpkm.exp_005_shTRPS1_seq1 | rpkm.exp_005_shTRPS1_seq2 |\n",
       "|---|---|---|---|---|---|\n",
       "| TSPAN6 |  4.866946   |  5.59851858 |  6.0323073  |  8.81300835 |  7.31116077 |\n",
       "| DPM1 | 14.703788   | 14.54414233 | 15.2178512  | 13.48725417 | 14.18521178 |\n",
       "| SCYL3 |  2.613824   |  2.62848323 |  2.6941885  |  2.33930243 |  2.61831372 |\n",
       "| C1orf112 |  2.130704   |  1.95809753 |  1.9696715  |  1.48692841 |  1.51562986 |\n",
       "| FGR |  0.000000   |  0.02082027 |  0.0149617  |  0.01707083 |  0.01057218 |\n",
       "\n"
      ],
      "text/plain": [
       "         rpkm.exp_005_shNTC_rep1 rpkm.exp_005_shNTC_rep2\n",
       "TSPAN6    4.866946                5.59851858            \n",
       "DPM1     14.703788               14.54414233            \n",
       "SCYL3     2.613824                2.62848323            \n",
       "C1orf112  2.130704                1.95809753            \n",
       "FGR       0.000000                0.02082027            \n",
       "         rpkm.exp_005_shNTC_rep3 rpkm.exp_005_shTRPS1_seq1\n",
       "TSPAN6    6.0323073               8.81300835              \n",
       "DPM1     15.2178512              13.48725417              \n",
       "SCYL3     2.6941885               2.33930243              \n",
       "C1orf112  1.9696715               1.48692841              \n",
       "FGR       0.0149617               0.01707083              \n",
       "         rpkm.exp_005_shTRPS1_seq2\n",
       "TSPAN6    7.31116077              \n",
       "DPM1     14.18521178              \n",
       "SCYL3     2.61831372              \n",
       "C1orf112  1.51562986              \n",
       "FGR       0.01057218              "
      ]
     },
     "metadata": {},
     "output_type": "display_data"
    }
   ],
   "source": [
    "didx <- !duplicated(as.character(rownames(newDat)))\n",
    "dat <- newDat[didx,]\n",
    "dim(dat)\n",
    "dat[1:5,1:5]"
   ]
  },
  {
   "cell_type": "code",
   "execution_count": 45,
   "metadata": {},
   "outputs": [
    {
     "data": {
      "image/png": "[encoded data removed]",
      "text/plain": [
       "plot without title"
      ]
     },
     "metadata": {},
     "output_type": "display_data"
    }
   ],
   "source": [
    "datlog2 <- log2(dat+1)\n",
    "qplot(datlog2[,2], geom='density')"
   ]
  },
  {
   "cell_type": "code",
   "execution_count": 46,
   "metadata": {},
   "outputs": [
    {
     "data": {
      "text/html": [
       "<ol class=list-inline>\n",
       "\t<li>'dat'</li>\n",
       "\t<li>'datlog2'</li>\n",
       "\t<li>'didx'</li>\n",
       "\t<li>'newDat'</li>\n",
       "\t<li>'newDatSub'</li>\n",
       "\t<li>'newDatSubMeds'</li>\n",
       "\t<li>'reportedScores'</li>\n",
       "\t<li>'sharedGenes'</li>\n",
       "\t<li>'tcgaSubset'</li>\n",
       "\t<li>'tcgaSubsetSub'</li>\n",
       "\t<li>'tcgaSubsetSubMeds'</li>\n",
       "</ol>\n"
      ],
      "text/latex": [
       "\\begin{enumerate*}\n",
       "\\item 'dat'\n",
       "\\item 'datlog2'\n",
       "\\item 'didx'\n",
       "\\item 'newDat'\n",
       "\\item 'newDatSub'\n",
       "\\item 'newDatSubMeds'\n",
       "\\item 'reportedScores'\n",
       "\\item 'sharedGenes'\n",
       "\\item 'tcgaSubset'\n",
       "\\item 'tcgaSubsetSub'\n",
       "\\item 'tcgaSubsetSubMeds'\n",
       "\\end{enumerate*}\n"
      ],
      "text/markdown": [
       "1. 'dat'\n",
       "2. 'datlog2'\n",
       "3. 'didx'\n",
       "4. 'newDat'\n",
       "5. 'newDatSub'\n",
       "6. 'newDatSubMeds'\n",
       "7. 'reportedScores'\n",
       "8. 'sharedGenes'\n",
       "9. 'tcgaSubset'\n",
       "10. 'tcgaSubsetSub'\n",
       "11. 'tcgaSubsetSubMeds'\n",
       "\n",
       "\n"
      ],
      "text/plain": [
       " [1] \"dat\"               \"datlog2\"           \"didx\"             \n",
       " [4] \"newDat\"            \"newDatSub\"         \"newDatSubMeds\"    \n",
       " [7] \"reportedScores\"    \"sharedGenes\"       \"tcgaSubset\"       \n",
       "[10] \"tcgaSubsetSub\"     \"tcgaSubsetSubMeds\""
      ]
     },
     "metadata": {},
     "output_type": "display_data"
    }
   ],
   "source": [
    "ls()"
   ]
  },
  {
   "cell_type": "code",
   "execution_count": 47,
   "metadata": {},
   "outputs": [
    {
     "data": {
      "text/html": [
       "<table>\n",
       "<thead><tr><th></th><th scope=col>rpkm.exp_005_shNTC_rep1</th><th scope=col>rpkm.exp_005_shNTC_rep2</th><th scope=col>rpkm.exp_005_shNTC_rep3</th><th scope=col>rpkm.exp_005_shTRPS1_seq1</th><th scope=col>rpkm.exp_005_shTRPS1_seq2</th></tr></thead>\n",
       "<tbody>\n",
       "\t<tr><th scope=row>TSPAN6</th><td>2.552610  </td><td>2.72214216</td><td>2.81399811</td><td>3.29469549</td><td>3.05504998</td></tr>\n",
       "\t<tr><th scope=row>DPM1</th><td>3.973041  </td><td>3.95829911</td><td>4.01951077</td><td>3.85671228</td><td>3.92459512</td></tr>\n",
       "\t<tr><th scope=row>SCYL3</th><td>1.853526  </td><td>1.85936660</td><td>1.88525748</td><td>1.73954676</td><td>1.85531750</td></tr>\n",
       "\t<tr><th scope=row>C1orf112</th><td>1.646487  </td><td>1.56466962</td><td>1.57030337</td><td>1.31436498</td><td>1.33091967</td></tr>\n",
       "\t<tr><th scope=row>FGR</th><td>0.000000  </td><td>0.02972888</td><td>0.02142528</td><td>0.02442015</td><td>0.01517237</td></tr>\n",
       "</tbody>\n",
       "</table>\n"
      ],
      "text/latex": [
       "\\begin{tabular}{r|lllll}\n",
       "  & rpkm.exp\\_005\\_shNTC\\_rep1 & rpkm.exp\\_005\\_shNTC\\_rep2 & rpkm.exp\\_005\\_shNTC\\_rep3 & rpkm.exp\\_005\\_shTRPS1\\_seq1 & rpkm.exp\\_005\\_shTRPS1\\_seq2\\\\\n",
       "\\hline\n",
       "\tTSPAN6 & 2.552610   & 2.72214216 & 2.81399811 & 3.29469549 & 3.05504998\\\\\n",
       "\tDPM1 & 3.973041   & 3.95829911 & 4.01951077 & 3.85671228 & 3.92459512\\\\\n",
       "\tSCYL3 & 1.853526   & 1.85936660 & 1.88525748 & 1.73954676 & 1.85531750\\\\\n",
       "\tC1orf112 & 1.646487   & 1.56466962 & 1.57030337 & 1.31436498 & 1.33091967\\\\\n",
       "\tFGR & 0.000000   & 0.02972888 & 0.02142528 & 0.02442015 & 0.01517237\\\\\n",
       "\\end{tabular}\n"
      ],
      "text/markdown": [
       "\n",
       "| <!--/--> | rpkm.exp_005_shNTC_rep1 | rpkm.exp_005_shNTC_rep2 | rpkm.exp_005_shNTC_rep3 | rpkm.exp_005_shTRPS1_seq1 | rpkm.exp_005_shTRPS1_seq2 |\n",
       "|---|---|---|---|---|---|\n",
       "| TSPAN6 | 2.552610   | 2.72214216 | 2.81399811 | 3.29469549 | 3.05504998 |\n",
       "| DPM1 | 3.973041   | 3.95829911 | 4.01951077 | 3.85671228 | 3.92459512 |\n",
       "| SCYL3 | 1.853526   | 1.85936660 | 1.88525748 | 1.73954676 | 1.85531750 |\n",
       "| C1orf112 | 1.646487   | 1.56466962 | 1.57030337 | 1.31436498 | 1.33091967 |\n",
       "| FGR | 0.000000   | 0.02972888 | 0.02142528 | 0.02442015 | 0.01517237 |\n",
       "\n"
      ],
      "text/plain": [
       "         rpkm.exp_005_shNTC_rep1 rpkm.exp_005_shNTC_rep2\n",
       "TSPAN6   2.552610                2.72214216             \n",
       "DPM1     3.973041                3.95829911             \n",
       "SCYL3    1.853526                1.85936660             \n",
       "C1orf112 1.646487                1.56466962             \n",
       "FGR      0.000000                0.02972888             \n",
       "         rpkm.exp_005_shNTC_rep3 rpkm.exp_005_shTRPS1_seq1\n",
       "TSPAN6   2.81399811              3.29469549               \n",
       "DPM1     4.01951077              3.85671228               \n",
       "SCYL3    1.88525748              1.73954676               \n",
       "C1orf112 1.57030337              1.31436498               \n",
       "FGR      0.02142528              0.02442015               \n",
       "         rpkm.exp_005_shTRPS1_seq2\n",
       "TSPAN6   3.05504998               \n",
       "DPM1     3.92459512               \n",
       "SCYL3    1.85531750               \n",
       "C1orf112 1.33091967               \n",
       "FGR      0.01517237               "
      ]
     },
     "metadata": {},
     "output_type": "display_data"
    }
   ],
   "source": [
    "datlog2[1:5,1:5]\n"
   ]
  },
  {
   "cell_type": "code",
   "execution_count": 48,
   "metadata": {},
   "outputs": [
    {
     "data": {
      "text/html": [
       "<table>\n",
       "<thead><tr><th></th><th scope=col>used</th><th scope=col>(Mb)</th><th scope=col>gc trigger</th><th scope=col>(Mb)</th><th scope=col>max used</th><th scope=col>(Mb)</th></tr></thead>\n",
       "<tbody>\n",
       "\t<tr><th scope=row>Ncells</th><td>  823880 </td><td> 44.0    </td><td> 28397493</td><td>1516.6   </td><td>135409805</td><td>7231.7   </td></tr>\n",
       "\t<tr><th scope=row>Vcells</th><td>56650346 </td><td>432.3    </td><td>170553963</td><td>1301.3   </td><td>561299081</td><td>4282.4   </td></tr>\n",
       "</tbody>\n",
       "</table>\n"
      ],
      "text/latex": [
       "\\begin{tabular}{r|llllll}\n",
       "  & used & (Mb) & gc trigger & (Mb) & max used & (Mb)\\\\\n",
       "\\hline\n",
       "\tNcells &   823880  &  44.0     &  28397493 & 1516.6    & 135409805 & 7231.7   \\\\\n",
       "\tVcells & 56650346  & 432.3     & 170553963 & 1301.3    & 561299081 & 4282.4   \\\\\n",
       "\\end{tabular}\n"
      ],
      "text/markdown": [
       "\n",
       "| <!--/--> | used | (Mb) | gc trigger | (Mb) | max used | (Mb) |\n",
       "|---|---|---|---|---|---|---|\n",
       "| Ncells |   823880  |  44.0     |  28397493 | 1516.6    | 135409805 | 7231.7    |\n",
       "| Vcells | 56650346  | 432.3     | 170553963 | 1301.3    | 561299081 | 4282.4    |\n",
       "\n"
      ],
      "text/plain": [
       "       used     (Mb)  gc trigger (Mb)   max used  (Mb)  \n",
       "Ncells   823880  44.0  28397493  1516.6 135409805 7231.7\n",
       "Vcells 56650346 432.3 170553963  1301.3 561299081 4282.4"
      ]
     },
     "metadata": {},
     "output_type": "display_data"
    }
   ],
   "source": [
    "# clean up\n",
    "gc()"
   ]
  },
  {
   "cell_type": "code",
   "execution_count": 49,
   "metadata": {},
   "outputs": [],
   "source": [
    "### joining data sets ###\n",
    "sharedGenes  <- intersect(rownames(tcgaSubset), rownames(dat))\n",
    "\n",
    "# first median scale each data set\n",
    "newDatSub    <- datlog2[sharedGenes,]\n",
    "newDatSubMeds<- apply(newDatSub, 1, median, na.rm=T)  \n",
    "newDatSub    <- sweep(newDatSub,1,newDatSubMeds,'-')\n"
   ]
  },
  {
   "cell_type": "code",
   "execution_count": 50,
   "metadata": {},
   "outputs": [
    {
     "data": {
      "text/html": [
       "<ol class=list-inline>\n",
       "\t<li>'dat'</li>\n",
       "\t<li>'datlog2'</li>\n",
       "\t<li>'didx'</li>\n",
       "\t<li>'newDat'</li>\n",
       "\t<li>'newDatSub'</li>\n",
       "\t<li>'newDatSubMeds'</li>\n",
       "\t<li>'reportedScores'</li>\n",
       "\t<li>'sharedGenes'</li>\n",
       "\t<li>'tcgaSubset'</li>\n",
       "\t<li>'tcgaSubsetSub'</li>\n",
       "\t<li>'tcgaSubsetSubMeds'</li>\n",
       "</ol>\n"
      ],
      "text/latex": [
       "\\begin{enumerate*}\n",
       "\\item 'dat'\n",
       "\\item 'datlog2'\n",
       "\\item 'didx'\n",
       "\\item 'newDat'\n",
       "\\item 'newDatSub'\n",
       "\\item 'newDatSubMeds'\n",
       "\\item 'reportedScores'\n",
       "\\item 'sharedGenes'\n",
       "\\item 'tcgaSubset'\n",
       "\\item 'tcgaSubsetSub'\n",
       "\\item 'tcgaSubsetSubMeds'\n",
       "\\end{enumerate*}\n"
      ],
      "text/markdown": [
       "1. 'dat'\n",
       "2. 'datlog2'\n",
       "3. 'didx'\n",
       "4. 'newDat'\n",
       "5. 'newDatSub'\n",
       "6. 'newDatSubMeds'\n",
       "7. 'reportedScores'\n",
       "8. 'sharedGenes'\n",
       "9. 'tcgaSubset'\n",
       "10. 'tcgaSubsetSub'\n",
       "11. 'tcgaSubsetSubMeds'\n",
       "\n",
       "\n"
      ],
      "text/plain": [
       " [1] \"dat\"               \"datlog2\"           \"didx\"             \n",
       " [4] \"newDat\"            \"newDatSub\"         \"newDatSubMeds\"    \n",
       " [7] \"reportedScores\"    \"sharedGenes\"       \"tcgaSubset\"       \n",
       "[10] \"tcgaSubsetSub\"     \"tcgaSubsetSubMeds\""
      ]
     },
     "metadata": {},
     "output_type": "display_data"
    },
    {
     "data": {
      "text/html": [
       "<table>\n",
       "<thead><tr><th></th><th scope=col>used</th><th scope=col>(Mb)</th><th scope=col>gc trigger</th><th scope=col>(Mb)</th><th scope=col>max used</th><th scope=col>(Mb)</th></tr></thead>\n",
       "<tbody>\n",
       "\t<tr><th scope=row>Ncells</th><td>  823691 </td><td> 44.0    </td><td> 22717994</td><td>1213.3   </td><td>135409805</td><td>7231.7   </td></tr>\n",
       "\t<tr><th scope=row>Vcells</th><td>56670029 </td><td>432.4    </td><td>170553963</td><td>1301.3   </td><td>561299081</td><td>4282.4   </td></tr>\n",
       "</tbody>\n",
       "</table>\n"
      ],
      "text/latex": [
       "\\begin{tabular}{r|llllll}\n",
       "  & used & (Mb) & gc trigger & (Mb) & max used & (Mb)\\\\\n",
       "\\hline\n",
       "\tNcells &   823691  &  44.0     &  22717994 & 1213.3    & 135409805 & 7231.7   \\\\\n",
       "\tVcells & 56670029  & 432.4     & 170553963 & 1301.3    & 561299081 & 4282.4   \\\\\n",
       "\\end{tabular}\n"
      ],
      "text/markdown": [
       "\n",
       "| <!--/--> | used | (Mb) | gc trigger | (Mb) | max used | (Mb) |\n",
       "|---|---|---|---|---|---|---|\n",
       "| Ncells |   823691  |  44.0     |  22717994 | 1213.3    | 135409805 | 7231.7    |\n",
       "| Vcells | 56670029  | 432.4     | 170553963 | 1301.3    | 561299081 | 4282.4    |\n",
       "\n"
      ],
      "text/plain": [
       "       used     (Mb)  gc trigger (Mb)   max used  (Mb)  \n",
       "Ncells   823691  44.0  22717994  1213.3 135409805 7231.7\n",
       "Vcells 56670029 432.4 170553963  1301.3 561299081 4282.4"
      ]
     },
     "metadata": {},
     "output_type": "display_data"
    }
   ],
   "source": [
    "ls()\n",
    "gc()"
   ]
  },
  {
   "cell_type": "code",
   "execution_count": 51,
   "metadata": {},
   "outputs": [
    {
     "data": {
      "text/html": [
       "<ol class=list-inline>\n",
       "\t<li>20130</li>\n",
       "\t<li>6</li>\n",
       "</ol>\n"
      ],
      "text/latex": [
       "\\begin{enumerate*}\n",
       "\\item 20130\n",
       "\\item 6\n",
       "\\end{enumerate*}\n"
      ],
      "text/markdown": [
       "1. 20130\n",
       "2. 6\n",
       "\n",
       "\n"
      ],
      "text/plain": [
       "[1] 20130     6"
      ]
     },
     "metadata": {},
     "output_type": "display_data"
    },
    {
     "data": {
      "text/html": [
       "<ol class=list-inline>\n",
       "\t<li>2227</li>\n",
       "\t<li>6</li>\n",
       "</ol>\n"
      ],
      "text/latex": [
       "\\begin{enumerate*}\n",
       "\\item 2227\n",
       "\\item 6\n",
       "\\end{enumerate*}\n"
      ],
      "text/markdown": [
       "1. 2227\n",
       "2. 6\n",
       "\n",
       "\n"
      ],
      "text/plain": [
       "[1] 2227    6"
      ]
     },
     "metadata": {},
     "output_type": "display_data"
    },
    {
     "data": {
      "text/html": [
       "2227"
      ],
      "text/latex": [
       "2227"
      ],
      "text/markdown": [
       "2227"
      ],
      "text/plain": [
       "[1] 2227"
      ]
     },
     "metadata": {},
     "output_type": "display_data"
    }
   ],
   "source": [
    "dim(dat)\n",
    "dim(newDatSub)\n",
    "length(sharedGenes)"
   ]
  },
  {
   "cell_type": "code",
   "execution_count": 52,
   "metadata": {},
   "outputs": [
    {
     "data": {
      "text/html": [
       "<ol class=list-inline>\n",
       "\t<li>2316</li>\n",
       "\t<li>9129</li>\n",
       "</ol>\n"
      ],
      "text/latex": [
       "\\begin{enumerate*}\n",
       "\\item 2316\n",
       "\\item 9129\n",
       "\\end{enumerate*}\n"
      ],
      "text/markdown": [
       "1. 2316\n",
       "2. 9129\n",
       "\n",
       "\n"
      ],
      "text/plain": [
       "[1] 2316 9129"
      ]
     },
     "metadata": {},
     "output_type": "display_data"
    }
   ],
   "source": [
    "dim(tcgaSubset)"
   ]
  },
  {
   "cell_type": "code",
   "execution_count": 53,
   "metadata": {},
   "outputs": [
    {
     "data": {
      "text/html": [
       "<table>\n",
       "<thead><tr><th></th><th scope=col>used</th><th scope=col>(Mb)</th><th scope=col>gc trigger</th><th scope=col>(Mb)</th><th scope=col>max used</th><th scope=col>(Mb)</th></tr></thead>\n",
       "<tbody>\n",
       "\t<tr><th scope=row>Ncells</th><td>  814515 </td><td> 43.5    </td><td> 18174395</td><td> 970.7   </td><td>135409805</td><td>7231.7   </td></tr>\n",
       "\t<tr><th scope=row>Vcells</th><td>55839243 </td><td>426.1    </td><td>170553963</td><td>1301.3   </td><td>561299081</td><td>4282.4   </td></tr>\n",
       "</tbody>\n",
       "</table>\n"
      ],
      "text/latex": [
       "\\begin{tabular}{r|llllll}\n",
       "  & used & (Mb) & gc trigger & (Mb) & max used & (Mb)\\\\\n",
       "\\hline\n",
       "\tNcells &   814515  &  43.5     &  18174395 &  970.7    & 135409805 & 7231.7   \\\\\n",
       "\tVcells & 55839243  & 426.1     & 170553963 & 1301.3    & 561299081 & 4282.4   \\\\\n",
       "\\end{tabular}\n"
      ],
      "text/markdown": [
       "\n",
       "| <!--/--> | used | (Mb) | gc trigger | (Mb) | max used | (Mb) |\n",
       "|---|---|---|---|---|---|---|\n",
       "| Ncells |   814515  |  43.5     |  18174395 |  970.7    | 135409805 | 7231.7    |\n",
       "| Vcells | 55839243  | 426.1     | 170553963 | 1301.3    | 561299081 | 4282.4    |\n",
       "\n"
      ],
      "text/plain": [
       "       used     (Mb)  gc trigger (Mb)   max used  (Mb)  \n",
       "Ncells   814515  43.5  18174395   970.7 135409805 7231.7\n",
       "Vcells 55839243 426.1 170553963  1301.3 561299081 4282.4"
      ]
     },
     "metadata": {},
     "output_type": "display_data"
    }
   ],
   "source": [
    "tcgaSubsetSub <- tcgaSubset[sharedGenes,]\n",
    "\n",
    "rm(tcgaSubset)\n",
    "gc()"
   ]
  },
  {
   "cell_type": "code",
   "execution_count": 54,
   "metadata": {},
   "outputs": [
    {
     "data": {
      "text/html": [
       "<dl class=dl-horizontal>\n",
       "\t<dt>A1CF</dt>\n",
       "\t\t<dd>0</dd>\n",
       "\t<dt>ABCA1</dt>\n",
       "\t\t<dd>936.04</dd>\n",
       "\t<dt>ABCA8</dt>\n",
       "\t\t<dd>55.9729769523248</dd>\n",
       "\t<dt>ABCB11</dt>\n",
       "\t\t<dd>0.4178</dd>\n",
       "\t<dt>ABCB1</dt>\n",
       "\t\t<dd>92.5838</dd>\n",
       "\t<dt>ABCC3</dt>\n",
       "\t\t<dd>756.143999999999</dd>\n",
       "</dl>\n"
      ],
      "text/latex": [
       "\\begin{description*}\n",
       "\\item[A1CF] 0\n",
       "\\item[ABCA1] 936.04\n",
       "\\item[ABCA8] 55.9729769523248\n",
       "\\item[ABCB11] 0.4178\n",
       "\\item[ABCB1] 92.5838\n",
       "\\item[ABCC3] 756.143999999999\n",
       "\\end{description*}\n"
      ],
      "text/markdown": [
       "A1CF\n",
       ":   0ABCA1\n",
       ":   936.04ABCA8\n",
       ":   55.9729769523248ABCB11\n",
       ":   0.4178ABCB1\n",
       ":   92.5838ABCC3\n",
       ":   756.143999999999\n",
       "\n"
      ],
      "text/plain": [
       "     A1CF     ABCA1     ABCA8    ABCB11     ABCB1     ABCC3 \n",
       "  0.00000 936.04000  55.97298   0.41780  92.58380 756.14400 "
      ]
     },
     "metadata": {},
     "output_type": "display_data"
    }
   ],
   "source": [
    "tcgaSubsetSubMeds <- apply(tcgaSubsetSub, 1, median, na.rm=T)\n",
    "head(tcgaSubsetSubMeds)"
   ]
  },
  {
   "cell_type": "code",
   "execution_count": 55,
   "metadata": {},
   "outputs": [],
   "source": [
    "tcgaSubsetSub <- sweep(tcgaSubsetSub,1,tcgaSubsetSubMeds,'-')  "
   ]
  },
  {
   "cell_type": "code",
   "execution_count": 58,
   "metadata": {},
   "outputs": [
    {
     "data": {
      "text/html": [
       "<table>\n",
       "<thead><tr><th></th><th scope=col>used</th><th scope=col>(Mb)</th><th scope=col>gc trigger</th><th scope=col>(Mb)</th><th scope=col>max used</th><th scope=col>(Mb)</th></tr></thead>\n",
       "<tbody>\n",
       "\t<tr><th scope=row>Ncells</th><td>  814910 </td><td> 43.6    </td><td>  7444231</td><td> 397.6   </td><td>135409805</td><td>7231.7   </td></tr>\n",
       "\t<tr><th scope=row>Vcells</th><td>55842440 </td><td>426.1    </td><td>163795804</td><td>1249.7   </td><td>561299081</td><td>4282.4   </td></tr>\n",
       "</tbody>\n",
       "</table>\n"
      ],
      "text/latex": [
       "\\begin{tabular}{r|llllll}\n",
       "  & used & (Mb) & gc trigger & (Mb) & max used & (Mb)\\\\\n",
       "\\hline\n",
       "\tNcells &   814910  &  43.6     &   7444231 &  397.6    & 135409805 & 7231.7   \\\\\n",
       "\tVcells & 55842440  & 426.1     & 163795804 & 1249.7    & 561299081 & 4282.4   \\\\\n",
       "\\end{tabular}\n"
      ],
      "text/markdown": [
       "\n",
       "| <!--/--> | used | (Mb) | gc trigger | (Mb) | max used | (Mb) |\n",
       "|---|---|---|---|---|---|---|\n",
       "| Ncells |   814910  |  43.6     |   7444231 |  397.6    | 135409805 | 7231.7    |\n",
       "| Vcells | 55842440  | 426.1     | 163795804 | 1249.7    | 561299081 | 4282.4    |\n",
       "\n"
      ],
      "text/plain": [
       "       used     (Mb)  gc trigger (Mb)   max used  (Mb)  \n",
       "Ncells   814910  43.6   7444231   397.6 135409805 7231.7\n",
       "Vcells 55842440 426.1 163795804  1249.7 561299081 4282.4"
      ]
     },
     "metadata": {},
     "output_type": "display_data"
    },
    {
     "data": {
      "text/html": [
       "<ol class=list-inline>\n",
       "\t<li>'dat'</li>\n",
       "\t<li>'datlog2'</li>\n",
       "\t<li>'didx'</li>\n",
       "\t<li>'newDat'</li>\n",
       "\t<li>'newDatSub'</li>\n",
       "\t<li>'newDatSubMeds'</li>\n",
       "\t<li>'reportedScores'</li>\n",
       "\t<li>'sharedGenes'</li>\n",
       "\t<li>'tcgaSubsetSub'</li>\n",
       "\t<li>'tcgaSubsetSubMeds'</li>\n",
       "</ol>\n"
      ],
      "text/latex": [
       "\\begin{enumerate*}\n",
       "\\item 'dat'\n",
       "\\item 'datlog2'\n",
       "\\item 'didx'\n",
       "\\item 'newDat'\n",
       "\\item 'newDatSub'\n",
       "\\item 'newDatSubMeds'\n",
       "\\item 'reportedScores'\n",
       "\\item 'sharedGenes'\n",
       "\\item 'tcgaSubsetSub'\n",
       "\\item 'tcgaSubsetSubMeds'\n",
       "\\end{enumerate*}\n"
      ],
      "text/markdown": [
       "1. 'dat'\n",
       "2. 'datlog2'\n",
       "3. 'didx'\n",
       "4. 'newDat'\n",
       "5. 'newDatSub'\n",
       "6. 'newDatSubMeds'\n",
       "7. 'reportedScores'\n",
       "8. 'sharedGenes'\n",
       "9. 'tcgaSubsetSub'\n",
       "10. 'tcgaSubsetSubMeds'\n",
       "\n",
       "\n"
      ],
      "text/plain": [
       " [1] \"dat\"               \"datlog2\"           \"didx\"             \n",
       " [4] \"newDat\"            \"newDatSub\"         \"newDatSubMeds\"    \n",
       " [7] \"reportedScores\"    \"sharedGenes\"       \"tcgaSubsetSub\"    \n",
       "[10] \"tcgaSubsetSubMeds\""
      ]
     },
     "metadata": {},
     "output_type": "display_data"
    },
    {
     "data": {
      "text/html": [
       "<table>\n",
       "<thead><tr><th></th><th scope=col>used</th><th scope=col>(Mb)</th><th scope=col>gc trigger</th><th scope=col>(Mb)</th><th scope=col>max used</th><th scope=col>(Mb)</th></tr></thead>\n",
       "<tbody>\n",
       "\t<tr><th scope=row>Ncells</th><td>  796990 </td><td> 42.6    </td><td>  5955384</td><td> 318.1   </td><td>135409805</td><td>7231.7   </td></tr>\n",
       "\t<tr><th scope=row>Vcells</th><td>55409418 </td><td>422.8    </td><td>163795804</td><td>1249.7   </td><td>561299081</td><td>4282.4   </td></tr>\n",
       "</tbody>\n",
       "</table>\n"
      ],
      "text/latex": [
       "\\begin{tabular}{r|llllll}\n",
       "  & used & (Mb) & gc trigger & (Mb) & max used & (Mb)\\\\\n",
       "\\hline\n",
       "\tNcells &   796990  &  42.6     &   5955384 &  318.1    & 135409805 & 7231.7   \\\\\n",
       "\tVcells & 55409418  & 422.8     & 163795804 & 1249.7    & 561299081 & 4282.4   \\\\\n",
       "\\end{tabular}\n"
      ],
      "text/markdown": [
       "\n",
       "| <!--/--> | used | (Mb) | gc trigger | (Mb) | max used | (Mb) |\n",
       "|---|---|---|---|---|---|---|\n",
       "| Ncells |   796990  |  42.6     |   5955384 |  318.1    | 135409805 | 7231.7    |\n",
       "| Vcells | 55409418  | 422.8     | 163795804 | 1249.7    | 561299081 | 4282.4    |\n",
       "\n"
      ],
      "text/plain": [
       "       used     (Mb)  gc trigger (Mb)   max used  (Mb)  \n",
       "Ncells   796990  42.6   5955384   318.1 135409805 7231.7\n",
       "Vcells 55409418 422.8 163795804  1249.7 561299081 4282.4"
      ]
     },
     "metadata": {},
     "output_type": "display_data"
    }
   ],
   "source": [
    "gc()\n",
    "ls()\n",
    "rm(dat, datlog2, didx, newDat)\n",
    "gc()"
   ]
  },
  {
   "cell_type": "code",
   "execution_count": 60,
   "metadata": {},
   "outputs": [
    {
     "data": {
      "text/plain": [
       "489 MB"
      ]
     },
     "metadata": {},
     "output_type": "display_data"
    }
   ],
   "source": [
    "library(pryr)\n",
    "mem_used()"
   ]
  },
  {
   "cell_type": "code",
   "execution_count": 62,
   "metadata": {},
   "outputs": [
    {
     "data": {
      "text/html": [
       "<ol class=list-inline>\n",
       "\t<li>2227</li>\n",
       "\t<li>9135</li>\n",
       "</ol>\n"
      ],
      "text/latex": [
       "\\begin{enumerate*}\n",
       "\\item 2227\n",
       "\\item 9135\n",
       "\\end{enumerate*}\n"
      ],
      "text/markdown": [
       "1. 2227\n",
       "2. 9135\n",
       "\n",
       "\n"
      ],
      "text/plain": [
       "[1] 2227 9135"
      ]
     },
     "metadata": {},
     "output_type": "display_data"
    }
   ],
   "source": [
    "\n",
    "  # then join them at the genes\n",
    "joinDat      <- cbind(newDatSub, tcgaSubsetSub)\n",
    "\n",
    "dim(joinDat)"
   ]
  },
  {
   "cell_type": "code",
   "execution_count": 64,
   "metadata": {},
   "outputs": [
    {
     "name": "stderr",
     "output_type": "stream",
     "text": [
      "Loading required package: mgcv\n",
      "Loading required package: nlme\n",
      "This is mgcv 1.8-26. For overview type 'help(\"mgcv-package\")'.\n",
      "Loading required package: genefilter\n",
      "Loading required package: BiocParallel\n"
     ]
    },
    {
     "name": "stdout",
     "output_type": "stream",
     "text": [
      "Using batch = 2 as a reference batch (this batch won't change)\n"
     ]
    },
    {
     "name": "stderr",
     "output_type": "stream",
     "text": [
      "Found2batches\n",
      "Adjusting for0covariate(s) or covariate level(s)\n",
      "Found39158Missing Data Values \n"
     ]
    },
    {
     "name": "stdout",
     "output_type": "stream",
     "text": [
      "Standardizing Data across genes\n"
     ]
    },
    {
     "name": "stderr",
     "output_type": "stream",
     "text": [
      "Fitting L/S model and finding priors\n",
      "Finding parametric adjustments\n",
      "Adjusting the Data\n",
      "\n"
     ]
    },
    {
     "data": {
      "text/html": [
       "<ol class=list-inline>\n",
       "\t<li>2227</li>\n",
       "\t<li>9135</li>\n",
       "</ol>\n"
      ],
      "text/latex": [
       "\\begin{enumerate*}\n",
       "\\item 2227\n",
       "\\item 9135\n",
       "\\end{enumerate*}\n"
      ],
      "text/markdown": [
       "1. 2227\n",
       "2. 9135\n",
       "\n",
       "\n"
      ],
      "text/plain": [
       "[1] 2227 9135"
      ]
     },
     "metadata": {},
     "output_type": "display_data"
    }
   ],
   "source": [
    "library(sva)\n",
    "\n",
    "combatflag <- 1\n",
    "if (combatflag) {\n",
    "    # then batch correction between scores...\n",
    "    batch <- c(rep(1,ncol(newDatSub)), rep(2,ncol(tcgaSubsetSub)))\n",
    "    modcombat = model.matrix(~1, data=as.data.frame(t(joinDat)))\n",
    "    combat_edata = ComBat(dat=joinDat, batch=batch, mod=modcombat, \n",
    "                          par.prior=TRUE, prior.plots=FALSE, ref.batch = 2)\n",
    "} else {\n",
    "    combat_edata = joinDat    \n",
    "}\n",
    "\n",
    "dim(combat_edata)"
   ]
  },
  {
   "cell_type": "code",
   "execution_count": 65,
   "metadata": {},
   "outputs": [],
   "source": [
    "# then let's get all the genes we need for the 5 signatures\n",
    "load('../shiny-app/Immune-Subtype-Clustering/data/comparative_immuneSigs_geneLists4.rda')\n",
    "\n",
    "# and we use the scoring code to produce scores #\n",
    "source('../Scripts/ImmuneSigs68_function.R')"
   ]
  },
  {
   "cell_type": "code",
   "execution_count": null,
   "metadata": {},
   "outputs": [],
   "source": [
    "\n",
    "### compute scores.\n",
    "datScores <- ImmuneSigs_function(combat_edata, sigs1_2_eg2,sigs12_weighted_means,\n",
    "                                 sigs12_module_weights,sigs1_2_names2,sigs1_2_type2)\n",
    "\n",
    "print(dim(datScores))\n",
    "datScores[1:5,1:5]"
   ]
  },
  {
   "cell_type": "code",
   "execution_count": null,
   "metadata": {},
   "outputs": [],
   "source": [
    "# in the scripts we did batch correction\n",
    "\n",
    "source('../Scripts/signature_mclust_ensemble.R')\n",
    "\n",
    "# and load the models trained on TCGA data #\n",
    "load('../shiny-app/Immune-Subtype-Clustering/data/wolf_set_slim1.rda')\n",
    "\n",
    "zscore.cols2<-function(x){\n",
    "    return((apply(x, 2, function(x) (x - median(na.omit(x)))/sd(na.omit(x)))))\n",
    "}\n",
    "\n",
    "                  \n",
    "# and we subset the 5 scores used in clustering\n",
    "idx <- c(\"LIexpression_score\", \"CSF1_response\", \"TGFB_score_21050467\", \"Module3_IFN_score\", \"CHANG_CORE_SERUM_RESPONSE_UP\")\n",
    "scores <- t(scores[idx,])\n",
    "zscores <- zscore.cols2(scores)\n",
    "\n",
    "qplot(as.numeric(zscores[,1]), geom='density')"
   ]
  },
  {
   "cell_type": "code",
   "execution_count": null,
   "metadata": {},
   "outputs": [],
   "source": [
    "\n",
    "  # load the clustering model trained on all pancan data.\n",
    "  #incProgress()\n",
    "load(\"data/wolf_set_slim1.rda\")\n",
    "  \n",
    "  # make cluster calls using the models.\n",
    "calls <- consensusEnsemble(mods2, zscores, cores, ensemblesize)\n",
    "  "
   ]
  },
  {
   "cell_type": "code",
   "execution_count": null,
   "metadata": {},
   "outputs": [],
   "source": [
    "  \n",
    "  # get the top scoring cluster for each sample\n",
    "maxcalls <- apply(calls$.Data, 1, function(a) which(a == max(a))[1])\n",
    "names(maxcalls) <- rownames(scores)\n",
    "  "
   ]
  },
  {
   "cell_type": "code",
   "execution_count": null,
   "metadata": {},
   "outputs": [],
   "source": [
    "  # then we'll look at the new vs. old cluster calls for TCGA samples\n",
    "sharedIDs <- intersect(reportedScores$AliquotBarcode, rownames(scores))\n",
    "t1 <-table(Reported=as.numeric(reportedScores[sharedIDs, 'ClusterModel1']),\n",
    "             NewCalls=as.numeric(maxcalls[sharedIDs]))\n",
    "  "
   ]
  },
  {
   "cell_type": "code",
   "execution_count": null,
   "metadata": {},
   "outputs": [],
   "source": [
    "  # then we can align the new calls to old calls.\n",
    "reported <- 1:6\n",
    "optcalls <- 1:6\n",
    "\n",
    "for (i in reported) {\n",
    "    \n",
    "    # for subtype i, where did most of the samples end up?\n",
    "    j <- which(as.numeric(t1[i,]) == max(as.numeric(t1[i,])))\n",
    "    # rename maxcall j <- i\n",
    "    optcalls[i] <- j\n",
    "}\n",
    "  \n",
    "print(optcalls)\n",
    "  "
   ]
  },
  {
   "cell_type": "code",
   "execution_count": null,
   "metadata": {},
   "outputs": [],
   "source": [
    "  \n",
    "# these are the re-mapped calls\n",
    "alignedCalls <- sapply(maxcalls, function(a) which(a == optcalls)[1])\n"
   ]
  },
  {
   "cell_type": "code",
   "execution_count": null,
   "metadata": {},
   "outputs": [],
   "source": [
    "# make sure it works\n",
    "t2 <-table(Reported=as.numeric(reportedScores[sharedIDs, 'ClusterModel1']),\n",
    "             NewCalls=as.numeric(alignedCalls[sharedIDs]))\n",
    "\n",
    "t2"
   ]
  },
  {
   "cell_type": "code",
   "execution_count": null,
   "metadata": {},
   "outputs": [],
   "source": [
    "# assemble the results\n",
    "jdx <- match(table=rownames(scores), x=colnames(dat))  # index to new data scores\n",
    "pcalls <- calls$.Data[jdx,]                            # get that table\n",
    "rownames(pcalls) <- colnames(dat)                      # name it from the new data\n",
    "pcalls <- pcalls[,optcalls]\n",
    "  \n",
    "pcalls <- cbind(pcalls, data.frame(Call=alignedCalls[jdx]))  # bring in the aligned calls\n",
    "pcalls <- cbind(pcalls, zscores[jdx,])                       # and the scores\n",
    "    "
   ]
  },
  {
   "cell_type": "code",
   "execution_count": null,
   "metadata": {},
   "outputs": [],
   "source": [
    "head(pcalls)"
   ]
  },
  {
   "cell_type": "code",
   "execution_count": null,
   "metadata": {},
   "outputs": [],
   "source": [
    "finalResults <- list(AlignedCalls=alignedCalls[jdx], Table=t2, ProbCalls=pcalls)"
   ]
  },
  {
   "cell_type": "code",
   "execution_count": null,
   "metadata": {},
   "outputs": [],
   "source": []
  },
  {
   "cell_type": "code",
   "execution_count": null,
   "metadata": {},
   "outputs": [],
   "source": []
  },
  {
   "cell_type": "code",
   "execution_count": null,
   "metadata": {},
   "outputs": [],
   "source": []
  },
  {
   "cell_type": "code",
   "execution_count": null,
   "metadata": {},
   "outputs": [],
   "source": [
    "# Just to check against the AlignedCalls\n",
    "reportedScores['TCGA.OR.A5J1.01A.11R.A29S.07',]"
   ]
  },
  {
   "cell_type": "code",
   "execution_count": null,
   "metadata": {},
   "outputs": [],
   "source": []
  },
  {
   "cell_type": "code",
   "execution_count": null,
   "metadata": {},
   "outputs": [],
   "source": []
  }
 ],
 "metadata": {
  "kernelspec": {
   "display_name": "R",
   "language": "R",
   "name": "ir"
  },
  "language_info": {
   "codemirror_mode": "r",
   "file_extension": ".r",
   "mimetype": "text/x-r-source",
   "name": "R",
   "pygments_lexer": "r",
   "version": "3.5.2"
  }
 },
 "nbformat": 4,
 "nbformat_minor": 2
}
