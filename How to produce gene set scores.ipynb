{
 "cells": [
  {
   "cell_type": "markdown",
   "metadata": {},
   "source": [
    "# How to produce gene set scores (like in the Pancancer immune paper)."
   ]
  },
  {
   "cell_type": "markdown",
   "metadata": {},
   "source": [
    "David L Gibbs,\n",
    "Jan 7, 2019\n",
    "dgibbs (( at )) systemsbiology (( dot )) org"
   ]
  },
  {
   "cell_type": "markdown",
   "metadata": {},
   "source": [
    "The first thing we need to do: download the Pancancer TCGA expression set.\n",
    "\n",
    "It can be found at:  http://api.gdc.cancer.gov/data/3586c0da-64d0-4b74-a449-5ff4d9136611\n",
    "\n",
    "I'm going to download it and put in the same folder as this notebook. It can take a while since it's 1.8 GBs"
   ]
  },
  {
   "cell_type": "code",
   "execution_count": 1,
   "metadata": {},
   "outputs": [],
   "source": [
    "library(readr)"
   ]
  },
  {
   "cell_type": "code",
   "execution_count": 2,
   "metadata": {},
   "outputs": [
    {
     "name": "stderr",
     "output_type": "stream",
     "text": [
      "Parsed with column specification:\n",
      "cols(\n",
      "  .default = col_double(),\n",
      "  gene_id = col_character()\n",
      ")\n",
      "See spec(...) for full column specifications.\n"
     ]
    }
   ],
   "source": [
    "dat <- read_tsv('EBPlusPlusAdjustPANCAN_IlluminaHiSeq_RNASeqV2.geneExp.tsv')"
   ]
  },
  {
   "cell_type": "code",
   "execution_count": 3,
   "metadata": {},
   "outputs": [
    {
     "data": {
      "text/html": [
       "<table>\n",
       "<thead><tr><th scope=col>gene_id</th><th scope=col>TCGA-OR-A5J1-01A-11R-A29S-07</th><th scope=col>TCGA-OR-A5J2-01A-11R-A29S-07</th><th scope=col>TCGA-OR-A5J3-01A-11R-A29S-07</th><th scope=col>TCGA-OR-A5J5-01A-11R-A29S-07</th></tr></thead>\n",
       "<tbody>\n",
       "\t<tr><td>?|100130426</td><td>   0.0000  </td><td>   0.0000  </td><td>   0.0000  </td><td>   0.0000  </td></tr>\n",
       "\t<tr><td>?|100133144</td><td>   3.2661  </td><td>   2.6815  </td><td>   1.7301  </td><td>   0.0000  </td></tr>\n",
       "\t<tr><td>?|100134869</td><td>   3.9385  </td><td>   8.9948  </td><td>   6.5650  </td><td>   1.5492  </td></tr>\n",
       "\t<tr><td>?|10357    </td><td> 149.1350  </td><td>  81.0777  </td><td>  86.4879  </td><td>  53.9117  </td></tr>\n",
       "\t<tr><td>?|10431    </td><td>2034.1000  </td><td>1304.9300  </td><td>1054.6600  </td><td>2350.8900  </td></tr>\n",
       "</tbody>\n",
       "</table>\n"
      ],
      "text/latex": [
       "\\begin{tabular}{r|lllll}\n",
       " gene\\_id & TCGA-OR-A5J1-01A-11R-A29S-07 & TCGA-OR-A5J2-01A-11R-A29S-07 & TCGA-OR-A5J3-01A-11R-A29S-07 & TCGA-OR-A5J5-01A-11R-A29S-07\\\\\n",
       "\\hline\n",
       "\t ?\\textbar{}100130426 &    0.0000             &    0.0000             &    0.0000             &    0.0000            \\\\\n",
       "\t ?\\textbar{}100133144 &    3.2661             &    2.6815             &    1.7301             &    0.0000            \\\\\n",
       "\t ?\\textbar{}100134869 &    3.9385             &    8.9948             &    6.5650             &    1.5492            \\\\\n",
       "\t ?\\textbar{}10357     &  149.1350             &   81.0777             &   86.4879             &   53.9117            \\\\\n",
       "\t ?\\textbar{}10431     & 2034.1000             & 1304.9300             & 1054.6600             & 2350.8900            \\\\\n",
       "\\end{tabular}\n"
      ],
      "text/markdown": [
       "\n",
       "gene_id | TCGA-OR-A5J1-01A-11R-A29S-07 | TCGA-OR-A5J2-01A-11R-A29S-07 | TCGA-OR-A5J3-01A-11R-A29S-07 | TCGA-OR-A5J5-01A-11R-A29S-07 | \n",
       "|---|---|---|---|---|\n",
       "| ?|100130426 |    0.0000   |    0.0000   |    0.0000   |    0.0000   | \n",
       "| ?|100133144 |    3.2661   |    2.6815   |    1.7301   |    0.0000   | \n",
       "| ?|100134869 |    3.9385   |    8.9948   |    6.5650   |    1.5492   | \n",
       "| ?|10357     |  149.1350   |   81.0777   |   86.4879   |   53.9117   | \n",
       "| ?|10431     | 2034.1000   | 1304.9300   | 1054.6600   | 2350.8900   | \n",
       "\n",
       "\n"
      ],
      "text/plain": [
       "  gene_id     TCGA-OR-A5J1-01A-11R-A29S-07 TCGA-OR-A5J2-01A-11R-A29S-07\n",
       "1 ?|100130426    0.0000                       0.0000                   \n",
       "2 ?|100133144    3.2661                       2.6815                   \n",
       "3 ?|100134869    3.9385                       8.9948                   \n",
       "4 ?|10357      149.1350                      81.0777                   \n",
       "5 ?|10431     2034.1000                    1304.9300                   \n",
       "  TCGA-OR-A5J3-01A-11R-A29S-07 TCGA-OR-A5J5-01A-11R-A29S-07\n",
       "1    0.0000                       0.0000                   \n",
       "2    1.7301                       0.0000                   \n",
       "3    6.5650                       1.5492                   \n",
       "4   86.4879                      53.9117                   \n",
       "5 1054.6600                    2350.8900                   "
      ]
     },
     "metadata": {},
     "output_type": "display_data"
    }
   ],
   "source": [
    "dat[1:5,1:5]"
   ]
  },
  {
   "cell_type": "code",
   "execution_count": null,
   "metadata": {},
   "outputs": [],
   "source": []
  },
  {
   "cell_type": "markdown",
   "metadata": {},
   "source": [
    "* We have gene symbols and entrez IDs in that first column, so we'll need to split them up. *"
   ]
  },
  {
   "cell_type": "code",
   "execution_count": 4,
   "metadata": {},
   "outputs": [
    {
     "data": {
      "text/html": [
       "<ol class=list-inline>\n",
       "\t<li>'DLGAP2'</li>\n",
       "\t<li>'DLGAP3'</li>\n",
       "\t<li>'DLGAP4'</li>\n",
       "\t<li>'DLGAP5'</li>\n",
       "\t<li>'DLK1'</li>\n",
       "\t<li>'DLK2'</li>\n",
       "</ol>\n"
      ],
      "text/latex": [
       "\\begin{enumerate*}\n",
       "\\item 'DLGAP2'\n",
       "\\item 'DLGAP3'\n",
       "\\item 'DLGAP4'\n",
       "\\item 'DLGAP5'\n",
       "\\item 'DLK1'\n",
       "\\item 'DLK2'\n",
       "\\end{enumerate*}\n"
      ],
      "text/markdown": [
       "1. 'DLGAP2'\n",
       "2. 'DLGAP3'\n",
       "3. 'DLGAP4'\n",
       "4. 'DLGAP5'\n",
       "5. 'DLK1'\n",
       "6. 'DLK2'\n",
       "\n",
       "\n"
      ],
      "text/plain": [
       "[1] \"DLGAP2\" \"DLGAP3\" \"DLGAP4\" \"DLGAP5\" \"DLK1\"   \"DLK2\"  "
      ]
     },
     "metadata": {},
     "output_type": "display_data"
    }
   ],
   "source": [
    "geneList <- strsplit(dat$gene_id, '\\\\|')\n",
    "geneSymbols <- unlist(lapply(geneList, function(a) a[[1]]))                             \n",
    "geneSymbols[5000:5005]\n",
    "                        "
   ]
  },
  {
   "cell_type": "code",
   "execution_count": null,
   "metadata": {},
   "outputs": [],
   "source": []
  },
  {
   "cell_type": "markdown",
   "metadata": {},
   "source": [
    "* Now I'm going to download the code from my github account. It contains everything we should need to produce scores.\n",
    "\n",
    "* In a terminal, after changing directories to where the above data is located I'm going to clone the repo\n",
    "\n",
    "git clone https://github.com/Gibbsdavidl/Immune-Subtype-Clustering\n",
    "\n",
    "* I'm going to pull the code out from the files found in the Scripts/ directory"
   ]
  },
  {
   "cell_type": "code",
   "execution_count": 5,
   "metadata": {},
   "outputs": [
    {
     "data": {
      "text/html": [
       "<table>\n",
       "<thead><tr><th></th><th scope=col>used</th><th scope=col>(Mb)</th><th scope=col>gc trigger</th><th scope=col>(Mb)</th><th scope=col>max used</th><th scope=col>(Mb)</th></tr></thead>\n",
       "<tbody>\n",
       "\t<tr><th scope=row>Ncells</th><td>   658822</td><td>  35.2   </td><td>  2006908</td><td> 107.2   </td><td>  6124604</td><td> 327.1   </td></tr>\n",
       "\t<tr><th scope=row>Vcells</th><td>230299965</td><td>1757.1   </td><td>583348083</td><td>4450.6   </td><td>486047808</td><td>3708.3   </td></tr>\n",
       "</tbody>\n",
       "</table>\n"
      ],
      "text/latex": [
       "\\begin{tabular}{r|llllll}\n",
       "  & used & (Mb) & gc trigger & (Mb) & max used & (Mb)\\\\\n",
       "\\hline\n",
       "\tNcells &    658822 &   35.2    &   2006908 &  107.2    &   6124604 &  327.1   \\\\\n",
       "\tVcells & 230299965 & 1757.1    & 583348083 & 4450.6    & 486047808 & 3708.3   \\\\\n",
       "\\end{tabular}\n"
      ],
      "text/markdown": [
       "\n",
       "| <!--/--> | used | (Mb) | gc trigger | (Mb) | max used | (Mb) | \n",
       "|---|---|\n",
       "| Ncells |    658822 |   35.2    |   2006908 |  107.2    |   6124604 |  327.1    | \n",
       "| Vcells | 230299965 | 1757.1    | 583348083 | 4450.6    | 486047808 | 3708.3    | \n",
       "\n",
       "\n"
      ],
      "text/plain": [
       "       used      (Mb)   gc trigger (Mb)   max used  (Mb)  \n",
       "Ncells    658822   35.2   2006908   107.2   6124604  327.1\n",
       "Vcells 230299965 1757.1 583348083  4450.6 486047808 3708.3"
      ]
     },
     "metadata": {},
     "output_type": "display_data"
    },
    {
     "data": {
      "text/html": [
       "<ol class=list-inline>\n",
       "\t<li>20502</li>\n",
       "\t<li>11069</li>\n",
       "</ol>\n"
      ],
      "text/latex": [
       "\\begin{enumerate*}\n",
       "\\item 20502\n",
       "\\item 11069\n",
       "\\end{enumerate*}\n"
      ],
      "text/markdown": [
       "1. 20502\n",
       "2. 11069\n",
       "\n",
       "\n"
      ],
      "text/plain": [
       "[1] 20502 11069"
      ]
     },
     "metadata": {},
     "output_type": "display_data"
    },
    {
     "data": {
      "text/html": [
       "<table>\n",
       "<thead><tr><th></th><th scope=col>TCGA-OR-A5J1-01A-11R-A29S-07</th><th scope=col>TCGA-OR-A5J2-01A-11R-A29S-07</th><th scope=col>TCGA-OR-A5J3-01A-11R-A29S-07</th><th scope=col>TCGA-OR-A5J5-01A-11R-A29S-07</th><th scope=col>TCGA-OR-A5J6-01A-31R-A29S-07</th></tr></thead>\n",
       "<tbody>\n",
       "\t<tr><th scope=row>?</th><td>  0.0000 </td><td>  0.0000 </td><td>  0.0000 </td><td>   0.0000</td><td>  0.0000 </td></tr>\n",
       "\t<tr><th scope=row>A1BG</th><td> 16.3305 </td><td>  9.5987 </td><td> 20.7377 </td><td>1696.6600</td><td>600.1620 </td></tr>\n",
       "\t<tr><th scope=row>A1CF</th><td>  0.0000 </td><td>  0.0000 </td><td>  0.5925 </td><td>   1.5492</td><td>  0.0000 </td></tr>\n",
       "\t<tr><th scope=row>A2BP1</th><td> 17.2911 </td><td>  5.6368 </td><td>  8.8876 </td><td>   6.1967</td><td>  4.4709 </td></tr>\n",
       "\t<tr><th scope=row>A2LD1</th><td>182.3920 </td><td>239.1580 </td><td>138.8830 </td><td>  63.9349</td><td>237.3520 </td></tr>\n",
       "</tbody>\n",
       "</table>\n"
      ],
      "text/latex": [
       "\\begin{tabular}{r|lllll}\n",
       "  & TCGA-OR-A5J1-01A-11R-A29S-07 & TCGA-OR-A5J2-01A-11R-A29S-07 & TCGA-OR-A5J3-01A-11R-A29S-07 & TCGA-OR-A5J5-01A-11R-A29S-07 & TCGA-OR-A5J6-01A-31R-A29S-07\\\\\n",
       "\\hline\n",
       "\t? &   0.0000  &   0.0000  &   0.0000  &    0.0000 &   0.0000 \\\\\n",
       "\tA1BG &  16.3305  &   9.5987  &  20.7377  & 1696.6600 & 600.1620 \\\\\n",
       "\tA1CF &   0.0000  &   0.0000  &   0.5925  &    1.5492 &   0.0000 \\\\\n",
       "\tA2BP1 &  17.2911  &   5.6368  &   8.8876  &    6.1967 &   4.4709 \\\\\n",
       "\tA2LD1 & 182.3920  & 239.1580  & 138.8830  &   63.9349 & 237.3520 \\\\\n",
       "\\end{tabular}\n"
      ],
      "text/markdown": [
       "\n",
       "| <!--/--> | TCGA-OR-A5J1-01A-11R-A29S-07 | TCGA-OR-A5J2-01A-11R-A29S-07 | TCGA-OR-A5J3-01A-11R-A29S-07 | TCGA-OR-A5J5-01A-11R-A29S-07 | TCGA-OR-A5J6-01A-31R-A29S-07 | \n",
       "|---|---|---|---|---|\n",
       "| ? |   0.0000  |   0.0000  |   0.0000  |    0.0000 |   0.0000  | \n",
       "| A1BG |  16.3305  |   9.5987  |  20.7377  | 1696.6600 | 600.1620  | \n",
       "| A1CF |   0.0000  |   0.0000  |   0.5925  |    1.5492 |   0.0000  | \n",
       "| A2BP1 |  17.2911  |   5.6368  |   8.8876  |    6.1967 |   4.4709  | \n",
       "| A2LD1 | 182.3920  | 239.1580  | 138.8830  |   63.9349 | 237.3520  | \n",
       "\n",
       "\n"
      ],
      "text/plain": [
       "      TCGA-OR-A5J1-01A-11R-A29S-07 TCGA-OR-A5J2-01A-11R-A29S-07\n",
       "?       0.0000                       0.0000                    \n",
       "A1BG   16.3305                       9.5987                    \n",
       "A1CF    0.0000                       0.0000                    \n",
       "A2BP1  17.2911                       5.6368                    \n",
       "A2LD1 182.3920                     239.1580                    \n",
       "      TCGA-OR-A5J3-01A-11R-A29S-07 TCGA-OR-A5J5-01A-11R-A29S-07\n",
       "?       0.0000                        0.0000                   \n",
       "A1BG   20.7377                     1696.6600                   \n",
       "A1CF    0.5925                        1.5492                   \n",
       "A2BP1   8.8876                        6.1967                   \n",
       "A2LD1 138.8830                       63.9349                   \n",
       "      TCGA-OR-A5J6-01A-31R-A29S-07\n",
       "?       0.0000                    \n",
       "A1BG  600.1620                    \n",
       "A1CF    0.0000                    \n",
       "A2BP1   4.4709                    \n",
       "A2LD1 237.3520                    "
      ]
     },
     "metadata": {},
     "output_type": "display_data"
    }
   ],
   "source": [
    "# let's work on a subset of the data, and compare to the reported scores #\n",
    "\n",
    "# first to remove some duplicate symbols '?' and 'SLC35E2'\n",
    "idx <- which(duplicated(geneSymbols))\n",
    "gs2 <- geneSymbols[-idx]\n",
    "\n",
    "# then make a smaller data set and give it row names\n",
    "datSubset <- as.data.frame(dat[-idx,-1]) #  sample(x = 1:ncol(dat), size = 1000, replace = F)]) \n",
    "rownames(datSubset) <- gs2\n",
    "\n",
    "rm(dat)\n",
    "gc()\n",
    "\n",
    "# just to have a look\n",
    "dim(datSubset)\n",
    "datSubset[1:5,1:5]\n"
   ]
  },
  {
   "cell_type": "code",
   "execution_count": 6,
   "metadata": {},
   "outputs": [
    {
     "data": {
      "text/plain": [
       "    Min.  1st Qu.   Median     Mean  3rd Qu.     Max. \n",
       "     0.0      2.4    130.6    856.4    787.2 434605.0 "
      ]
     },
     "metadata": {},
     "output_type": "display_data"
    }
   ],
   "source": [
    "summary(as.numeric(datSubset[,1]))"
   ]
  },
  {
   "cell_type": "code",
   "execution_count": 7,
   "metadata": {},
   "outputs": [
    {
     "data": {},
     "metadata": {},
     "output_type": "display_data"
    },
    {
     "data": {},
     "metadata": {},
     "output_type": "display_data"
    },
    {
     "data": {
      "image/png": "[encoded data removed]",
      "text/plain": [
       "plot without title"
      ]
     },
     "metadata": {},
     "output_type": "display_data"
    },
    {
     "data": {
      "image/png": "[encoded data removed]",
      "text/plain": [
       "plot without title"
      ]
     },
     "metadata": {},
     "output_type": "display_data"
    }
   ],
   "source": [
    "library(ggplot2)\n",
    "options(repr.plot.width=4, repr.plot.height=3)\n",
    "\n",
    "# OK\n",
    "# so in order to get the data in to the form we need, there's a few transforms to do.\n",
    "\n",
    "# 1. log2\n",
    "# 2. median scaled.  (median will be zero)\n",
    "\n",
    "\n",
    "## Before...\n",
    "qplot(datSubset[,1], geom='density')\n",
    "\n",
    "## And After!\n",
    "qplot(log2(datSubset[,1]+1) - median(log2(datSubset[,1]+1)), geom='density')\n",
    "\n"
   ]
  },
  {
   "cell_type": "code",
   "execution_count": 8,
   "metadata": {},
   "outputs": [
    {
     "data": {
      "text/html": [
       "<table>\n",
       "<thead><tr><th></th><th scope=col>used</th><th scope=col>(Mb)</th><th scope=col>gc trigger</th><th scope=col>(Mb)</th><th scope=col>max used</th><th scope=col>(Mb)</th></tr></thead>\n",
       "<tbody>\n",
       "\t<tr><th scope=row>Ncells</th><td>   824611 </td><td>  44.1    </td><td>   2006908</td><td>  107.2   </td><td>   6124604</td><td>  327.1   </td></tr>\n",
       "\t<tr><th scope=row>Vcells</th><td>230602311 </td><td>1759.4    </td><td>1574903418</td><td>12015.6   </td><td>1592240378</td><td>12147.9   </td></tr>\n",
       "</tbody>\n",
       "</table>\n"
      ],
      "text/latex": [
       "\\begin{tabular}{r|llllll}\n",
       "  & used & (Mb) & gc trigger & (Mb) & max used & (Mb)\\\\\n",
       "\\hline\n",
       "\tNcells &    824611  &   44.1     &    2006908 &   107.2    &    6124604 &   327.1   \\\\\n",
       "\tVcells & 230602311  & 1759.4     & 1574903418 & 12015.6    & 1592240378 & 12147.9   \\\\\n",
       "\\end{tabular}\n"
      ],
      "text/markdown": [
       "\n",
       "| <!--/--> | used | (Mb) | gc trigger | (Mb) | max used | (Mb) | \n",
       "|---|---|\n",
       "| Ncells |    824611  |   44.1     |    2006908 |   107.2    |    6124604 |   327.1    | \n",
       "| Vcells | 230602311  | 1759.4     | 1574903418 | 12015.6    | 1592240378 | 12147.9    | \n",
       "\n",
       "\n"
      ],
      "text/plain": [
       "       used      (Mb)   gc trigger (Mb)    max used   (Mb)   \n",
       "Ncells    824611   44.1    2006908   107.2    6124604   327.1\n",
       "Vcells 230602311 1759.4 1574903418 12015.6 1592240378 12147.9"
      ]
     },
     "metadata": {},
     "output_type": "display_data"
    },
    {
     "data": {},
     "metadata": {},
     "output_type": "display_data"
    },
    {
     "data": {
      "text/plain": [
       "   Min. 1st Qu.  Median    Mean 3rd Qu.    Max. \n",
       "-7.0405 -5.2743  0.0000 -0.9602  2.5820 11.6889 "
      ]
     },
     "metadata": {},
     "output_type": "display_data"
    },
    {
     "data": {
      "text/html": [
       "<table>\n",
       "<thead><tr><th></th><th scope=col>TCGA-OR-A5J1-01A-11R-A29S-07</th><th scope=col>TCGA-OR-A5J2-01A-11R-A29S-07</th><th scope=col>TCGA-OR-A5J3-01A-11R-A29S-07</th><th scope=col>TCGA-OR-A5J5-01A-11R-A29S-07</th><th scope=col>TCGA-OR-A5J6-01A-31R-A29S-07</th></tr></thead>\n",
       "<tbody>\n",
       "\t<tr><th scope=row>?</th><td>-7.0404980 </td><td>-7.3003343 </td><td>-7.22611351</td><td>-7.534132  </td><td>-7.1076879 </td></tr>\n",
       "\t<tr><th scope=row>A1BG</th><td>-2.9252566 </td><td>-3.8945188 </td><td>-2.78398611</td><td> 3.195200  </td><td> 2.1239221 </td></tr>\n",
       "\t<tr><th scope=row>A1CF</th><td>-7.0404980 </td><td>-7.3003343 </td><td>-6.55482013</td><td>-6.184087  </td><td>-7.1076879 </td></tr>\n",
       "\t<tr><th scope=row>A2BP1</th><td>-2.8474280 </td><td>-4.5698465 </td><td>-3.92049313</td><td>-4.686796  </td><td>-4.6559097 </td></tr>\n",
       "\t<tr><th scope=row>A2LD1</th><td> 0.4782889 </td><td> 0.6075058 </td><td>-0.09803668</td><td>-1.513209  </td><td> 0.7892621 </td></tr>\n",
       "</tbody>\n",
       "</table>\n"
      ],
      "text/latex": [
       "\\begin{tabular}{r|lllll}\n",
       "  & TCGA-OR-A5J1-01A-11R-A29S-07 & TCGA-OR-A5J2-01A-11R-A29S-07 & TCGA-OR-A5J3-01A-11R-A29S-07 & TCGA-OR-A5J5-01A-11R-A29S-07 & TCGA-OR-A5J6-01A-31R-A29S-07\\\\\n",
       "\\hline\n",
       "\t? & -7.0404980  & -7.3003343  & -7.22611351 & -7.534132   & -7.1076879 \\\\\n",
       "\tA1BG & -2.9252566  & -3.8945188  & -2.78398611 &  3.195200   &  2.1239221 \\\\\n",
       "\tA1CF & -7.0404980  & -7.3003343  & -6.55482013 & -6.184087   & -7.1076879 \\\\\n",
       "\tA2BP1 & -2.8474280  & -4.5698465  & -3.92049313 & -4.686796   & -4.6559097 \\\\\n",
       "\tA2LD1 &  0.4782889  &  0.6075058  & -0.09803668 & -1.513209   &  0.7892621 \\\\\n",
       "\\end{tabular}\n"
      ],
      "text/markdown": [
       "\n",
       "| <!--/--> | TCGA-OR-A5J1-01A-11R-A29S-07 | TCGA-OR-A5J2-01A-11R-A29S-07 | TCGA-OR-A5J3-01A-11R-A29S-07 | TCGA-OR-A5J5-01A-11R-A29S-07 | TCGA-OR-A5J6-01A-31R-A29S-07 | \n",
       "|---|---|---|---|---|\n",
       "| ? | -7.0404980  | -7.3003343  | -7.22611351 | -7.534132   | -7.1076879  | \n",
       "| A1BG | -2.9252566  | -3.8945188  | -2.78398611 |  3.195200   |  2.1239221  | \n",
       "| A1CF | -7.0404980  | -7.3003343  | -6.55482013 | -6.184087   | -7.1076879  | \n",
       "| A2BP1 | -2.8474280  | -4.5698465  | -3.92049313 | -4.686796   | -4.6559097  | \n",
       "| A2LD1 |  0.4782889  |  0.6075058  | -0.09803668 | -1.513209   |  0.7892621  | \n",
       "\n",
       "\n"
      ],
      "text/plain": [
       "      TCGA-OR-A5J1-01A-11R-A29S-07 TCGA-OR-A5J2-01A-11R-A29S-07\n",
       "?     -7.0404980                   -7.3003343                  \n",
       "A1BG  -2.9252566                   -3.8945188                  \n",
       "A1CF  -7.0404980                   -7.3003343                  \n",
       "A2BP1 -2.8474280                   -4.5698465                  \n",
       "A2LD1  0.4782889                    0.6075058                  \n",
       "      TCGA-OR-A5J3-01A-11R-A29S-07 TCGA-OR-A5J5-01A-11R-A29S-07\n",
       "?     -7.22611351                  -7.534132                   \n",
       "A1BG  -2.78398611                   3.195200                   \n",
       "A1CF  -6.55482013                  -6.184087                   \n",
       "A2BP1 -3.92049313                  -4.686796                   \n",
       "A2LD1 -0.09803668                  -1.513209                   \n",
       "      TCGA-OR-A5J6-01A-31R-A29S-07\n",
       "?     -7.1076879                  \n",
       "A1BG   2.1239221                  \n",
       "A1CF  -7.1076879                  \n",
       "A2BP1 -4.6559097                  \n",
       "A2LD1  0.7892621                  "
      ]
     },
     "metadata": {},
     "output_type": "display_data"
    },
    {
     "data": {
      "image/png": "[encoded data removed]",
      "text/plain": [
       "plot without title"
      ]
     },
     "metadata": {},
     "output_type": "display_data"
    }
   ],
   "source": [
    "\n",
    "# apply the transforms #\n",
    "# first the log2\n",
    "datSubsetTransformed <- apply(datSubset, 2, function(a) log2(a+1))\n",
    "\n",
    "# running out of memory! #\n",
    "rm(datSubset)\n",
    "gc()                              \n",
    "\n",
    "# then the median scale\n",
    "datSubsetTransformed <- apply(datSubsetTransformed, 2, function(a) a - median(a, na.rm=T))\n",
    "                              \n",
    "# should look like the above plot #                              \n",
    "qplot(datSubsetTransformed[,1], geom='density')\n",
    "                         \n",
    "summary(datSubsetTransformed[,1])\n",
    "                              \n",
    "datSubsetTransformed[1:5,1:5]                              "
   ]
  },
  {
   "cell_type": "code",
   "execution_count": 9,
   "metadata": {},
   "outputs": [
    {
     "name": "stdout",
     "output_type": "stream",
     "text": [
      "[1] \"DONE MEAN\"\n",
      "[1] \"DONE MEDIAN\"\n",
      "[1] \"DONE WEIGHTED MEAN\"\n",
      "[1] \"DONE MODULES\"\n",
      "GP11_Immune_IFN \n",
      "[1] \"DONE ZHANG\"\n",
      "[1] \"DONE KEGG\"\n",
      "[1] \"DONE CD8 RATIO\"\n",
      "[1] \"DONE TAMsurr\"\n",
      "[1] \"DONE CHANG CORE\"\n",
      "CSR_Activated_15701700 \n",
      "[1] \"DONE CSR\"\n",
      "B_cell_PCA_16704732 \n",
      "CD8_PCA_16704732 \n",
      "GRANS_PCA_16704732 \n",
      "LYMPHS_PCA_16704732 \n",
      "T_cell_PCA_16704732 \n",
      "TGFB_PCA_17349583 \n",
      "Rotterdam_ERneg_PCA_15721472 \n",
      "HER2_Immune_PCA_18006808 \n",
      "[1] \"DONE PCA\"\n",
      "[1] \"DONE DONE\"\n"
     ]
    }
   ],
   "source": [
    "\n",
    "# and we use the scoring code to produce scores #\n",
    "load('Immune-Subtype-Clustering/shiny-app/Immune-Subtype-Clustering/data/comparative_immuneSigs_geneLists4.rda')\n",
    "source('Immune-Subtype-Clustering/Scripts/ImmuneSigs68_function.R')\n",
    "scores <- ImmuneSigs_function(datSubsetTransformed, \n",
    "                              sigs1_2_eg2,\n",
    "                              sigs12_weighted_means,\n",
    "                              sigs12_module_weights,\n",
    "                              sigs1_2_names2,\n",
    "                              sigs1_2_type2)\n"
   ]
  },
  {
   "cell_type": "code",
   "execution_count": 10,
   "metadata": {},
   "outputs": [
    {
     "data": {
      "text/html": [
       "<table>\n",
       "<thead><tr><th></th><th scope=col>TCGA-OR-A5J1-01A-11R-A29S-07</th><th scope=col>TCGA-OR-A5J2-01A-11R-A29S-07</th><th scope=col>TCGA-OR-A5J3-01A-11R-A29S-07</th><th scope=col>TCGA-OR-A5J5-01A-11R-A29S-07</th><th scope=col>TCGA-OR-A5J6-01A-31R-A29S-07</th></tr></thead>\n",
       "<tbody>\n",
       "\t<tr><th scope=row>ICS5_score</th><td>-4.3198</td><td>-3.7471</td><td>-2.8823</td><td>-4.8005</td><td>-3.2381</td></tr>\n",
       "\t<tr><th scope=row>LIexpression_score</th><td>-2.9509</td><td>-2.3325</td><td>-4.1236</td><td>-3.7251</td><td>-1.9746</td></tr>\n",
       "\t<tr><th scope=row>Chemokine12_score</th><td>-3.9021</td><td>-1.9931</td><td>-4.6967</td><td>-5.5043</td><td>-3.0471</td></tr>\n",
       "\t<tr><th scope=row>NHI_5gene_score</th><td>-0.4468</td><td>-0.6149</td><td>-0.2635</td><td>-0.4808</td><td> 0.4888</td></tr>\n",
       "\t<tr><th scope=row>CD68</th><td> 2.1496</td><td> 2.3727</td><td> 2.0296</td><td> 0.7814</td><td> 4.1830</td></tr>\n",
       "</tbody>\n",
       "</table>\n"
      ],
      "text/latex": [
       "\\begin{tabular}{r|lllll}\n",
       "  & TCGA-OR-A5J1-01A-11R-A29S-07 & TCGA-OR-A5J2-01A-11R-A29S-07 & TCGA-OR-A5J3-01A-11R-A29S-07 & TCGA-OR-A5J5-01A-11R-A29S-07 & TCGA-OR-A5J6-01A-31R-A29S-07\\\\\n",
       "\\hline\n",
       "\tICS5\\_score & -4.3198 & -3.7471 & -2.8823 & -4.8005 & -3.2381\\\\\n",
       "\tLIexpression\\_score & -2.9509 & -2.3325 & -4.1236 & -3.7251 & -1.9746\\\\\n",
       "\tChemokine12\\_score & -3.9021 & -1.9931 & -4.6967 & -5.5043 & -3.0471\\\\\n",
       "\tNHI\\_5gene\\_score & -0.4468 & -0.6149 & -0.2635 & -0.4808 &  0.4888\\\\\n",
       "\tCD68 &  2.1496 &  2.3727 &  2.0296 &  0.7814 &  4.1830\\\\\n",
       "\\end{tabular}\n"
      ],
      "text/markdown": [
       "\n",
       "| <!--/--> | TCGA-OR-A5J1-01A-11R-A29S-07 | TCGA-OR-A5J2-01A-11R-A29S-07 | TCGA-OR-A5J3-01A-11R-A29S-07 | TCGA-OR-A5J5-01A-11R-A29S-07 | TCGA-OR-A5J6-01A-31R-A29S-07 | \n",
       "|---|---|---|---|---|\n",
       "| ICS5_score | -4.3198 | -3.7471 | -2.8823 | -4.8005 | -3.2381 | \n",
       "| LIexpression_score | -2.9509 | -2.3325 | -4.1236 | -3.7251 | -1.9746 | \n",
       "| Chemokine12_score | -3.9021 | -1.9931 | -4.6967 | -5.5043 | -3.0471 | \n",
       "| NHI_5gene_score | -0.4468 | -0.6149 | -0.2635 | -0.4808 |  0.4888 | \n",
       "| CD68 |  2.1496 |  2.3727 |  2.0296 |  0.7814 |  4.1830 | \n",
       "\n",
       "\n"
      ],
      "text/plain": [
       "                   TCGA-OR-A5J1-01A-11R-A29S-07 TCGA-OR-A5J2-01A-11R-A29S-07\n",
       "ICS5_score         -4.3198                      -3.7471                     \n",
       "LIexpression_score -2.9509                      -2.3325                     \n",
       "Chemokine12_score  -3.9021                      -1.9931                     \n",
       "NHI_5gene_score    -0.4468                      -0.6149                     \n",
       "CD68                2.1496                       2.3727                     \n",
       "                   TCGA-OR-A5J3-01A-11R-A29S-07 TCGA-OR-A5J5-01A-11R-A29S-07\n",
       "ICS5_score         -2.8823                      -4.8005                     \n",
       "LIexpression_score -4.1236                      -3.7251                     \n",
       "Chemokine12_score  -4.6967                      -5.5043                     \n",
       "NHI_5gene_score    -0.2635                      -0.4808                     \n",
       "CD68                2.0296                       0.7814                     \n",
       "                   TCGA-OR-A5J6-01A-31R-A29S-07\n",
       "ICS5_score         -3.2381                     \n",
       "LIexpression_score -1.9746                     \n",
       "Chemokine12_score  -3.0471                     \n",
       "NHI_5gene_score     0.4888                     \n",
       "CD68                4.1830                     "
      ]
     },
     "metadata": {},
     "output_type": "display_data"
    }
   ],
   "source": [
    "scores[1:5,1:5]\n"
   ]
  },
  {
   "cell_type": "markdown",
   "metadata": {},
   "source": [
    "### Now we can compare this to the reported scores. ###"
   ]
  },
  {
   "cell_type": "markdown",
   "metadata": {},
   "source": [
    "The reported signature scores can be found on our iAtlas synapse page:\n",
    "https://www.synapse.org/#!Synapse:syn10337516/files/\n",
    "\n",
    "I'm going to download them and put them in the same directory as this notebook."
   ]
  },
  {
   "cell_type": "code",
   "execution_count": 11,
   "metadata": {
    "scrolled": false
   },
   "outputs": [],
   "source": [
    "reportedScores <- read.table('Scores_160_Signatures.tsv', header=T, sep='\\t', stringsAsFactors = F)"
   ]
  },
  {
   "cell_type": "code",
   "execution_count": 12,
   "metadata": {},
   "outputs": [
    {
     "data": {
      "text/html": [
       "<table>\n",
       "<thead><tr><th></th><th scope=col>Source</th><th scope=col>SetName</th><th scope=col>TCGA.02.0047.01A.01R.1849.01</th><th scope=col>TCGA.02.0055.01A.01R.1849.01</th><th scope=col>TCGA.02.2483.01A.01R.1849.01</th></tr></thead>\n",
       "<tbody>\n",
       "\t<tr><th scope=row>Angiogenesis</th><td>Yasin             </td><td>Angiogenesis      </td><td> 0.1925055        </td><td> 0.09855802       </td><td> 0.2027224        </td></tr>\n",
       "\t<tr><th scope=row>APM1</th><td>Yasin             </td><td>APM1              </td><td> 0.4492857        </td><td> 0.46742753       </td><td> 0.4380520        </td></tr>\n",
       "\t<tr><th scope=row>APM2</th><td>Yasin             </td><td>APM2              </td><td> 0.2437349        </td><td> 0.29939846       </td><td> 0.2658848        </td></tr>\n",
       "\t<tr><th scope=row>ICS5_score</th><td>Wolf              </td><td>ICS5_score        </td><td>-1.5192000        </td><td> 0.61780000       </td><td>-2.0130000        </td></tr>\n",
       "\t<tr><th scope=row>LIexpression_score</th><td>Wolf              </td><td>LIexpression_score</td><td>-1.8586000        </td><td>-0.73840000       </td><td>-1.2881000        </td></tr>\n",
       "</tbody>\n",
       "</table>\n"
      ],
      "text/latex": [
       "\\begin{tabular}{r|lllll}\n",
       "  & Source & SetName & TCGA.02.0047.01A.01R.1849.01 & TCGA.02.0055.01A.01R.1849.01 & TCGA.02.2483.01A.01R.1849.01\\\\\n",
       "\\hline\n",
       "\tAngiogenesis & Yasin              & Angiogenesis       &  0.1925055         &  0.09855802        &  0.2027224        \\\\\n",
       "\tAPM1 & Yasin              & APM1               &  0.4492857         &  0.46742753        &  0.4380520        \\\\\n",
       "\tAPM2 & Yasin              & APM2               &  0.2437349         &  0.29939846        &  0.2658848        \\\\\n",
       "\tICS5\\_score & Wolf                 & ICS5\\_score         & -1.5192000           &  0.61780000          & -2.0130000          \\\\\n",
       "\tLIexpression\\_score & Wolf                 & LIexpression\\_score & -1.8586000           & -0.73840000          & -1.2881000          \\\\\n",
       "\\end{tabular}\n"
      ],
      "text/markdown": [
       "\n",
       "| <!--/--> | Source | SetName | TCGA.02.0047.01A.01R.1849.01 | TCGA.02.0055.01A.01R.1849.01 | TCGA.02.2483.01A.01R.1849.01 | \n",
       "|---|---|---|---|---|\n",
       "| Angiogenesis | Yasin              | Angiogenesis       |  0.1925055         |  0.09855802        |  0.2027224         | \n",
       "| APM1 | Yasin              | APM1               |  0.4492857         |  0.46742753        |  0.4380520         | \n",
       "| APM2 | Yasin              | APM2               |  0.2437349         |  0.29939846        |  0.2658848         | \n",
       "| ICS5_score | Wolf               | ICS5_score         | -1.5192000         |  0.61780000        | -2.0130000         | \n",
       "| LIexpression_score | Wolf               | LIexpression_score | -1.8586000         | -0.73840000        | -1.2881000         | \n",
       "\n",
       "\n"
      ],
      "text/plain": [
       "                   Source SetName            TCGA.02.0047.01A.01R.1849.01\n",
       "Angiogenesis       Yasin  Angiogenesis        0.1925055                  \n",
       "APM1               Yasin  APM1                0.4492857                  \n",
       "APM2               Yasin  APM2                0.2437349                  \n",
       "ICS5_score         Wolf   ICS5_score         -1.5192000                  \n",
       "LIexpression_score Wolf   LIexpression_score -1.8586000                  \n",
       "                   TCGA.02.0055.01A.01R.1849.01 TCGA.02.2483.01A.01R.1849.01\n",
       "Angiogenesis        0.09855802                   0.2027224                  \n",
       "APM1                0.46742753                   0.4380520                  \n",
       "APM2                0.29939846                   0.2658848                  \n",
       "ICS5_score          0.61780000                  -2.0130000                  \n",
       "LIexpression_score -0.73840000                  -1.2881000                  "
      ]
     },
     "metadata": {},
     "output_type": "display_data"
    }
   ],
   "source": [
    "reportedScores[1:5,1:5]\n"
   ]
  },
  {
   "cell_type": "markdown",
   "metadata": {},
   "source": [
    "* Of course!  The column names have dots.  Have to fix that."
   ]
  },
  {
   "cell_type": "code",
   "execution_count": 13,
   "metadata": {},
   "outputs": [
    {
     "data": {
      "text/html": [
       "9129"
      ],
      "text/latex": [
       "9129"
      ],
      "text/markdown": [
       "9129"
      ],
      "text/plain": [
       "[1] 9129"
      ]
     },
     "metadata": {},
     "output_type": "display_data"
    }
   ],
   "source": [
    "library(stringr)\n",
    "x <- str_replace_all(colnames(reportedScores), pattern='\\\\.', replacement='-')\n",
    "colnames(reportedScores) <- x\n",
    "\n",
    "# did we get them matched?\n",
    "sum(colnames(scores) %in% colnames(reportedScores))\n",
    "\n",
    "# close  <crying face emoji>"
   ]
  },
  {
   "cell_type": "code",
   "execution_count": 14,
   "metadata": {},
   "outputs": [
    {
     "data": {
      "text/html": [
       "9129"
      ],
      "text/latex": [
       "9129"
      ],
      "text/markdown": [
       "9129"
      ],
      "text/plain": [
       "[1] 9129"
      ]
     },
     "metadata": {},
     "output_type": "display_data"
    },
    {
     "data": {
      "text/html": [
       "67"
      ],
      "text/latex": [
       "67"
      ],
      "text/markdown": [
       "67"
      ],
      "text/plain": [
       "[1] 67"
      ]
     },
     "metadata": {},
     "output_type": "display_data"
    },
    {
     "data": {
      "text/html": [
       "<ol class=list-inline>\n",
       "\t<li>67</li>\n",
       "\t<li>9129</li>\n",
       "</ol>\n"
      ],
      "text/latex": [
       "\\begin{enumerate*}\n",
       "\\item 67\n",
       "\\item 9129\n",
       "\\end{enumerate*}\n"
      ],
      "text/markdown": [
       "1. 67\n",
       "2. 9129\n",
       "\n",
       "\n"
      ],
      "text/plain": [
       "[1]   67 9129"
      ]
     },
     "metadata": {},
     "output_type": "display_data"
    },
    {
     "data": {
      "text/html": [
       "<ol class=list-inline>\n",
       "\t<li>67</li>\n",
       "\t<li>9129</li>\n",
       "</ol>\n"
      ],
      "text/latex": [
       "\\begin{enumerate*}\n",
       "\\item 67\n",
       "\\item 9129\n",
       "\\end{enumerate*}\n"
      ],
      "text/markdown": [
       "1. 67\n",
       "2. 9129\n",
       "\n",
       "\n"
      ],
      "text/plain": [
       "[1]   67 9129"
      ]
     },
     "metadata": {},
     "output_type": "display_data"
    },
    {
     "data": {
      "text/html": [
       "<table>\n",
       "<thead><tr><th></th><th scope=col>TCGA-02-0047-01A-01R-1849-01</th><th scope=col>TCGA-02-0055-01A-01R-1849-01</th><th scope=col>TCGA-02-2483-01A-01R-1849-01</th><th scope=col>TCGA-02-2485-01A-01R-1849-01</th><th scope=col>TCGA-02-2486-01A-01R-1849-01</th></tr></thead>\n",
       "<tbody>\n",
       "\t<tr><th scope=row>ICS5_score</th><td>-4.3141</td><td>-1.1465</td><td>-4.8887</td><td>-3.0821</td><td>-3.2717</td></tr>\n",
       "\t<tr><th scope=row>LIexpression_score</th><td>-4.0035</td><td>-2.3230</td><td>-3.0388</td><td>-2.9855</td><td>-1.3758</td></tr>\n",
       "\t<tr><th scope=row>Chemokine12_score</th><td>-3.5305</td><td>-0.5590</td><td>-2.8034</td><td>-1.6772</td><td>-1.1263</td></tr>\n",
       "\t<tr><th scope=row>NHI_5gene_score</th><td> 1.0632</td><td> 1.1671</td><td> 0.8851</td><td> 2.4057</td><td> 2.1335</td></tr>\n",
       "\t<tr><th scope=row>CD68</th><td> 4.0139</td><td> 5.0628</td><td> 4.2867</td><td> 2.6852</td><td> 5.8033</td></tr>\n",
       "</tbody>\n",
       "</table>\n"
      ],
      "text/latex": [
       "\\begin{tabular}{r|lllll}\n",
       "  & TCGA-02-0047-01A-01R-1849-01 & TCGA-02-0055-01A-01R-1849-01 & TCGA-02-2483-01A-01R-1849-01 & TCGA-02-2485-01A-01R-1849-01 & TCGA-02-2486-01A-01R-1849-01\\\\\n",
       "\\hline\n",
       "\tICS5\\_score & -4.3141 & -1.1465 & -4.8887 & -3.0821 & -3.2717\\\\\n",
       "\tLIexpression\\_score & -4.0035 & -2.3230 & -3.0388 & -2.9855 & -1.3758\\\\\n",
       "\tChemokine12\\_score & -3.5305 & -0.5590 & -2.8034 & -1.6772 & -1.1263\\\\\n",
       "\tNHI\\_5gene\\_score &  1.0632 &  1.1671 &  0.8851 &  2.4057 &  2.1335\\\\\n",
       "\tCD68 &  4.0139 &  5.0628 &  4.2867 &  2.6852 &  5.8033\\\\\n",
       "\\end{tabular}\n"
      ],
      "text/markdown": [
       "\n",
       "| <!--/--> | TCGA-02-0047-01A-01R-1849-01 | TCGA-02-0055-01A-01R-1849-01 | TCGA-02-2483-01A-01R-1849-01 | TCGA-02-2485-01A-01R-1849-01 | TCGA-02-2486-01A-01R-1849-01 | \n",
       "|---|---|---|---|---|\n",
       "| ICS5_score | -4.3141 | -1.1465 | -4.8887 | -3.0821 | -3.2717 | \n",
       "| LIexpression_score | -4.0035 | -2.3230 | -3.0388 | -2.9855 | -1.3758 | \n",
       "| Chemokine12_score | -3.5305 | -0.5590 | -2.8034 | -1.6772 | -1.1263 | \n",
       "| NHI_5gene_score |  1.0632 |  1.1671 |  0.8851 |  2.4057 |  2.1335 | \n",
       "| CD68 |  4.0139 |  5.0628 |  4.2867 |  2.6852 |  5.8033 | \n",
       "\n",
       "\n"
      ],
      "text/plain": [
       "                   TCGA-02-0047-01A-01R-1849-01 TCGA-02-0055-01A-01R-1849-01\n",
       "ICS5_score         -4.3141                      -1.1465                     \n",
       "LIexpression_score -4.0035                      -2.3230                     \n",
       "Chemokine12_score  -3.5305                      -0.5590                     \n",
       "NHI_5gene_score     1.0632                       1.1671                     \n",
       "CD68                4.0139                       5.0628                     \n",
       "                   TCGA-02-2483-01A-01R-1849-01 TCGA-02-2485-01A-01R-1849-01\n",
       "ICS5_score         -4.8887                      -3.0821                     \n",
       "LIexpression_score -3.0388                      -2.9855                     \n",
       "Chemokine12_score  -2.8034                      -1.6772                     \n",
       "NHI_5gene_score     0.8851                       2.4057                     \n",
       "CD68                4.2867                       2.6852                     \n",
       "                   TCGA-02-2486-01A-01R-1849-01\n",
       "ICS5_score         -3.2717                     \n",
       "LIexpression_score -1.3758                     \n",
       "Chemokine12_score  -1.1263                     \n",
       "NHI_5gene_score     2.1335                     \n",
       "CD68                5.8033                     "
      ]
     },
     "metadata": {},
     "output_type": "display_data"
    },
    {
     "data": {
      "text/html": [
       "<table>\n",
       "<thead><tr><th></th><th scope=col>TCGA-02-0047-01A-01R-1849-01</th><th scope=col>TCGA-02-0055-01A-01R-1849-01</th><th scope=col>TCGA-02-2483-01A-01R-1849-01</th><th scope=col>TCGA-02-2485-01A-01R-1849-01</th><th scope=col>TCGA-02-2486-01A-01R-1849-01</th></tr></thead>\n",
       "<tbody>\n",
       "\t<tr><th scope=row>ICS5_score</th><td>-1.5192</td><td> 0.6178</td><td>-2.0130</td><td>-0.6860</td><td>-0.9120</td></tr>\n",
       "\t<tr><th scope=row>LIexpression_score</th><td>-1.8586</td><td>-0.7384</td><td>-1.2881</td><td>-1.1057</td><td>-0.1263</td></tr>\n",
       "\t<tr><th scope=row>Chemokine12_score</th><td>-1.7224</td><td> 0.2789</td><td>-1.3137</td><td>-0.4585</td><td>-0.1713</td></tr>\n",
       "\t<tr><th scope=row>NHI_5gene_score</th><td>-0.1660</td><td> 0.4680</td><td>-0.3830</td><td> 0.8730</td><td> 1.3250</td></tr>\n",
       "\t<tr><th scope=row>CD68</th><td> 0.4500</td><td> 1.1190</td><td> 0.5440</td><td>-0.4910</td><td> 1.5750</td></tr>\n",
       "</tbody>\n",
       "</table>\n"
      ],
      "text/latex": [
       "\\begin{tabular}{r|lllll}\n",
       "  & TCGA-02-0047-01A-01R-1849-01 & TCGA-02-0055-01A-01R-1849-01 & TCGA-02-2483-01A-01R-1849-01 & TCGA-02-2485-01A-01R-1849-01 & TCGA-02-2486-01A-01R-1849-01\\\\\n",
       "\\hline\n",
       "\tICS5\\_score & -1.5192 &  0.6178 & -2.0130 & -0.6860 & -0.9120\\\\\n",
       "\tLIexpression\\_score & -1.8586 & -0.7384 & -1.2881 & -1.1057 & -0.1263\\\\\n",
       "\tChemokine12\\_score & -1.7224 &  0.2789 & -1.3137 & -0.4585 & -0.1713\\\\\n",
       "\tNHI\\_5gene\\_score & -0.1660 &  0.4680 & -0.3830 &  0.8730 &  1.3250\\\\\n",
       "\tCD68 &  0.4500 &  1.1190 &  0.5440 & -0.4910 &  1.5750\\\\\n",
       "\\end{tabular}\n"
      ],
      "text/markdown": [
       "\n",
       "| <!--/--> | TCGA-02-0047-01A-01R-1849-01 | TCGA-02-0055-01A-01R-1849-01 | TCGA-02-2483-01A-01R-1849-01 | TCGA-02-2485-01A-01R-1849-01 | TCGA-02-2486-01A-01R-1849-01 | \n",
       "|---|---|---|---|---|\n",
       "| ICS5_score | -1.5192 |  0.6178 | -2.0130 | -0.6860 | -0.9120 | \n",
       "| LIexpression_score | -1.8586 | -0.7384 | -1.2881 | -1.1057 | -0.1263 | \n",
       "| Chemokine12_score | -1.7224 |  0.2789 | -1.3137 | -0.4585 | -0.1713 | \n",
       "| NHI_5gene_score | -0.1660 |  0.4680 | -0.3830 |  0.8730 |  1.3250 | \n",
       "| CD68 |  0.4500 |  1.1190 |  0.5440 | -0.4910 |  1.5750 | \n",
       "\n",
       "\n"
      ],
      "text/plain": [
       "                   TCGA-02-0047-01A-01R-1849-01 TCGA-02-0055-01A-01R-1849-01\n",
       "ICS5_score         -1.5192                       0.6178                     \n",
       "LIexpression_score -1.8586                      -0.7384                     \n",
       "Chemokine12_score  -1.7224                       0.2789                     \n",
       "NHI_5gene_score    -0.1660                       0.4680                     \n",
       "CD68                0.4500                       1.1190                     \n",
       "                   TCGA-02-2483-01A-01R-1849-01 TCGA-02-2485-01A-01R-1849-01\n",
       "ICS5_score         -2.0130                      -0.6860                     \n",
       "LIexpression_score -1.2881                      -1.1057                     \n",
       "Chemokine12_score  -1.3137                      -0.4585                     \n",
       "NHI_5gene_score    -0.3830                       0.8730                     \n",
       "CD68                0.5440                      -0.4910                     \n",
       "                   TCGA-02-2486-01A-01R-1849-01\n",
       "ICS5_score         -0.9120                     \n",
       "LIexpression_score -0.1263                     \n",
       "Chemokine12_score  -0.1713                     \n",
       "NHI_5gene_score     1.3250                     \n",
       "CD68                1.5750                     "
      ]
     },
     "metadata": {},
     "output_type": "display_data"
    }
   ],
   "source": [
    "# \n",
    "# Then we need to get these into a comparible form #\n",
    "#\n",
    "\n",
    "sharedIDs <- intersect(colnames(reportedScores), colnames(scores))\n",
    "genesets  <- intersect(reportedScores$SetName, rownames(scores))\n",
    "length(sharedIDs)\n",
    "length(genesets)\n",
    "\n",
    "scores2 <- scores[genesets,sharedIDs]\n",
    "reportedScores2 <- reportedScores[genesets,sharedIDs]\n",
    "\n",
    "dim(scores2)\n",
    "dim(reportedScores2)\n",
    "\n",
    "scores2[1:5,1:5]\n",
    "\n",
    "reportedScores2[1:5,1:5]"
   ]
  },
  {
   "cell_type": "code",
   "execution_count": 15,
   "metadata": {},
   "outputs": [
    {
     "data": {},
     "metadata": {},
     "output_type": "display_data"
    },
    {
     "data": {},
     "metadata": {},
     "output_type": "display_data"
    },
    {
     "data": {
      "image/png": "[encoded data removed]",
      "text/plain": [
       "plot without title"
      ]
     },
     "metadata": {},
     "output_type": "display_data"
    },
    {
     "data": {
      "image/png": "[encoded data removed]",
      "text/plain": [
       "plot without title"
      ]
     },
     "metadata": {},
     "output_type": "display_data"
    }
   ],
   "source": [
    "\n",
    "# comparing the raw computed scores with reported scores #\n",
    "qplot(x=scores2[,1], y=reportedScores2[,1]) + geom_abline()\n",
    "\n",
    "# this function is defined in the ImmuneSigs68_function.R file #\n",
    "zscore.cols2<-function(x){\n",
    "    return((apply(x, 2, function(x) (x - median(na.omit(x)))/sd(na.omit(x)))))\n",
    "}\n",
    "\n",
    "# now let's apply the normalization #\n",
    "b <- zscore.cols2(reportedScores2)\n",
    "\n",
    "# and replot #\n",
    "qplot(x=b[,2], y=reportedScores2[,2]) + geom_abline()\n",
    "                  \n"
   ]
  },
  {
   "cell_type": "markdown",
   "metadata": {},
   "source": [
    "Looks like that's it.  When I've seen deviations from y=x, it's been from using a different sample group, moving the Z scores off diagonal.\n",
    "\n",
    "So, the reported signature scores were Z-score normalized across the 9129 samples.\n",
    "\n",
    "In the iAtlas code, I return scores prior to normalization... so that new-sample scores can be added to the signature matrix, and normalized together."
   ]
  }
 ],
 "metadata": {
  "kernelspec": {
   "display_name": "R",
   "language": "R",
   "name": "ir"
  },
  "language_info": {
   "codemirror_mode": "r",
   "file_extension": ".r",
   "mimetype": "text/x-r-source",
   "name": "R",
   "pygments_lexer": "r",
   "version": "3.5.2"
  }
 },
 "nbformat": 4,
 "nbformat_minor": 2
}
