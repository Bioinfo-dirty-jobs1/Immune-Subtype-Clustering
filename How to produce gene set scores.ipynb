{
 "cells": [
  {
   "cell_type": "markdown",
   "metadata": {},
   "source": [
    "# How to produce gene set scores (like in the Pancancer immune paper)."
   ]
  },
  {
   "cell_type": "markdown",
   "metadata": {},
   "source": [
    "David L Gibbs,\n",
    "Jan 7, 2019\n",
    "dgibbs (( at )) systemsbiology (( dot )) org"
   ]
  },
  {
   "cell_type": "markdown",
   "metadata": {},
   "source": [
    "The first thing we need to do: download the Pancancer TCGA expression set.\n",
    "\n",
    "It can be found at:  http://api.gdc.cancer.gov/data/3586c0da-64d0-4b74-a449-5ff4d9136611\n",
    "\n",
    "I'm going to download it and put in the same folder as this notebook. It can take a while since it's 1.8 GBs"
   ]
  },
  {
   "cell_type": "code",
   "execution_count": 18,
   "metadata": {},
   "outputs": [],
   "source": [
    "library(readr)\n",
    "library(ggplot2)\n",
    "options(repr.plot.width=4, repr.plot.height=3)"
   ]
  },
  {
   "cell_type": "code",
   "execution_count": 2,
   "metadata": {},
   "outputs": [
    {
     "name": "stderr",
     "output_type": "stream",
     "text": [
      "Parsed with column specification:\n",
      "cols(\n",
      "  .default = col_double(),\n",
      "  gene_id = col_character()\n",
      ")\n",
      "See spec(...) for full column specifications.\n"
     ]
    }
   ],
   "source": [
    "dat <- read_tsv('EBPlusPlusAdjustPANCAN_IlluminaHiSeq_RNASeqV2.geneExp.tsv')"
   ]
  },
  {
   "cell_type": "code",
   "execution_count": 7,
   "metadata": {},
   "outputs": [
    {
     "data": {
      "text/html": [
       "<table>\n",
       "<thead><tr><th scope=col>gene_id</th><th scope=col>TCGA-OR-A5J1-01A-11R-A29S-07</th><th scope=col>TCGA-OR-A5J2-01A-11R-A29S-07</th><th scope=col>TCGA-OR-A5J3-01A-11R-A29S-07</th><th scope=col>TCGA-OR-A5J5-01A-11R-A29S-07</th></tr></thead>\n",
       "<tbody>\n",
       "\t<tr><td>?|100130426</td><td>   0.0000  </td><td>   0.0000  </td><td>   0.0000  </td><td>   0.0000  </td></tr>\n",
       "\t<tr><td>?|100133144</td><td>   3.2661  </td><td>   2.6815  </td><td>   1.7301  </td><td>   0.0000  </td></tr>\n",
       "\t<tr><td>?|100134869</td><td>   3.9385  </td><td>   8.9948  </td><td>   6.5650  </td><td>   1.5492  </td></tr>\n",
       "\t<tr><td>?|10357    </td><td> 149.1350  </td><td>  81.0777  </td><td>  86.4879  </td><td>  53.9117  </td></tr>\n",
       "\t<tr><td>?|10431    </td><td>2034.1000  </td><td>1304.9300  </td><td>1054.6600  </td><td>2350.8900  </td></tr>\n",
       "</tbody>\n",
       "</table>\n"
      ],
      "text/latex": [
       "\\begin{tabular}{r|lllll}\n",
       " gene\\_id & TCGA-OR-A5J1-01A-11R-A29S-07 & TCGA-OR-A5J2-01A-11R-A29S-07 & TCGA-OR-A5J3-01A-11R-A29S-07 & TCGA-OR-A5J5-01A-11R-A29S-07\\\\\n",
       "\\hline\n",
       "\t ?\\textbar{}100130426 &    0.0000             &    0.0000             &    0.0000             &    0.0000            \\\\\n",
       "\t ?\\textbar{}100133144 &    3.2661             &    2.6815             &    1.7301             &    0.0000            \\\\\n",
       "\t ?\\textbar{}100134869 &    3.9385             &    8.9948             &    6.5650             &    1.5492            \\\\\n",
       "\t ?\\textbar{}10357     &  149.1350             &   81.0777             &   86.4879             &   53.9117            \\\\\n",
       "\t ?\\textbar{}10431     & 2034.1000             & 1304.9300             & 1054.6600             & 2350.8900            \\\\\n",
       "\\end{tabular}\n"
      ],
      "text/markdown": [
       "\n",
       "gene_id | TCGA-OR-A5J1-01A-11R-A29S-07 | TCGA-OR-A5J2-01A-11R-A29S-07 | TCGA-OR-A5J3-01A-11R-A29S-07 | TCGA-OR-A5J5-01A-11R-A29S-07 | \n",
       "|---|---|---|---|---|\n",
       "| ?|100130426 |    0.0000   |    0.0000   |    0.0000   |    0.0000   | \n",
       "| ?|100133144 |    3.2661   |    2.6815   |    1.7301   |    0.0000   | \n",
       "| ?|100134869 |    3.9385   |    8.9948   |    6.5650   |    1.5492   | \n",
       "| ?|10357     |  149.1350   |   81.0777   |   86.4879   |   53.9117   | \n",
       "| ?|10431     | 2034.1000   | 1304.9300   | 1054.6600   | 2350.8900   | \n",
       "\n",
       "\n"
      ],
      "text/plain": [
       "  gene_id     TCGA-OR-A5J1-01A-11R-A29S-07 TCGA-OR-A5J2-01A-11R-A29S-07\n",
       "1 ?|100130426    0.0000                       0.0000                   \n",
       "2 ?|100133144    3.2661                       2.6815                   \n",
       "3 ?|100134869    3.9385                       8.9948                   \n",
       "4 ?|10357      149.1350                      81.0777                   \n",
       "5 ?|10431     2034.1000                    1304.9300                   \n",
       "  TCGA-OR-A5J3-01A-11R-A29S-07 TCGA-OR-A5J5-01A-11R-A29S-07\n",
       "1    0.0000                       0.0000                   \n",
       "2    1.7301                       0.0000                   \n",
       "3    6.5650                       1.5492                   \n",
       "4   86.4879                      53.9117                   \n",
       "5 1054.6600                    2350.8900                   "
      ]
     },
     "metadata": {},
     "output_type": "display_data"
    },
    {
     "data": {
      "text/html": [
       "<ol class=list-inline>\n",
       "\t<li>20531</li>\n",
       "\t<li>11070</li>\n",
       "</ol>\n"
      ],
      "text/latex": [
       "\\begin{enumerate*}\n",
       "\\item 20531\n",
       "\\item 11070\n",
       "\\end{enumerate*}\n"
      ],
      "text/markdown": [
       "1. 20531\n",
       "2. 11070\n",
       "\n",
       "\n"
      ],
      "text/plain": [
       "[1] 20531 11070"
      ]
     },
     "metadata": {},
     "output_type": "display_data"
    }
   ],
   "source": [
    "dat[1:5,1:5]\n",
    "dim(dat)"
   ]
  },
  {
   "cell_type": "code",
   "execution_count": 4,
   "metadata": {},
   "outputs": [
    {
     "data": {
      "text/html": [
       "2652"
      ],
      "text/latex": [
       "2652"
      ],
      "text/markdown": [
       "2652"
      ],
      "text/plain": [
       "[1] 2652"
      ]
     },
     "metadata": {},
     "output_type": "display_data"
    }
   ],
   "source": [
    "# then let's get all the genes we need, \n",
    "# can remove the rest to save memory\n",
    "load('Immune-Subtype-Clustering/shiny-app/Immune-Subtype-Clustering/data/comparative_immuneSigs_geneLists4.rda')\n",
    "\n",
    "sigs1_2_geneIDs2<-as.character(na.omit(sigs1_2_eg2[[1]]$probe))\n",
    "for(i in 2:length(sigs1_2_eg2)){\n",
    "  sigs1_2_geneIDs2<-c(sigs1_2_geneIDs2,as.character(na.omit(sigs1_2_eg2[[i]]$probe)))\n",
    "}\n",
    "sigs1_2_geneIDs2<-unique(sigs1_2_geneIDs2)   ## 2652 unique\n",
    "length(sigs1_2_geneIDs2)"
   ]
  },
  {
   "cell_type": "markdown",
   "metadata": {},
   "source": [
    "* We have gene symbols and entrez IDs in that first column, so we'll need to split them up. *"
   ]
  },
  {
   "cell_type": "code",
   "execution_count": 6,
   "metadata": {},
   "outputs": [
    {
     "data": {
      "text/html": [
       "<ol class=list-inline>\n",
       "\t<li>'DLGAP2'</li>\n",
       "\t<li>'DLGAP3'</li>\n",
       "\t<li>'DLGAP4'</li>\n",
       "\t<li>'DLGAP5'</li>\n",
       "\t<li>'DLK1'</li>\n",
       "\t<li>'DLK2'</li>\n",
       "</ol>\n"
      ],
      "text/latex": [
       "\\begin{enumerate*}\n",
       "\\item 'DLGAP2'\n",
       "\\item 'DLGAP3'\n",
       "\\item 'DLGAP4'\n",
       "\\item 'DLGAP5'\n",
       "\\item 'DLK1'\n",
       "\\item 'DLK2'\n",
       "\\end{enumerate*}\n"
      ],
      "text/markdown": [
       "1. 'DLGAP2'\n",
       "2. 'DLGAP3'\n",
       "3. 'DLGAP4'\n",
       "4. 'DLGAP5'\n",
       "5. 'DLK1'\n",
       "6. 'DLK2'\n",
       "\n",
       "\n"
      ],
      "text/plain": [
       "[1] \"DLGAP2\" \"DLGAP3\" \"DLGAP4\" \"DLGAP5\" \"DLK1\"   \"DLK2\"  "
      ]
     },
     "metadata": {},
     "output_type": "display_data"
    },
    {
     "data": {
      "text/html": [
       "20531"
      ],
      "text/latex": [
       "20531"
      ],
      "text/markdown": [
       "20531"
      ],
      "text/plain": [
       "[1] 20531"
      ]
     },
     "metadata": {},
     "output_type": "display_data"
    }
   ],
   "source": [
    "geneList <- strsplit(dat$gene_id, '\\\\|')\n",
    "geneSymbols <- unlist(lapply(geneList, function(a) a[[1]]))                             \n",
    "geneSymbols[5000:5005]\n",
    "length(geneSymbols)"
   ]
  },
  {
   "cell_type": "code",
   "execution_count": 13,
   "metadata": {},
   "outputs": [
    {
     "data": {
      "text/html": [
       "<ol class=list-inline>\n",
       "\t<li>2316</li>\n",
       "\t<li>11069</li>\n",
       "</ol>\n"
      ],
      "text/latex": [
       "\\begin{enumerate*}\n",
       "\\item 2316\n",
       "\\item 11069\n",
       "\\end{enumerate*}\n"
      ],
      "text/markdown": [
       "1. 2316\n",
       "2. 11069\n",
       "\n",
       "\n"
      ],
      "text/plain": [
       "[1]  2316 11069"
      ]
     },
     "metadata": {},
     "output_type": "display_data"
    },
    {
     "data": {
      "text/html": [
       "<table>\n",
       "<thead><tr><th></th><th scope=col>TCGA-OR-A5J1-01A-11R-A29S-07</th><th scope=col>TCGA-OR-A5J2-01A-11R-A29S-07</th><th scope=col>TCGA-OR-A5J3-01A-11R-A29S-07</th><th scope=col>TCGA-OR-A5J5-01A-11R-A29S-07</th><th scope=col>TCGA-OR-A5J6-01A-31R-A29S-07</th></tr></thead>\n",
       "<tbody>\n",
       "\t<tr><th scope=row>A1CF</th><td>   0.0000 </td><td>   0.000  </td><td>    0.5925</td><td>  1.5492  </td><td>   0.000  </td></tr>\n",
       "\t<tr><th scope=row>ABCA1</th><td> 319.4040 </td><td>1071.800  </td><td>  896.4600</td><td>310.6120  </td><td> 800.283  </td></tr>\n",
       "\t<tr><th scope=row>ABCA8</th><td>   4.3228 </td><td> 121.997  </td><td> 1368.6900</td><td>982.1840  </td><td>5000.650  </td></tr>\n",
       "\t<tr><th scope=row>ABCB11</th><td>   0.4803 </td><td>   0.000  </td><td>    1.7775</td><td>  0.0000  </td><td>   0.000  </td></tr>\n",
       "\t<tr><th scope=row>ABCB1</th><td>1052.3500 </td><td>2837.340  </td><td>18921.0000</td><td>213.0130  </td><td>3639.270  </td></tr>\n",
       "</tbody>\n",
       "</table>\n"
      ],
      "text/latex": [
       "\\begin{tabular}{r|lllll}\n",
       "  & TCGA-OR-A5J1-01A-11R-A29S-07 & TCGA-OR-A5J2-01A-11R-A29S-07 & TCGA-OR-A5J3-01A-11R-A29S-07 & TCGA-OR-A5J5-01A-11R-A29S-07 & TCGA-OR-A5J6-01A-31R-A29S-07\\\\\n",
       "\\hline\n",
       "\tA1CF &    0.0000  &    0.000   &     0.5925 &   1.5492   &    0.000  \\\\\n",
       "\tABCA1 &  319.4040  & 1071.800   &   896.4600 & 310.6120   &  800.283  \\\\\n",
       "\tABCA8 &    4.3228  &  121.997   &  1368.6900 & 982.1840   & 5000.650  \\\\\n",
       "\tABCB11 &    0.4803  &    0.000   &     1.7775 &   0.0000   &    0.000  \\\\\n",
       "\tABCB1 & 1052.3500  & 2837.340   & 18921.0000 & 213.0130   & 3639.270  \\\\\n",
       "\\end{tabular}\n"
      ],
      "text/markdown": [
       "\n",
       "| <!--/--> | TCGA-OR-A5J1-01A-11R-A29S-07 | TCGA-OR-A5J2-01A-11R-A29S-07 | TCGA-OR-A5J3-01A-11R-A29S-07 | TCGA-OR-A5J5-01A-11R-A29S-07 | TCGA-OR-A5J6-01A-31R-A29S-07 | \n",
       "|---|---|---|---|---|\n",
       "| A1CF |    0.0000  |    0.000   |     0.5925 |   1.5492   |    0.000   | \n",
       "| ABCA1 |  319.4040  | 1071.800   |   896.4600 | 310.6120   |  800.283   | \n",
       "| ABCA8 |    4.3228  |  121.997   |  1368.6900 | 982.1840   | 5000.650   | \n",
       "| ABCB11 |    0.4803  |    0.000   |     1.7775 |   0.0000   |    0.000   | \n",
       "| ABCB1 | 1052.3500  | 2837.340   | 18921.0000 | 213.0130   | 3639.270   | \n",
       "\n",
       "\n"
      ],
      "text/plain": [
       "       TCGA-OR-A5J1-01A-11R-A29S-07 TCGA-OR-A5J2-01A-11R-A29S-07\n",
       "A1CF      0.0000                       0.000                    \n",
       "ABCA1   319.4040                    1071.800                    \n",
       "ABCA8     4.3228                     121.997                    \n",
       "ABCB11    0.4803                       0.000                    \n",
       "ABCB1  1052.3500                    2837.340                    \n",
       "       TCGA-OR-A5J3-01A-11R-A29S-07 TCGA-OR-A5J5-01A-11R-A29S-07\n",
       "A1CF       0.5925                     1.5492                    \n",
       "ABCA1    896.4600                   310.6120                    \n",
       "ABCA8   1368.6900                   982.1840                    \n",
       "ABCB11     1.7775                     0.0000                    \n",
       "ABCB1  18921.0000                   213.0130                    \n",
       "       TCGA-OR-A5J6-01A-31R-A29S-07\n",
       "A1CF      0.000                    \n",
       "ABCA1   800.283                    \n",
       "ABCA8  5000.650                    \n",
       "ABCB11    0.000                    \n",
       "ABCB1  3639.270                    "
      ]
     },
     "metadata": {},
     "output_type": "display_data"
    }
   ],
   "source": [
    "# let's work on a subset of the data, and compare to the reported scores #\n",
    "\n",
    "# first to remove some duplicate symbols '?' and 'SLC35E2'\n",
    "idx <- which(geneSymbols == 'SLC35E2')\n",
    "geneSymbols[idx[2]] <- 'SLC35E2_2'\n",
    "\n",
    "jdx <- which(geneSymbols %in% sigs1_2_geneIDs2)\n",
    "gs2 <- geneSymbols[jdx]\n",
    "\n",
    "# then make a smaller data set and give it row names\n",
    "datSubset <- as.data.frame(dat[jdx,-1]) #  sample(x = 1:ncol(dat), size = 1000, replace = F)]) \n",
    "rownames(datSubset) <- gs2\n",
    "\n",
    "# just to have a look\n",
    "dim(datSubset)\n",
    "datSubset[1:5,1:5]\n"
   ]
  },
  {
   "cell_type": "code",
   "execution_count": 14,
   "metadata": {},
   "outputs": [
    {
     "data": {
      "text/html": [
       "<table>\n",
       "<thead><tr><th></th><th scope=col>used</th><th scope=col>(Mb)</th><th scope=col>gc trigger</th><th scope=col>(Mb)</th><th scope=col>max used</th><th scope=col>(Mb)</th></tr></thead>\n",
       "<tbody>\n",
       "\t<tr><th scope=row>Ncells</th><td>  672622 </td><td> 36.0    </td><td>  2006888</td><td> 107.2   </td><td>  6124538</td><td> 327.1   </td></tr>\n",
       "\t<tr><th scope=row>Vcells</th><td>29033746 </td><td>221.6    </td><td>388845388</td><td>2966.7   </td><td>477528749</td><td>3643.3   </td></tr>\n",
       "</tbody>\n",
       "</table>\n"
      ],
      "text/latex": [
       "\\begin{tabular}{r|llllll}\n",
       "  & used & (Mb) & gc trigger & (Mb) & max used & (Mb)\\\\\n",
       "\\hline\n",
       "\tNcells &   672622  &  36.0     &   2006888 &  107.2    &   6124538 &  327.1   \\\\\n",
       "\tVcells & 29033746  & 221.6     & 388845388 & 2966.7    & 477528749 & 3643.3   \\\\\n",
       "\\end{tabular}\n"
      ],
      "text/markdown": [
       "\n",
       "| <!--/--> | used | (Mb) | gc trigger | (Mb) | max used | (Mb) | \n",
       "|---|---|\n",
       "| Ncells |   672622  |  36.0     |   2006888 |  107.2    |   6124538 |  327.1    | \n",
       "| Vcells | 29033746  | 221.6     | 388845388 | 2966.7    | 477528749 | 3643.3    | \n",
       "\n",
       "\n"
      ],
      "text/plain": [
       "       used     (Mb)  gc trigger (Mb)   max used  (Mb)  \n",
       "Ncells   672622  36.0   2006888   107.2   6124538  327.1\n",
       "Vcells 29033746 221.6 388845388  2966.7 477528749 3643.3"
      ]
     },
     "metadata": {},
     "output_type": "display_data"
    }
   ],
   "source": [
    "rm(dat)\n",
    "gc()"
   ]
  },
  {
   "cell_type": "code",
   "execution_count": 22,
   "metadata": {},
   "outputs": [
    {
     "data": {
      "text/html": [
       "<ol class=list-inline>\n",
       "\t<li>2316</li>\n",
       "\t<li>11069</li>\n",
       "</ol>\n"
      ],
      "text/latex": [
       "\\begin{enumerate*}\n",
       "\\item 2316\n",
       "\\item 11069\n",
       "\\end{enumerate*}\n"
      ],
      "text/markdown": [
       "1. 2316\n",
       "2. 11069\n",
       "\n",
       "\n"
      ],
      "text/plain": [
       "[1]  2316 11069"
      ]
     },
     "metadata": {},
     "output_type": "display_data"
    },
    {
     "data": {
      "text/html": [
       "<ol class=list-inline>\n",
       "\t<li>2316</li>\n",
       "\t<li>11069</li>\n",
       "</ol>\n"
      ],
      "text/latex": [
       "\\begin{enumerate*}\n",
       "\\item 2316\n",
       "\\item 11069\n",
       "\\end{enumerate*}\n"
      ],
      "text/markdown": [
       "1. 2316\n",
       "2. 11069\n",
       "\n",
       "\n"
      ],
      "text/plain": [
       "[1]  2316 11069"
      ]
     },
     "metadata": {},
     "output_type": "display_data"
    }
   ],
   "source": [
    "\n",
    "# apply the transforms #\n",
    "# first the log2\n",
    "datSubsetTransformed <- apply(datSubset, 2, function(a) log2(a+1))\n",
    "\n",
    "dim(datSubsetTransformed)\n",
    "                              \n",
    "# then the median scale\n",
    "datSubsetTransformed <- t(apply(datSubsetTransformed, 1, function(a) a - median(a, na.rm=T)))\n",
    "                              \n",
    "dim(datSubsetTransformed)"
   ]
  },
  {
   "cell_type": "code",
   "execution_count": 24,
   "metadata": {},
   "outputs": [
    {
     "data": {},
     "metadata": {},
     "output_type": "display_data"
    },
    {
     "data": {
      "text/plain": [
       "    Min.  1st Qu.   Median     Mean  3rd Qu.     Max. \n",
       "-10.0100  -1.8792  -0.6182  -0.7532   0.2819  13.0601 "
      ]
     },
     "metadata": {},
     "output_type": "display_data"
    },
    {
     "data": {
      "text/html": [
       "<table>\n",
       "<thead><tr><th></th><th scope=col>TCGA-OR-A5J1-01A-11R-A29S-07</th><th scope=col>TCGA-OR-A5J2-01A-11R-A29S-07</th><th scope=col>TCGA-OR-A5J3-01A-11R-A29S-07</th><th scope=col>TCGA-OR-A5J5-01A-11R-A29S-07</th><th scope=col>TCGA-OR-A5J6-01A-31R-A29S-07</th></tr></thead>\n",
       "<tbody>\n",
       "\t<tr><th scope=row>A1CF</th><td> 0.00000000</td><td> 0.0000000 </td><td> 0.67129337</td><td> 1.3500446 </td><td> 0.0000000 </td></tr>\n",
       "\t<tr><th scope=row>ABCA1</th><td>-1.52197534</td><td> 0.2214417 </td><td>-0.03601986</td><td>-1.5621167 </td><td>-0.1995556 </td></tr>\n",
       "\t<tr><th scope=row>ABCA8</th><td>-3.59507070</td><td> 0.9352233 </td><td> 4.41237763</td><td> 3.9340616 </td><td> 6.2809323 </td></tr>\n",
       "\t<tr><th scope=row>ABCB11</th><td> 0.06457784</td><td>-0.5013117 </td><td> 0.97247516</td><td>-0.5013117 </td><td>-0.5013117 </td></tr>\n",
       "\t<tr><th scope=row>ABCB1</th><td> 3.42077374</td><td> 4.8508363 </td><td> 7.58778154</td><td> 1.1215592 </td><td> 5.2098343 </td></tr>\n",
       "</tbody>\n",
       "</table>\n"
      ],
      "text/latex": [
       "\\begin{tabular}{r|lllll}\n",
       "  & TCGA-OR-A5J1-01A-11R-A29S-07 & TCGA-OR-A5J2-01A-11R-A29S-07 & TCGA-OR-A5J3-01A-11R-A29S-07 & TCGA-OR-A5J5-01A-11R-A29S-07 & TCGA-OR-A5J6-01A-31R-A29S-07\\\\\n",
       "\\hline\n",
       "\tA1CF &  0.00000000 &  0.0000000  &  0.67129337 &  1.3500446  &  0.0000000 \\\\\n",
       "\tABCA1 & -1.52197534 &  0.2214417  & -0.03601986 & -1.5621167  & -0.1995556 \\\\\n",
       "\tABCA8 & -3.59507070 &  0.9352233  &  4.41237763 &  3.9340616  &  6.2809323 \\\\\n",
       "\tABCB11 &  0.06457784 & -0.5013117  &  0.97247516 & -0.5013117  & -0.5013117 \\\\\n",
       "\tABCB1 &  3.42077374 &  4.8508363  &  7.58778154 &  1.1215592  &  5.2098343 \\\\\n",
       "\\end{tabular}\n"
      ],
      "text/markdown": [
       "\n",
       "| <!--/--> | TCGA-OR-A5J1-01A-11R-A29S-07 | TCGA-OR-A5J2-01A-11R-A29S-07 | TCGA-OR-A5J3-01A-11R-A29S-07 | TCGA-OR-A5J5-01A-11R-A29S-07 | TCGA-OR-A5J6-01A-31R-A29S-07 | \n",
       "|---|---|---|---|---|\n",
       "| A1CF |  0.00000000 |  0.0000000  |  0.67129337 |  1.3500446  |  0.0000000  | \n",
       "| ABCA1 | -1.52197534 |  0.2214417  | -0.03601986 | -1.5621167  | -0.1995556  | \n",
       "| ABCA8 | -3.59507070 |  0.9352233  |  4.41237763 |  3.9340616  |  6.2809323  | \n",
       "| ABCB11 |  0.06457784 | -0.5013117  |  0.97247516 | -0.5013117  | -0.5013117  | \n",
       "| ABCB1 |  3.42077374 |  4.8508363  |  7.58778154 |  1.1215592  |  5.2098343  | \n",
       "\n",
       "\n"
      ],
      "text/plain": [
       "       TCGA-OR-A5J1-01A-11R-A29S-07 TCGA-OR-A5J2-01A-11R-A29S-07\n",
       "A1CF    0.00000000                   0.0000000                  \n",
       "ABCA1  -1.52197534                   0.2214417                  \n",
       "ABCA8  -3.59507070                   0.9352233                  \n",
       "ABCB11  0.06457784                  -0.5013117                  \n",
       "ABCB1   3.42077374                   4.8508363                  \n",
       "       TCGA-OR-A5J3-01A-11R-A29S-07 TCGA-OR-A5J5-01A-11R-A29S-07\n",
       "A1CF    0.67129337                   1.3500446                  \n",
       "ABCA1  -0.03601986                  -1.5621167                  \n",
       "ABCA8   4.41237763                   3.9340616                  \n",
       "ABCB11  0.97247516                  -0.5013117                  \n",
       "ABCB1   7.58778154                   1.1215592                  \n",
       "       TCGA-OR-A5J6-01A-31R-A29S-07\n",
       "A1CF    0.0000000                  \n",
       "ABCA1  -0.1995556                  \n",
       "ABCA8   6.2809323                  \n",
       "ABCB11 -0.5013117                  \n",
       "ABCB1   5.2098343                  "
      ]
     },
     "metadata": {},
     "output_type": "display_data"
    },
    {
     "data": {
      "text/html": [
       "<table>\n",
       "<thead><tr><th></th><th scope=col>used</th><th scope=col>(Mb)</th><th scope=col>gc trigger</th><th scope=col>(Mb)</th><th scope=col>max used</th><th scope=col>(Mb)</th></tr></thead>\n",
       "<tbody>\n",
       "\t<tr><th scope=row>Ncells</th><td>  875975 </td><td> 46.8    </td><td>  2006888</td><td> 107.2   </td><td>  6124538</td><td> 327.1   </td></tr>\n",
       "\t<tr><th scope=row>Vcells</th><td>55044955 </td><td>420.0    </td><td>199088838</td><td>1519.0   </td><td>477528749</td><td>3643.3   </td></tr>\n",
       "</tbody>\n",
       "</table>\n"
      ],
      "text/latex": [
       "\\begin{tabular}{r|llllll}\n",
       "  & used & (Mb) & gc trigger & (Mb) & max used & (Mb)\\\\\n",
       "\\hline\n",
       "\tNcells &   875975  &  46.8     &   2006888 &  107.2    &   6124538 &  327.1   \\\\\n",
       "\tVcells & 55044955  & 420.0     & 199088838 & 1519.0    & 477528749 & 3643.3   \\\\\n",
       "\\end{tabular}\n"
      ],
      "text/markdown": [
       "\n",
       "| <!--/--> | used | (Mb) | gc trigger | (Mb) | max used | (Mb) | \n",
       "|---|---|\n",
       "| Ncells |   875975  |  46.8     |   2006888 |  107.2    |   6124538 |  327.1    | \n",
       "| Vcells | 55044955  | 420.0     | 199088838 | 1519.0    | 477528749 | 3643.3    | \n",
       "\n",
       "\n"
      ],
      "text/plain": [
       "       used     (Mb)  gc trigger (Mb)   max used  (Mb)  \n",
       "Ncells   875975  46.8   2006888   107.2   6124538  327.1\n",
       "Vcells 55044955 420.0 199088838  1519.0 477528749 3643.3"
      ]
     },
     "metadata": {},
     "output_type": "display_data"
    },
    {
     "data": {
      "image/png": "[encoded data removed]",
      "text/plain": [
       "plot without title"
      ]
     },
     "metadata": {},
     "output_type": "display_data"
    }
   ],
   "source": [
    "\n",
    "qplot(datSubsetTransformed[,1], geom='density')\n",
    "                         \n",
    "summary(datSubsetTransformed[,1])\n",
    "                              \n",
    "datSubsetTransformed[1:5,1:5]\n",
    "                              \n",
    "gc()"
   ]
  },
  {
   "cell_type": "markdown",
   "metadata": {},
   "source": [
    "* Now I'm going to download the code from my github account. It contains everything we should need to produce scores.\n",
    "\n",
    "* In a terminal, after changing directories to where the above data is located I'm going to clone the repo\n",
    "\n",
    "git clone https://github.com/Gibbsdavidl/Immune-Subtype-Clustering\n",
    "\n",
    "* I'm going to pull the code out from the files found in the Scripts/ directory"
   ]
  },
  {
   "cell_type": "code",
   "execution_count": null,
   "metadata": {},
   "outputs": [],
   "source": []
  },
  {
   "cell_type": "code",
   "execution_count": 25,
   "metadata": {},
   "outputs": [
    {
     "name": "stdout",
     "output_type": "stream",
     "text": [
      "[1] \"DONE MEAN\"\n",
      "[1] \"DONE MEDIAN\"\n",
      "[1] \"DONE WEIGHTED MEAN\"\n",
      "[1] \"DONE MODULES\"\n",
      "GP11_Immune_IFN \n",
      "[1] \"DONE ZHANG\"\n",
      "[1] \"DONE KEGG\"\n",
      "[1] \"DONE CD8 RATIO\"\n",
      "[1] \"DONE TAMsurr\"\n",
      "[1] \"DONE CHANG CORE\"\n",
      "CSR_Activated_15701700 \n",
      "[1] \"DONE CSR\"\n",
      "B_cell_PCA_16704732 \n",
      "CD8_PCA_16704732 \n",
      "GRANS_PCA_16704732 \n",
      "LYMPHS_PCA_16704732 \n",
      "T_cell_PCA_16704732 \n",
      "TGFB_PCA_17349583 \n",
      "Rotterdam_ERneg_PCA_15721472 \n",
      "HER2_Immune_PCA_18006808 \n",
      "[1] \"DONE PCA\"\n",
      "[1] \"DONE DONE\"\n"
     ]
    }
   ],
   "source": [
    "\n",
    "# and we use the scoring code to produce scores #\n",
    "\n",
    "source('Immune-Subtype-Clustering/Scripts/ImmuneSigs68_function.R')\n",
    "scores <- ImmuneSigs_function(datSubsetTransformed, \n",
    "                              sigs1_2_eg2,\n",
    "                              sigs12_weighted_means,\n",
    "                              sigs12_module_weights,\n",
    "                              sigs1_2_names2,\n",
    "                              sigs1_2_type2)\n"
   ]
  },
  {
   "cell_type": "code",
   "execution_count": 26,
   "metadata": {},
   "outputs": [
    {
     "data": {
      "text/html": [
       "<table>\n",
       "<thead><tr><th></th><th scope=col>TCGA-OR-A5J1-01A-11R-A29S-07</th><th scope=col>TCGA-OR-A5J2-01A-11R-A29S-07</th><th scope=col>TCGA-OR-A5J3-01A-11R-A29S-07</th><th scope=col>TCGA-OR-A5J5-01A-11R-A29S-07</th><th scope=col>TCGA-OR-A5J6-01A-31R-A29S-07</th></tr></thead>\n",
       "<tbody>\n",
       "\t<tr><th scope=row>ICS5_score</th><td>-3.0483</td><td>-2.2158</td><td>-1.4251</td><td>-3.0353</td><td>-1.8994</td></tr>\n",
       "\t<tr><th scope=row>LIexpression_score</th><td>-2.5238</td><td>-1.6456</td><td>-3.5109</td><td>-2.8043</td><td>-1.4804</td></tr>\n",
       "\t<tr><th scope=row>Chemokine12_score</th><td>-3.7070</td><td>-1.5382</td><td>-4.3160</td><td>-4.8156</td><td>-2.7848</td></tr>\n",
       "\t<tr><th scope=row>NHI_5gene_score</th><td>-3.4825</td><td>-3.3908</td><td>-3.1136</td><td>-3.0228</td><td>-2.4796</td></tr>\n",
       "\t<tr><th scope=row>CD68</th><td>-2.0609</td><td>-1.5780</td><td>-1.9953</td><td>-2.9355</td><td> 0.0397</td></tr>\n",
       "</tbody>\n",
       "</table>\n"
      ],
      "text/latex": [
       "\\begin{tabular}{r|lllll}\n",
       "  & TCGA-OR-A5J1-01A-11R-A29S-07 & TCGA-OR-A5J2-01A-11R-A29S-07 & TCGA-OR-A5J3-01A-11R-A29S-07 & TCGA-OR-A5J5-01A-11R-A29S-07 & TCGA-OR-A5J6-01A-31R-A29S-07\\\\\n",
       "\\hline\n",
       "\tICS5\\_score & -3.0483 & -2.2158 & -1.4251 & -3.0353 & -1.8994\\\\\n",
       "\tLIexpression\\_score & -2.5238 & -1.6456 & -3.5109 & -2.8043 & -1.4804\\\\\n",
       "\tChemokine12\\_score & -3.7070 & -1.5382 & -4.3160 & -4.8156 & -2.7848\\\\\n",
       "\tNHI\\_5gene\\_score & -3.4825 & -3.3908 & -3.1136 & -3.0228 & -2.4796\\\\\n",
       "\tCD68 & -2.0609 & -1.5780 & -1.9953 & -2.9355 &  0.0397\\\\\n",
       "\\end{tabular}\n"
      ],
      "text/markdown": [
       "\n",
       "| <!--/--> | TCGA-OR-A5J1-01A-11R-A29S-07 | TCGA-OR-A5J2-01A-11R-A29S-07 | TCGA-OR-A5J3-01A-11R-A29S-07 | TCGA-OR-A5J5-01A-11R-A29S-07 | TCGA-OR-A5J6-01A-31R-A29S-07 | \n",
       "|---|---|---|---|---|\n",
       "| ICS5_score | -3.0483 | -2.2158 | -1.4251 | -3.0353 | -1.8994 | \n",
       "| LIexpression_score | -2.5238 | -1.6456 | -3.5109 | -2.8043 | -1.4804 | \n",
       "| Chemokine12_score | -3.7070 | -1.5382 | -4.3160 | -4.8156 | -2.7848 | \n",
       "| NHI_5gene_score | -3.4825 | -3.3908 | -3.1136 | -3.0228 | -2.4796 | \n",
       "| CD68 | -2.0609 | -1.5780 | -1.9953 | -2.9355 |  0.0397 | \n",
       "\n",
       "\n"
      ],
      "text/plain": [
       "                   TCGA-OR-A5J1-01A-11R-A29S-07 TCGA-OR-A5J2-01A-11R-A29S-07\n",
       "ICS5_score         -3.0483                      -2.2158                     \n",
       "LIexpression_score -2.5238                      -1.6456                     \n",
       "Chemokine12_score  -3.7070                      -1.5382                     \n",
       "NHI_5gene_score    -3.4825                      -3.3908                     \n",
       "CD68               -2.0609                      -1.5780                     \n",
       "                   TCGA-OR-A5J3-01A-11R-A29S-07 TCGA-OR-A5J5-01A-11R-A29S-07\n",
       "ICS5_score         -1.4251                      -3.0353                     \n",
       "LIexpression_score -3.5109                      -2.8043                     \n",
       "Chemokine12_score  -4.3160                      -4.8156                     \n",
       "NHI_5gene_score    -3.1136                      -3.0228                     \n",
       "CD68               -1.9953                      -2.9355                     \n",
       "                   TCGA-OR-A5J6-01A-31R-A29S-07\n",
       "ICS5_score         -1.8994                     \n",
       "LIexpression_score -1.4804                     \n",
       "Chemokine12_score  -2.7848                     \n",
       "NHI_5gene_score    -2.4796                     \n",
       "CD68                0.0397                     "
      ]
     },
     "metadata": {},
     "output_type": "display_data"
    }
   ],
   "source": [
    "scores[1:5,1:5]\n"
   ]
  },
  {
   "cell_type": "markdown",
   "metadata": {},
   "source": [
    "### Now we can compare this to the reported scores. ###"
   ]
  },
  {
   "cell_type": "markdown",
   "metadata": {},
   "source": [
    "The reported signature scores can be found on our iAtlas synapse page:\n",
    "https://www.synapse.org/#!Synapse:syn10337516/files/\n",
    "\n",
    "I'm going to download them and put them in the same directory as this notebook."
   ]
  },
  {
   "cell_type": "code",
   "execution_count": 27,
   "metadata": {
    "scrolled": false
   },
   "outputs": [],
   "source": [
    "reportedScores <- read.table('Scores_160_Signatures.tsv', header=T, sep='\\t', stringsAsFactors = F)"
   ]
  },
  {
   "cell_type": "code",
   "execution_count": 28,
   "metadata": {},
   "outputs": [
    {
     "data": {
      "text/html": [
       "<table>\n",
       "<thead><tr><th></th><th scope=col>Source</th><th scope=col>SetName</th><th scope=col>TCGA.02.0047.01A.01R.1849.01</th><th scope=col>TCGA.02.0055.01A.01R.1849.01</th><th scope=col>TCGA.02.2483.01A.01R.1849.01</th></tr></thead>\n",
       "<tbody>\n",
       "\t<tr><th scope=row>Angiogenesis</th><td>Yasin             </td><td>Angiogenesis      </td><td> 0.1925055        </td><td> 0.09855802       </td><td> 0.2027224        </td></tr>\n",
       "\t<tr><th scope=row>APM1</th><td>Yasin             </td><td>APM1              </td><td> 0.4492857        </td><td> 0.46742753       </td><td> 0.4380520        </td></tr>\n",
       "\t<tr><th scope=row>APM2</th><td>Yasin             </td><td>APM2              </td><td> 0.2437349        </td><td> 0.29939846       </td><td> 0.2658848        </td></tr>\n",
       "\t<tr><th scope=row>ICS5_score</th><td>Wolf              </td><td>ICS5_score        </td><td>-1.5192000        </td><td> 0.61780000       </td><td>-2.0130000        </td></tr>\n",
       "\t<tr><th scope=row>LIexpression_score</th><td>Wolf              </td><td>LIexpression_score</td><td>-1.8586000        </td><td>-0.73840000       </td><td>-1.2881000        </td></tr>\n",
       "</tbody>\n",
       "</table>\n"
      ],
      "text/latex": [
       "\\begin{tabular}{r|lllll}\n",
       "  & Source & SetName & TCGA.02.0047.01A.01R.1849.01 & TCGA.02.0055.01A.01R.1849.01 & TCGA.02.2483.01A.01R.1849.01\\\\\n",
       "\\hline\n",
       "\tAngiogenesis & Yasin              & Angiogenesis       &  0.1925055         &  0.09855802        &  0.2027224        \\\\\n",
       "\tAPM1 & Yasin              & APM1               &  0.4492857         &  0.46742753        &  0.4380520        \\\\\n",
       "\tAPM2 & Yasin              & APM2               &  0.2437349         &  0.29939846        &  0.2658848        \\\\\n",
       "\tICS5\\_score & Wolf                 & ICS5\\_score         & -1.5192000           &  0.61780000          & -2.0130000          \\\\\n",
       "\tLIexpression\\_score & Wolf                 & LIexpression\\_score & -1.8586000           & -0.73840000          & -1.2881000          \\\\\n",
       "\\end{tabular}\n"
      ],
      "text/markdown": [
       "\n",
       "| <!--/--> | Source | SetName | TCGA.02.0047.01A.01R.1849.01 | TCGA.02.0055.01A.01R.1849.01 | TCGA.02.2483.01A.01R.1849.01 | \n",
       "|---|---|---|---|---|\n",
       "| Angiogenesis | Yasin              | Angiogenesis       |  0.1925055         |  0.09855802        |  0.2027224         | \n",
       "| APM1 | Yasin              | APM1               |  0.4492857         |  0.46742753        |  0.4380520         | \n",
       "| APM2 | Yasin              | APM2               |  0.2437349         |  0.29939846        |  0.2658848         | \n",
       "| ICS5_score | Wolf               | ICS5_score         | -1.5192000         |  0.61780000        | -2.0130000         | \n",
       "| LIexpression_score | Wolf               | LIexpression_score | -1.8586000         | -0.73840000        | -1.2881000         | \n",
       "\n",
       "\n"
      ],
      "text/plain": [
       "                   Source SetName            TCGA.02.0047.01A.01R.1849.01\n",
       "Angiogenesis       Yasin  Angiogenesis        0.1925055                  \n",
       "APM1               Yasin  APM1                0.4492857                  \n",
       "APM2               Yasin  APM2                0.2437349                  \n",
       "ICS5_score         Wolf   ICS5_score         -1.5192000                  \n",
       "LIexpression_score Wolf   LIexpression_score -1.8586000                  \n",
       "                   TCGA.02.0055.01A.01R.1849.01 TCGA.02.2483.01A.01R.1849.01\n",
       "Angiogenesis        0.09855802                   0.2027224                  \n",
       "APM1                0.46742753                   0.4380520                  \n",
       "APM2                0.29939846                   0.2658848                  \n",
       "ICS5_score          0.61780000                  -2.0130000                  \n",
       "LIexpression_score -0.73840000                  -1.2881000                  "
      ]
     },
     "metadata": {},
     "output_type": "display_data"
    }
   ],
   "source": [
    "reportedScores[1:5,1:5]\n"
   ]
  },
  {
   "cell_type": "markdown",
   "metadata": {},
   "source": [
    "* Of course!  The column names have dots.  Have to fix that."
   ]
  },
  {
   "cell_type": "code",
   "execution_count": 29,
   "metadata": {},
   "outputs": [
    {
     "data": {
      "text/html": [
       "9129"
      ],
      "text/latex": [
       "9129"
      ],
      "text/markdown": [
       "9129"
      ],
      "text/plain": [
       "[1] 9129"
      ]
     },
     "metadata": {},
     "output_type": "display_data"
    }
   ],
   "source": [
    "library(stringr)\n",
    "x <- str_replace_all(colnames(reportedScores), pattern='\\\\.', replacement='-')\n",
    "colnames(reportedScores) <- x\n",
    "\n",
    "# did we get them matched?\n",
    "sum(colnames(scores) %in% colnames(reportedScores))\n",
    "\n",
    "# close  <crying face emoji>"
   ]
  },
  {
   "cell_type": "code",
   "execution_count": 30,
   "metadata": {},
   "outputs": [
    {
     "data": {
      "text/html": [
       "9129"
      ],
      "text/latex": [
       "9129"
      ],
      "text/markdown": [
       "9129"
      ],
      "text/plain": [
       "[1] 9129"
      ]
     },
     "metadata": {},
     "output_type": "display_data"
    },
    {
     "data": {
      "text/html": [
       "67"
      ],
      "text/latex": [
       "67"
      ],
      "text/markdown": [
       "67"
      ],
      "text/plain": [
       "[1] 67"
      ]
     },
     "metadata": {},
     "output_type": "display_data"
    },
    {
     "data": {
      "text/html": [
       "<ol class=list-inline>\n",
       "\t<li>67</li>\n",
       "\t<li>9129</li>\n",
       "</ol>\n"
      ],
      "text/latex": [
       "\\begin{enumerate*}\n",
       "\\item 67\n",
       "\\item 9129\n",
       "\\end{enumerate*}\n"
      ],
      "text/markdown": [
       "1. 67\n",
       "2. 9129\n",
       "\n",
       "\n"
      ],
      "text/plain": [
       "[1]   67 9129"
      ]
     },
     "metadata": {},
     "output_type": "display_data"
    },
    {
     "data": {
      "text/html": [
       "<ol class=list-inline>\n",
       "\t<li>67</li>\n",
       "\t<li>9129</li>\n",
       "</ol>\n"
      ],
      "text/latex": [
       "\\begin{enumerate*}\n",
       "\\item 67\n",
       "\\item 9129\n",
       "\\end{enumerate*}\n"
      ],
      "text/markdown": [
       "1. 67\n",
       "2. 9129\n",
       "\n",
       "\n"
      ],
      "text/plain": [
       "[1]   67 9129"
      ]
     },
     "metadata": {},
     "output_type": "display_data"
    },
    {
     "data": {
      "text/html": [
       "<table>\n",
       "<thead><tr><th></th><th scope=col>TCGA-02-0047-01A-01R-1849-01</th><th scope=col>TCGA-02-0055-01A-01R-1849-01</th><th scope=col>TCGA-02-2483-01A-01R-1849-01</th><th scope=col>TCGA-02-2485-01A-01R-1849-01</th><th scope=col>TCGA-02-2486-01A-01R-1849-01</th></tr></thead>\n",
       "<tbody>\n",
       "\t<tr><th scope=row>ICS5_score</th><td>-2.2016</td><td> 0.8819</td><td>-2.9135</td><td>-0.9992</td><td>-1.3254</td></tr>\n",
       "\t<tr><th scope=row>LIexpression_score</th><td>-2.7355</td><td>-1.1391</td><td>-1.9080</td><td>-1.7472</td><td>-0.2740</td></tr>\n",
       "\t<tr><th scope=row>Chemokine12_score</th><td>-2.4945</td><td> 0.3929</td><td>-1.9046</td><td>-0.6709</td><td>-0.2565</td></tr>\n",
       "\t<tr><th scope=row>NHI_5gene_score</th><td>-1.1316</td><td>-1.1118</td><td>-1.4468</td><td> 0.1813</td><td>-0.2275</td></tr>\n",
       "\t<tr><th scope=row>CD68</th><td> 0.6443</td><td> 1.6091</td><td> 0.7799</td><td>-0.7140</td><td> 2.2676</td></tr>\n",
       "</tbody>\n",
       "</table>\n"
      ],
      "text/latex": [
       "\\begin{tabular}{r|lllll}\n",
       "  & TCGA-02-0047-01A-01R-1849-01 & TCGA-02-0055-01A-01R-1849-01 & TCGA-02-2483-01A-01R-1849-01 & TCGA-02-2485-01A-01R-1849-01 & TCGA-02-2486-01A-01R-1849-01\\\\\n",
       "\\hline\n",
       "\tICS5\\_score & -2.2016 &  0.8819 & -2.9135 & -0.9992 & -1.3254\\\\\n",
       "\tLIexpression\\_score & -2.7355 & -1.1391 & -1.9080 & -1.7472 & -0.2740\\\\\n",
       "\tChemokine12\\_score & -2.4945 &  0.3929 & -1.9046 & -0.6709 & -0.2565\\\\\n",
       "\tNHI\\_5gene\\_score & -1.1316 & -1.1118 & -1.4468 &  0.1813 & -0.2275\\\\\n",
       "\tCD68 &  0.6443 &  1.6091 &  0.7799 & -0.7140 &  2.2676\\\\\n",
       "\\end{tabular}\n"
      ],
      "text/markdown": [
       "\n",
       "| <!--/--> | TCGA-02-0047-01A-01R-1849-01 | TCGA-02-0055-01A-01R-1849-01 | TCGA-02-2483-01A-01R-1849-01 | TCGA-02-2485-01A-01R-1849-01 | TCGA-02-2486-01A-01R-1849-01 | \n",
       "|---|---|---|---|---|\n",
       "| ICS5_score | -2.2016 |  0.8819 | -2.9135 | -0.9992 | -1.3254 | \n",
       "| LIexpression_score | -2.7355 | -1.1391 | -1.9080 | -1.7472 | -0.2740 | \n",
       "| Chemokine12_score | -2.4945 |  0.3929 | -1.9046 | -0.6709 | -0.2565 | \n",
       "| NHI_5gene_score | -1.1316 | -1.1118 | -1.4468 |  0.1813 | -0.2275 | \n",
       "| CD68 |  0.6443 |  1.6091 |  0.7799 | -0.7140 |  2.2676 | \n",
       "\n",
       "\n"
      ],
      "text/plain": [
       "                   TCGA-02-0047-01A-01R-1849-01 TCGA-02-0055-01A-01R-1849-01\n",
       "ICS5_score         -2.2016                       0.8819                     \n",
       "LIexpression_score -2.7355                      -1.1391                     \n",
       "Chemokine12_score  -2.4945                       0.3929                     \n",
       "NHI_5gene_score    -1.1316                      -1.1118                     \n",
       "CD68                0.6443                       1.6091                     \n",
       "                   TCGA-02-2483-01A-01R-1849-01 TCGA-02-2485-01A-01R-1849-01\n",
       "ICS5_score         -2.9135                      -0.9992                     \n",
       "LIexpression_score -1.9080                      -1.7472                     \n",
       "Chemokine12_score  -1.9046                      -0.6709                     \n",
       "NHI_5gene_score    -1.4468                       0.1813                     \n",
       "CD68                0.7799                      -0.7140                     \n",
       "                   TCGA-02-2486-01A-01R-1849-01\n",
       "ICS5_score         -1.3254                     \n",
       "LIexpression_score -0.2740                     \n",
       "Chemokine12_score  -0.2565                     \n",
       "NHI_5gene_score    -0.2275                     \n",
       "CD68                2.2676                     "
      ]
     },
     "metadata": {},
     "output_type": "display_data"
    },
    {
     "data": {
      "text/html": [
       "<table>\n",
       "<thead><tr><th></th><th scope=col>TCGA-02-0047-01A-01R-1849-01</th><th scope=col>TCGA-02-0055-01A-01R-1849-01</th><th scope=col>TCGA-02-2483-01A-01R-1849-01</th><th scope=col>TCGA-02-2485-01A-01R-1849-01</th><th scope=col>TCGA-02-2486-01A-01R-1849-01</th></tr></thead>\n",
       "<tbody>\n",
       "\t<tr><th scope=row>ICS5_score</th><td>-1.5192</td><td> 0.6178</td><td>-2.0130</td><td>-0.6860</td><td>-0.9120</td></tr>\n",
       "\t<tr><th scope=row>LIexpression_score</th><td>-1.8586</td><td>-0.7384</td><td>-1.2881</td><td>-1.1057</td><td>-0.1263</td></tr>\n",
       "\t<tr><th scope=row>Chemokine12_score</th><td>-1.7224</td><td> 0.2789</td><td>-1.3137</td><td>-0.4585</td><td>-0.1713</td></tr>\n",
       "\t<tr><th scope=row>NHI_5gene_score</th><td>-0.1660</td><td> 0.4680</td><td>-0.3830</td><td> 0.8730</td><td> 1.3250</td></tr>\n",
       "\t<tr><th scope=row>CD68</th><td> 0.4500</td><td> 1.1190</td><td> 0.5440</td><td>-0.4910</td><td> 1.5750</td></tr>\n",
       "</tbody>\n",
       "</table>\n"
      ],
      "text/latex": [
       "\\begin{tabular}{r|lllll}\n",
       "  & TCGA-02-0047-01A-01R-1849-01 & TCGA-02-0055-01A-01R-1849-01 & TCGA-02-2483-01A-01R-1849-01 & TCGA-02-2485-01A-01R-1849-01 & TCGA-02-2486-01A-01R-1849-01\\\\\n",
       "\\hline\n",
       "\tICS5\\_score & -1.5192 &  0.6178 & -2.0130 & -0.6860 & -0.9120\\\\\n",
       "\tLIexpression\\_score & -1.8586 & -0.7384 & -1.2881 & -1.1057 & -0.1263\\\\\n",
       "\tChemokine12\\_score & -1.7224 &  0.2789 & -1.3137 & -0.4585 & -0.1713\\\\\n",
       "\tNHI\\_5gene\\_score & -0.1660 &  0.4680 & -0.3830 &  0.8730 &  1.3250\\\\\n",
       "\tCD68 &  0.4500 &  1.1190 &  0.5440 & -0.4910 &  1.5750\\\\\n",
       "\\end{tabular}\n"
      ],
      "text/markdown": [
       "\n",
       "| <!--/--> | TCGA-02-0047-01A-01R-1849-01 | TCGA-02-0055-01A-01R-1849-01 | TCGA-02-2483-01A-01R-1849-01 | TCGA-02-2485-01A-01R-1849-01 | TCGA-02-2486-01A-01R-1849-01 | \n",
       "|---|---|---|---|---|\n",
       "| ICS5_score | -1.5192 |  0.6178 | -2.0130 | -0.6860 | -0.9120 | \n",
       "| LIexpression_score | -1.8586 | -0.7384 | -1.2881 | -1.1057 | -0.1263 | \n",
       "| Chemokine12_score | -1.7224 |  0.2789 | -1.3137 | -0.4585 | -0.1713 | \n",
       "| NHI_5gene_score | -0.1660 |  0.4680 | -0.3830 |  0.8730 |  1.3250 | \n",
       "| CD68 |  0.4500 |  1.1190 |  0.5440 | -0.4910 |  1.5750 | \n",
       "\n",
       "\n"
      ],
      "text/plain": [
       "                   TCGA-02-0047-01A-01R-1849-01 TCGA-02-0055-01A-01R-1849-01\n",
       "ICS5_score         -1.5192                       0.6178                     \n",
       "LIexpression_score -1.8586                      -0.7384                     \n",
       "Chemokine12_score  -1.7224                       0.2789                     \n",
       "NHI_5gene_score    -0.1660                       0.4680                     \n",
       "CD68                0.4500                       1.1190                     \n",
       "                   TCGA-02-2483-01A-01R-1849-01 TCGA-02-2485-01A-01R-1849-01\n",
       "ICS5_score         -2.0130                      -0.6860                     \n",
       "LIexpression_score -1.2881                      -1.1057                     \n",
       "Chemokine12_score  -1.3137                      -0.4585                     \n",
       "NHI_5gene_score    -0.3830                       0.8730                     \n",
       "CD68                0.5440                      -0.4910                     \n",
       "                   TCGA-02-2486-01A-01R-1849-01\n",
       "ICS5_score         -0.9120                     \n",
       "LIexpression_score -0.1263                     \n",
       "Chemokine12_score  -0.1713                     \n",
       "NHI_5gene_score     1.3250                     \n",
       "CD68                1.5750                     "
      ]
     },
     "metadata": {},
     "output_type": "display_data"
    }
   ],
   "source": [
    "# \n",
    "# Then we need to get these into a comparible form #\n",
    "#\n",
    "\n",
    "sharedIDs <- intersect(colnames(reportedScores), colnames(scores))\n",
    "genesets  <- intersect(reportedScores$SetName, rownames(scores))\n",
    "length(sharedIDs)\n",
    "length(genesets)\n",
    "\n",
    "scores2 <- scores[genesets,sharedIDs]\n",
    "reportedScores2 <- reportedScores[genesets,sharedIDs]\n",
    "\n",
    "dim(scores2)\n",
    "dim(reportedScores2)\n",
    "\n",
    "scores2[1:5,1:5]\n",
    "\n",
    "reportedScores2[1:5,1:5]"
   ]
  },
  {
   "cell_type": "code",
   "execution_count": 37,
   "metadata": {},
   "outputs": [
    {
     "data": {},
     "metadata": {},
     "output_type": "display_data"
    },
    {
     "data": {},
     "metadata": {},
     "output_type": "display_data"
    },
    {
     "data": {
      "image/png": "[encoded data removed]",
      "text/plain": [
       "plot without title"
      ]
     },
     "metadata": {},
     "output_type": "display_data"
    },
    {
     "data": {
      "image/png": "[encoded data removed]",
      "text/plain": [
       "plot without title"
      ]
     },
     "metadata": {},
     "output_type": "display_data"
    }
   ],
   "source": [
    "sample <- 2\n",
    "\n",
    "# comparing the raw computed scores with reported scores #\n",
    "qplot(x=as.numeric(scores2[sample,]), y=as.numeric(reportedScores2[sample,])) \n",
    "\n",
    "zscore.rows2<-function(x){\n",
    "  return(t(apply(x, 1, function(x) (x - median(na.omit(x)))/sd(na.omit(x)))))\n",
    "}\n",
    "\n",
    "\n",
    "# now let's apply the sample-level normalization #\n",
    "b <- zscore.rows2(scores2)\n",
    "                  \n",
    "# and replot #\n",
    "qplot(x=as.numeric(b[sample,]), y=as.numeric(reportedScores2[sample,])) + geom_abline()\n",
    "                  \n"
   ]
  },
  {
   "cell_type": "markdown",
   "metadata": {},
   "source": [
    "Looks like that's pretty close.  When I've seen deviations from y=x, it's been from using a different sample group, which shifts things in the normalizations.\n",
    "\n",
    "So, the moral of the story is that the reported signature scores depended on median scaling *for each gene* across the 9129 samples.  It wasn't the samples that were median scaled. \n"
   ]
  },
  {
   "cell_type": "code",
   "execution_count": null,
   "metadata": {},
   "outputs": [],
   "source": []
  }
 ],
 "metadata": {
  "kernelspec": {
   "display_name": "R",
   "language": "R",
   "name": "ir"
  },
  "language_info": {
   "codemirror_mode": "r",
   "file_extension": ".r",
   "mimetype": "text/x-r-source",
   "name": "R",
   "pygments_lexer": "r",
   "version": "3.5.2"
  }
 },
 "nbformat": 4,
 "nbformat_minor": 2
}
